{
  "cells": [
    {
      "cell_type": "markdown",
      "metadata": {
        "colab_type": "text",
        "id": "view-in-github"
      },
      "source": [
        "<a href=\"https://colab.research.google.com/github/talmolab/sleap/blob/main/docs/notebooks/Interactive_and_resumable_training.ipynb\" target=\"_parent\"><img src=\"https://colab.research.google.com/assets/colab-badge.svg\" alt=\"Open In Colab\"/></a>"
      ]
    },
    {
      "cell_type": "markdown",
      "metadata": {
        "id": "DpvQa3M3n7jC"
      },
      "source": [
        "# Interactive and resumable training\n",
        "\n",
        "Most of the time, you will be training models through the GUI or using the [`sleap-train` CLI](https://sleap.ai/guides/cli.html#sleap-train).\n",
        "\n",
        "If you'd like to customize the training process, however, you can use SLEAP's low-level training functionality interactively. This allows you to define scripts that train models according to your own workflow, for example, to **resume training** on an already trained model. Another possible application would be to train a model using **transfer learning**, where a pretrained model can be used to initialize the weights of the new model.\n",
        "\n",
        "In this notebook we will explore how to set up a training job and train a model for multiple rounds without the GUI or CLI."
      ]
    },
    {
      "cell_type": "markdown",
      "metadata": {
        "id": "BeeqrLbdupmE"
      },
      "source": [
        "## 1. Setup SLEAP\n",
        "\n",
        "Run this cell first to install SLEAP. If you get a dependency error in subsequent cells, just click **Runtime** → **Restart runtime** to reload the packages.\n",
        "\n",
        "Don't forget to set **Runtime** → **Change runtime type** → **GPU** as the accelerator."
      ]
    },
    {
      "cell_type": "code",
      "execution_count": 1,
      "metadata": {
        "colab": {
          "base_uri": "https://localhost:8080/"
        },
        "id": "BYxJ2rJOMW8B",
        "outputId": "d2230650-4e45-46f3-ff8f-dbe271bb9eb9"
      },
      "outputs": [
        {
          "name": "stdout",
          "output_type": "stream",
          "text": [
            "Found existing installation: opencv-python 4.5.5.64\n",
            "Uninstalling opencv-python-4.5.5.64:\n",
            "  Successfully uninstalled opencv-python-4.5.5.64\n",
            "\u001b[33mWARNING: Skipping opencv-contrib-python as it is not installed.\u001b[0m\u001b[33m\n",
            "\u001b[0mRequirement already satisfied: sleap[pypi] in /home/talmolab/micromamba/envs/sleap_jupyter/lib/python3.7/site-packages (1.3.2)\n",
            "Requirement already satisfied: imgstore<0.30 in /home/talmolab/micromamba/envs/sleap_jupyter/lib/python3.7/site-packages (from sleap[pypi]) (0.3.5)\n",
            "Requirement already satisfied: ndx-pose in /home/talmolab/micromamba/envs/sleap_jupyter/lib/python3.7/site-packages (from sleap[pypi]) (0.1.1)\n",
            "Requirement already satisfied: nixio>=1.5.3 in /home/talmolab/micromamba/envs/sleap_jupyter/lib/python3.7/site-packages (from sleap[pypi]) (1.5.3)\n",
            "Requirement already satisfied: qimage2ndarray in /home/talmolab/micromamba/envs/sleap_jupyter/lib/python3.7/site-packages (from sleap[pypi]) (1.10.0)\n",
            "Requirement already satisfied: segmentation-models in /home/talmolab/micromamba/envs/sleap_jupyter/lib/python3.7/site-packages (from sleap[pypi]) (1.0.1)\n",
            "Requirement already satisfied: pynwb>=2.3.3 in /home/talmolab/micromamba/envs/sleap_jupyter/lib/python3.7/site-packages (from sleap[pypi]) (2.3.3)\n",
            "Requirement already satisfied: attrs<=21.4.0,>=21.2.0 in /home/talmolab/micromamba/envs/sleap_jupyter/lib/python3.7/site-packages (from sleap[pypi]) (21.4.0)\n",
            "Requirement already satisfied: cattrs==1.1.1 in /home/talmolab/micromamba/envs/sleap_jupyter/lib/python3.7/site-packages (from sleap[pypi]) (1.1.1)\n",
            "Requirement already satisfied: jsmin in /home/talmolab/micromamba/envs/sleap_jupyter/lib/python3.7/site-packages (from sleap[pypi]) (3.0.1)\n",
            "Requirement already satisfied: jsonpickle==1.2 in /home/talmolab/micromamba/envs/sleap_jupyter/lib/python3.7/site-packages (from sleap[pypi]) (1.2)\n",
            "Requirement already satisfied: networkx in /home/talmolab/micromamba/envs/sleap_jupyter/lib/python3.7/site-packages (from sleap[pypi]) (2.6.3)\n",
            "Requirement already satisfied: numpy>=1.19.5 in /home/talmolab/micromamba/envs/sleap_jupyter/lib/python3.7/site-packages (from sleap[pypi]) (1.21.6)\n",
            "Collecting opencv-python<=4.6.0,>=4.2.0 (from sleap[pypi])\n",
            "  Using cached opencv_python-4.5.5.64-cp36-abi3-manylinux_2_17_x86_64.manylinux2014_x86_64.whl (60.5 MB)\n",
            "Requirement already satisfied: pandas in /home/talmolab/micromamba/envs/sleap_jupyter/lib/python3.7/site-packages (from sleap[pypi]) (1.3.5)\n",
            "Requirement already satisfied: pillow>=8.3.1 in /home/talmolab/micromamba/envs/sleap_jupyter/lib/python3.7/site-packages (from sleap[pypi]) (9.5.0)\n",
            "Requirement already satisfied: psutil in /home/talmolab/micromamba/envs/sleap_jupyter/lib/python3.7/site-packages (from sleap[pypi]) (5.9.5)\n",
            "Requirement already satisfied: pykalman in /home/talmolab/micromamba/envs/sleap_jupyter/lib/python3.7/site-packages (from sleap[pypi]) (0.9.5)\n",
            "Requirement already satisfied: python-rapidjson in /home/talmolab/micromamba/envs/sleap_jupyter/lib/python3.7/site-packages (from sleap[pypi]) (1.10)\n",
            "Requirement already satisfied: pyyaml in /home/talmolab/micromamba/envs/sleap_jupyter/lib/python3.7/site-packages (from sleap[pypi]) (6.0.1)\n",
            "Requirement already satisfied: pyzmq in /home/talmolab/micromamba/envs/sleap_jupyter/lib/python3.7/site-packages (from sleap[pypi]) (24.0.1)\n",
            "Requirement already satisfied: qtpy>=2.0.1 in /home/talmolab/micromamba/envs/sleap_jupyter/lib/python3.7/site-packages (from sleap[pypi]) (2.4.0)\n",
            "Requirement already satisfied: rich==10.16.1 in /home/talmolab/micromamba/envs/sleap_jupyter/lib/python3.7/site-packages (from sleap[pypi]) (10.16.1)\n",
            "Requirement already satisfied: imageio<=2.15.0 in /home/talmolab/micromamba/envs/sleap_jupyter/lib/python3.7/site-packages (from sleap[pypi]) (2.15.0)\n",
            "Requirement already satisfied: imgaug==0.4.0 in /home/talmolab/micromamba/envs/sleap_jupyter/lib/python3.7/site-packages (from sleap[pypi]) (0.4.0)\n",
            "Requirement already satisfied: scipy>=1.4.1 in /home/talmolab/micromamba/envs/sleap_jupyter/lib/python3.7/site-packages (from sleap[pypi]) (1.7.3)\n",
            "Requirement already satisfied: scikit-image in /home/talmolab/micromamba/envs/sleap_jupyter/lib/python3.7/site-packages (from sleap[pypi]) (0.19.3)\n",
            "Requirement already satisfied: scikit-learn~=1.0 in /home/talmolab/micromamba/envs/sleap_jupyter/lib/python3.7/site-packages (from sleap[pypi]) (1.0.2)\n",
            "Requirement already satisfied: scikit-video in /home/talmolab/micromamba/envs/sleap_jupyter/lib/python3.7/site-packages (from sleap[pypi]) (1.1.11)\n",
            "Requirement already satisfied: seaborn in /home/talmolab/micromamba/envs/sleap_jupyter/lib/python3.7/site-packages (from sleap[pypi]) (0.12.2)\n",
            "Requirement already satisfied: tensorflow in /home/talmolab/micromamba/envs/sleap_jupyter/lib/python3.7/site-packages (from sleap[pypi]) (2.11.0)\n",
            "Requirement already satisfied: tensorflow-hub in /home/talmolab/micromamba/envs/sleap_jupyter/lib/python3.7/site-packages (from sleap[pypi]) (0.14.0)\n",
            "Requirement already satisfied: PySide2<=5.14.1,>=5.13.2 in /home/talmolab/micromamba/envs/sleap_jupyter/lib/python3.7/site-packages (from sleap[pypi]) (5.14.1)\n",
            "Requirement already satisfied: six in /home/talmolab/micromamba/envs/sleap_jupyter/lib/python3.7/site-packages (from imgaug==0.4.0->sleap[pypi]) (1.16.0)\n",
            "Requirement already satisfied: matplotlib in /home/talmolab/micromamba/envs/sleap_jupyter/lib/python3.7/site-packages (from imgaug==0.4.0->sleap[pypi]) (3.5.3)\n",
            "Requirement already satisfied: Shapely in /home/talmolab/micromamba/envs/sleap_jupyter/lib/python3.7/site-packages (from imgaug==0.4.0->sleap[pypi]) (2.0.1)\n",
            "Requirement already satisfied: colorama<0.5.0,>=0.4.0 in /home/talmolab/micromamba/envs/sleap_jupyter/lib/python3.7/site-packages (from rich==10.16.1->sleap[pypi]) (0.4.6)\n",
            "Requirement already satisfied: commonmark<0.10.0,>=0.9.0 in /home/talmolab/micromamba/envs/sleap_jupyter/lib/python3.7/site-packages (from rich==10.16.1->sleap[pypi]) (0.9.1)\n",
            "Requirement already satisfied: pygments<3.0.0,>=2.6.0 in /home/talmolab/micromamba/envs/sleap_jupyter/lib/python3.7/site-packages (from rich==10.16.1->sleap[pypi]) (2.16.1)\n",
            "Requirement already satisfied: typing-extensions<5.0,>=3.7.4 in /home/talmolab/micromamba/envs/sleap_jupyter/lib/python3.7/site-packages (from rich==10.16.1->sleap[pypi]) (4.7.1)\n",
            "Requirement already satisfied: tzlocal in /home/talmolab/micromamba/envs/sleap_jupyter/lib/python3.7/site-packages (from imgstore<0.30->sleap[pypi]) (5.0.1)\n",
            "Requirement already satisfied: python-dateutil in /home/talmolab/micromamba/envs/sleap_jupyter/lib/python3.7/site-packages (from imgstore<0.30->sleap[pypi]) (2.8.2)\n",
            "Requirement already satisfied: backports.zoneinfo in /home/talmolab/micromamba/envs/sleap_jupyter/lib/python3.7/site-packages (from imgstore<0.30->sleap[pypi]) (0.2.1)\n",
            "Requirement already satisfied: h5py in /home/talmolab/micromamba/envs/sleap_jupyter/lib/python3.7/site-packages (from nixio>=1.5.3->sleap[pypi]) (3.8.0)\n",
            "Requirement already satisfied: hdmf>=3.5.4 in /home/talmolab/micromamba/envs/sleap_jupyter/lib/python3.7/site-packages (from pynwb>=2.3.3->sleap[pypi]) (3.5.5)\n",
            "Requirement already satisfied: setuptools in /home/talmolab/micromamba/envs/sleap_jupyter/lib/python3.7/site-packages (from pynwb>=2.3.3->sleap[pypi]) (68.1.2)\n",
            "Requirement already satisfied: pytz>=2017.3 in /home/talmolab/micromamba/envs/sleap_jupyter/lib/python3.7/site-packages (from pandas->sleap[pypi]) (2023.3)\n",
            "Requirement already satisfied: shiboken2==5.14.1 in /home/talmolab/micromamba/envs/sleap_jupyter/lib/python3.7/site-packages (from PySide2<=5.14.1,>=5.13.2->sleap[pypi]) (5.14.1)\n",
            "Requirement already satisfied: packaging in /home/talmolab/micromamba/envs/sleap_jupyter/lib/python3.7/site-packages (from qtpy>=2.0.1->sleap[pypi]) (23.1)\n",
            "Requirement already satisfied: tifffile>=2019.7.26 in /home/talmolab/micromamba/envs/sleap_jupyter/lib/python3.7/site-packages (from scikit-image->sleap[pypi]) (2021.11.2)\n",
            "Requirement already satisfied: PyWavelets>=1.1.1 in /home/talmolab/micromamba/envs/sleap_jupyter/lib/python3.7/site-packages (from scikit-image->sleap[pypi]) (1.3.0)\n",
            "Requirement already satisfied: joblib>=0.11 in /home/talmolab/micromamba/envs/sleap_jupyter/lib/python3.7/site-packages (from scikit-learn~=1.0->sleap[pypi]) (1.3.2)\n",
            "Requirement already satisfied: threadpoolctl>=2.0.0 in /home/talmolab/micromamba/envs/sleap_jupyter/lib/python3.7/site-packages (from scikit-learn~=1.0->sleap[pypi]) (3.1.0)\n",
            "Requirement already satisfied: keras-applications<=1.0.8,>=1.0.7 in /home/talmolab/micromamba/envs/sleap_jupyter/lib/python3.7/site-packages (from segmentation-models->sleap[pypi]) (1.0.8)\n",
            "Requirement already satisfied: image-classifiers==1.0.0 in /home/talmolab/micromamba/envs/sleap_jupyter/lib/python3.7/site-packages (from segmentation-models->sleap[pypi]) (1.0.0)\n",
            "Requirement already satisfied: efficientnet==1.0.0 in /home/talmolab/micromamba/envs/sleap_jupyter/lib/python3.7/site-packages (from segmentation-models->sleap[pypi]) (1.0.0)\n",
            "Requirement already satisfied: absl-py>=1.0.0 in /home/talmolab/micromamba/envs/sleap_jupyter/lib/python3.7/site-packages (from tensorflow->sleap[pypi]) (1.4.0)\n",
            "Requirement already satisfied: astunparse>=1.6.0 in /home/talmolab/micromamba/envs/sleap_jupyter/lib/python3.7/site-packages (from tensorflow->sleap[pypi]) (1.6.3)\n",
            "Requirement already satisfied: flatbuffers>=2.0 in /home/talmolab/micromamba/envs/sleap_jupyter/lib/python3.7/site-packages (from tensorflow->sleap[pypi]) (23.5.26)\n",
            "Requirement already satisfied: gast<=0.4.0,>=0.2.1 in /home/talmolab/micromamba/envs/sleap_jupyter/lib/python3.7/site-packages (from tensorflow->sleap[pypi]) (0.4.0)\n",
            "Requirement already satisfied: google-pasta>=0.1.1 in /home/talmolab/micromamba/envs/sleap_jupyter/lib/python3.7/site-packages (from tensorflow->sleap[pypi]) (0.2.0)\n",
            "Requirement already satisfied: grpcio<2.0,>=1.24.3 in /home/talmolab/micromamba/envs/sleap_jupyter/lib/python3.7/site-packages (from tensorflow->sleap[pypi]) (1.57.0)\n",
            "Requirement already satisfied: keras<2.12,>=2.11.0 in /home/talmolab/micromamba/envs/sleap_jupyter/lib/python3.7/site-packages (from tensorflow->sleap[pypi]) (2.11.0)\n",
            "Requirement already satisfied: libclang>=13.0.0 in /home/talmolab/micromamba/envs/sleap_jupyter/lib/python3.7/site-packages (from tensorflow->sleap[pypi]) (16.0.6)\n",
            "Requirement already satisfied: opt-einsum>=2.3.2 in /home/talmolab/micromamba/envs/sleap_jupyter/lib/python3.7/site-packages (from tensorflow->sleap[pypi]) (3.3.0)\n",
            "Requirement already satisfied: protobuf<3.20,>=3.9.2 in /home/talmolab/micromamba/envs/sleap_jupyter/lib/python3.7/site-packages (from tensorflow->sleap[pypi]) (3.19.6)\n",
            "Requirement already satisfied: tensorboard<2.12,>=2.11 in /home/talmolab/micromamba/envs/sleap_jupyter/lib/python3.7/site-packages (from tensorflow->sleap[pypi]) (2.11.2)\n",
            "Requirement already satisfied: tensorflow-estimator<2.12,>=2.11.0 in /home/talmolab/micromamba/envs/sleap_jupyter/lib/python3.7/site-packages (from tensorflow->sleap[pypi]) (2.11.0)\n",
            "Requirement already satisfied: termcolor>=1.1.0 in /home/talmolab/micromamba/envs/sleap_jupyter/lib/python3.7/site-packages (from tensorflow->sleap[pypi]) (2.3.0)\n",
            "Requirement already satisfied: wrapt>=1.11.0 in /home/talmolab/micromamba/envs/sleap_jupyter/lib/python3.7/site-packages (from tensorflow->sleap[pypi]) (1.15.0)\n",
            "Requirement already satisfied: tensorflow-io-gcs-filesystem>=0.23.1 in /home/talmolab/micromamba/envs/sleap_jupyter/lib/python3.7/site-packages (from tensorflow->sleap[pypi]) (0.33.0)\n",
            "Requirement already satisfied: wheel<1.0,>=0.23.0 in /home/talmolab/micromamba/envs/sleap_jupyter/lib/python3.7/site-packages (from astunparse>=1.6.0->tensorflow->sleap[pypi]) (0.41.2)\n",
            "Requirement already satisfied: jsonschema>=2.6.0 in /home/talmolab/micromamba/envs/sleap_jupyter/lib/python3.7/site-packages (from hdmf>=3.5.4->pynwb>=2.3.3->sleap[pypi]) (4.17.3)\n",
            "Requirement already satisfied: ruamel.yaml>=0.16 in /home/talmolab/micromamba/envs/sleap_jupyter/lib/python3.7/site-packages (from hdmf>=3.5.4->pynwb>=2.3.3->sleap[pypi]) (0.17.32)\n",
            "Requirement already satisfied: cycler>=0.10 in /home/talmolab/micromamba/envs/sleap_jupyter/lib/python3.7/site-packages (from matplotlib->imgaug==0.4.0->sleap[pypi]) (0.11.0)\n",
            "Requirement already satisfied: fonttools>=4.22.0 in /home/talmolab/micromamba/envs/sleap_jupyter/lib/python3.7/site-packages (from matplotlib->imgaug==0.4.0->sleap[pypi]) (4.38.0)\n",
            "Requirement already satisfied: kiwisolver>=1.0.1 in /home/talmolab/micromamba/envs/sleap_jupyter/lib/python3.7/site-packages (from matplotlib->imgaug==0.4.0->sleap[pypi]) (1.4.5)\n",
            "Requirement already satisfied: pyparsing>=2.2.1 in /home/talmolab/micromamba/envs/sleap_jupyter/lib/python3.7/site-packages (from matplotlib->imgaug==0.4.0->sleap[pypi]) (3.1.1)\n",
            "Requirement already satisfied: google-auth<3,>=1.6.3 in /home/talmolab/micromamba/envs/sleap_jupyter/lib/python3.7/site-packages (from tensorboard<2.12,>=2.11->tensorflow->sleap[pypi]) (2.22.0)\n",
            "Requirement already satisfied: google-auth-oauthlib<0.5,>=0.4.1 in /home/talmolab/micromamba/envs/sleap_jupyter/lib/python3.7/site-packages (from tensorboard<2.12,>=2.11->tensorflow->sleap[pypi]) (0.4.6)\n",
            "Requirement already satisfied: markdown>=2.6.8 in /home/talmolab/micromamba/envs/sleap_jupyter/lib/python3.7/site-packages (from tensorboard<2.12,>=2.11->tensorflow->sleap[pypi]) (3.4.4)\n",
            "Requirement already satisfied: requests<3,>=2.21.0 in /home/talmolab/micromamba/envs/sleap_jupyter/lib/python3.7/site-packages (from tensorboard<2.12,>=2.11->tensorflow->sleap[pypi]) (2.31.0)\n",
            "Requirement already satisfied: tensorboard-data-server<0.7.0,>=0.6.0 in /home/talmolab/micromamba/envs/sleap_jupyter/lib/python3.7/site-packages (from tensorboard<2.12,>=2.11->tensorflow->sleap[pypi]) (0.6.1)\n",
            "Requirement already satisfied: tensorboard-plugin-wit>=1.6.0 in /home/talmolab/micromamba/envs/sleap_jupyter/lib/python3.7/site-packages (from tensorboard<2.12,>=2.11->tensorflow->sleap[pypi]) (1.8.1)\n",
            "Requirement already satisfied: werkzeug>=1.0.1 in /home/talmolab/micromamba/envs/sleap_jupyter/lib/python3.7/site-packages (from tensorboard<2.12,>=2.11->tensorflow->sleap[pypi]) (2.2.3)\n",
            "Requirement already satisfied: cachetools<6.0,>=2.0.0 in /home/talmolab/micromamba/envs/sleap_jupyter/lib/python3.7/site-packages (from google-auth<3,>=1.6.3->tensorboard<2.12,>=2.11->tensorflow->sleap[pypi]) (5.3.1)\n",
            "Requirement already satisfied: pyasn1-modules>=0.2.1 in /home/talmolab/micromamba/envs/sleap_jupyter/lib/python3.7/site-packages (from google-auth<3,>=1.6.3->tensorboard<2.12,>=2.11->tensorflow->sleap[pypi]) (0.3.0)\n",
            "Requirement already satisfied: rsa<5,>=3.1.4 in /home/talmolab/micromamba/envs/sleap_jupyter/lib/python3.7/site-packages (from google-auth<3,>=1.6.3->tensorboard<2.12,>=2.11->tensorflow->sleap[pypi]) (4.9)\n",
            "Requirement already satisfied: urllib3<2.0 in /home/talmolab/micromamba/envs/sleap_jupyter/lib/python3.7/site-packages (from google-auth<3,>=1.6.3->tensorboard<2.12,>=2.11->tensorflow->sleap[pypi]) (1.26.16)\n",
            "Requirement already satisfied: requests-oauthlib>=0.7.0 in /home/talmolab/micromamba/envs/sleap_jupyter/lib/python3.7/site-packages (from google-auth-oauthlib<0.5,>=0.4.1->tensorboard<2.12,>=2.11->tensorflow->sleap[pypi]) (1.3.1)\n",
            "Requirement already satisfied: importlib-metadata in /home/talmolab/micromamba/envs/sleap_jupyter/lib/python3.7/site-packages (from jsonschema>=2.6.0->hdmf>=3.5.4->pynwb>=2.3.3->sleap[pypi]) (6.7.0)\n",
            "Requirement already satisfied: importlib-resources>=1.4.0 in /home/talmolab/micromamba/envs/sleap_jupyter/lib/python3.7/site-packages (from jsonschema>=2.6.0->hdmf>=3.5.4->pynwb>=2.3.3->sleap[pypi]) (5.12.0)\n",
            "Requirement already satisfied: pkgutil-resolve-name>=1.3.10 in /home/talmolab/micromamba/envs/sleap_jupyter/lib/python3.7/site-packages (from jsonschema>=2.6.0->hdmf>=3.5.4->pynwb>=2.3.3->sleap[pypi]) (1.3.10)\n",
            "Requirement already satisfied: pyrsistent!=0.17.0,!=0.17.1,!=0.17.2,>=0.14.0 in /home/talmolab/micromamba/envs/sleap_jupyter/lib/python3.7/site-packages (from jsonschema>=2.6.0->hdmf>=3.5.4->pynwb>=2.3.3->sleap[pypi]) (0.19.3)\n",
            "Requirement already satisfied: charset-normalizer<4,>=2 in /home/talmolab/micromamba/envs/sleap_jupyter/lib/python3.7/site-packages (from requests<3,>=2.21.0->tensorboard<2.12,>=2.11->tensorflow->sleap[pypi]) (3.2.0)\n",
            "Requirement already satisfied: idna<4,>=2.5 in /home/talmolab/micromamba/envs/sleap_jupyter/lib/python3.7/site-packages (from requests<3,>=2.21.0->tensorboard<2.12,>=2.11->tensorflow->sleap[pypi]) (3.4)\n",
            "Requirement already satisfied: certifi>=2017.4.17 in /home/talmolab/micromamba/envs/sleap_jupyter/lib/python3.7/site-packages (from requests<3,>=2.21.0->tensorboard<2.12,>=2.11->tensorflow->sleap[pypi]) (2023.7.22)\n",
            "Requirement already satisfied: ruamel.yaml.clib>=0.2.7 in /home/talmolab/micromamba/envs/sleap_jupyter/lib/python3.7/site-packages (from ruamel.yaml>=0.16->hdmf>=3.5.4->pynwb>=2.3.3->sleap[pypi]) (0.2.7)\n",
            "Requirement already satisfied: MarkupSafe>=2.1.1 in /home/talmolab/micromamba/envs/sleap_jupyter/lib/python3.7/site-packages (from werkzeug>=1.0.1->tensorboard<2.12,>=2.11->tensorflow->sleap[pypi]) (2.1.3)\n",
            "Requirement already satisfied: zipp>=0.5 in /home/talmolab/micromamba/envs/sleap_jupyter/lib/python3.7/site-packages (from importlib-metadata->jsonschema>=2.6.0->hdmf>=3.5.4->pynwb>=2.3.3->sleap[pypi]) (3.15.0)\n",
            "Requirement already satisfied: pyasn1<0.6.0,>=0.4.6 in /home/talmolab/micromamba/envs/sleap_jupyter/lib/python3.7/site-packages (from pyasn1-modules>=0.2.1->google-auth<3,>=1.6.3->tensorboard<2.12,>=2.11->tensorflow->sleap[pypi]) (0.5.0)\n",
            "Requirement already satisfied: oauthlib>=3.0.0 in /home/talmolab/micromamba/envs/sleap_jupyter/lib/python3.7/site-packages (from requests-oauthlib>=0.7.0->google-auth-oauthlib<0.5,>=0.4.1->tensorboard<2.12,>=2.11->tensorflow->sleap[pypi]) (3.2.2)\n",
            "Installing collected packages: opencv-python\n",
            "Successfully installed opencv-python-4.5.5.64\n"
          ]
        }
      ],
      "source": [
        "# This should take care of all the dependencies on colab:\n",
        "!pip uninstall -y opencv-python opencv-contrib-python && pip install sleap[pypi]\n",
        "\n",
        "\n",
        "# But to do it locally, we'd recommend the conda package (available on Windows + Linux):\n",
        "# conda create -n sleap -c sleap -c conda-forge -c nvidia sleap"
      ]
    },
    {
      "cell_type": "markdown",
      "metadata": {
        "id": "qjfoeOZvpV8o"
      },
      "source": [
        "Import SLEAP to make sure it installed correctly and print out some information about the system:"
      ]
    },
    {
      "cell_type": "code",
      "execution_count": 2,
      "metadata": {
        "colab": {
          "base_uri": "https://localhost:8080/"
        },
        "id": "jftAOyvvuQeh",
        "outputId": "f62974d2-51e7-47d8-defb-ab6f970c995f"
      },
      "outputs": [
        {
          "name": "stderr",
          "output_type": "stream",
          "text": [
            "2023-08-31 12:14:25.388813: I tensorflow/core/platform/cpu_feature_guard.cc:193] This TensorFlow binary is optimized with oneAPI Deep Neural Network Library (oneDNN) to use the following CPU instructions in performance-critical operations:  AVX2 AVX512F AVX512_VNNI FMA\n",
            "To enable them in other operations, rebuild TensorFlow with the appropriate compiler flags.\n",
            "2023-08-31 12:14:25.453889: I tensorflow/core/util/port.cc:104] oneDNN custom operations are on. You may see slightly different numerical results due to floating-point round-off errors from different computation orders. To turn them off, set the environment variable `TF_ENABLE_ONEDNN_OPTS=0`.\n",
            "2023-08-31 12:14:25.455792: W tensorflow/compiler/xla/stream_executor/platform/default/dso_loader.cc:64] Could not load dynamic library 'libcudart.so.11.0'; dlerror: libcudart.so.11.0: cannot open shared object file: No such file or directory; LD_LIBRARY_PATH: /home/talmolab/micromamba/envs/sleap_jupyter/lib/python3.7/site-packages/cv2/../../lib64:\n",
            "2023-08-31 12:14:25.455799: I tensorflow/compiler/xla/stream_executor/cuda/cudart_stub.cc:29] Ignore above cudart dlerror if you do not have a GPU set up on your machine.\n",
            "2023-08-31 12:14:25.835849: W tensorflow/compiler/xla/stream_executor/platform/default/dso_loader.cc:64] Could not load dynamic library 'libnvinfer.so.7'; dlerror: libnvinfer.so.7: cannot open shared object file: No such file or directory; LD_LIBRARY_PATH: /home/talmolab/micromamba/envs/sleap_jupyter/lib/python3.7/site-packages/cv2/../../lib64:\n",
            "2023-08-31 12:14:25.835902: W tensorflow/compiler/xla/stream_executor/platform/default/dso_loader.cc:64] Could not load dynamic library 'libnvinfer_plugin.so.7'; dlerror: libnvinfer_plugin.so.7: cannot open shared object file: No such file or directory; LD_LIBRARY_PATH: /home/talmolab/micromamba/envs/sleap_jupyter/lib/python3.7/site-packages/cv2/../../lib64:\n",
            "2023-08-31 12:14:25.835906: W tensorflow/compiler/tf2tensorrt/utils/py_utils.cc:38] TF-TRT Warning: Cannot dlopen some TensorRT libraries. If you would like to use Nvidia GPU with TensorRT, please make sure the missing libraries mentioned above are installed properly.\n"
          ]
        },
        {
          "name": "stdout",
          "output_type": "stream",
          "text": [
            "SLEAP: 1.3.2\n",
            "TensorFlow: 2.11.0\n",
            "Numpy: 1.21.6\n",
            "Python: 3.7.12\n",
            "OS: Linux-5.15.0-78-generic-x86_64-with-debian-bookworm-sid\n",
            "GPUs: None detected.\n"
          ]
        },
        {
          "name": "stderr",
          "output_type": "stream",
          "text": [
            "2023-08-31 12:14:26.597020: I tensorflow/compiler/xla/stream_executor/cuda/cuda_gpu_executor.cc:981] successful NUMA node read from SysFS had negative value (-1), but there must be at least one NUMA node, so returning NUMA node zero\n",
            "2023-08-31 12:14:26.597822: W tensorflow/compiler/xla/stream_executor/platform/default/dso_loader.cc:64] Could not load dynamic library 'libcudart.so.11.0'; dlerror: libcudart.so.11.0: cannot open shared object file: No such file or directory; LD_LIBRARY_PATH: /home/talmolab/micromamba/envs/sleap_jupyter/lib/python3.7/site-packages/cv2/../../lib64:\n",
            "2023-08-31 12:14:26.597859: W tensorflow/compiler/xla/stream_executor/platform/default/dso_loader.cc:64] Could not load dynamic library 'libcublas.so.11'; dlerror: libcublas.so.11: cannot open shared object file: No such file or directory; LD_LIBRARY_PATH: /home/talmolab/micromamba/envs/sleap_jupyter/lib/python3.7/site-packages/cv2/../../lib64:\n",
            "2023-08-31 12:14:26.597888: W tensorflow/compiler/xla/stream_executor/platform/default/dso_loader.cc:64] Could not load dynamic library 'libcublasLt.so.11'; dlerror: libcublasLt.so.11: cannot open shared object file: No such file or directory; LD_LIBRARY_PATH: /home/talmolab/micromamba/envs/sleap_jupyter/lib/python3.7/site-packages/cv2/../../lib64:\n",
            "2023-08-31 12:14:26.597921: W tensorflow/compiler/xla/stream_executor/platform/default/dso_loader.cc:64] Could not load dynamic library 'libcufft.so.10'; dlerror: libcufft.so.10: cannot open shared object file: No such file or directory; LD_LIBRARY_PATH: /home/talmolab/micromamba/envs/sleap_jupyter/lib/python3.7/site-packages/cv2/../../lib64:\n",
            "2023-08-31 12:14:26.597945: W tensorflow/compiler/xla/stream_executor/platform/default/dso_loader.cc:64] Could not load dynamic library 'libcurand.so.10'; dlerror: libcurand.so.10: cannot open shared object file: No such file or directory; LD_LIBRARY_PATH: /home/talmolab/micromamba/envs/sleap_jupyter/lib/python3.7/site-packages/cv2/../../lib64:\n",
            "2023-08-31 12:14:26.597968: W tensorflow/compiler/xla/stream_executor/platform/default/dso_loader.cc:64] Could not load dynamic library 'libcusolver.so.11'; dlerror: libcusolver.so.11: cannot open shared object file: No such file or directory; LD_LIBRARY_PATH: /home/talmolab/micromamba/envs/sleap_jupyter/lib/python3.7/site-packages/cv2/../../lib64:\n",
            "2023-08-31 12:14:26.597991: W tensorflow/compiler/xla/stream_executor/platform/default/dso_loader.cc:64] Could not load dynamic library 'libcusparse.so.11'; dlerror: libcusparse.so.11: cannot open shared object file: No such file or directory; LD_LIBRARY_PATH: /home/talmolab/micromamba/envs/sleap_jupyter/lib/python3.7/site-packages/cv2/../../lib64:\n",
            "2023-08-31 12:14:26.598015: W tensorflow/compiler/xla/stream_executor/platform/default/dso_loader.cc:64] Could not load dynamic library 'libcudnn.so.8'; dlerror: libcudnn.so.8: cannot open shared object file: No such file or directory; LD_LIBRARY_PATH: /home/talmolab/micromamba/envs/sleap_jupyter/lib/python3.7/site-packages/cv2/../../lib64:\n",
            "2023-08-31 12:14:26.598019: W tensorflow/core/common_runtime/gpu/gpu_device.cc:1934] Cannot dlopen some GPU libraries. Please make sure the missing libraries mentioned above are installed properly if you would like to use GPU. Follow the guide at https://www.tensorflow.org/install/gpu for how to download and setup the required libraries for your platform.\n",
            "Skipping registering GPU devices...\n"
          ]
        }
      ],
      "source": [
        "import sleap\n",
        "sleap.versions()\n",
        "sleap.system_summary()"
      ]
    },
    {
      "cell_type": "markdown",
      "metadata": {
        "id": "wSdTJYOdu4L6"
      },
      "source": [
        "## 2. Setup training data\n",
        "\n",
        "Here we will download an existing training dataset package. This is an `.slp` file that contains both the labeled poses, as well as the image data for labeled frames.\n",
        "\n",
        "If running on Google Colab, you'll want to replace this with mounting your Google Drive folder containing your own data, or if running locally, simply change the path to your labels below in `TRAINING_SLP_FILE`."
      ]
    },
    {
      "cell_type": "code",
      "execution_count": 3,
      "metadata": {
        "colab": {
          "base_uri": "https://localhost:8080/"
        },
        "id": "sDIF3RKdM86u",
        "outputId": "9c267834-935c-4f90-bb77-c0f15814ba2a"
      },
      "outputs": [
        {
          "name": "stdout",
          "output_type": "stream",
          "text": [
            "  % Total    % Received % Xferd  Average Speed   Time    Time     Time  Current\n",
            "                                 Dload  Upload   Total   Spent    Left  Speed\n",
            "100  619M  100  619M    0     0  45.7M      0  0:00:13  0:00:13 --:--:-- 53.0M\n",
            "total 779M\n",
            "drwxrwxr-x 3 talmolab talmolab 4.0K Aug 31 12:14  .\n",
            "drwxrwxr-x 7 talmolab talmolab 4.0K Aug 31 11:39  ..\n",
            "-rw-rw-r-- 1 talmolab talmolab  82M May 20  2021  190719_090330_wt_18159206_rig1.2@15000-17560.mp4.1\n",
            "-rw-rw-r-- 1 talmolab talmolab 1.6M May 20  2021  190719_090330_wt_18159206_rig1.2@15000-17560.slp\n",
            "-rw-rw-r-- 1 talmolab talmolab 1.6M May 20  2021  190719_090330_wt_18159206_rig1.2@15000-17560.slp.1\n",
            "drwxrwxr-x 2 talmolab talmolab 4.0K Jun 20 10:00  analysis_example\n",
            "-rw-rw-r-- 1 talmolab talmolab 713K Jun 20 10:00  Analysis_examples.ipynb\n",
            "-rw-rw-r-- 1 talmolab talmolab 6.1M May 20  2021 'centroid.fast.210504_182918.centroid.n=1800.zip'\n",
            "-rw-rw-r-- 1 talmolab talmolab 6.1M May 20  2021 'centroid.fast.210504_182918.centroid.n=1800.zip.1'\n",
            "-rw-rw-r-- 1 talmolab talmolab 501K Aug 31 12:11  Data_structures.ipynb\n",
            "-rw-rw-r-- 1 talmolab talmolab 4.1K Jun 20 10:00  index.rst\n",
            "-rw-rw-r-- 1 talmolab talmolab 197K Aug 31 11:39  Interactive_and_realtime_inference.ipynb\n",
            "-rw-rw-r-- 1 talmolab talmolab 398K Aug 31 11:39  Interactive_and_resumable_training.ipynb\n",
            "-rw-rw-r-- 1 talmolab talmolab 620M Aug 31 12:14  labels.pkg.slp\n",
            "-rw-rw-r-- 1 talmolab talmolab 1.6M Aug 31 12:05  labels_with_images.pkg.slp\n",
            "-rw-rw-r-- 1 talmolab talmolab 149K Aug 31 11:39  Model_evaluation.ipynb\n",
            "-rw-rw-r-- 1 talmolab talmolab 150K Aug 31 11:39  Post_inference_tracking.ipynb\n",
            "-rw-rw-r-- 1 talmolab talmolab  30M May 20  2021 'td_fast.210505_012601.centered_instance.n=1800.zip'\n",
            "-rw-rw-r-- 1 talmolab talmolab  30M May 20  2021 'td_fast.210505_012601.centered_instance.n=1800.zip.1'\n",
            "-rw-rw-r-- 1 talmolab talmolab 9.5K Aug 31 11:39  Training_and_inference_on_an_example_dataset.ipynb\n",
            "-rw-rw-r-- 1 talmolab talmolab  12K Aug 31 11:39  Training_and_inference_using_Google_Drive.ipynb\n"
          ]
        }
      ],
      "source": [
        "# !curl -L --output labels.pkg.slp https://www.dropbox.com/s/b990gxjt3d3j3jh/210205.sleap_wt_gold.13pt.pkg.slp?dl=1\n",
        "!curl -L --output labels.pkg.slp https://storage.googleapis.com/sleap-data/datasets/wt_gold.13pt/tracking_split2/train.pkg.slp\n",
        "!ls -lah"
      ]
    },
    {
      "cell_type": "code",
      "execution_count": 4,
      "metadata": {
        "id": "vbpBugZRp_S7"
      },
      "outputs": [],
      "source": [
        "TRAINING_SLP_FILE = \"labels.pkg.slp\""
      ]
    },
    {
      "cell_type": "markdown",
      "metadata": {
        "id": "-vYsPusvviiu"
      },
      "source": [
        "## 3. Setup training job\n",
        "\n",
        "A SLEAP `TrainingJobConfig` is a structure that contains all of the hyperparameters needed to train a SLEAP model. This is typically saved out to `initial_config.json` and `training_config.json` in the model folder so that training runs can be reproduced if needed, as well as to store metadata necessary for inference.\n",
        "\n",
        "Normally, these are generated interactively by the GUI, or manually by editing an existing JSON file in a text editor. Here, we will define a configuration interactively entirely in Python."
      ]
    },
    {
      "cell_type": "code",
      "execution_count": 5,
      "metadata": {
        "id": "Cqt1Bhp-OIsi"
      },
      "outputs": [],
      "source": [
        "from sleap.nn.config import *\n",
        "\n",
        "# Initialize the default training job configuration.\n",
        "cfg = TrainingJobConfig()\n",
        "\n",
        "# Update path to training data we just downloaded.\n",
        "cfg.data.labels.training_labels = TRAINING_SLP_FILE\n",
        "cfg.data.labels.validation_fraction = 0.1\n",
        "\n",
        "# Preprocesssing and training parameters.\n",
        "cfg.data.instance_cropping.center_on_part = \"thorax\"\n",
        "cfg.optimization.augmentation_config.rotate = True\n",
        "cfg.optimization.epochs = 10  # This is the maximum number of training rounds.\n",
        "\n",
        "# These configures the actual neural network and the model type:\n",
        "cfg.model.backbone.unet = UNetConfig(\n",
        "    filters=16,\n",
        "    output_stride=4\n",
        ")\n",
        "cfg.model.heads.centered_instance = CenteredInstanceConfmapsHeadConfig(\n",
        "    anchor_part=\"thorax\",\n",
        "    sigma=1.5,\n",
        "    output_stride=4\n",
        ")\n",
        "\n",
        "# Setup how we want to save the trained model.\n",
        "cfg.outputs.run_name = \"baseline_model.topdown\""
      ]
    },
    {
      "cell_type": "markdown",
      "metadata": {
        "id": "9qSU7BcKv4Gw"
      },
      "source": [
        "Existing configs can also be loaded from a `.json` file with:\n",
        "\n",
        "```python\n",
        "cfg = sleap.load_config(\"training_config.json\")\n",
        "```"
      ]
    },
    {
      "cell_type": "markdown",
      "metadata": {
        "id": "Noq-XINMv8nz"
      },
      "source": [
        "## 4. Training\n",
        "Next we will create a SLEAP `Trainer` from the configuration we just specified. This handles all the nitty gritty mechanics necessary to setup training in the backend."
      ]
    },
    {
      "cell_type": "code",
      "execution_count": 6,
      "metadata": {
        "colab": {
          "base_uri": "https://localhost:8080/"
        },
        "id": "enbK9O5Dv8Pd",
        "outputId": "0e36a6e2-a7e8-4d0f-e1d3-0d1b7abaf490"
      },
      "outputs": [
        {
          "name": "stdout",
          "output_type": "stream",
          "text": [
            "INFO:sleap.nn.training:Loading training labels from: labels.pkg.slp\n",
            "INFO:sleap.nn.training:Creating training and validation splits from validation fraction: 0.1\n",
            "INFO:sleap.nn.training:  Splits: Training = 1440 / Validation = 160.\n"
          ]
        }
      ],
      "source": [
        "trainer = sleap.nn.training.Trainer.from_config(cfg)"
      ]
    },
    {
      "cell_type": "markdown",
      "metadata": {
        "id": "JwMTtOrmwUM9"
      },
      "source": [
        "Great, now we're ready to do the first round of training. This is when the model will actually start to improve over time:"
      ]
    },
    {
      "cell_type": "code",
      "execution_count": 7,
      "metadata": {
        "colab": {
          "base_uri": "https://localhost:8080/",
          "height": 1000,
          "referenced_widgets": [
            "6b2a262ed72e4c659969f996ac889aa7",
            "b30cb8d1b5bc4e12b554794098bd2c46",
            "973660ab9cb2472786b368a18db11c63",
            "cdb03dbf1b804f0b8b9bfd738c5eb2ad"
          ]
        },
        "id": "L8jNydTEwNA1",
        "outputId": "51828b8c-6d8b-4743-e9d2-9153f5b571c3"
      },
      "outputs": [
        {
          "name": "stdout",
          "output_type": "stream",
          "text": [
            "INFO:sleap.nn.training:Setting up for training...\n",
            "INFO:sleap.nn.training:Setting up pipeline builders...\n",
            "INFO:sleap.nn.training:Setting up model...\n",
            "INFO:sleap.nn.training:Building test pipeline...\n"
          ]
        },
        {
          "name": "stderr",
          "output_type": "stream",
          "text": [
            "2023-08-31 12:14:43.006704: I tensorflow/core/platform/cpu_feature_guard.cc:193] This TensorFlow binary is optimized with oneAPI Deep Neural Network Library (oneDNN) to use the following CPU instructions in performance-critical operations:  AVX2 AVX512F AVX512_VNNI FMA\n",
            "To enable them in other operations, rebuild TensorFlow with the appropriate compiler flags.\n"
          ]
        },
        {
          "name": "stdout",
          "output_type": "stream",
          "text": [
            "INFO:sleap.nn.training:Loaded test example. [1.487s]\n",
            "INFO:sleap.nn.training:  Input shape: (160, 160, 1)\n",
            "INFO:sleap.nn.training:Created Keras model.\n",
            "INFO:sleap.nn.training:  Backbone: UNet(stacks=1, filters=16, filters_rate=2, kernel_size=3, stem_kernel_size=7, convs_per_block=2, stem_blocks=0, down_blocks=4, middle_block=True, up_blocks=2, up_interpolate=False, block_contraction=False)\n",
            "INFO:sleap.nn.training:  Max stride: 16\n",
            "INFO:sleap.nn.training:  Parameters: 2,101,501\n",
            "INFO:sleap.nn.training:  Heads: \n",
            "INFO:sleap.nn.training:    [0] = CenteredInstanceConfmapsHead(part_names=['head', 'thorax', 'abdomen', 'wingL', 'wingR', 'forelegL4', 'forelegR4', 'midlegL4', 'midlegR4', 'hindlegL4', 'hindlegR4', 'eyeL', 'eyeR'], anchor_part='thorax', sigma=1.5, output_stride=4, loss_weight=1.0)\n",
            "INFO:sleap.nn.training:  Outputs: \n",
            "INFO:sleap.nn.training:    [0] = KerasTensor(type_spec=TensorSpec(shape=(None, 40, 40, 13), dtype=tf.float32, name=None), name='CenteredInstanceConfmapsHead/BiasAdd:0', description=\"created by layer 'CenteredInstanceConfmapsHead'\")\n",
            "INFO:sleap.nn.training:Training from scratch\n",
            "INFO:sleap.nn.training:Setting up data pipelines...\n",
            "INFO:sleap.nn.training:Training set: n = 1440\n",
            "INFO:sleap.nn.training:Validation set: n = 160\n",
            "INFO:sleap.nn.training:Setting up optimization...\n"
          ]
        },
        {
          "name": "stderr",
          "output_type": "stream",
          "text": [
            "2023-08-31 12:14:44.410509: W tensorflow/core/grappler/costs/op_level_cost_estimator.cc:690] Error in PredictCost() for the op: op: \"CropAndResize\" attr { key: \"T\" value { type: DT_FLOAT } } attr { key: \"extrapolation_value\" value { f: 0 } } attr { key: \"method\" value { s: \"bilinear\" } } inputs { dtype: DT_FLOAT shape { dim { size: 1 } dim { size: 1024 } dim { size: 1024 } dim { size: 1 } } } inputs { dtype: DT_FLOAT shape { dim { size: -2 } dim { size: 4 } } } inputs { dtype: DT_INT32 shape { dim { size: -2 } } } inputs { dtype: DT_INT32 shape { dim { size: 2 } } } device { type: \"CPU\" vendor: \"GenuineIntel\" model: \"103\" frequency: 3600 num_cores: 16 environment { key: \"cpu_instruction_set\" value: \"AVX SSE, SSE2, SSE3, SSSE3, SSE4.1, SSE4.2\" } environment { key: \"eigen\" value: \"3.4.90\" } l1_cache_size: 49152 l2_cache_size: 524288 l3_cache_size: 16777216 memory_size: 268435456 } outputs { dtype: DT_FLOAT shape { dim { size: -2 } dim { size: 160 } dim { size: 160 } dim { size: 1 } } }\n"
          ]
        },
        {
          "name": "stdout",
          "output_type": "stream",
          "text": [
            "INFO:sleap.nn.training:  Learning rate schedule: LearningRateScheduleConfig(reduce_on_plateau=True, reduction_factor=0.5, plateau_min_delta=1e-06, plateau_patience=5, plateau_cooldown=3, min_learning_rate=1e-08)\n",
            "INFO:sleap.nn.training:  Early stopping: EarlyStoppingConfig(stop_training_on_plateau=True, plateau_min_delta=1e-06, plateau_patience=10)\n",
            "INFO:sleap.nn.training:Setting up outputs...\n",
            "INFO:sleap.nn.training:Created run path: models/baseline_model.topdown\n",
            "INFO:sleap.nn.training:Setting up visualization...\n"
          ]
        },
        {
          "name": "stderr",
          "output_type": "stream",
          "text": [
            "2023-08-31 12:14:45.345356: W tensorflow/core/grappler/costs/op_level_cost_estimator.cc:690] Error in PredictCost() for the op: op: \"CropAndResize\" attr { key: \"T\" value { type: DT_FLOAT } } attr { key: \"extrapolation_value\" value { f: 0 } } attr { key: \"method\" value { s: \"bilinear\" } } inputs { dtype: DT_FLOAT shape { dim { size: 1 } dim { size: 1024 } dim { size: 1024 } dim { size: 1 } } } inputs { dtype: DT_FLOAT shape { dim { size: -2 } dim { size: 4 } } } inputs { dtype: DT_INT32 shape { dim { size: -2 } } } inputs { dtype: DT_INT32 shape { dim { size: 2 } } } device { type: \"CPU\" vendor: \"GenuineIntel\" model: \"103\" frequency: 3600 num_cores: 16 environment { key: \"cpu_instruction_set\" value: \"AVX SSE, SSE2, SSE3, SSSE3, SSE4.1, SSE4.2\" } environment { key: \"eigen\" value: \"3.4.90\" } l1_cache_size: 49152 l2_cache_size: 524288 l3_cache_size: 16777216 memory_size: 268435456 } outputs { dtype: DT_FLOAT shape { dim { size: -2 } dim { size: 160 } dim { size: 160 } dim { size: 1 } } }\n"
          ]
        },
        {
          "name": "stdout",
          "output_type": "stream",
          "text": [
            "INFO:sleap.nn.training:Finished trainer set up. [3.3s]\n",
            "INFO:sleap.nn.training:Creating tf.data.Datasets for training data generation...\n"
          ]
        },
        {
          "name": "stderr",
          "output_type": "stream",
          "text": [
            "2023-08-31 12:14:46.041376: W tensorflow/core/grappler/costs/op_level_cost_estimator.cc:690] Error in PredictCost() for the op: op: \"CropAndResize\" attr { key: \"T\" value { type: DT_FLOAT } } attr { key: \"extrapolation_value\" value { f: 0 } } attr { key: \"method\" value { s: \"bilinear\" } } inputs { dtype: DT_FLOAT shape { dim { size: 1 } dim { size: 1024 } dim { size: 1024 } dim { size: 1 } } } inputs { dtype: DT_FLOAT shape { dim { size: -2 } dim { size: 4 } } } inputs { dtype: DT_INT32 shape { dim { size: -2 } } } inputs { dtype: DT_INT32 shape { dim { size: 2 } } } device { type: \"CPU\" vendor: \"GenuineIntel\" model: \"103\" frequency: 3600 num_cores: 16 environment { key: \"cpu_instruction_set\" value: \"AVX SSE, SSE2, SSE3, SSSE3, SSE4.1, SSE4.2\" } environment { key: \"eigen\" value: \"3.4.90\" } l1_cache_size: 49152 l2_cache_size: 524288 l3_cache_size: 16777216 memory_size: 268435456 } outputs { dtype: DT_FLOAT shape { dim { size: -2 } dim { size: 160 } dim { size: 160 } dim { size: 1 } } }\n",
            "2023-08-31 12:14:57.669273: W tensorflow/core/grappler/costs/op_level_cost_estimator.cc:690] Error in PredictCost() for the op: op: \"CropAndResize\" attr { key: \"T\" value { type: DT_FLOAT } } attr { key: \"extrapolation_value\" value { f: 0 } } attr { key: \"method\" value { s: \"bilinear\" } } inputs { dtype: DT_FLOAT shape { dim { size: 1 } dim { size: 1024 } dim { size: 1024 } dim { size: 1 } } } inputs { dtype: DT_FLOAT shape { dim { size: -2 } dim { size: 4 } } } inputs { dtype: DT_INT32 shape { dim { size: -2 } } } inputs { dtype: DT_INT32 shape { dim { size: 2 } } } device { type: \"CPU\" vendor: \"GenuineIntel\" model: \"103\" frequency: 3600 num_cores: 16 environment { key: \"cpu_instruction_set\" value: \"AVX SSE, SSE2, SSE3, SSSE3, SSE4.1, SSE4.2\" } environment { key: \"eigen\" value: \"3.4.90\" } l1_cache_size: 49152 l2_cache_size: 524288 l3_cache_size: 16777216 memory_size: 268435456 } outputs { dtype: DT_FLOAT shape { dim { size: -2 } dim { size: 160 } dim { size: 160 } dim { size: 1 } } }\n",
            "2023-08-31 12:15:00.133954: W tensorflow/core/grappler/costs/op_level_cost_estimator.cc:690] Error in PredictCost() for the op: op: \"CropAndResize\" attr { key: \"T\" value { type: DT_FLOAT } } attr { key: \"extrapolation_value\" value { f: 0 } } attr { key: \"method\" value { s: \"bilinear\" } } inputs { dtype: DT_FLOAT shape { dim { size: 1 } dim { size: 1024 } dim { size: 1024 } dim { size: 1 } } } inputs { dtype: DT_FLOAT shape { dim { size: -2 } dim { size: 4 } } } inputs { dtype: DT_INT32 shape { dim { size: -2 } } } inputs { dtype: DT_INT32 shape { dim { size: 2 } } } device { type: \"CPU\" vendor: \"GenuineIntel\" model: \"103\" frequency: 3600 num_cores: 16 environment { key: \"cpu_instruction_set\" value: \"AVX SSE, SSE2, SSE3, SSSE3, SSE4.1, SSE4.2\" } environment { key: \"eigen\" value: \"3.4.90\" } l1_cache_size: 49152 l2_cache_size: 524288 l3_cache_size: 16777216 memory_size: 268435456 } outputs { dtype: DT_FLOAT shape { dim { size: -2 } dim { size: 160 } dim { size: 160 } dim { size: 1 } } }\n"
          ]
        },
        {
          "name": "stdout",
          "output_type": "stream",
          "text": [
            "INFO:sleap.nn.training:Finished creating training datasets. [14.3s]\n",
            "INFO:sleap.nn.training:Starting training loop...\n",
            "Epoch 1/10\n"
          ]
        },
        {
          "name": "stderr",
          "output_type": "stream",
          "text": [
            "2023-08-31 12:15:00.574736: W tensorflow/core/grappler/costs/op_level_cost_estimator.cc:690] Error in PredictCost() for the op: op: \"CropAndResize\" attr { key: \"T\" value { type: DT_FLOAT } } attr { key: \"extrapolation_value\" value { f: 0 } } attr { key: \"method\" value { s: \"bilinear\" } } inputs { dtype: DT_FLOAT shape { dim { size: 1 } dim { size: 1024 } dim { size: 1024 } dim { size: 1 } } } inputs { dtype: DT_FLOAT shape { dim { size: -2 } dim { size: 4 } } } inputs { dtype: DT_INT32 shape { dim { size: -2 } } } inputs { dtype: DT_INT32 shape { dim { size: 2 } } } device { type: \"CPU\" vendor: \"GenuineIntel\" model: \"103\" frequency: 3600 num_cores: 16 environment { key: \"cpu_instruction_set\" value: \"AVX SSE, SSE2, SSE3, SSSE3, SSE4.1, SSE4.2\" } environment { key: \"eigen\" value: \"3.4.90\" } l1_cache_size: 49152 l2_cache_size: 524288 l3_cache_size: 16777216 memory_size: 268435456 } outputs { dtype: DT_FLOAT shape { dim { size: -2 } dim { size: 160 } dim { size: 160 } dim { size: 1 } } }\n",
            "2023-08-31 12:15:28.019987: W tensorflow/core/grappler/costs/op_level_cost_estimator.cc:690] Error in PredictCost() for the op: op: \"CropAndResize\" attr { key: \"T\" value { type: DT_FLOAT } } attr { key: \"extrapolation_value\" value { f: 0 } } attr { key: \"method\" value { s: \"bilinear\" } } inputs { dtype: DT_FLOAT shape { dim { size: 1 } dim { size: 1024 } dim { size: 1024 } dim { size: 1 } } } inputs { dtype: DT_FLOAT shape { dim { size: -2 } dim { size: 4 } } } inputs { dtype: DT_INT32 shape { dim { size: -2 } } } inputs { dtype: DT_INT32 shape { dim { size: 2 } } } device { type: \"CPU\" vendor: \"GenuineIntel\" model: \"103\" frequency: 3600 num_cores: 16 environment { key: \"cpu_instruction_set\" value: \"AVX SSE, SSE2, SSE3, SSSE3, SSE4.1, SSE4.2\" } environment { key: \"eigen\" value: \"3.4.90\" } l1_cache_size: 49152 l2_cache_size: 524288 l3_cache_size: 16777216 memory_size: 268435456 } outputs { dtype: DT_FLOAT shape { dim { size: -2 } dim { size: 160 } dim { size: 160 } dim { size: 1 } } }\n",
            "2023-08-31 12:15:30.356498: W tensorflow/core/grappler/costs/op_level_cost_estimator.cc:690] Error in PredictCost() for the op: op: \"CropAndResize\" attr { key: \"T\" value { type: DT_FLOAT } } attr { key: \"extrapolation_value\" value { f: 0 } } attr { key: \"method\" value { s: \"bilinear\" } } inputs { dtype: DT_FLOAT shape { dim { size: 13 } dim { size: 40 } dim { size: 40 } dim { size: 1 } } } inputs { dtype: DT_FLOAT shape { dim { size: -2 } dim { size: 4 } } } inputs { dtype: DT_INT32 shape { dim { size: -2 } } } inputs { dtype: DT_INT32 shape { dim { size: 2 } } } device { type: \"CPU\" vendor: \"GenuineIntel\" model: \"103\" frequency: 3600 num_cores: 16 environment { key: \"cpu_instruction_set\" value: \"AVX SSE, SSE2, SSE3, SSSE3, SSE4.1, SSE4.2\" } environment { key: \"eigen\" value: \"3.4.90\" } l1_cache_size: 49152 l2_cache_size: 524288 l3_cache_size: 16777216 memory_size: 268435456 } outputs { dtype: DT_FLOAT shape { dim { size: -2 } dim { size: -5 } dim { size: -6 } dim { size: 1 } } }\n"
          ]
        },
        {
          "name": "stdout",
          "output_type": "stream",
          "text": [
            "360/360 - 30s - loss: 0.0037 - head: 0.0031 - thorax: 0.0031 - abdomen: 0.0037 - wingL: 0.0041 - wingR: 0.0041 - forelegL4: 0.0038 - forelegR4: 0.0038 - midlegL4: 0.0041 - midlegR4: 0.0041 - hindlegL4: 0.0039 - hindlegR4: 0.0040 - eyeL: 0.0035 - eyeR: 0.0035 - val_loss: 0.0033 - val_head: 0.0020 - val_thorax: 0.0027 - val_abdomen: 0.0031 - val_wingL: 0.0037 - val_wingR: 0.0038 - val_forelegL4: 0.0035 - val_forelegR4: 0.0036 - val_midlegL4: 0.0039 - val_midlegR4: 0.0039 - val_hindlegL4: 0.0038 - val_hindlegR4: 0.0039 - val_eyeL: 0.0025 - val_eyeR: 0.0026 - lr: 1.0000e-04 - 30s/epoch - 84ms/step\n",
            "Epoch 2/10\n"
          ]
        },
        {
          "name": "stderr",
          "output_type": "stream",
          "text": [
            "2023-08-31 12:15:55.843376: W tensorflow/core/grappler/costs/op_level_cost_estimator.cc:690] Error in PredictCost() for the op: op: \"CropAndResize\" attr { key: \"T\" value { type: DT_FLOAT } } attr { key: \"extrapolation_value\" value { f: 0 } } attr { key: \"method\" value { s: \"bilinear\" } } inputs { dtype: DT_FLOAT shape { dim { size: 1 } dim { size: 1024 } dim { size: 1024 } dim { size: 1 } } } inputs { dtype: DT_FLOAT shape { dim { size: -2 } dim { size: 4 } } } inputs { dtype: DT_INT32 shape { dim { size: -2 } } } inputs { dtype: DT_INT32 shape { dim { size: 2 } } } device { type: \"CPU\" vendor: \"GenuineIntel\" model: \"103\" frequency: 3600 num_cores: 16 environment { key: \"cpu_instruction_set\" value: \"AVX SSE, SSE2, SSE3, SSSE3, SSE4.1, SSE4.2\" } environment { key: \"eigen\" value: \"3.4.90\" } l1_cache_size: 49152 l2_cache_size: 524288 l3_cache_size: 16777216 memory_size: 268435456 } outputs { dtype: DT_FLOAT shape { dim { size: -2 } dim { size: 160 } dim { size: 160 } dim { size: 1 } } }\n"
          ]
        },
        {
          "name": "stdout",
          "output_type": "stream",
          "text": [
            "360/360 - 28s - loss: 0.0028 - head: 0.0013 - thorax: 0.0019 - abdomen: 0.0027 - wingL: 0.0031 - wingR: 0.0031 - forelegL4: 0.0032 - forelegR4: 0.0033 - midlegL4: 0.0038 - midlegR4: 0.0038 - hindlegL4: 0.0037 - hindlegR4: 0.0038 - eyeL: 0.0014 - eyeR: 0.0015 - val_loss: 0.0024 - val_head: 8.4298e-04 - val_thorax: 9.6129e-04 - val_abdomen: 0.0023 - val_wingL: 0.0024 - val_wingR: 0.0024 - val_forelegL4: 0.0030 - val_forelegR4: 0.0031 - val_midlegL4: 0.0037 - val_midlegR4: 0.0037 - val_hindlegL4: 0.0036 - val_hindlegR4: 0.0037 - val_eyeL: 9.3550e-04 - val_eyeR: 9.1799e-04 - lr: 1.0000e-04 - 28s/epoch - 78ms/step\n",
            "Epoch 3/10\n"
          ]
        },
        {
          "name": "stderr",
          "output_type": "stream",
          "text": [
            "2023-08-31 12:16:26.399534: W tensorflow/core/grappler/costs/op_level_cost_estimator.cc:690] Error in PredictCost() for the op: op: \"CropAndResize\" attr { key: \"T\" value { type: DT_FLOAT } } attr { key: \"extrapolation_value\" value { f: 0 } } attr { key: \"method\" value { s: \"bilinear\" } } inputs { dtype: DT_FLOAT shape { dim { size: 1 } dim { size: 1024 } dim { size: 1024 } dim { size: 1 } } } inputs { dtype: DT_FLOAT shape { dim { size: -2 } dim { size: 4 } } } inputs { dtype: DT_INT32 shape { dim { size: -2 } } } inputs { dtype: DT_INT32 shape { dim { size: 2 } } } device { type: \"CPU\" vendor: \"GenuineIntel\" model: \"103\" frequency: 3600 num_cores: 16 environment { key: \"cpu_instruction_set\" value: \"AVX SSE, SSE2, SSE3, SSSE3, SSE4.1, SSE4.2\" } environment { key: \"eigen\" value: \"3.4.90\" } l1_cache_size: 49152 l2_cache_size: 524288 l3_cache_size: 16777216 memory_size: 268435456 } outputs { dtype: DT_FLOAT shape { dim { size: -2 } dim { size: 160 } dim { size: 160 } dim { size: 1 } } }\n"
          ]
        },
        {
          "name": "stdout",
          "output_type": "stream",
          "text": [
            "360/360 - 31s - loss: 0.0022 - head: 7.5919e-04 - thorax: 6.8924e-04 - abdomen: 0.0021 - wingL: 0.0021 - wingR: 0.0021 - forelegL4: 0.0027 - forelegR4: 0.0029 - midlegL4: 0.0036 - midlegR4: 0.0034 - hindlegL4: 0.0034 - hindlegR4: 0.0034 - eyeL: 8.6820e-04 - eyeR: 8.5480e-04 - val_loss: 0.0020 - val_head: 7.0900e-04 - val_thorax: 4.8059e-04 - val_abdomen: 0.0020 - val_wingL: 0.0019 - val_wingR: 0.0019 - val_forelegL4: 0.0025 - val_forelegR4: 0.0027 - val_midlegL4: 0.0034 - val_midlegR4: 0.0032 - val_hindlegL4: 0.0032 - val_hindlegR4: 0.0031 - val_eyeL: 7.3284e-04 - val_eyeR: 7.2117e-04 - lr: 1.0000e-04 - 31s/epoch - 85ms/step\n",
            "Epoch 4/10\n"
          ]
        },
        {
          "name": "stderr",
          "output_type": "stream",
          "text": [
            "2023-08-31 12:16:56.378655: W tensorflow/core/grappler/costs/op_level_cost_estimator.cc:690] Error in PredictCost() for the op: op: \"CropAndResize\" attr { key: \"T\" value { type: DT_FLOAT } } attr { key: \"extrapolation_value\" value { f: 0 } } attr { key: \"method\" value { s: \"bilinear\" } } inputs { dtype: DT_FLOAT shape { dim { size: 1 } dim { size: 1024 } dim { size: 1024 } dim { size: 1 } } } inputs { dtype: DT_FLOAT shape { dim { size: -2 } dim { size: 4 } } } inputs { dtype: DT_INT32 shape { dim { size: -2 } } } inputs { dtype: DT_INT32 shape { dim { size: 2 } } } device { type: \"CPU\" vendor: \"GenuineIntel\" model: \"103\" frequency: 3600 num_cores: 16 environment { key: \"cpu_instruction_set\" value: \"AVX SSE, SSE2, SSE3, SSSE3, SSE4.1, SSE4.2\" } environment { key: \"eigen\" value: \"3.4.90\" } l1_cache_size: 49152 l2_cache_size: 524288 l3_cache_size: 16777216 memory_size: 268435456 } outputs { dtype: DT_FLOAT shape { dim { size: -2 } dim { size: 160 } dim { size: 160 } dim { size: 1 } } }\n"
          ]
        },
        {
          "name": "stdout",
          "output_type": "stream",
          "text": [
            "360/360 - 29s - loss: 0.0019 - head: 6.4171e-04 - thorax: 4.4359e-04 - abdomen: 0.0019 - wingL: 0.0018 - wingR: 0.0018 - forelegL4: 0.0023 - forelegR4: 0.0025 - midlegL4: 0.0030 - midlegR4: 0.0028 - hindlegL4: 0.0030 - hindlegR4: 0.0029 - eyeL: 7.3767e-04 - eyeR: 6.9961e-04 - val_loss: 0.0018 - val_head: 6.7740e-04 - val_thorax: 5.4211e-04 - val_abdomen: 0.0018 - val_wingL: 0.0016 - val_wingR: 0.0017 - val_forelegL4: 0.0022 - val_forelegR4: 0.0023 - val_midlegL4: 0.0025 - val_midlegR4: 0.0028 - val_hindlegL4: 0.0029 - val_hindlegR4: 0.0028 - val_eyeL: 7.1843e-04 - val_eyeR: 7.0428e-04 - lr: 1.0000e-04 - 29s/epoch - 80ms/step\n",
            "Epoch 5/10\n"
          ]
        },
        {
          "name": "stderr",
          "output_type": "stream",
          "text": [
            "2023-08-31 12:17:26.162611: W tensorflow/core/grappler/costs/op_level_cost_estimator.cc:690] Error in PredictCost() for the op: op: \"CropAndResize\" attr { key: \"T\" value { type: DT_FLOAT } } attr { key: \"extrapolation_value\" value { f: 0 } } attr { key: \"method\" value { s: \"bilinear\" } } inputs { dtype: DT_FLOAT shape { dim { size: 1 } dim { size: 1024 } dim { size: 1024 } dim { size: 1 } } } inputs { dtype: DT_FLOAT shape { dim { size: -2 } dim { size: 4 } } } inputs { dtype: DT_INT32 shape { dim { size: -2 } } } inputs { dtype: DT_INT32 shape { dim { size: 2 } } } device { type: \"CPU\" vendor: \"GenuineIntel\" model: \"103\" frequency: 3600 num_cores: 16 environment { key: \"cpu_instruction_set\" value: \"AVX SSE, SSE2, SSE3, SSSE3, SSE4.1, SSE4.2\" } environment { key: \"eigen\" value: \"3.4.90\" } l1_cache_size: 49152 l2_cache_size: 524288 l3_cache_size: 16777216 memory_size: 268435456 } outputs { dtype: DT_FLOAT shape { dim { size: -2 } dim { size: 160 } dim { size: 160 } dim { size: 1 } } }\n"
          ]
        },
        {
          "name": "stdout",
          "output_type": "stream",
          "text": [
            "360/360 - 30s - loss: 0.0016 - head: 5.9246e-04 - thorax: 3.7461e-04 - abdomen: 0.0017 - wingL: 0.0016 - wingR: 0.0016 - forelegL4: 0.0020 - forelegR4: 0.0021 - midlegL4: 0.0022 - midlegR4: 0.0021 - hindlegL4: 0.0026 - hindlegR4: 0.0025 - eyeL: 6.7904e-04 - eyeR: 6.4366e-04 - val_loss: 0.0015 - val_head: 5.8806e-04 - val_thorax: 3.3475e-04 - val_abdomen: 0.0016 - val_wingL: 0.0015 - val_wingR: 0.0015 - val_forelegL4: 0.0019 - val_forelegR4: 0.0019 - val_midlegL4: 0.0019 - val_midlegR4: 0.0020 - val_hindlegL4: 0.0024 - val_hindlegR4: 0.0023 - val_eyeL: 6.0869e-04 - val_eyeR: 6.2904e-04 - lr: 1.0000e-04 - 30s/epoch - 83ms/step\n",
            "Epoch 6/10\n"
          ]
        },
        {
          "name": "stderr",
          "output_type": "stream",
          "text": [
            "2023-08-31 12:17:55.243756: W tensorflow/core/grappler/costs/op_level_cost_estimator.cc:690] Error in PredictCost() for the op: op: \"CropAndResize\" attr { key: \"T\" value { type: DT_FLOAT } } attr { key: \"extrapolation_value\" value { f: 0 } } attr { key: \"method\" value { s: \"bilinear\" } } inputs { dtype: DT_FLOAT shape { dim { size: 1 } dim { size: 1024 } dim { size: 1024 } dim { size: 1 } } } inputs { dtype: DT_FLOAT shape { dim { size: -2 } dim { size: 4 } } } inputs { dtype: DT_INT32 shape { dim { size: -2 } } } inputs { dtype: DT_INT32 shape { dim { size: 2 } } } device { type: \"CPU\" vendor: \"GenuineIntel\" model: \"103\" frequency: 3600 num_cores: 16 environment { key: \"cpu_instruction_set\" value: \"AVX SSE, SSE2, SSE3, SSSE3, SSE4.1, SSE4.2\" } environment { key: \"eigen\" value: \"3.4.90\" } l1_cache_size: 49152 l2_cache_size: 524288 l3_cache_size: 16777216 memory_size: 268435456 } outputs { dtype: DT_FLOAT shape { dim { size: -2 } dim { size: 160 } dim { size: 160 } dim { size: 1 } } }\n"
          ]
        },
        {
          "name": "stdout",
          "output_type": "stream",
          "text": [
            "360/360 - 29s - loss: 0.0014 - head: 5.3149e-04 - thorax: 3.2555e-04 - abdomen: 0.0015 - wingL: 0.0014 - wingR: 0.0014 - forelegL4: 0.0018 - forelegR4: 0.0019 - midlegL4: 0.0018 - midlegR4: 0.0018 - hindlegL4: 0.0022 - hindlegR4: 0.0021 - eyeL: 6.1009e-04 - eyeR: 5.9724e-04 - val_loss: 0.0013 - val_head: 5.5862e-04 - val_thorax: 3.7345e-04 - val_abdomen: 0.0014 - val_wingL: 0.0012 - val_wingR: 0.0013 - val_forelegL4: 0.0018 - val_forelegR4: 0.0017 - val_midlegL4: 0.0018 - val_midlegR4: 0.0018 - val_hindlegL4: 0.0022 - val_hindlegR4: 0.0021 - val_eyeL: 6.0660e-04 - val_eyeR: 5.6585e-04 - lr: 1.0000e-04 - 29s/epoch - 80ms/step\n",
            "Epoch 7/10\n"
          ]
        },
        {
          "name": "stderr",
          "output_type": "stream",
          "text": [
            "2023-08-31 12:18:24.091349: W tensorflow/core/grappler/costs/op_level_cost_estimator.cc:690] Error in PredictCost() for the op: op: \"CropAndResize\" attr { key: \"T\" value { type: DT_FLOAT } } attr { key: \"extrapolation_value\" value { f: 0 } } attr { key: \"method\" value { s: \"bilinear\" } } inputs { dtype: DT_FLOAT shape { dim { size: 1 } dim { size: 1024 } dim { size: 1024 } dim { size: 1 } } } inputs { dtype: DT_FLOAT shape { dim { size: -2 } dim { size: 4 } } } inputs { dtype: DT_INT32 shape { dim { size: -2 } } } inputs { dtype: DT_INT32 shape { dim { size: 2 } } } device { type: \"CPU\" vendor: \"GenuineIntel\" model: \"103\" frequency: 3600 num_cores: 16 environment { key: \"cpu_instruction_set\" value: \"AVX SSE, SSE2, SSE3, SSSE3, SSE4.1, SSE4.2\" } environment { key: \"eigen\" value: \"3.4.90\" } l1_cache_size: 49152 l2_cache_size: 524288 l3_cache_size: 16777216 memory_size: 268435456 } outputs { dtype: DT_FLOAT shape { dim { size: -2 } dim { size: 160 } dim { size: 160 } dim { size: 1 } } }\n"
          ]
        },
        {
          "name": "stdout",
          "output_type": "stream",
          "text": [
            "360/360 - 29s - loss: 0.0013 - head: 4.8186e-04 - thorax: 2.8904e-04 - abdomen: 0.0014 - wingL: 0.0013 - wingR: 0.0012 - forelegL4: 0.0017 - forelegR4: 0.0017 - midlegL4: 0.0016 - midlegR4: 0.0016 - hindlegL4: 0.0020 - hindlegR4: 0.0020 - eyeL: 5.7082e-04 - eyeR: 5.4804e-04 - val_loss: 0.0012 - val_head: 5.3110e-04 - val_thorax: 2.4881e-04 - val_abdomen: 0.0013 - val_wingL: 0.0012 - val_wingR: 0.0012 - val_forelegL4: 0.0016 - val_forelegR4: 0.0017 - val_midlegL4: 0.0015 - val_midlegR4: 0.0016 - val_hindlegL4: 0.0020 - val_hindlegR4: 0.0019 - val_eyeL: 5.4547e-04 - val_eyeR: 5.2963e-04 - lr: 1.0000e-04 - 29s/epoch - 80ms/step\n",
            "Epoch 8/10\n"
          ]
        },
        {
          "name": "stderr",
          "output_type": "stream",
          "text": [
            "2023-08-31 12:18:52.573865: W tensorflow/core/grappler/costs/op_level_cost_estimator.cc:690] Error in PredictCost() for the op: op: \"CropAndResize\" attr { key: \"T\" value { type: DT_FLOAT } } attr { key: \"extrapolation_value\" value { f: 0 } } attr { key: \"method\" value { s: \"bilinear\" } } inputs { dtype: DT_FLOAT shape { dim { size: 1 } dim { size: 1024 } dim { size: 1024 } dim { size: 1 } } } inputs { dtype: DT_FLOAT shape { dim { size: -2 } dim { size: 4 } } } inputs { dtype: DT_INT32 shape { dim { size: -2 } } } inputs { dtype: DT_INT32 shape { dim { size: 2 } } } device { type: \"CPU\" vendor: \"GenuineIntel\" model: \"103\" frequency: 3600 num_cores: 16 environment { key: \"cpu_instruction_set\" value: \"AVX SSE, SSE2, SSE3, SSSE3, SSE4.1, SSE4.2\" } environment { key: \"eigen\" value: \"3.4.90\" } l1_cache_size: 49152 l2_cache_size: 524288 l3_cache_size: 16777216 memory_size: 268435456 } outputs { dtype: DT_FLOAT shape { dim { size: -2 } dim { size: 160 } dim { size: 160 } dim { size: 1 } } }\n"
          ]
        },
        {
          "name": "stdout",
          "output_type": "stream",
          "text": [
            "360/360 - 30s - loss: 0.0012 - head: 4.4063e-04 - thorax: 2.4833e-04 - abdomen: 0.0013 - wingL: 0.0011 - wingR: 0.0011 - forelegL4: 0.0016 - forelegR4: 0.0016 - midlegL4: 0.0014 - midlegR4: 0.0015 - hindlegL4: 0.0018 - hindlegR4: 0.0018 - eyeL: 5.2887e-04 - eyeR: 5.0335e-04 - val_loss: 0.0011 - val_head: 4.2716e-04 - val_thorax: 2.5146e-04 - val_abdomen: 0.0013 - val_wingL: 0.0011 - val_wingR: 0.0011 - val_forelegL4: 0.0015 - val_forelegR4: 0.0014 - val_midlegL4: 0.0014 - val_midlegR4: 0.0014 - val_hindlegL4: 0.0018 - val_hindlegR4: 0.0019 - val_eyeL: 5.5738e-04 - val_eyeR: 4.7800e-04 - lr: 1.0000e-04 - 30s/epoch - 82ms/step\n",
            "Epoch 9/10\n"
          ]
        },
        {
          "name": "stderr",
          "output_type": "stream",
          "text": [
            "2023-08-31 12:19:22.484569: W tensorflow/core/grappler/costs/op_level_cost_estimator.cc:690] Error in PredictCost() for the op: op: \"CropAndResize\" attr { key: \"T\" value { type: DT_FLOAT } } attr { key: \"extrapolation_value\" value { f: 0 } } attr { key: \"method\" value { s: \"bilinear\" } } inputs { dtype: DT_FLOAT shape { dim { size: 1 } dim { size: 1024 } dim { size: 1024 } dim { size: 1 } } } inputs { dtype: DT_FLOAT shape { dim { size: -2 } dim { size: 4 } } } inputs { dtype: DT_INT32 shape { dim { size: -2 } } } inputs { dtype: DT_INT32 shape { dim { size: 2 } } } device { type: \"CPU\" vendor: \"GenuineIntel\" model: \"103\" frequency: 3600 num_cores: 16 environment { key: \"cpu_instruction_set\" value: \"AVX SSE, SSE2, SSE3, SSSE3, SSE4.1, SSE4.2\" } environment { key: \"eigen\" value: \"3.4.90\" } l1_cache_size: 49152 l2_cache_size: 524288 l3_cache_size: 16777216 memory_size: 268435456 } outputs { dtype: DT_FLOAT shape { dim { size: -2 } dim { size: 160 } dim { size: 160 } dim { size: 1 } } }\n"
          ]
        },
        {
          "name": "stdout",
          "output_type": "stream",
          "text": [
            "360/360 - 29s - loss: 0.0011 - head: 4.2217e-04 - thorax: 2.3167e-04 - abdomen: 0.0012 - wingL: 0.0010 - wingR: 0.0010 - forelegL4: 0.0015 - forelegR4: 0.0015 - midlegL4: 0.0013 - midlegR4: 0.0014 - hindlegL4: 0.0017 - hindlegR4: 0.0017 - eyeL: 4.9500e-04 - eyeR: 4.8492e-04 - val_loss: 0.0010 - val_head: 4.3320e-04 - val_thorax: 1.8593e-04 - val_abdomen: 0.0011 - val_wingL: 9.9685e-04 - val_wingR: 9.9268e-04 - val_forelegL4: 0.0015 - val_forelegR4: 0.0014 - val_midlegL4: 0.0013 - val_midlegR4: 0.0013 - val_hindlegL4: 0.0017 - val_hindlegR4: 0.0017 - val_eyeL: 4.6401e-04 - val_eyeR: 4.8465e-04 - lr: 1.0000e-04 - 29s/epoch - 80ms/step\n",
            "Epoch 10/10\n"
          ]
        },
        {
          "name": "stderr",
          "output_type": "stream",
          "text": [
            "2023-08-31 12:19:51.650968: W tensorflow/core/grappler/costs/op_level_cost_estimator.cc:690] Error in PredictCost() for the op: op: \"CropAndResize\" attr { key: \"T\" value { type: DT_FLOAT } } attr { key: \"extrapolation_value\" value { f: 0 } } attr { key: \"method\" value { s: \"bilinear\" } } inputs { dtype: DT_FLOAT shape { dim { size: 1 } dim { size: 1024 } dim { size: 1024 } dim { size: 1 } } } inputs { dtype: DT_FLOAT shape { dim { size: -2 } dim { size: 4 } } } inputs { dtype: DT_INT32 shape { dim { size: -2 } } } inputs { dtype: DT_INT32 shape { dim { size: 2 } } } device { type: \"CPU\" vendor: \"GenuineIntel\" model: \"103\" frequency: 3600 num_cores: 16 environment { key: \"cpu_instruction_set\" value: \"AVX SSE, SSE2, SSE3, SSSE3, SSE4.1, SSE4.2\" } environment { key: \"eigen\" value: \"3.4.90\" } l1_cache_size: 49152 l2_cache_size: 524288 l3_cache_size: 16777216 memory_size: 268435456 } outputs { dtype: DT_FLOAT shape { dim { size: -2 } dim { size: 160 } dim { size: 160 } dim { size: 1 } } }\n"
          ]
        },
        {
          "name": "stdout",
          "output_type": "stream",
          "text": [
            "360/360 - 29s - loss: 0.0010 - head: 3.9684e-04 - thorax: 2.0403e-04 - abdomen: 0.0011 - wingL: 9.6304e-04 - wingR: 9.5580e-04 - forelegL4: 0.0014 - forelegR4: 0.0014 - midlegL4: 0.0012 - midlegR4: 0.0013 - hindlegL4: 0.0016 - hindlegR4: 0.0016 - eyeL: 4.6837e-04 - eyeR: 4.5866e-04 - val_loss: 9.8112e-04 - val_head: 4.0969e-04 - val_thorax: 1.7037e-04 - val_abdomen: 0.0011 - val_wingL: 9.0576e-04 - val_wingR: 9.1009e-04 - val_forelegL4: 0.0014 - val_forelegR4: 0.0014 - val_midlegL4: 0.0012 - val_midlegR4: 0.0012 - val_hindlegL4: 0.0016 - val_hindlegR4: 0.0016 - val_eyeL: 4.2912e-04 - val_eyeR: 4.2165e-04 - lr: 1.0000e-04 - 29s/epoch - 81ms/step\n",
            "INFO:sleap.nn.training:Finished training loop. [4.9 min]\n",
            "INFO:sleap.nn.training:Deleting visualization directory: models/baseline_model.topdown/viz\n",
            "INFO:sleap.nn.training:Saving evaluation metrics to model folder...\n"
          ]
        },
        {
          "data": {
            "application/vnd.jupyter.widget-view+json": {
              "model_id": "282d40268a294c48a4b11004414a1b19",
              "version_major": 2,
              "version_minor": 0
            },
            "text/plain": [
              "Output()"
            ]
          },
          "metadata": {},
          "output_type": "display_data"
        },
        {
          "name": "stderr",
          "output_type": "stream",
          "text": [
            "2023-08-31 12:19:54.971852: W tensorflow/core/grappler/costs/op_level_cost_estimator.cc:690] Error in PredictCost() for the op: op: \"CropAndResize\" attr { key: \"T\" value { type: DT_UINT8 } } attr { key: \"extrapolation_value\" value { f: 0 } } attr { key: \"method\" value { s: \"bilinear\" } } inputs { dtype: DT_UINT8 shape { dim { size: 4 } dim { size: 1024 } dim { size: 1024 } dim { size: 1 } } } inputs { dtype: DT_FLOAT shape { dim { size: -2 } dim { size: 4 } } } inputs { dtype: DT_INT32 shape { dim { size: -2 } } } inputs { dtype: DT_INT32 shape { dim { size: 2 } } } device { type: \"CPU\" vendor: \"GenuineIntel\" model: \"103\" frequency: 3600 num_cores: 16 environment { key: \"cpu_instruction_set\" value: \"AVX SSE, SSE2, SSE3, SSSE3, SSE4.1, SSE4.2\" } environment { key: \"eigen\" value: \"3.4.90\" } l1_cache_size: 49152 l2_cache_size: 524288 l3_cache_size: 16777216 memory_size: 268435456 } outputs { dtype: DT_FLOAT shape { dim { size: -2 } dim { size: -29 } dim { size: -30 } dim { size: 1 } } }\n",
            "2023-08-31 12:19:54.975090: W tensorflow/core/grappler/costs/op_level_cost_estimator.cc:690] Error in PredictCost() for the op: op: \"CropAndResize\" attr { key: \"T\" value { type: DT_FLOAT } } attr { key: \"extrapolation_value\" value { f: 0 } } attr { key: \"method\" value { s: \"bilinear\" } } inputs { dtype: DT_FLOAT shape { dim { size: -44 } dim { size: -45 } dim { size: -46 } dim { size: 1 } } } inputs { dtype: DT_FLOAT shape { dim { size: -12 } dim { size: 4 } } } inputs { dtype: DT_INT32 shape { dim { size: -12 } } } inputs { dtype: DT_INT32 shape { dim { size: 2 } } } device { type: \"CPU\" vendor: \"GenuineIntel\" model: \"103\" frequency: 3600 num_cores: 16 environment { key: \"cpu_instruction_set\" value: \"AVX SSE, SSE2, SSE3, SSSE3, SSE4.1, SSE4.2\" } environment { key: \"eigen\" value: \"3.4.90\" } l1_cache_size: 49152 l2_cache_size: 524288 l3_cache_size: 16777216 memory_size: 268435456 } outputs { dtype: DT_FLOAT shape { dim { size: -12 } dim { size: -50 } dim { size: -51 } dim { size: 1 } } }\n"
          ]
        },
        {
          "data": {
            "text/html": [
              "<pre style=\"white-space:pre;overflow-x:auto;line-height:normal;font-family:Menlo,'DejaVu Sans Mono',consolas,'Courier New',monospace\"></pre>\n"
            ],
            "text/plain": []
          },
          "metadata": {},
          "output_type": "display_data"
        },
        {
          "data": {
            "text/html": [
              "<pre style=\"white-space:pre;overflow-x:auto;line-height:normal;font-family:Menlo,'DejaVu Sans Mono',consolas,'Courier New',monospace\">\n",
              "</pre>\n"
            ],
            "text/plain": [
              "\n"
            ]
          },
          "metadata": {},
          "output_type": "display_data"
        },
        {
          "name": "stdout",
          "output_type": "stream",
          "text": [
            "INFO:sleap.nn.evals:Saved predictions: models/baseline_model.topdown/labels_pr.train.slp\n",
            "INFO:sleap.nn.evals:Saved metrics: models/baseline_model.topdown/metrics.train.npz\n",
            "INFO:sleap.nn.evals:OKS mAP: 0.511409\n"
          ]
        },
        {
          "data": {
            "application/vnd.jupyter.widget-view+json": {
              "model_id": "74b0cae3d4074a40a8abe78de822ca2c",
              "version_major": 2,
              "version_minor": 0
            },
            "text/plain": [
              "Output()"
            ]
          },
          "metadata": {},
          "output_type": "display_data"
        },
        {
          "name": "stderr",
          "output_type": "stream",
          "text": [
            "2023-08-31 12:20:11.992794: W tensorflow/core/grappler/costs/op_level_cost_estimator.cc:690] Error in PredictCost() for the op: op: \"CropAndResize\" attr { key: \"T\" value { type: DT_UINT8 } } attr { key: \"extrapolation_value\" value { f: 0 } } attr { key: \"method\" value { s: \"bilinear\" } } inputs { dtype: DT_UINT8 shape { dim { size: 4 } dim { size: 1024 } dim { size: 1024 } dim { size: 1 } } } inputs { dtype: DT_FLOAT shape { dim { size: -2 } dim { size: 4 } } } inputs { dtype: DT_INT32 shape { dim { size: -2 } } } inputs { dtype: DT_INT32 shape { dim { size: 2 } } } device { type: \"CPU\" vendor: \"GenuineIntel\" model: \"103\" frequency: 3600 num_cores: 16 environment { key: \"cpu_instruction_set\" value: \"AVX SSE, SSE2, SSE3, SSSE3, SSE4.1, SSE4.2\" } environment { key: \"eigen\" value: \"3.4.90\" } l1_cache_size: 49152 l2_cache_size: 524288 l3_cache_size: 16777216 memory_size: 268435456 } outputs { dtype: DT_FLOAT shape { dim { size: -2 } dim { size: -29 } dim { size: -30 } dim { size: 1 } } }\n",
            "2023-08-31 12:20:11.996530: W tensorflow/core/grappler/costs/op_level_cost_estimator.cc:690] Error in PredictCost() for the op: op: \"CropAndResize\" attr { key: \"T\" value { type: DT_FLOAT } } attr { key: \"extrapolation_value\" value { f: 0 } } attr { key: \"method\" value { s: \"bilinear\" } } inputs { dtype: DT_FLOAT shape { dim { size: -44 } dim { size: -45 } dim { size: -46 } dim { size: 1 } } } inputs { dtype: DT_FLOAT shape { dim { size: -12 } dim { size: 4 } } } inputs { dtype: DT_INT32 shape { dim { size: -12 } } } inputs { dtype: DT_INT32 shape { dim { size: 2 } } } device { type: \"CPU\" vendor: \"GenuineIntel\" model: \"103\" frequency: 3600 num_cores: 16 environment { key: \"cpu_instruction_set\" value: \"AVX SSE, SSE2, SSE3, SSSE3, SSE4.1, SSE4.2\" } environment { key: \"eigen\" value: \"3.4.90\" } l1_cache_size: 49152 l2_cache_size: 524288 l3_cache_size: 16777216 memory_size: 268435456 } outputs { dtype: DT_FLOAT shape { dim { size: -12 } dim { size: -50 } dim { size: -51 } dim { size: 1 } } }\n"
          ]
        },
        {
          "data": {
            "text/html": [
              "<pre style=\"white-space:pre;overflow-x:auto;line-height:normal;font-family:Menlo,'DejaVu Sans Mono',consolas,'Courier New',monospace\"></pre>\n"
            ],
            "text/plain": []
          },
          "metadata": {},
          "output_type": "display_data"
        },
        {
          "data": {
            "text/html": [
              "<pre style=\"white-space:pre;overflow-x:auto;line-height:normal;font-family:Menlo,'DejaVu Sans Mono',consolas,'Courier New',monospace\">\n",
              "</pre>\n"
            ],
            "text/plain": [
              "\n"
            ]
          },
          "metadata": {},
          "output_type": "display_data"
        },
        {
          "name": "stdout",
          "output_type": "stream",
          "text": [
            "INFO:sleap.nn.evals:Saved predictions: models/baseline_model.topdown/labels_pr.val.slp\n",
            "INFO:sleap.nn.evals:Saved metrics: models/baseline_model.topdown/metrics.val.npz\n",
            "INFO:sleap.nn.evals:OKS mAP: 0.509519\n"
          ]
        }
      ],
      "source": [
        "trainer.train()"
      ]
    },
    {
      "cell_type": "markdown",
      "metadata": {
        "id": "0RHAJkqowaF5"
      },
      "source": [
        "## 5. Continuing training\n",
        "\n",
        "If we still have the trainer in memory, we can continue training by simply calling `trainer.train()` again with a potentially different number of epochs:"
      ]
    },
    {
      "cell_type": "code",
      "execution_count": 8,
      "metadata": {
        "colab": {
          "base_uri": "https://localhost:8080/",
          "height": 381,
          "referenced_widgets": [
            "d49529f91f6d4090a7820b081094823d",
            "f5a6112df0964befa6704030d2995ecd",
            "8291326df0b9435b8ba2298c8977778b",
            "3e68443331b44baa9cb8f8e077e2075b"
          ]
        },
        "id": "ENOiptvQwrtI",
        "outputId": "ccdec444-17ae-4040-9aa3-509086e3dc37"
      },
      "outputs": [
        {
          "name": "stdout",
          "output_type": "stream",
          "text": [
            "INFO:sleap.nn.training:Creating tf.data.Datasets for training data generation...\n"
          ]
        },
        {
          "name": "stderr",
          "output_type": "stream",
          "text": [
            "2023-08-31 12:20:25.509780: W tensorflow/core/grappler/costs/op_level_cost_estimator.cc:690] Error in PredictCost() for the op: op: \"CropAndResize\" attr { key: \"T\" value { type: DT_FLOAT } } attr { key: \"extrapolation_value\" value { f: 0 } } attr { key: \"method\" value { s: \"bilinear\" } } inputs { dtype: DT_FLOAT shape { dim { size: 1 } dim { size: 1024 } dim { size: 1024 } dim { size: 1 } } } inputs { dtype: DT_FLOAT shape { dim { size: -2 } dim { size: 4 } } } inputs { dtype: DT_INT32 shape { dim { size: -2 } } } inputs { dtype: DT_INT32 shape { dim { size: 2 } } } device { type: \"CPU\" vendor: \"GenuineIntel\" model: \"103\" frequency: 3600 num_cores: 16 environment { key: \"cpu_instruction_set\" value: \"AVX SSE, SSE2, SSE3, SSSE3, SSE4.1, SSE4.2\" } environment { key: \"eigen\" value: \"3.4.90\" } l1_cache_size: 49152 l2_cache_size: 524288 l3_cache_size: 16777216 memory_size: 268435456 } outputs { dtype: DT_FLOAT shape { dim { size: -2 } dim { size: 160 } dim { size: 160 } dim { size: 1 } } }\n",
            "2023-08-31 12:20:27.660886: W tensorflow/core/grappler/costs/op_level_cost_estimator.cc:690] Error in PredictCost() for the op: op: \"CropAndResize\" attr { key: \"T\" value { type: DT_FLOAT } } attr { key: \"extrapolation_value\" value { f: 0 } } attr { key: \"method\" value { s: \"bilinear\" } } inputs { dtype: DT_FLOAT shape { dim { size: 1 } dim { size: 1024 } dim { size: 1024 } dim { size: 1 } } } inputs { dtype: DT_FLOAT shape { dim { size: -2 } dim { size: 4 } } } inputs { dtype: DT_INT32 shape { dim { size: -2 } } } inputs { dtype: DT_INT32 shape { dim { size: 2 } } } device { type: \"CPU\" vendor: \"GenuineIntel\" model: \"103\" frequency: 3600 num_cores: 16 environment { key: \"cpu_instruction_set\" value: \"AVX SSE, SSE2, SSE3, SSSE3, SSE4.1, SSE4.2\" } environment { key: \"eigen\" value: \"3.4.90\" } l1_cache_size: 49152 l2_cache_size: 524288 l3_cache_size: 16777216 memory_size: 268435456 } outputs { dtype: DT_FLOAT shape { dim { size: -2 } dim { size: 160 } dim { size: 160 } dim { size: 1 } } }\n"
          ]
        },
        {
          "name": "stdout",
          "output_type": "stream",
          "text": [
            "INFO:sleap.nn.training:Finished creating training datasets. [14.0s]\n",
            "INFO:sleap.nn.training:Starting training loop...\n",
            "Epoch 1/3\n"
          ]
        },
        {
          "name": "stderr",
          "output_type": "stream",
          "text": [
            "2023-08-31 12:20:28.074333: W tensorflow/core/grappler/costs/op_level_cost_estimator.cc:690] Error in PredictCost() for the op: op: \"CropAndResize\" attr { key: \"T\" value { type: DT_FLOAT } } attr { key: \"extrapolation_value\" value { f: 0 } } attr { key: \"method\" value { s: \"bilinear\" } } inputs { dtype: DT_FLOAT shape { dim { size: 1 } dim { size: 1024 } dim { size: 1024 } dim { size: 1 } } } inputs { dtype: DT_FLOAT shape { dim { size: -2 } dim { size: 4 } } } inputs { dtype: DT_INT32 shape { dim { size: -2 } } } inputs { dtype: DT_INT32 shape { dim { size: 2 } } } device { type: \"CPU\" vendor: \"GenuineIntel\" model: \"103\" frequency: 3600 num_cores: 16 environment { key: \"cpu_instruction_set\" value: \"AVX SSE, SSE2, SSE3, SSSE3, SSE4.1, SSE4.2\" } environment { key: \"eigen\" value: \"3.4.90\" } l1_cache_size: 49152 l2_cache_size: 524288 l3_cache_size: 16777216 memory_size: 268435456 } outputs { dtype: DT_FLOAT shape { dim { size: -2 } dim { size: 160 } dim { size: 160 } dim { size: 1 } } }\n",
            "2023-08-31 12:20:54.918339: W tensorflow/core/grappler/costs/op_level_cost_estimator.cc:690] Error in PredictCost() for the op: op: \"CropAndResize\" attr { key: \"T\" value { type: DT_FLOAT } } attr { key: \"extrapolation_value\" value { f: 0 } } attr { key: \"method\" value { s: \"bilinear\" } } inputs { dtype: DT_FLOAT shape { dim { size: 1 } dim { size: 1024 } dim { size: 1024 } dim { size: 1 } } } inputs { dtype: DT_FLOAT shape { dim { size: -2 } dim { size: 4 } } } inputs { dtype: DT_INT32 shape { dim { size: -2 } } } inputs { dtype: DT_INT32 shape { dim { size: 2 } } } device { type: \"CPU\" vendor: \"GenuineIntel\" model: \"103\" frequency: 3600 num_cores: 16 environment { key: \"cpu_instruction_set\" value: \"AVX SSE, SSE2, SSE3, SSSE3, SSE4.1, SSE4.2\" } environment { key: \"eigen\" value: \"3.4.90\" } l1_cache_size: 49152 l2_cache_size: 524288 l3_cache_size: 16777216 memory_size: 268435456 } outputs { dtype: DT_FLOAT shape { dim { size: -2 } dim { size: 160 } dim { size: 160 } dim { size: 1 } } }\n"
          ]
        },
        {
          "name": "stdout",
          "output_type": "stream",
          "text": [
            "360/360 - 29s - loss: 9.5565e-04 - head: 3.6899e-04 - thorax: 1.8458e-04 - abdomen: 0.0010 - wingL: 8.9453e-04 - wingR: 8.8215e-04 - forelegL4: 0.0014 - forelegR4: 0.0014 - midlegL4: 0.0012 - midlegR4: 0.0012 - hindlegL4: 0.0015 - hindlegR4: 0.0016 - eyeL: 4.4440e-04 - eyeR: 4.2930e-04 - val_loss: 9.6708e-04 - val_head: 4.2331e-04 - val_thorax: 2.4029e-04 - val_abdomen: 0.0010 - val_wingL: 8.9596e-04 - val_wingR: 9.0811e-04 - val_forelegL4: 0.0014 - val_forelegR4: 0.0013 - val_midlegL4: 0.0011 - val_midlegR4: 0.0012 - val_hindlegL4: 0.0016 - val_hindlegR4: 0.0016 - val_eyeL: 5.0103e-04 - val_eyeR: 4.4195e-04 - lr: 1.0000e-04 - 29s/epoch - 79ms/step\n",
            "Epoch 2/3\n"
          ]
        },
        {
          "name": "stderr",
          "output_type": "stream",
          "text": [
            "2023-08-31 12:21:24.436151: W tensorflow/core/grappler/costs/op_level_cost_estimator.cc:690] Error in PredictCost() for the op: op: \"CropAndResize\" attr { key: \"T\" value { type: DT_FLOAT } } attr { key: \"extrapolation_value\" value { f: 0 } } attr { key: \"method\" value { s: \"bilinear\" } } inputs { dtype: DT_FLOAT shape { dim { size: 1 } dim { size: 1024 } dim { size: 1024 } dim { size: 1 } } } inputs { dtype: DT_FLOAT shape { dim { size: -2 } dim { size: 4 } } } inputs { dtype: DT_INT32 shape { dim { size: -2 } } } inputs { dtype: DT_INT32 shape { dim { size: 2 } } } device { type: \"CPU\" vendor: \"GenuineIntel\" model: \"103\" frequency: 3600 num_cores: 16 environment { key: \"cpu_instruction_set\" value: \"AVX SSE, SSE2, SSE3, SSSE3, SSE4.1, SSE4.2\" } environment { key: \"eigen\" value: \"3.4.90\" } l1_cache_size: 49152 l2_cache_size: 524288 l3_cache_size: 16777216 memory_size: 268435456 } outputs { dtype: DT_FLOAT shape { dim { size: -2 } dim { size: 160 } dim { size: 160 } dim { size: 1 } } }\n"
          ]
        },
        {
          "name": "stdout",
          "output_type": "stream",
          "text": [
            "360/360 - 31s - loss: 9.1491e-04 - head: 3.5620e-04 - thorax: 1.6408e-04 - abdomen: 0.0010 - wingL: 8.5280e-04 - wingR: 8.3420e-04 - forelegL4: 0.0013 - forelegR4: 0.0013 - midlegL4: 0.0011 - midlegR4: 0.0011 - hindlegL4: 0.0015 - hindlegR4: 0.0015 - eyeL: 4.2744e-04 - eyeR: 4.1630e-04 - val_loss: 9.0186e-04 - val_head: 3.5358e-04 - val_thorax: 1.6415e-04 - val_abdomen: 9.6204e-04 - val_wingL: 7.9800e-04 - val_wingR: 8.5953e-04 - val_forelegL4: 0.0013 - val_forelegR4: 0.0013 - val_midlegL4: 0.0010 - val_midlegR4: 0.0012 - val_hindlegL4: 0.0015 - val_hindlegR4: 0.0016 - val_eyeL: 3.9051e-04 - val_eyeR: 4.1612e-04 - lr: 1.0000e-04 - 31s/epoch - 85ms/step\n",
            "Epoch 3/3\n"
          ]
        },
        {
          "name": "stderr",
          "output_type": "stream",
          "text": [
            "2023-08-31 12:21:56.130066: W tensorflow/core/grappler/costs/op_level_cost_estimator.cc:690] Error in PredictCost() for the op: op: \"CropAndResize\" attr { key: \"T\" value { type: DT_FLOAT } } attr { key: \"extrapolation_value\" value { f: 0 } } attr { key: \"method\" value { s: \"bilinear\" } } inputs { dtype: DT_FLOAT shape { dim { size: 1 } dim { size: 1024 } dim { size: 1024 } dim { size: 1 } } } inputs { dtype: DT_FLOAT shape { dim { size: -2 } dim { size: 4 } } } inputs { dtype: DT_INT32 shape { dim { size: -2 } } } inputs { dtype: DT_INT32 shape { dim { size: 2 } } } device { type: \"CPU\" vendor: \"GenuineIntel\" model: \"103\" frequency: 3600 num_cores: 16 environment { key: \"cpu_instruction_set\" value: \"AVX SSE, SSE2, SSE3, SSSE3, SSE4.1, SSE4.2\" } environment { key: \"eigen\" value: \"3.4.90\" } l1_cache_size: 49152 l2_cache_size: 524288 l3_cache_size: 16777216 memory_size: 268435456 } outputs { dtype: DT_FLOAT shape { dim { size: -2 } dim { size: 160 } dim { size: 160 } dim { size: 1 } } }\n"
          ]
        },
        {
          "name": "stdout",
          "output_type": "stream",
          "text": [
            "360/360 - 31s - loss: 8.7575e-04 - head: 3.3607e-04 - thorax: 1.5766e-04 - abdomen: 9.7867e-04 - wingL: 8.2189e-04 - wingR: 7.9939e-04 - forelegL4: 0.0013 - forelegR4: 0.0013 - midlegL4: 0.0010 - midlegR4: 0.0011 - hindlegL4: 0.0014 - hindlegR4: 0.0014 - eyeL: 4.0498e-04 - eyeR: 3.9365e-04 - val_loss: 8.6277e-04 - val_head: 3.3302e-04 - val_thorax: 1.6257e-04 - val_abdomen: 9.8688e-04 - val_wingL: 8.9042e-04 - val_wingR: 8.0936e-04 - val_forelegL4: 0.0012 - val_forelegR4: 0.0012 - val_midlegL4: 9.6707e-04 - val_midlegR4: 0.0011 - val_hindlegL4: 0.0014 - val_hindlegR4: 0.0014 - val_eyeL: 3.8715e-04 - val_eyeR: 3.7773e-04 - lr: 1.0000e-04 - 31s/epoch - 85ms/step\n",
            "INFO:sleap.nn.training:Finished training loop. [1.5 min]\n",
            "INFO:sleap.nn.training:Deleting visualization directory: models/baseline_model.topdown/viz\n",
            "INFO:sleap.nn.training:Saving evaluation metrics to model folder...\n"
          ]
        },
        {
          "data": {
            "application/vnd.jupyter.widget-view+json": {
              "model_id": "6981be75a8b54b60a2cdf06fa5ff5ebb",
              "version_major": 2,
              "version_minor": 0
            },
            "text/plain": [
              "Output()"
            ]
          },
          "metadata": {},
          "output_type": "display_data"
        },
        {
          "name": "stderr",
          "output_type": "stream",
          "text": [
            "2023-08-31 12:21:58.961188: W tensorflow/core/grappler/costs/op_level_cost_estimator.cc:690] Error in PredictCost() for the op: op: \"CropAndResize\" attr { key: \"T\" value { type: DT_UINT8 } } attr { key: \"extrapolation_value\" value { f: 0 } } attr { key: \"method\" value { s: \"bilinear\" } } inputs { dtype: DT_UINT8 shape { dim { size: 4 } dim { size: 1024 } dim { size: 1024 } dim { size: 1 } } } inputs { dtype: DT_FLOAT shape { dim { size: -2 } dim { size: 4 } } } inputs { dtype: DT_INT32 shape { dim { size: -2 } } } inputs { dtype: DT_INT32 shape { dim { size: 2 } } } device { type: \"CPU\" vendor: \"GenuineIntel\" model: \"103\" frequency: 3600 num_cores: 16 environment { key: \"cpu_instruction_set\" value: \"AVX SSE, SSE2, SSE3, SSSE3, SSE4.1, SSE4.2\" } environment { key: \"eigen\" value: \"3.4.90\" } l1_cache_size: 49152 l2_cache_size: 524288 l3_cache_size: 16777216 memory_size: 268435456 } outputs { dtype: DT_FLOAT shape { dim { size: -2 } dim { size: -29 } dim { size: -30 } dim { size: 1 } } }\n",
            "2023-08-31 12:21:58.964327: W tensorflow/core/grappler/costs/op_level_cost_estimator.cc:690] Error in PredictCost() for the op: op: \"CropAndResize\" attr { key: \"T\" value { type: DT_FLOAT } } attr { key: \"extrapolation_value\" value { f: 0 } } attr { key: \"method\" value { s: \"bilinear\" } } inputs { dtype: DT_FLOAT shape { dim { size: -44 } dim { size: -45 } dim { size: -46 } dim { size: 1 } } } inputs { dtype: DT_FLOAT shape { dim { size: -12 } dim { size: 4 } } } inputs { dtype: DT_INT32 shape { dim { size: -12 } } } inputs { dtype: DT_INT32 shape { dim { size: 2 } } } device { type: \"CPU\" vendor: \"GenuineIntel\" model: \"103\" frequency: 3600 num_cores: 16 environment { key: \"cpu_instruction_set\" value: \"AVX SSE, SSE2, SSE3, SSSE3, SSE4.1, SSE4.2\" } environment { key: \"eigen\" value: \"3.4.90\" } l1_cache_size: 49152 l2_cache_size: 524288 l3_cache_size: 16777216 memory_size: 268435456 } outputs { dtype: DT_FLOAT shape { dim { size: -12 } dim { size: -50 } dim { size: -51 } dim { size: 1 } } }\n"
          ]
        },
        {
          "data": {
            "text/html": [
              "<pre style=\"white-space:pre;overflow-x:auto;line-height:normal;font-family:Menlo,'DejaVu Sans Mono',consolas,'Courier New',monospace\"></pre>\n"
            ],
            "text/plain": []
          },
          "metadata": {},
          "output_type": "display_data"
        },
        {
          "data": {
            "text/html": [
              "<pre style=\"white-space:pre;overflow-x:auto;line-height:normal;font-family:Menlo,'DejaVu Sans Mono',consolas,'Courier New',monospace\">\n",
              "</pre>\n"
            ],
            "text/plain": [
              "\n"
            ]
          },
          "metadata": {},
          "output_type": "display_data"
        },
        {
          "name": "stdout",
          "output_type": "stream",
          "text": [
            "INFO:sleap.nn.evals:Saved predictions: models/baseline_model.topdown/labels_pr.train.slp\n",
            "INFO:sleap.nn.evals:Saved metrics: models/baseline_model.topdown/metrics.train.npz\n",
            "INFO:sleap.nn.evals:OKS mAP: 0.559398\n"
          ]
        },
        {
          "data": {
            "application/vnd.jupyter.widget-view+json": {
              "model_id": "cdd802026f7440f39999c250b56d0a9b",
              "version_major": 2,
              "version_minor": 0
            },
            "text/plain": [
              "Output()"
            ]
          },
          "metadata": {},
          "output_type": "display_data"
        },
        {
          "name": "stderr",
          "output_type": "stream",
          "text": [
            "2023-08-31 12:22:16.271571: W tensorflow/core/grappler/costs/op_level_cost_estimator.cc:690] Error in PredictCost() for the op: op: \"CropAndResize\" attr { key: \"T\" value { type: DT_UINT8 } } attr { key: \"extrapolation_value\" value { f: 0 } } attr { key: \"method\" value { s: \"bilinear\" } } inputs { dtype: DT_UINT8 shape { dim { size: 4 } dim { size: 1024 } dim { size: 1024 } dim { size: 1 } } } inputs { dtype: DT_FLOAT shape { dim { size: -2 } dim { size: 4 } } } inputs { dtype: DT_INT32 shape { dim { size: -2 } } } inputs { dtype: DT_INT32 shape { dim { size: 2 } } } device { type: \"CPU\" vendor: \"GenuineIntel\" model: \"103\" frequency: 3600 num_cores: 16 environment { key: \"cpu_instruction_set\" value: \"AVX SSE, SSE2, SSE3, SSSE3, SSE4.1, SSE4.2\" } environment { key: \"eigen\" value: \"3.4.90\" } l1_cache_size: 49152 l2_cache_size: 524288 l3_cache_size: 16777216 memory_size: 268435456 } outputs { dtype: DT_FLOAT shape { dim { size: -2 } dim { size: -29 } dim { size: -30 } dim { size: 1 } } }\n",
            "2023-08-31 12:22:16.274713: W tensorflow/core/grappler/costs/op_level_cost_estimator.cc:690] Error in PredictCost() for the op: op: \"CropAndResize\" attr { key: \"T\" value { type: DT_FLOAT } } attr { key: \"extrapolation_value\" value { f: 0 } } attr { key: \"method\" value { s: \"bilinear\" } } inputs { dtype: DT_FLOAT shape { dim { size: -44 } dim { size: -45 } dim { size: -46 } dim { size: 1 } } } inputs { dtype: DT_FLOAT shape { dim { size: -12 } dim { size: 4 } } } inputs { dtype: DT_INT32 shape { dim { size: -12 } } } inputs { dtype: DT_INT32 shape { dim { size: 2 } } } device { type: \"CPU\" vendor: \"GenuineIntel\" model: \"103\" frequency: 3600 num_cores: 16 environment { key: \"cpu_instruction_set\" value: \"AVX SSE, SSE2, SSE3, SSSE3, SSE4.1, SSE4.2\" } environment { key: \"eigen\" value: \"3.4.90\" } l1_cache_size: 49152 l2_cache_size: 524288 l3_cache_size: 16777216 memory_size: 268435456 } outputs { dtype: DT_FLOAT shape { dim { size: -12 } dim { size: -50 } dim { size: -51 } dim { size: 1 } } }\n"
          ]
        },
        {
          "data": {
            "text/html": [
              "<pre style=\"white-space:pre;overflow-x:auto;line-height:normal;font-family:Menlo,'DejaVu Sans Mono',consolas,'Courier New',monospace\"></pre>\n"
            ],
            "text/plain": []
          },
          "metadata": {},
          "output_type": "display_data"
        },
        {
          "data": {
            "text/html": [
              "<pre style=\"white-space:pre;overflow-x:auto;line-height:normal;font-family:Menlo,'DejaVu Sans Mono',consolas,'Courier New',monospace\">\n",
              "</pre>\n"
            ],
            "text/plain": [
              "\n"
            ]
          },
          "metadata": {},
          "output_type": "display_data"
        },
        {
          "name": "stdout",
          "output_type": "stream",
          "text": [
            "INFO:sleap.nn.evals:Saved predictions: models/baseline_model.topdown/labels_pr.val.slp\n",
            "INFO:sleap.nn.evals:Saved metrics: models/baseline_model.topdown/metrics.val.npz\n",
            "INFO:sleap.nn.evals:OKS mAP: 0.559997\n"
          ]
        }
      ],
      "source": [
        "trainer.config.optimization.epochs = 3\n",
        "trainer.train()"
      ]
    },
    {
      "cell_type": "markdown",
      "metadata": {
        "id": "bUjjGVWGyYZu"
      },
      "source": [
        "As you can see, the loss and accuracy pick up from where it left off in the previous training.\n"
      ]
    },
    {
      "cell_type": "markdown",
      "metadata": {
        "id": "GSGW14-Px09E"
      },
      "source": [
        "Usually, however, if you're continuing training it's likely because you're starting off from an already trained model.\n",
        "\n",
        "In this case, all you need to do to continue training is to create a new `Trainer` from the existing model configuration and load up the weights before continuing training:"
      ]
    },
    {
      "cell_type": "code",
      "execution_count": 9,
      "metadata": {
        "colab": {
          "base_uri": "https://localhost:8080/"
        },
        "id": "NDL6ScTDxrso",
        "outputId": "f63c3ef8-97d0-4484-e951-b120dcbbffac"
      },
      "outputs": [
        {
          "name": "stdout",
          "output_type": "stream",
          "text": [
            "INFO:sleap.nn.training:Loading training labels from: labels.pkg.slp\n"
          ]
        },
        {
          "name": "stdout",
          "output_type": "stream",
          "text": [
            "INFO:sleap.nn.training:Creating training and validation splits from validation fraction: 0.1\n",
            "INFO:sleap.nn.training:  Splits: Training = 1440 / Validation = 160.\n",
            "INFO:sleap.nn.training:Setting up for training...\n",
            "INFO:sleap.nn.training:Setting up pipeline builders...\n",
            "INFO:sleap.nn.training:Setting up model...\n",
            "INFO:sleap.nn.training:Building test pipeline...\n",
            "INFO:sleap.nn.training:Loaded test example. [0.807s]\n",
            "INFO:sleap.nn.training:  Input shape: (160, 160, 1)\n",
            "INFO:sleap.nn.training:Created Keras model.\n",
            "INFO:sleap.nn.training:  Backbone: UNet(stacks=1, filters=16, filters_rate=2.0, kernel_size=3, stem_kernel_size=7, convs_per_block=2, stem_blocks=0, down_blocks=4, middle_block=True, up_blocks=2, up_interpolate=False, block_contraction=False)\n",
            "INFO:sleap.nn.training:  Max stride: 16\n",
            "INFO:sleap.nn.training:  Parameters: 2,101,501\n",
            "INFO:sleap.nn.training:  Heads: \n",
            "INFO:sleap.nn.training:    [0] = CenteredInstanceConfmapsHead(part_names=['head', 'thorax', 'abdomen', 'wingL', 'wingR', 'forelegL4', 'forelegR4', 'midlegL4', 'midlegR4', 'hindlegL4', 'hindlegR4', 'eyeL', 'eyeR'], anchor_part='thorax', sigma=1.5, output_stride=4, loss_weight=1.0)\n",
            "INFO:sleap.nn.training:  Outputs: \n",
            "INFO:sleap.nn.training:    [0] = KerasTensor(type_spec=TensorSpec(shape=(None, 40, 40, 13), dtype=tf.float32, name=None), name='CenteredInstanceConfmapsHead/BiasAdd:0', description=\"created by layer 'CenteredInstanceConfmapsHead'\")\n",
            "INFO:sleap.nn.training:Training from scratch\n",
            "INFO:sleap.nn.training:Setting up data pipelines...\n",
            "INFO:sleap.nn.training:Training set: n = 1440\n",
            "INFO:sleap.nn.training:Validation set: n = 160\n",
            "INFO:sleap.nn.training:Setting up optimization...\n",
            "INFO:sleap.nn.training:  Learning rate schedule: LearningRateScheduleConfig(reduce_on_plateau=True, reduction_factor=0.5, plateau_min_delta=1e-06, plateau_patience=5, plateau_cooldown=3, min_learning_rate=1e-08)\n",
            "INFO:sleap.nn.training:  Early stopping: EarlyStoppingConfig(stop_training_on_plateau=True, plateau_min_delta=1e-06, plateau_patience=10)\n",
            "INFO:sleap.nn.training:Setting up outputs...\n",
            "INFO:sleap.nn.training:Created run path: models/baseline_model.topdown\n"
          ]
        },
        {
          "name": "stderr",
          "output_type": "stream",
          "text": [
            "2023-08-31 12:22:20.324364: W tensorflow/core/grappler/costs/op_level_cost_estimator.cc:690] Error in PredictCost() for the op: op: \"CropAndResize\" attr { key: \"T\" value { type: DT_FLOAT } } attr { key: \"extrapolation_value\" value { f: 0 } } attr { key: \"method\" value { s: \"bilinear\" } } inputs { dtype: DT_FLOAT shape { dim { size: 1 } dim { size: 1024 } dim { size: 1024 } dim { size: 1 } } } inputs { dtype: DT_FLOAT shape { dim { size: -2 } dim { size: 4 } } } inputs { dtype: DT_INT32 shape { dim { size: -2 } } } inputs { dtype: DT_INT32 shape { dim { size: 2 } } } device { type: \"CPU\" vendor: \"GenuineIntel\" model: \"103\" frequency: 3600 num_cores: 16 environment { key: \"cpu_instruction_set\" value: \"AVX SSE, SSE2, SSE3, SSSE3, SSE4.1, SSE4.2\" } environment { key: \"eigen\" value: \"3.4.90\" } l1_cache_size: 49152 l2_cache_size: 524288 l3_cache_size: 16777216 memory_size: 268435456 } outputs { dtype: DT_FLOAT shape { dim { size: -2 } dim { size: 160 } dim { size: 160 } dim { size: 1 } } }\n"
          ]
        },
        {
          "name": "stdout",
          "output_type": "stream",
          "text": [
            "INFO:sleap.nn.training:Setting up visualization...\n"
          ]
        },
        {
          "name": "stderr",
          "output_type": "stream",
          "text": [
            "2023-08-31 12:22:21.223670: W tensorflow/core/grappler/costs/op_level_cost_estimator.cc:690] Error in PredictCost() for the op: op: \"CropAndResize\" attr { key: \"T\" value { type: DT_FLOAT } } attr { key: \"extrapolation_value\" value { f: 0 } } attr { key: \"method\" value { s: \"bilinear\" } } inputs { dtype: DT_FLOAT shape { dim { size: 1 } dim { size: 1024 } dim { size: 1024 } dim { size: 1 } } } inputs { dtype: DT_FLOAT shape { dim { size: -2 } dim { size: 4 } } } inputs { dtype: DT_INT32 shape { dim { size: -2 } } } inputs { dtype: DT_INT32 shape { dim { size: 2 } } } device { type: \"CPU\" vendor: \"GenuineIntel\" model: \"103\" frequency: 3600 num_cores: 16 environment { key: \"cpu_instruction_set\" value: \"AVX SSE, SSE2, SSE3, SSSE3, SSE4.1, SSE4.2\" } environment { key: \"eigen\" value: \"3.4.90\" } l1_cache_size: 49152 l2_cache_size: 524288 l3_cache_size: 16777216 memory_size: 268435456 } outputs { dtype: DT_FLOAT shape { dim { size: -2 } dim { size: 160 } dim { size: 160 } dim { size: 1 } } }\n"
          ]
        },
        {
          "name": "stdout",
          "output_type": "stream",
          "text": [
            "INFO:sleap.nn.training:Finished trainer set up. [2.4s]\n"
          ]
        },
        {
          "name": "stderr",
          "output_type": "stream",
          "text": [
            "2023-08-31 12:22:21.913322: W tensorflow/core/grappler/costs/op_level_cost_estimator.cc:690] Error in PredictCost() for the op: op: \"CropAndResize\" attr { key: \"T\" value { type: DT_FLOAT } } attr { key: \"extrapolation_value\" value { f: 0 } } attr { key: \"method\" value { s: \"bilinear\" } } inputs { dtype: DT_FLOAT shape { dim { size: 1 } dim { size: 1024 } dim { size: 1024 } dim { size: 1 } } } inputs { dtype: DT_FLOAT shape { dim { size: -2 } dim { size: 4 } } } inputs { dtype: DT_INT32 shape { dim { size: -2 } } } inputs { dtype: DT_INT32 shape { dim { size: 2 } } } device { type: \"CPU\" vendor: \"GenuineIntel\" model: \"103\" frequency: 3600 num_cores: 16 environment { key: \"cpu_instruction_set\" value: \"AVX SSE, SSE2, SSE3, SSSE3, SSE4.1, SSE4.2\" } environment { key: \"eigen\" value: \"3.4.90\" } l1_cache_size: 49152 l2_cache_size: 524288 l3_cache_size: 16777216 memory_size: 268435456 } outputs { dtype: DT_FLOAT shape { dim { size: -2 } dim { size: 160 } dim { size: 160 } dim { size: 1 } } }\n"
          ]
        }
      ],
      "source": [
        "# Load config.\n",
        "cfg = sleap.load_config(\"models/baseline_model.topdown\")\n",
        "# cfg.outputs.run_name = \"new_folder\"  # Set the run_name to a new value if you want the model to be saved to a different folder.\n",
        "\n",
        "# Create and initialize the trainer.\n",
        "trainer = sleap.nn.training.Trainer.from_config(cfg)\n",
        "trainer.setup()\n",
        "\n",
        "# Replace the randomly initialized weights with the saved weights.\n",
        "trainer.keras_model.load_weights(\"models/baseline_model.topdown/best_model.h5\")"
      ]
    },
    {
      "cell_type": "code",
      "execution_count": 10,
      "metadata": {
        "colab": {
          "base_uri": "https://localhost:8080/",
          "height": 381,
          "referenced_widgets": [
            "c74d0a9e497146acaf8da36faf5f496a",
            "7558a9bb888840e19b42a0bf0faac822",
            "bf6a847899a24fcea5f14409a7ee1c33",
            "53b56611dfec45b49e92fa0716fa2f97"
          ]
        },
        "id": "HlGP3dYMy2NG",
        "outputId": "c32a4240-1abd-401b-caab-4d64bec8348d"
      },
      "outputs": [
        {
          "name": "stdout",
          "output_type": "stream",
          "text": [
            "INFO:sleap.nn.training:Creating tf.data.Datasets for training data generation...\n"
          ]
        },
        {
          "name": "stderr",
          "output_type": "stream",
          "text": [
            "2023-08-31 12:22:33.450983: W tensorflow/core/grappler/costs/op_level_cost_estimator.cc:690] Error in PredictCost() for the op: op: \"CropAndResize\" attr { key: \"T\" value { type: DT_FLOAT } } attr { key: \"extrapolation_value\" value { f: 0 } } attr { key: \"method\" value { s: \"bilinear\" } } inputs { dtype: DT_FLOAT shape { dim { size: 1 } dim { size: 1024 } dim { size: 1024 } dim { size: 1 } } } inputs { dtype: DT_FLOAT shape { dim { size: -2 } dim { size: 4 } } } inputs { dtype: DT_INT32 shape { dim { size: -2 } } } inputs { dtype: DT_INT32 shape { dim { size: 2 } } } device { type: \"CPU\" vendor: \"GenuineIntel\" model: \"103\" frequency: 3600 num_cores: 16 environment { key: \"cpu_instruction_set\" value: \"AVX SSE, SSE2, SSE3, SSSE3, SSE4.1, SSE4.2\" } environment { key: \"eigen\" value: \"3.4.90\" } l1_cache_size: 49152 l2_cache_size: 524288 l3_cache_size: 16777216 memory_size: 268435456 } outputs { dtype: DT_FLOAT shape { dim { size: -2 } dim { size: 160 } dim { size: 160 } dim { size: 1 } } }\n",
            "2023-08-31 12:22:35.878526: W tensorflow/core/grappler/costs/op_level_cost_estimator.cc:690] Error in PredictCost() for the op: op: \"CropAndResize\" attr { key: \"T\" value { type: DT_FLOAT } } attr { key: \"extrapolation_value\" value { f: 0 } } attr { key: \"method\" value { s: \"bilinear\" } } inputs { dtype: DT_FLOAT shape { dim { size: 1 } dim { size: 1024 } dim { size: 1024 } dim { size: 1 } } } inputs { dtype: DT_FLOAT shape { dim { size: -2 } dim { size: 4 } } } inputs { dtype: DT_INT32 shape { dim { size: -2 } } } inputs { dtype: DT_INT32 shape { dim { size: 2 } } } device { type: \"CPU\" vendor: \"GenuineIntel\" model: \"103\" frequency: 3600 num_cores: 16 environment { key: \"cpu_instruction_set\" value: \"AVX SSE, SSE2, SSE3, SSSE3, SSE4.1, SSE4.2\" } environment { key: \"eigen\" value: \"3.4.90\" } l1_cache_size: 49152 l2_cache_size: 524288 l3_cache_size: 16777216 memory_size: 268435456 } outputs { dtype: DT_FLOAT shape { dim { size: -2 } dim { size: 160 } dim { size: 160 } dim { size: 1 } } }\n"
          ]
        },
        {
          "name": "stdout",
          "output_type": "stream",
          "text": [
            "INFO:sleap.nn.training:Finished creating training datasets. [14.1s]\n",
            "INFO:sleap.nn.training:Starting training loop...\n",
            "Epoch 1/3\n"
          ]
        },
        {
          "name": "stderr",
          "output_type": "stream",
          "text": [
            "2023-08-31 12:22:36.356954: W tensorflow/core/grappler/costs/op_level_cost_estimator.cc:690] Error in PredictCost() for the op: op: \"CropAndResize\" attr { key: \"T\" value { type: DT_FLOAT } } attr { key: \"extrapolation_value\" value { f: 0 } } attr { key: \"method\" value { s: \"bilinear\" } } inputs { dtype: DT_FLOAT shape { dim { size: 1 } dim { size: 1024 } dim { size: 1024 } dim { size: 1 } } } inputs { dtype: DT_FLOAT shape { dim { size: -2 } dim { size: 4 } } } inputs { dtype: DT_INT32 shape { dim { size: -2 } } } inputs { dtype: DT_INT32 shape { dim { size: 2 } } } device { type: \"CPU\" vendor: \"GenuineIntel\" model: \"103\" frequency: 3600 num_cores: 16 environment { key: \"cpu_instruction_set\" value: \"AVX SSE, SSE2, SSE3, SSSE3, SSE4.1, SSE4.2\" } environment { key: \"eigen\" value: \"3.4.90\" } l1_cache_size: 49152 l2_cache_size: 524288 l3_cache_size: 16777216 memory_size: 268435456 } outputs { dtype: DT_FLOAT shape { dim { size: -2 } dim { size: 160 } dim { size: 160 } dim { size: 1 } } }\n",
            "2023-08-31 12:23:04.981928: W tensorflow/core/grappler/costs/op_level_cost_estimator.cc:690] Error in PredictCost() for the op: op: \"CropAndResize\" attr { key: \"T\" value { type: DT_FLOAT } } attr { key: \"extrapolation_value\" value { f: 0 } } attr { key: \"method\" value { s: \"bilinear\" } } inputs { dtype: DT_FLOAT shape { dim { size: 1 } dim { size: 1024 } dim { size: 1024 } dim { size: 1 } } } inputs { dtype: DT_FLOAT shape { dim { size: -2 } dim { size: 4 } } } inputs { dtype: DT_INT32 shape { dim { size: -2 } } } inputs { dtype: DT_INT32 shape { dim { size: 2 } } } device { type: \"CPU\" vendor: \"GenuineIntel\" model: \"103\" frequency: 3600 num_cores: 16 environment { key: \"cpu_instruction_set\" value: \"AVX SSE, SSE2, SSE3, SSSE3, SSE4.1, SSE4.2\" } environment { key: \"eigen\" value: \"3.4.90\" } l1_cache_size: 49152 l2_cache_size: 524288 l3_cache_size: 16777216 memory_size: 268435456 } outputs { dtype: DT_FLOAT shape { dim { size: -2 } dim { size: 160 } dim { size: 160 } dim { size: 1 } } }\n"
          ]
        },
        {
          "name": "stdout",
          "output_type": "stream",
          "text": [
            "360/360 - 32s - loss: 8.5582e-04 - head: 3.3795e-04 - thorax: 1.5564e-04 - abdomen: 9.4599e-04 - wingL: 7.9941e-04 - wingR: 7.8252e-04 - forelegL4: 0.0012 - forelegR4: 0.0012 - midlegL4: 0.0010 - midlegR4: 0.0010 - hindlegL4: 0.0014 - hindlegR4: 0.0014 - eyeL: 4.0100e-04 - eyeR: 3.9849e-04 - val_loss: 8.1115e-04 - val_head: 2.9811e-04 - val_thorax: 1.0771e-04 - val_abdomen: 0.0010 - val_wingL: 7.3117e-04 - val_wingR: 7.5454e-04 - val_forelegL4: 0.0011 - val_forelegR4: 0.0013 - val_midlegL4: 8.0686e-04 - val_midlegR4: 0.0010 - val_hindlegL4: 0.0012 - val_hindlegR4: 0.0014 - val_eyeL: 3.7697e-04 - val_eyeR: 3.3469e-04 - lr: 1.0000e-04 - 32s/epoch - 88ms/step\n",
            "Epoch 2/3\n"
          ]
        },
        {
          "name": "stderr",
          "output_type": "stream",
          "text": [
            "2023-08-31 12:23:35.246699: W tensorflow/core/grappler/costs/op_level_cost_estimator.cc:690] Error in PredictCost() for the op: op: \"CropAndResize\" attr { key: \"T\" value { type: DT_FLOAT } } attr { key: \"extrapolation_value\" value { f: 0 } } attr { key: \"method\" value { s: \"bilinear\" } } inputs { dtype: DT_FLOAT shape { dim { size: 1 } dim { size: 1024 } dim { size: 1024 } dim { size: 1 } } } inputs { dtype: DT_FLOAT shape { dim { size: -2 } dim { size: 4 } } } inputs { dtype: DT_INT32 shape { dim { size: -2 } } } inputs { dtype: DT_INT32 shape { dim { size: 2 } } } device { type: \"CPU\" vendor: \"GenuineIntel\" model: \"103\" frequency: 3600 num_cores: 16 environment { key: \"cpu_instruction_set\" value: \"AVX SSE, SSE2, SSE3, SSSE3, SSE4.1, SSE4.2\" } environment { key: \"eigen\" value: \"3.4.90\" } l1_cache_size: 49152 l2_cache_size: 524288 l3_cache_size: 16777216 memory_size: 268435456 } outputs { dtype: DT_FLOAT shape { dim { size: -2 } dim { size: 160 } dim { size: 160 } dim { size: 1 } } }\n"
          ]
        },
        {
          "name": "stdout",
          "output_type": "stream",
          "text": [
            "360/360 - 29s - loss: 8.2423e-04 - head: 3.2766e-04 - thorax: 1.4867e-04 - abdomen: 9.3683e-04 - wingL: 7.7337e-04 - wingR: 7.4472e-04 - forelegL4: 0.0012 - forelegR4: 0.0012 - midlegL4: 9.6605e-04 - midlegR4: 9.8418e-04 - hindlegL4: 0.0013 - hindlegR4: 0.0014 - eyeL: 3.9413e-04 - eyeR: 3.8492e-04 - val_loss: 8.0816e-04 - val_head: 2.7702e-04 - val_thorax: 1.2315e-04 - val_abdomen: 9.8622e-04 - val_wingL: 7.4837e-04 - val_wingR: 8.1575e-04 - val_forelegL4: 0.0011 - val_forelegR4: 0.0013 - val_midlegL4: 7.4206e-04 - val_midlegR4: 9.8677e-04 - val_hindlegL4: 0.0013 - val_hindlegR4: 0.0014 - val_eyeL: 4.0262e-04 - val_eyeR: 3.2560e-04 - lr: 1.0000e-04 - 29s/epoch - 80ms/step\n",
            "Epoch 3/3\n"
          ]
        },
        {
          "name": "stderr",
          "output_type": "stream",
          "text": [
            "2023-08-31 12:24:05.062109: W tensorflow/core/grappler/costs/op_level_cost_estimator.cc:690] Error in PredictCost() for the op: op: \"CropAndResize\" attr { key: \"T\" value { type: DT_FLOAT } } attr { key: \"extrapolation_value\" value { f: 0 } } attr { key: \"method\" value { s: \"bilinear\" } } inputs { dtype: DT_FLOAT shape { dim { size: 1 } dim { size: 1024 } dim { size: 1024 } dim { size: 1 } } } inputs { dtype: DT_FLOAT shape { dim { size: -2 } dim { size: 4 } } } inputs { dtype: DT_INT32 shape { dim { size: -2 } } } inputs { dtype: DT_INT32 shape { dim { size: 2 } } } device { type: \"CPU\" vendor: \"GenuineIntel\" model: \"103\" frequency: 3600 num_cores: 16 environment { key: \"cpu_instruction_set\" value: \"AVX SSE, SSE2, SSE3, SSSE3, SSE4.1, SSE4.2\" } environment { key: \"eigen\" value: \"3.4.90\" } l1_cache_size: 49152 l2_cache_size: 524288 l3_cache_size: 16777216 memory_size: 268435456 } outputs { dtype: DT_FLOAT shape { dim { size: -2 } dim { size: 160 } dim { size: 160 } dim { size: 1 } } }\n"
          ]
        },
        {
          "name": "stdout",
          "output_type": "stream",
          "text": [
            "360/360 - 31s - loss: 7.9676e-04 - head: 3.1471e-04 - thorax: 1.3562e-04 - abdomen: 9.0677e-04 - wingL: 7.2937e-04 - wingR: 7.3654e-04 - forelegL4: 0.0011 - forelegR4: 0.0011 - midlegL4: 9.3928e-04 - midlegR4: 9.4339e-04 - hindlegL4: 0.0013 - hindlegR4: 0.0013 - eyeL: 3.8123e-04 - eyeR: 3.7266e-04 - val_loss: 7.7582e-04 - val_head: 2.9292e-04 - val_thorax: 1.5784e-04 - val_abdomen: 9.0268e-04 - val_wingL: 7.6222e-04 - val_wingR: 7.1502e-04 - val_forelegL4: 0.0011 - val_forelegR4: 0.0013 - val_midlegL4: 7.0143e-04 - val_midlegR4: 9.4814e-04 - val_hindlegL4: 0.0012 - val_hindlegR4: 0.0013 - val_eyeL: 3.7808e-04 - val_eyeR: 3.2417e-04 - lr: 1.0000e-04 - 31s/epoch - 86ms/step\n",
            "INFO:sleap.nn.training:Finished training loop. [1.5 min]\n",
            "INFO:sleap.nn.training:Deleting visualization directory: models/baseline_model.topdown/viz\n",
            "INFO:sleap.nn.training:Saving evaluation metrics to model folder...\n"
          ]
        },
        {
          "data": {
            "application/vnd.jupyter.widget-view+json": {
              "model_id": "1fe8f8100e0d4fb4968e214c380e7cf5",
              "version_major": 2,
              "version_minor": 0
            },
            "text/plain": [
              "Output()"
            ]
          },
          "metadata": {},
          "output_type": "display_data"
        },
        {
          "name": "stderr",
          "output_type": "stream",
          "text": [
            "2023-08-31 12:24:09.018360: W tensorflow/core/grappler/costs/op_level_cost_estimator.cc:690] Error in PredictCost() for the op: op: \"CropAndResize\" attr { key: \"T\" value { type: DT_UINT8 } } attr { key: \"extrapolation_value\" value { f: 0 } } attr { key: \"method\" value { s: \"bilinear\" } } inputs { dtype: DT_UINT8 shape { dim { size: 4 } dim { size: 1024 } dim { size: 1024 } dim { size: 1 } } } inputs { dtype: DT_FLOAT shape { dim { size: -2 } dim { size: 4 } } } inputs { dtype: DT_INT32 shape { dim { size: -2 } } } inputs { dtype: DT_INT32 shape { dim { size: 2 } } } device { type: \"CPU\" vendor: \"GenuineIntel\" model: \"103\" frequency: 3600 num_cores: 16 environment { key: \"cpu_instruction_set\" value: \"AVX SSE, SSE2, SSE3, SSSE3, SSE4.1, SSE4.2\" } environment { key: \"eigen\" value: \"3.4.90\" } l1_cache_size: 49152 l2_cache_size: 524288 l3_cache_size: 16777216 memory_size: 268435456 } outputs { dtype: DT_FLOAT shape { dim { size: -2 } dim { size: -29 } dim { size: -30 } dim { size: 1 } } }\n",
            "2023-08-31 12:24:09.021456: W tensorflow/core/grappler/costs/op_level_cost_estimator.cc:690] Error in PredictCost() for the op: op: \"CropAndResize\" attr { key: \"T\" value { type: DT_FLOAT } } attr { key: \"extrapolation_value\" value { f: 0 } } attr { key: \"method\" value { s: \"bilinear\" } } inputs { dtype: DT_FLOAT shape { dim { size: -44 } dim { size: -45 } dim { size: -46 } dim { size: 1 } } } inputs { dtype: DT_FLOAT shape { dim { size: -12 } dim { size: 4 } } } inputs { dtype: DT_INT32 shape { dim { size: -12 } } } inputs { dtype: DT_INT32 shape { dim { size: 2 } } } device { type: \"CPU\" vendor: \"GenuineIntel\" model: \"103\" frequency: 3600 num_cores: 16 environment { key: \"cpu_instruction_set\" value: \"AVX SSE, SSE2, SSE3, SSSE3, SSE4.1, SSE4.2\" } environment { key: \"eigen\" value: \"3.4.90\" } l1_cache_size: 49152 l2_cache_size: 524288 l3_cache_size: 16777216 memory_size: 268435456 } outputs { dtype: DT_FLOAT shape { dim { size: -12 } dim { size: -50 } dim { size: -51 } dim { size: 1 } } }\n"
          ]
        },
        {
          "data": {
            "text/html": [
              "<pre style=\"white-space:pre;overflow-x:auto;line-height:normal;font-family:Menlo,'DejaVu Sans Mono',consolas,'Courier New',monospace\"></pre>\n"
            ],
            "text/plain": []
          },
          "metadata": {},
          "output_type": "display_data"
        },
        {
          "data": {
            "text/html": [
              "<pre style=\"white-space:pre;overflow-x:auto;line-height:normal;font-family:Menlo,'DejaVu Sans Mono',consolas,'Courier New',monospace\">\n",
              "</pre>\n"
            ],
            "text/plain": [
              "\n"
            ]
          },
          "metadata": {},
          "output_type": "display_data"
        },
        {
          "name": "stdout",
          "output_type": "stream",
          "text": [
            "INFO:sleap.nn.evals:Saved predictions: models/baseline_model.topdown/labels_pr.train.slp\n",
            "INFO:sleap.nn.evals:Saved metrics: models/baseline_model.topdown/metrics.train.npz\n",
            "INFO:sleap.nn.evals:OKS mAP: 0.585983\n"
          ]
        },
        {
          "data": {
            "application/vnd.jupyter.widget-view+json": {
              "model_id": "bfcd2f7a8fce401699404cfd973e667a",
              "version_major": 2,
              "version_minor": 0
            },
            "text/plain": [
              "Output()"
            ]
          },
          "metadata": {},
          "output_type": "display_data"
        },
        {
          "name": "stderr",
          "output_type": "stream",
          "text": [
            "2023-08-31 12:24:25.576891: W tensorflow/core/grappler/costs/op_level_cost_estimator.cc:690] Error in PredictCost() for the op: op: \"CropAndResize\" attr { key: \"T\" value { type: DT_UINT8 } } attr { key: \"extrapolation_value\" value { f: 0 } } attr { key: \"method\" value { s: \"bilinear\" } } inputs { dtype: DT_UINT8 shape { dim { size: 4 } dim { size: 1024 } dim { size: 1024 } dim { size: 1 } } } inputs { dtype: DT_FLOAT shape { dim { size: -2 } dim { size: 4 } } } inputs { dtype: DT_INT32 shape { dim { size: -2 } } } inputs { dtype: DT_INT32 shape { dim { size: 2 } } } device { type: \"CPU\" vendor: \"GenuineIntel\" model: \"103\" frequency: 3600 num_cores: 16 environment { key: \"cpu_instruction_set\" value: \"AVX SSE, SSE2, SSE3, SSSE3, SSE4.1, SSE4.2\" } environment { key: \"eigen\" value: \"3.4.90\" } l1_cache_size: 49152 l2_cache_size: 524288 l3_cache_size: 16777216 memory_size: 268435456 } outputs { dtype: DT_FLOAT shape { dim { size: -2 } dim { size: -29 } dim { size: -30 } dim { size: 1 } } }\n",
            "2023-08-31 12:24:25.580156: W tensorflow/core/grappler/costs/op_level_cost_estimator.cc:690] Error in PredictCost() for the op: op: \"CropAndResize\" attr { key: \"T\" value { type: DT_FLOAT } } attr { key: \"extrapolation_value\" value { f: 0 } } attr { key: \"method\" value { s: \"bilinear\" } } inputs { dtype: DT_FLOAT shape { dim { size: -44 } dim { size: -45 } dim { size: -46 } dim { size: 1 } } } inputs { dtype: DT_FLOAT shape { dim { size: -12 } dim { size: 4 } } } inputs { dtype: DT_INT32 shape { dim { size: -12 } } } inputs { dtype: DT_INT32 shape { dim { size: 2 } } } device { type: \"CPU\" vendor: \"GenuineIntel\" model: \"103\" frequency: 3600 num_cores: 16 environment { key: \"cpu_instruction_set\" value: \"AVX SSE, SSE2, SSE3, SSSE3, SSE4.1, SSE4.2\" } environment { key: \"eigen\" value: \"3.4.90\" } l1_cache_size: 49152 l2_cache_size: 524288 l3_cache_size: 16777216 memory_size: 268435456 } outputs { dtype: DT_FLOAT shape { dim { size: -12 } dim { size: -50 } dim { size: -51 } dim { size: 1 } } }\n"
          ]
        },
        {
          "data": {
            "text/html": [
              "<pre style=\"white-space:pre;overflow-x:auto;line-height:normal;font-family:Menlo,'DejaVu Sans Mono',consolas,'Courier New',monospace\"></pre>\n"
            ],
            "text/plain": []
          },
          "metadata": {},
          "output_type": "display_data"
        },
        {
          "data": {
            "text/html": [
              "<pre style=\"white-space:pre;overflow-x:auto;line-height:normal;font-family:Menlo,'DejaVu Sans Mono',consolas,'Courier New',monospace\">\n",
              "</pre>\n"
            ],
            "text/plain": [
              "\n"
            ]
          },
          "metadata": {},
          "output_type": "display_data"
        },
        {
          "name": "stdout",
          "output_type": "stream",
          "text": [
            "INFO:sleap.nn.evals:Saved predictions: models/baseline_model.topdown/labels_pr.val.slp\n",
            "INFO:sleap.nn.evals:Saved metrics: models/baseline_model.topdown/metrics.val.npz\n",
            "INFO:sleap.nn.evals:OKS mAP: 0.596779\n"
          ]
        }
      ],
      "source": [
        "trainer.config.optimization.epochs = 3\n",
        "trainer.train()"
      ]
    },
    {
      "cell_type": "markdown",
      "metadata": {
        "id": "kb4YzP7AzYZB"
      },
      "source": [
        "Again, the loss and accuracy pick up from where they left off prior to this round of training.\n",
        "\n",
        "The resulting model can be used as usual for inference on new data."
      ]
    }
  ],
  "metadata": {
    "accelerator": "GPU",
    "colab": {
      "collapsed_sections": [],
      "machine_shape": "hm",
      "name": "SLEAP - Interactive and resumable training.ipynb",
      "provenance": []
    },
    "kernelspec": {
      "display_name": "Python 3",
      "name": "python3"
    },
    "language_info": {
      "codemirror_mode": {
        "name": "ipython",
        "version": 3
      },
      "file_extension": ".py",
      "mimetype": "text/x-python",
      "name": "python",
      "nbconvert_exporter": "python",
      "pygments_lexer": "ipython3",
      "version": "3.7.12"
    }
  },
  "nbformat": 4,
  "nbformat_minor": 0
}
