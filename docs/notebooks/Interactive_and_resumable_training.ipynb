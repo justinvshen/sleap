{
  "cells": [
    {
      "cell_type": "markdown",
      "metadata": {
        "colab_type": "text",
        "id": "view-in-github"
      },
      "source": [
        "<a href=\"https://colab.research.google.com/github/talmolab/sleap/blob/main/docs/notebooks/Interactive_and_resumable_training.ipynb\" target=\"_parent\"><img src=\"https://colab.research.google.com/assets/colab-badge.svg\" alt=\"Open In Colab\"/></a>"
      ]
    },
    {
      "cell_type": "markdown",
      "metadata": {
        "id": "DpvQa3M3n7jC"
      },
      "source": [
        "# Interactive and resumable training\n",
        "\n",
        "Most of the time, you will be training models through the GUI or using the [`sleap-train` CLI](https://sleap.ai/guides/cli.html#sleap-train).\n",
        "\n",
        "If you'd like to customize the training process, however, you can use SLEAP's low-level training functionality interactively. This allows you to define scripts that train models according to your own workflow, for example, to **resume training** on an already trained model. Another possible application would be to train a model using **transfer learning**, where a pretrained model can be used to initialize the weights of the new model.\n",
        "\n",
        "In this notebook we will explore how to set up a training job and train a model for multiple rounds without the GUI or CLI."
      ]
    },
    {
      "cell_type": "markdown",
      "metadata": {
        "id": "BeeqrLbdupmE"
      },
      "source": [
        "## 1. Setup SLEAP\n",
        "\n",
        "Run this cell first to install SLEAP. If you get a dependency error in subsequent cells, just click **Runtime** → **Restart runtime** to reload the packages.\n",
        "\n",
        "Don't forget to set **Runtime** → **Change runtime type** → **GPU** as the accelerator."
      ]
    },
    {
      "cell_type": "code",
      "execution_count": 2,
      "metadata": {
        "colab": {
          "base_uri": "https://localhost:8080/"
        },
        "id": "BYxJ2rJOMW8B",
        "outputId": "d2230650-4e45-46f3-ff8f-dbe271bb9eb9"
      },
      "outputs": [
        {
          "name": "stdout",
          "output_type": "stream",
          "text": [
            "Requirement already satisfied: sleap[pypi] in c:\\users\\talmolab\\mambaforge\\envs\\sleap_jupyter\\lib\\site-packages (1.3.2)\n",
            "Requirement already satisfied: imgstore<0.30 in c:\\users\\talmolab\\mambaforge\\envs\\sleap_jupyter\\lib\\site-packages (from sleap[pypi]) (0.3.5)\n",
            "Requirement already satisfied: ndx-pose in c:\\users\\talmolab\\mambaforge\\envs\\sleap_jupyter\\lib\\site-packages (from sleap[pypi]) (0.1.1)\n",
            "Requirement already satisfied: nixio>=1.5.3 in c:\\users\\talmolab\\mambaforge\\envs\\sleap_jupyter\\lib\\site-packages (from sleap[pypi]) (1.5.3)\n",
            "Requirement already satisfied: qimage2ndarray in c:\\users\\talmolab\\mambaforge\\envs\\sleap_jupyter\\lib\\site-packages (from sleap[pypi]) (1.10.0)\n",
            "Requirement already satisfied: segmentation-models in c:\\users\\talmolab\\mambaforge\\envs\\sleap_jupyter\\lib\\site-packages (from sleap[pypi]) (1.0.1)\n",
            "Requirement already satisfied: pynwb>=2.3.3 in c:\\users\\talmolab\\mambaforge\\envs\\sleap_jupyter\\lib\\site-packages (from sleap[pypi]) (2.3.3)\n",
            "Requirement already satisfied: h5py<3.2 in c:\\users\\talmolab\\mambaforge\\envs\\sleap_jupyter\\lib\\site-packages (from sleap[pypi]) (3.1.0)\n",
            "Requirement already satisfied: attrs<=21.4.0,>=21.2.0 in c:\\users\\talmolab\\mambaforge\\envs\\sleap_jupyter\\lib\\site-packages (from sleap[pypi]) (21.4.0)\n",
            "Requirement already satisfied: cattrs==1.1.1 in c:\\users\\talmolab\\mambaforge\\envs\\sleap_jupyter\\lib\\site-packages (from sleap[pypi]) (1.1.1)\n",
            "Requirement already satisfied: jsmin in c:\\users\\talmolab\\mambaforge\\envs\\sleap_jupyter\\lib\\site-packages (from sleap[pypi]) (3.0.1)\n",
            "Requirement already satisfied: jsonpickle==1.2 in c:\\users\\talmolab\\mambaforge\\envs\\sleap_jupyter\\lib\\site-packages (from sleap[pypi]) (1.2)\n",
            "Requirement already satisfied: networkx in c:\\users\\talmolab\\mambaforge\\envs\\sleap_jupyter\\lib\\site-packages (from sleap[pypi]) (2.6.3)\n",
            "Requirement already satisfied: numpy>=1.19.5 in c:\\users\\talmolab\\mambaforge\\envs\\sleap_jupyter\\lib\\site-packages (from sleap[pypi]) (1.21.6)\n",
            "Collecting opencv-python<=4.6.0,>=4.2.0 (from sleap[pypi])\n",
            "  Using cached opencv_python-4.5.5.64-cp36-abi3-win_amd64.whl (35.4 MB)\n",
            "Requirement already satisfied: pandas in c:\\users\\talmolab\\mambaforge\\envs\\sleap_jupyter\\lib\\site-packages (from sleap[pypi]) (1.3.5)\n",
            "Requirement already satisfied: pillow>=8.3.1 in c:\\users\\talmolab\\mambaforge\\envs\\sleap_jupyter\\lib\\site-packages (from sleap[pypi]) (9.5.0)\n",
            "Requirement already satisfied: psutil in c:\\users\\talmolab\\mambaforge\\envs\\sleap_jupyter\\lib\\site-packages (from sleap[pypi]) (5.9.5)\n",
            "Requirement already satisfied: pykalman in c:\\users\\talmolab\\mambaforge\\envs\\sleap_jupyter\\lib\\site-packages (from sleap[pypi]) (0.9.5)\n",
            "Requirement already satisfied: python-rapidjson in c:\\users\\talmolab\\mambaforge\\envs\\sleap_jupyter\\lib\\site-packages (from sleap[pypi]) (1.10)\n",
            "Requirement already satisfied: pyyaml in c:\\users\\talmolab\\mambaforge\\envs\\sleap_jupyter\\lib\\site-packages (from sleap[pypi]) (6.0.1)\n",
            "Requirement already satisfied: pyzmq in c:\\users\\talmolab\\mambaforge\\envs\\sleap_jupyter\\lib\\site-packages (from sleap[pypi]) (24.0.1)\n",
            "Requirement already satisfied: qtpy>=2.0.1 in c:\\users\\talmolab\\mambaforge\\envs\\sleap_jupyter\\lib\\site-packages (from sleap[pypi]) (2.4.0)\n",
            "Requirement already satisfied: rich==10.16.1 in c:\\users\\talmolab\\mambaforge\\envs\\sleap_jupyter\\lib\\site-packages (from sleap[pypi]) (10.16.1)\n",
            "Requirement already satisfied: imageio<=2.15.0 in c:\\users\\talmolab\\mambaforge\\envs\\sleap_jupyter\\lib\\site-packages (from sleap[pypi]) (2.15.0)\n",
            "Requirement already satisfied: imgaug==0.4.0 in c:\\users\\talmolab\\mambaforge\\envs\\sleap_jupyter\\lib\\site-packages (from sleap[pypi]) (0.4.0)\n",
            "Requirement already satisfied: scipy>=1.4.1 in c:\\users\\talmolab\\mambaforge\\envs\\sleap_jupyter\\lib\\site-packages (from sleap[pypi]) (1.7.3)\n",
            "Requirement already satisfied: scikit-image in c:\\users\\talmolab\\mambaforge\\envs\\sleap_jupyter\\lib\\site-packages (from sleap[pypi]) (0.19.3)\n",
            "Requirement already satisfied: scikit-learn~=1.0 in c:\\users\\talmolab\\mambaforge\\envs\\sleap_jupyter\\lib\\site-packages (from sleap[pypi]) (1.0.2)\n",
            "Requirement already satisfied: scikit-video in c:\\users\\talmolab\\mambaforge\\envs\\sleap_jupyter\\lib\\site-packages (from sleap[pypi]) (1.1.11)\n",
            "Requirement already satisfied: seaborn in c:\\users\\talmolab\\mambaforge\\envs\\sleap_jupyter\\lib\\site-packages (from sleap[pypi]) (0.12.2)\n",
            "Requirement already satisfied: tensorflow in c:\\users\\talmolab\\mambaforge\\envs\\sleap_jupyter\\lib\\site-packages (from sleap[pypi]) (2.11.0)\n",
            "Requirement already satisfied: tensorflow-hub in c:\\users\\talmolab\\mambaforge\\envs\\sleap_jupyter\\lib\\site-packages (from sleap[pypi]) (0.14.0)\n",
            "Requirement already satisfied: PySide2<=5.14.1,>=5.13.2 in c:\\users\\talmolab\\mambaforge\\envs\\sleap_jupyter\\lib\\site-packages (from sleap[pypi]) (5.14.1)\n",
            "Requirement already satisfied: six in c:\\users\\talmolab\\mambaforge\\envs\\sleap_jupyter\\lib\\site-packages (from imgaug==0.4.0->sleap[pypi]) (1.16.0)\n",
            "Requirement already satisfied: matplotlib in c:\\users\\talmolab\\mambaforge\\envs\\sleap_jupyter\\lib\\site-packages (from imgaug==0.4.0->sleap[pypi]) (3.5.3)\n",
            "Requirement already satisfied: Shapely in c:\\users\\talmolab\\mambaforge\\envs\\sleap_jupyter\\lib\\site-packages (from imgaug==0.4.0->sleap[pypi]) (2.0.1)\n",
            "Requirement already satisfied: colorama<0.5.0,>=0.4.0 in c:\\users\\talmolab\\mambaforge\\envs\\sleap_jupyter\\lib\\site-packages (from rich==10.16.1->sleap[pypi]) (0.4.6)\n",
            "Requirement already satisfied: commonmark<0.10.0,>=0.9.0 in c:\\users\\talmolab\\mambaforge\\envs\\sleap_jupyter\\lib\\site-packages (from rich==10.16.1->sleap[pypi]) (0.9.1)\n",
            "Requirement already satisfied: pygments<3.0.0,>=2.6.0 in c:\\users\\talmolab\\mambaforge\\envs\\sleap_jupyter\\lib\\site-packages (from rich==10.16.1->sleap[pypi]) (2.16.1)\n",
            "Requirement already satisfied: typing-extensions<5.0,>=3.7.4 in c:\\users\\talmolab\\mambaforge\\envs\\sleap_jupyter\\lib\\site-packages (from rich==10.16.1->sleap[pypi]) (4.7.1)\n",
            "Requirement already satisfied: cached-property in c:\\users\\talmolab\\mambaforge\\envs\\sleap_jupyter\\lib\\site-packages (from h5py<3.2->sleap[pypi]) (1.5.2)\n",
            "Requirement already satisfied: tzlocal in c:\\users\\talmolab\\mambaforge\\envs\\sleap_jupyter\\lib\\site-packages (from imgstore<0.30->sleap[pypi]) (5.0.1)\n",
            "Requirement already satisfied: python-dateutil in c:\\users\\talmolab\\mambaforge\\envs\\sleap_jupyter\\lib\\site-packages (from imgstore<0.30->sleap[pypi]) (2.8.2)\n",
            "Requirement already satisfied: backports.zoneinfo in c:\\users\\talmolab\\mambaforge\\envs\\sleap_jupyter\\lib\\site-packages (from imgstore<0.30->sleap[pypi]) (0.2.1)\n",
            "Requirement already satisfied: hdmf>=3.5.4 in c:\\users\\talmolab\\mambaforge\\envs\\sleap_jupyter\\lib\\site-packages (from pynwb>=2.3.3->sleap[pypi]) (3.5.5)\n",
            "Requirement already satisfied: setuptools in c:\\users\\talmolab\\mambaforge\\envs\\sleap_jupyter\\lib\\site-packages (from pynwb>=2.3.3->sleap[pypi]) (68.1.2)\n",
            "Requirement already satisfied: pytz>=2017.3 in c:\\users\\talmolab\\mambaforge\\envs\\sleap_jupyter\\lib\\site-packages (from pandas->sleap[pypi]) (2023.3)\n",
            "Requirement already satisfied: shiboken2==5.14.1 in c:\\users\\talmolab\\mambaforge\\envs\\sleap_jupyter\\lib\\site-packages (from PySide2<=5.14.1,>=5.13.2->sleap[pypi]) (5.14.1)\n",
            "Requirement already satisfied: packaging in c:\\users\\talmolab\\mambaforge\\envs\\sleap_jupyter\\lib\\site-packages (from qtpy>=2.0.1->sleap[pypi]) (23.1)\n",
            "Requirement already satisfied: tifffile>=2019.7.26 in c:\\users\\talmolab\\mambaforge\\envs\\sleap_jupyter\\lib\\site-packages (from scikit-image->sleap[pypi]) (2021.11.2)\n",
            "Requirement already satisfied: PyWavelets>=1.1.1 in c:\\users\\talmolab\\mambaforge\\envs\\sleap_jupyter\\lib\\site-packages (from scikit-image->sleap[pypi]) (1.3.0)\n",
            "Requirement already satisfied: joblib>=0.11 in c:\\users\\talmolab\\mambaforge\\envs\\sleap_jupyter\\lib\\site-packages (from scikit-learn~=1.0->sleap[pypi]) (1.3.2)\n",
            "Requirement already satisfied: threadpoolctl>=2.0.0 in c:\\users\\talmolab\\mambaforge\\envs\\sleap_jupyter\\lib\\site-packages (from scikit-learn~=1.0->sleap[pypi]) (3.1.0)\n",
            "Requirement already satisfied: keras-applications<=1.0.8,>=1.0.7 in c:\\users\\talmolab\\mambaforge\\envs\\sleap_jupyter\\lib\\site-packages (from segmentation-models->sleap[pypi]) (1.0.8)\n",
            "Requirement already satisfied: image-classifiers==1.0.0 in c:\\users\\talmolab\\mambaforge\\envs\\sleap_jupyter\\lib\\site-packages (from segmentation-models->sleap[pypi]) (1.0.0)\n",
            "Requirement already satisfied: efficientnet==1.0.0 in c:\\users\\talmolab\\mambaforge\\envs\\sleap_jupyter\\lib\\site-packages (from segmentation-models->sleap[pypi]) (1.0.0)\n",
            "Requirement already satisfied: tensorflow-intel==2.11.0 in c:\\users\\talmolab\\mambaforge\\envs\\sleap_jupyter\\lib\\site-packages (from tensorflow->sleap[pypi]) (2.11.0)\n",
            "Requirement already satisfied: absl-py>=1.0.0 in c:\\users\\talmolab\\mambaforge\\envs\\sleap_jupyter\\lib\\site-packages (from tensorflow-intel==2.11.0->tensorflow->sleap[pypi]) (1.4.0)\n",
            "Requirement already satisfied: astunparse>=1.6.0 in c:\\users\\talmolab\\mambaforge\\envs\\sleap_jupyter\\lib\\site-packages (from tensorflow-intel==2.11.0->tensorflow->sleap[pypi]) (1.6.3)\n",
            "Requirement already satisfied: flatbuffers>=2.0 in c:\\users\\talmolab\\mambaforge\\envs\\sleap_jupyter\\lib\\site-packages (from tensorflow-intel==2.11.0->tensorflow->sleap[pypi]) (23.5.26)\n",
            "Requirement already satisfied: gast<=0.4.0,>=0.2.1 in c:\\users\\talmolab\\mambaforge\\envs\\sleap_jupyter\\lib\\site-packages (from tensorflow-intel==2.11.0->tensorflow->sleap[pypi]) (0.4.0)\n",
            "Requirement already satisfied: google-pasta>=0.1.1 in c:\\users\\talmolab\\mambaforge\\envs\\sleap_jupyter\\lib\\site-packages (from tensorflow-intel==2.11.0->tensorflow->sleap[pypi]) (0.2.0)\n",
            "Requirement already satisfied: libclang>=13.0.0 in c:\\users\\talmolab\\mambaforge\\envs\\sleap_jupyter\\lib\\site-packages (from tensorflow-intel==2.11.0->tensorflow->sleap[pypi]) (16.0.6)\n",
            "Requirement already satisfied: opt-einsum>=2.3.2 in c:\\users\\talmolab\\mambaforge\\envs\\sleap_jupyter\\lib\\site-packages (from tensorflow-intel==2.11.0->tensorflow->sleap[pypi]) (3.3.0)\n",
            "Requirement already satisfied: protobuf<3.20,>=3.9.2 in c:\\users\\talmolab\\mambaforge\\envs\\sleap_jupyter\\lib\\site-packages (from tensorflow-intel==2.11.0->tensorflow->sleap[pypi]) (3.19.6)\n",
            "Requirement already satisfied: termcolor>=1.1.0 in c:\\users\\talmolab\\mambaforge\\envs\\sleap_jupyter\\lib\\site-packages (from tensorflow-intel==2.11.0->tensorflow->sleap[pypi]) (2.3.0)\n",
            "Requirement already satisfied: wrapt>=1.11.0 in c:\\users\\talmolab\\mambaforge\\envs\\sleap_jupyter\\lib\\site-packages (from tensorflow-intel==2.11.0->tensorflow->sleap[pypi]) (1.15.0)\n",
            "Requirement already satisfied: grpcio<2.0,>=1.24.3 in c:\\users\\talmolab\\mambaforge\\envs\\sleap_jupyter\\lib\\site-packages (from tensorflow-intel==2.11.0->tensorflow->sleap[pypi]) (1.57.0)\n",
            "Requirement already satisfied: tensorboard<2.12,>=2.11 in c:\\users\\talmolab\\mambaforge\\envs\\sleap_jupyter\\lib\\site-packages (from tensorflow-intel==2.11.0->tensorflow->sleap[pypi]) (2.11.2)\n",
            "Requirement already satisfied: tensorflow-estimator<2.12,>=2.11.0 in c:\\users\\talmolab\\mambaforge\\envs\\sleap_jupyter\\lib\\site-packages (from tensorflow-intel==2.11.0->tensorflow->sleap[pypi]) (2.11.0)\n",
            "Requirement already satisfied: keras<2.12,>=2.11.0 in c:\\users\\talmolab\\mambaforge\\envs\\sleap_jupyter\\lib\\site-packages (from tensorflow-intel==2.11.0->tensorflow->sleap[pypi]) (2.11.0)\n",
            "Requirement already satisfied: tensorflow-io-gcs-filesystem>=0.23.1 in c:\\users\\talmolab\\mambaforge\\envs\\sleap_jupyter\\lib\\site-packages (from tensorflow-intel==2.11.0->tensorflow->sleap[pypi]) (0.31.0)\n",
            "Requirement already satisfied: jsonschema>=2.6.0 in c:\\users\\talmolab\\mambaforge\\envs\\sleap_jupyter\\lib\\site-packages (from hdmf>=3.5.4->pynwb>=2.3.3->sleap[pypi]) (4.17.3)\n",
            "Requirement already satisfied: ruamel.yaml>=0.16 in c:\\users\\talmolab\\mambaforge\\envs\\sleap_jupyter\\lib\\site-packages (from hdmf>=3.5.4->pynwb>=2.3.3->sleap[pypi]) (0.17.32)\n",
            "Requirement already satisfied: cycler>=0.10 in c:\\users\\talmolab\\mambaforge\\envs\\sleap_jupyter\\lib\\site-packages (from matplotlib->imgaug==0.4.0->sleap[pypi]) (0.11.0)\n",
            "Requirement already satisfied: fonttools>=4.22.0 in c:\\users\\talmolab\\mambaforge\\envs\\sleap_jupyter\\lib\\site-packages (from matplotlib->imgaug==0.4.0->sleap[pypi]) (4.38.0)\n",
            "Requirement already satisfied: kiwisolver>=1.0.1 in c:\\users\\talmolab\\mambaforge\\envs\\sleap_jupyter\\lib\\site-packages (from matplotlib->imgaug==0.4.0->sleap[pypi]) (1.4.5)\n",
            "Requirement already satisfied: pyparsing>=2.2.1 in c:\\users\\talmolab\\mambaforge\\envs\\sleap_jupyter\\lib\\site-packages (from matplotlib->imgaug==0.4.0->sleap[pypi]) (3.1.1)\n",
            "Requirement already satisfied: tzdata in c:\\users\\talmolab\\mambaforge\\envs\\sleap_jupyter\\lib\\site-packages (from tzlocal->imgstore<0.30->sleap[pypi]) (2023.3)\n",
            "Requirement already satisfied: wheel<1.0,>=0.23.0 in c:\\users\\talmolab\\mambaforge\\envs\\sleap_jupyter\\lib\\site-packages (from astunparse>=1.6.0->tensorflow-intel==2.11.0->tensorflow->sleap[pypi]) (0.41.2)\n",
            "Requirement already satisfied: importlib-metadata in c:\\users\\talmolab\\mambaforge\\envs\\sleap_jupyter\\lib\\site-packages (from jsonschema>=2.6.0->hdmf>=3.5.4->pynwb>=2.3.3->sleap[pypi]) (6.7.0)\n",
            "Requirement already satisfied: importlib-resources>=1.4.0 in c:\\users\\talmolab\\mambaforge\\envs\\sleap_jupyter\\lib\\site-packages (from jsonschema>=2.6.0->hdmf>=3.5.4->pynwb>=2.3.3->sleap[pypi]) (5.12.0)\n",
            "Requirement already satisfied: pkgutil-resolve-name>=1.3.10 in c:\\users\\talmolab\\mambaforge\\envs\\sleap_jupyter\\lib\\site-packages (from jsonschema>=2.6.0->hdmf>=3.5.4->pynwb>=2.3.3->sleap[pypi]) (1.3.10)\n",
            "Requirement already satisfied: pyrsistent!=0.17.0,!=0.17.1,!=0.17.2,>=0.14.0 in c:\\users\\talmolab\\mambaforge\\envs\\sleap_jupyter\\lib\\site-packages (from jsonschema>=2.6.0->hdmf>=3.5.4->pynwb>=2.3.3->sleap[pypi]) (0.19.3)\n",
            "Requirement already satisfied: ruamel.yaml.clib>=0.2.7 in c:\\users\\talmolab\\mambaforge\\envs\\sleap_jupyter\\lib\\site-packages (from ruamel.yaml>=0.16->hdmf>=3.5.4->pynwb>=2.3.3->sleap[pypi]) (0.2.7)\n",
            "Requirement already satisfied: google-auth<3,>=1.6.3 in c:\\users\\talmolab\\mambaforge\\envs\\sleap_jupyter\\lib\\site-packages (from tensorboard<2.12,>=2.11->tensorflow-intel==2.11.0->tensorflow->sleap[pypi]) (2.22.0)\n",
            "Requirement already satisfied: google-auth-oauthlib<0.5,>=0.4.1 in c:\\users\\talmolab\\mambaforge\\envs\\sleap_jupyter\\lib\\site-packages (from tensorboard<2.12,>=2.11->tensorflow-intel==2.11.0->tensorflow->sleap[pypi]) (0.4.6)\n",
            "Requirement already satisfied: markdown>=2.6.8 in c:\\users\\talmolab\\mambaforge\\envs\\sleap_jupyter\\lib\\site-packages (from tensorboard<2.12,>=2.11->tensorflow-intel==2.11.0->tensorflow->sleap[pypi]) (3.4.4)\n",
            "Requirement already satisfied: requests<3,>=2.21.0 in c:\\users\\talmolab\\mambaforge\\envs\\sleap_jupyter\\lib\\site-packages (from tensorboard<2.12,>=2.11->tensorflow-intel==2.11.0->tensorflow->sleap[pypi]) (2.31.0)\n",
            "Requirement already satisfied: tensorboard-data-server<0.7.0,>=0.6.0 in c:\\users\\talmolab\\mambaforge\\envs\\sleap_jupyter\\lib\\site-packages (from tensorboard<2.12,>=2.11->tensorflow-intel==2.11.0->tensorflow->sleap[pypi]) (0.6.1)\n",
            "Requirement already satisfied: tensorboard-plugin-wit>=1.6.0 in c:\\users\\talmolab\\mambaforge\\envs\\sleap_jupyter\\lib\\site-packages (from tensorboard<2.12,>=2.11->tensorflow-intel==2.11.0->tensorflow->sleap[pypi]) (1.8.1)\n",
            "Requirement already satisfied: werkzeug>=1.0.1 in c:\\users\\talmolab\\mambaforge\\envs\\sleap_jupyter\\lib\\site-packages (from tensorboard<2.12,>=2.11->tensorflow-intel==2.11.0->tensorflow->sleap[pypi]) (2.2.3)\n",
            "Requirement already satisfied: cachetools<6.0,>=2.0.0 in c:\\users\\talmolab\\mambaforge\\envs\\sleap_jupyter\\lib\\site-packages (from google-auth<3,>=1.6.3->tensorboard<2.12,>=2.11->tensorflow-intel==2.11.0->tensorflow->sleap[pypi]) (5.3.1)\n",
            "Requirement already satisfied: pyasn1-modules>=0.2.1 in c:\\users\\talmolab\\mambaforge\\envs\\sleap_jupyter\\lib\\site-packages (from google-auth<3,>=1.6.3->tensorboard<2.12,>=2.11->tensorflow-intel==2.11.0->tensorflow->sleap[pypi]) (0.3.0)\n",
            "Requirement already satisfied: rsa<5,>=3.1.4 in c:\\users\\talmolab\\mambaforge\\envs\\sleap_jupyter\\lib\\site-packages (from google-auth<3,>=1.6.3->tensorboard<2.12,>=2.11->tensorflow-intel==2.11.0->tensorflow->sleap[pypi]) (4.9)\n",
            "Requirement already satisfied: urllib3<2.0 in c:\\users\\talmolab\\mambaforge\\envs\\sleap_jupyter\\lib\\site-packages (from google-auth<3,>=1.6.3->tensorboard<2.12,>=2.11->tensorflow-intel==2.11.0->tensorflow->sleap[pypi]) (1.26.16)\n",
            "Requirement already satisfied: requests-oauthlib>=0.7.0 in c:\\users\\talmolab\\mambaforge\\envs\\sleap_jupyter\\lib\\site-packages (from google-auth-oauthlib<0.5,>=0.4.1->tensorboard<2.12,>=2.11->tensorflow-intel==2.11.0->tensorflow->sleap[pypi]) (1.3.1)\n",
            "Requirement already satisfied: zipp>=3.1.0 in c:\\users\\talmolab\\mambaforge\\envs\\sleap_jupyter\\lib\\site-packages (from importlib-resources>=1.4.0->jsonschema>=2.6.0->hdmf>=3.5.4->pynwb>=2.3.3->sleap[pypi]) (3.15.0)\n",
            "Requirement already satisfied: charset-normalizer<4,>=2 in c:\\users\\talmolab\\mambaforge\\envs\\sleap_jupyter\\lib\\site-packages (from requests<3,>=2.21.0->tensorboard<2.12,>=2.11->tensorflow-intel==2.11.0->tensorflow->sleap[pypi]) (3.2.0)\n",
            "Requirement already satisfied: idna<4,>=2.5 in c:\\users\\talmolab\\mambaforge\\envs\\sleap_jupyter\\lib\\site-packages (from requests<3,>=2.21.0->tensorboard<2.12,>=2.11->tensorflow-intel==2.11.0->tensorflow->sleap[pypi]) (3.4)\n",
            "Requirement already satisfied: certifi>=2017.4.17 in c:\\users\\talmolab\\mambaforge\\envs\\sleap_jupyter\\lib\\site-packages (from requests<3,>=2.21.0->tensorboard<2.12,>=2.11->tensorflow-intel==2.11.0->tensorflow->sleap[pypi]) (2023.7.22)\n",
            "Requirement already satisfied: MarkupSafe>=2.1.1 in c:\\users\\talmolab\\mambaforge\\envs\\sleap_jupyter\\lib\\site-packages (from werkzeug>=1.0.1->tensorboard<2.12,>=2.11->tensorflow-intel==2.11.0->tensorflow->sleap[pypi]) (2.1.3)\n",
            "Requirement already satisfied: pyasn1<0.6.0,>=0.4.6 in c:\\users\\talmolab\\mambaforge\\envs\\sleap_jupyter\\lib\\site-packages (from pyasn1-modules>=0.2.1->google-auth<3,>=1.6.3->tensorboard<2.12,>=2.11->tensorflow-intel==2.11.0->tensorflow->sleap[pypi]) (0.5.0)\n",
            "Requirement already satisfied: oauthlib>=3.0.0 in c:\\users\\talmolab\\mambaforge\\envs\\sleap_jupyter\\lib\\site-packages (from requests-oauthlib>=0.7.0->google-auth-oauthlib<0.5,>=0.4.1->tensorboard<2.12,>=2.11->tensorflow-intel==2.11.0->tensorflow->sleap[pypi]) (3.2.2)\n",
            "Installing collected packages: opencv-python\n",
            "Successfully installed opencv-python-4.5.5.64\n"
          ]
        },
        {
          "name": "stderr",
          "output_type": "stream",
          "text": [
            "WARNING: Ignoring invalid distribution -pencv-python (c:\\users\\talmolab\\mambaforge\\envs\\sleap_jupyter\\lib\\site-packages)\n",
            "WARNING: Skipping opencv-python as it is not installed.\n",
            "WARNING: Ignoring invalid distribution -pencv-python (c:\\users\\talmolab\\mambaforge\\envs\\sleap_jupyter\\lib\\site-packages)\n",
            "WARNING: Skipping opencv-contrib-python as it is not installed.\n",
            "WARNING: Ignoring invalid distribution -pencv-python (c:\\users\\talmolab\\mambaforge\\envs\\sleap_jupyter\\lib\\site-packages)\n",
            "WARNING: Ignoring invalid distribution -pencv-python (c:\\users\\talmolab\\mambaforge\\envs\\sleap_jupyter\\lib\\site-packages)\n"
          ]
        }
      ],
      "source": [
        "# This should take care of all the dependencies on colab:\n",
        "!pip uninstall -y opencv-python opencv-contrib-python && pip install sleap[pypi]\n",
        "\n",
        "\n",
        "# But to do it locally, we'd recommend the conda package (available on Windows + Linux):\n",
        "# conda create -n sleap -c sleap -c conda-forge -c nvidia sleap"
      ]
    },
    {
      "cell_type": "markdown",
      "metadata": {
        "id": "qjfoeOZvpV8o"
      },
      "source": [
        "Import SLEAP to make sure it installed correctly and print out some information about the system:"
      ]
    },
    {
      "cell_type": "code",
      "execution_count": 3,
      "metadata": {
        "colab": {
          "base_uri": "https://localhost:8080/"
        },
        "id": "jftAOyvvuQeh",
        "outputId": "f62974d2-51e7-47d8-defb-ab6f970c995f"
      },
      "outputs": [
        {
          "name": "stdout",
          "output_type": "stream",
          "text": [
            "SLEAP: 1.3.2\n",
            "TensorFlow: 2.11.0\n",
            "Numpy: 1.21.6\n",
            "Python: 3.7.12\n",
            "OS: Windows-10-10.0.19041-SP0\n",
            "GPUs: None detected.\n"
          ]
        }
      ],
      "source": [
        "import sleap\n",
        "sleap.versions()\n",
        "sleap.system_summary()"
      ]
    },
    {
      "cell_type": "markdown",
      "metadata": {
        "id": "wSdTJYOdu4L6"
      },
      "source": [
        "## 2. Setup training data\n",
        "\n",
        "Here we will download an existing training dataset package. This is an `.slp` file that contains both the labeled poses, as well as the image data for labeled frames.\n",
        "\n",
        "If running on Google Colab, you'll want to replace this with mounting your Google Drive folder containing your own data, or if running locally, simply change the path to your labels below in `TRAINING_SLP_FILE`."
      ]
    },
    {
      "cell_type": "code",
      "execution_count": 4,
      "metadata": {
        "colab": {
          "base_uri": "https://localhost:8080/"
        },
        "id": "sDIF3RKdM86u",
        "outputId": "9c267834-935c-4f90-bb77-c0f15814ba2a"
      },
      "outputs": [
        {
          "name": "stderr",
          "output_type": "stream",
          "text": [
            "  % Total    % Received % Xferd  Average Speed   Time    Time     Time  Current\n",
            "                                 Dload  Upload   Total   Spent    Left  Speed\n",
            "\n",
            "  0     0    0     0    0     0      0      0 --:--:-- --:--:-- --:--:--     0\n",
            "  0  619M    0  320k    0     0   344k      0  0:30:42 --:--:--  0:30:42  344k\n",
            "  4  619M    4 27.6M    0     0  13.8M      0  0:00:44  0:00:01  0:00:43 13.8M\n",
            "  8  619M    8 50.4M    0     0  17.2M      0  0:00:35  0:00:02  0:00:33 17.2M\n",
            " 12  619M   12 77.7M    0     0  19.7M      0  0:00:31  0:00:03  0:00:28 19.7M\n",
            " 17  619M   17  110M    0     0  22.4M      0  0:00:27  0:00:04  0:00:23 22.4M\n",
            " 24  619M   24  151M    0     0  25.4M      0  0:00:24  0:00:05  0:00:19 30.1M\n",
            " 31  619M   31  192M    0     0  27.7M      0  0:00:22  0:00:06  0:00:16 33.3M\n",
            " 36  619M   36  227M    0     0  28.6M      0  0:00:21  0:00:07  0:00:14 35.4M\n",
            " 43  619M   43  267M    0     0  29.9M      0  0:00:20  0:00:08  0:00:12 37.9M\n",
            " 49  619M   49  304M    0     0  30.2M      0  0:00:20  0:00:10  0:00:10 37.8M\n",
            " 55  619M   55  343M    0     0  31.3M      0  0:00:19  0:00:10  0:00:09 38.4M\n",
            " 60  619M   60  375M    0     0  31.4M      0  0:00:19  0:00:11  0:00:08 36.7M\n",
            " 66  619M   66  413M    0     0  31.9M      0  0:00:19  0:00:12  0:00:07 37.1M\n",
            " 71  619M   71  443M    0     0  31.8M      0  0:00:19  0:00:13  0:00:06 35.1M\n",
            " 78  619M   78  488M    0     0  32.2M      0  0:00:19  0:00:15  0:00:04 36.0M\n",
            " 83  619M   83  520M    0     0  32.5M      0  0:00:19  0:00:15  0:00:04 34.9M\n",
            " 89  619M   89  555M    0     0  32.7M      0  0:00:18  0:00:16  0:00:02 35.9M\n",
            " 95  619M   95  588M    0     0  32.8M      0  0:00:18  0:00:17  0:00:01 34.9M\n",
            "100  619M  100  619M    0     0  33.1M      0  0:00:18  0:00:18 --:--:-- 36.9M\n",
            "'ls' is not recognized as an internal or external command,\n",
            "operable program or batch file.\n"
          ]
        }
      ],
      "source": [
        "# !curl -L --output labels.pkg.slp https://www.dropbox.com/s/b990gxjt3d3j3jh/210205.sleap_wt_gold.13pt.pkg.slp?dl=1\n",
        "!curl -L --output labels.pkg.slp https://storage.googleapis.com/sleap-data/datasets/wt_gold.13pt/tracking_split2/train.pkg.slp\n",
        "!ls -lah"
      ]
    },
    {
      "cell_type": "code",
      "execution_count": 5,
      "metadata": {
        "id": "vbpBugZRp_S7"
      },
      "outputs": [],
      "source": [
        "TRAINING_SLP_FILE = \"labels.pkg.slp\""
      ]
    },
    {
      "cell_type": "markdown",
      "metadata": {
        "id": "-vYsPusvviiu"
      },
      "source": [
        "## 3. Setup training job\n",
        "\n",
        "A SLEAP `TrainingJobConfig` is a structure that contains all of the hyperparameters needed to train a SLEAP model. This is typically saved out to `initial_config.json` and `training_config.json` in the model folder so that training runs can be reproduced if needed, as well as to store metadata necessary for inference.\n",
        "\n",
        "Normally, these are generated interactively by the GUI, or manually by editing an existing JSON file in a text editor. Here, we will define a configuration interactively entirely in Python."
      ]
    },
    {
      "cell_type": "code",
      "execution_count": 6,
      "metadata": {
        "id": "Cqt1Bhp-OIsi"
      },
      "outputs": [],
      "source": [
        "from sleap.nn.config import *\n",
        "\n",
        "# Initialize the default training job configuration.\n",
        "cfg = TrainingJobConfig()\n",
        "\n",
        "# Update path to training data we just downloaded.\n",
        "cfg.data.labels.training_labels = TRAINING_SLP_FILE\n",
        "cfg.data.labels.validation_fraction = 0.1\n",
        "\n",
        "# Preprocesssing and training parameters.\n",
        "cfg.data.instance_cropping.center_on_part = \"thorax\"\n",
        "cfg.optimization.augmentation_config.rotate = True\n",
        "cfg.optimization.epochs = 10  # This is the maximum number of training rounds.\n",
        "\n",
        "# These configures the actual neural network and the model type:\n",
        "cfg.model.backbone.unet = UNetConfig(\n",
        "    filters=16,\n",
        "    output_stride=4\n",
        ")\n",
        "cfg.model.heads.centered_instance = CenteredInstanceConfmapsHeadConfig(\n",
        "    anchor_part=\"thorax\",\n",
        "    sigma=1.5,\n",
        "    output_stride=4\n",
        ")\n",
        "\n",
        "# Setup how we want to save the trained model.\n",
        "cfg.outputs.run_name = \"baseline_model.topdown\""
      ]
    },
    {
      "cell_type": "markdown",
      "metadata": {
        "id": "9qSU7BcKv4Gw"
      },
      "source": [
        "Existing configs can also be loaded from a `.json` file with:\n",
        "\n",
        "```python\n",
        "cfg = sleap.load_config(\"training_config.json\")\n",
        "```"
      ]
    },
    {
      "cell_type": "markdown",
      "metadata": {
        "id": "Noq-XINMv8nz"
      },
      "source": [
        "## 4. Training\n",
        "Next we will create a SLEAP `Trainer` from the configuration we just specified. This handles all the nitty gritty mechanics necessary to setup training in the backend."
      ]
    },
    {
      "cell_type": "code",
      "execution_count": 7,
      "metadata": {
        "colab": {
          "base_uri": "https://localhost:8080/"
        },
        "id": "enbK9O5Dv8Pd",
        "outputId": "0e36a6e2-a7e8-4d0f-e1d3-0d1b7abaf490"
      },
      "outputs": [
        {
          "name": "stdout",
          "output_type": "stream",
          "text": [
            "INFO:sleap.nn.training:Loading training labels from: labels.pkg.slp\n",
            "INFO:sleap.nn.training:Creating training and validation splits from validation fraction: 0.1\n",
            "INFO:sleap.nn.training:  Splits: Training = 1440 / Validation = 160.\n"
          ]
        }
      ],
      "source": [
        "trainer = sleap.nn.training.Trainer.from_config(cfg)"
      ]
    },
    {
      "cell_type": "markdown",
      "metadata": {
        "id": "JwMTtOrmwUM9"
      },
      "source": [
        "Great, now we're ready to do the first round of training. This is when the model will actually start to improve over time:"
      ]
    },
    {
      "cell_type": "code",
      "execution_count": 9,
      "metadata": {
        "colab": {
          "base_uri": "https://localhost:8080/",
          "height": 1000,
          "referenced_widgets": [
            "6b2a262ed72e4c659969f996ac889aa7",
            "b30cb8d1b5bc4e12b554794098bd2c46",
            "973660ab9cb2472786b368a18db11c63",
            "cdb03dbf1b804f0b8b9bfd738c5eb2ad"
          ]
        },
        "id": "L8jNydTEwNA1",
        "outputId": "51828b8c-6d8b-4743-e9d2-9153f5b571c3"
      },
      "outputs": [
        {
          "name": "stdout",
          "output_type": "stream",
          "text": [
            "INFO:sleap.nn.training:Creating tf.data.Datasets for training data generation...\n",
            "INFO:sleap.nn.training:Finished creating training datasets. [15.6s]\n",
            "INFO:sleap.nn.training:Starting training loop...\n",
            "Epoch 1/10\n",
            "360/360 - 77s - loss: 0.0024 - head: 8.5501e-04 - thorax: 9.5685e-04 - abdomen: 0.0023 - wingL: 0.0023 - wingR: 0.0023 - forelegL4: 0.0030 - forelegR4: 0.0028 - midlegL4: 0.0035 - midlegR4: 0.0035 - hindlegL4: 0.0036 - hindlegR4: 0.0036 - eyeL: 9.2221e-04 - eyeR: 9.6568e-04 - val_loss: 0.0021 - val_head: 5.9166e-04 - val_thorax: 6.1347e-04 - val_abdomen: 0.0022 - val_wingL: 0.0018 - val_wingR: 0.0020 - val_forelegL4: 0.0027 - val_forelegR4: 0.0027 - val_midlegL4: 0.0032 - val_midlegR4: 0.0034 - val_hindlegL4: 0.0035 - val_hindlegR4: 0.0034 - val_eyeL: 7.9556e-04 - val_eyeR: 8.8806e-04 - lr: 1.0000e-04 - 77s/epoch - 213ms/step\n",
            "Epoch 2/10\n",
            "360/360 - 78s - loss: 0.0020 - head: 6.5916e-04 - thorax: 5.5024e-04 - abdomen: 0.0020 - wingL: 0.0019 - wingR: 0.0019 - forelegL4: 0.0025 - forelegR4: 0.0024 - midlegL4: 0.0029 - midlegR4: 0.0031 - hindlegL4: 0.0033 - hindlegR4: 0.0031 - eyeL: 7.3504e-04 - eyeR: 7.4258e-04 - val_loss: 0.0018 - val_head: 5.3757e-04 - val_thorax: 4.6228e-04 - val_abdomen: 0.0018 - val_wingL: 0.0017 - val_wingR: 0.0018 - val_forelegL4: 0.0022 - val_forelegR4: 0.0023 - val_midlegL4: 0.0024 - val_midlegR4: 0.0026 - val_hindlegL4: 0.0031 - val_hindlegR4: 0.0029 - val_eyeL: 7.1657e-04 - val_eyeR: 7.9371e-04 - lr: 1.0000e-04 - 78s/epoch - 217ms/step\n",
            "Epoch 3/10\n",
            "360/360 - 77s - loss: 0.0017 - head: 6.0310e-04 - thorax: 4.5812e-04 - abdomen: 0.0018 - wingL: 0.0017 - wingR: 0.0017 - forelegL4: 0.0021 - forelegR4: 0.0021 - midlegL4: 0.0022 - midlegR4: 0.0023 - hindlegL4: 0.0028 - hindlegR4: 0.0026 - eyeL: 6.6846e-04 - eyeR: 6.8849e-04 - val_loss: 0.0015 - val_head: 4.6044e-04 - val_thorax: 3.5544e-04 - val_abdomen: 0.0015 - val_wingL: 0.0014 - val_wingR: 0.0016 - val_forelegL4: 0.0019 - val_forelegR4: 0.0019 - val_midlegL4: 0.0018 - val_midlegR4: 0.0020 - val_hindlegL4: 0.0024 - val_hindlegR4: 0.0024 - val_eyeL: 6.8466e-04 - val_eyeR: 7.0855e-04 - lr: 1.0000e-04 - 77s/epoch - 214ms/step\n",
            "Epoch 4/10\n",
            "360/360 - 77s - loss: 0.0014 - head: 5.3027e-04 - thorax: 3.7886e-04 - abdomen: 0.0016 - wingL: 0.0015 - wingR: 0.0015 - forelegL4: 0.0018 - forelegR4: 0.0019 - midlegL4: 0.0018 - midlegR4: 0.0018 - hindlegL4: 0.0023 - hindlegR4: 0.0022 - eyeL: 6.0787e-04 - eyeR: 6.1625e-04 - val_loss: 0.0013 - val_head: 4.1685e-04 - val_thorax: 4.1144e-04 - val_abdomen: 0.0014 - val_wingL: 0.0012 - val_wingR: 0.0013 - val_forelegL4: 0.0017 - val_forelegR4: 0.0018 - val_midlegL4: 0.0015 - val_midlegR4: 0.0016 - val_hindlegL4: 0.0021 - val_hindlegR4: 0.0021 - val_eyeL: 6.5130e-04 - val_eyeR: 6.6794e-04 - lr: 1.0000e-04 - 77s/epoch - 215ms/step\n",
            "Epoch 5/10\n",
            "360/360 - 75s - loss: 0.0013 - head: 4.7951e-04 - thorax: 3.1852e-04 - abdomen: 0.0014 - wingL: 0.0013 - wingR: 0.0013 - forelegL4: 0.0017 - forelegR4: 0.0017 - midlegL4: 0.0016 - midlegR4: 0.0016 - hindlegL4: 0.0020 - hindlegR4: 0.0020 - eyeL: 5.5333e-04 - eyeR: 5.5990e-04 - val_loss: 0.0012 - val_head: 3.8669e-04 - val_thorax: 3.3416e-04 - val_abdomen: 0.0012 - val_wingL: 0.0010 - val_wingR: 0.0012 - val_forelegL4: 0.0017 - val_forelegR4: 0.0017 - val_midlegL4: 0.0013 - val_midlegR4: 0.0015 - val_hindlegL4: 0.0019 - val_hindlegR4: 0.0019 - val_eyeL: 6.2366e-04 - val_eyeR: 6.3383e-04 - lr: 1.0000e-04 - 75s/epoch - 208ms/step\n",
            "Epoch 6/10\n",
            "360/360 - 75s - loss: 0.0012 - head: 4.4163e-04 - thorax: 2.8470e-04 - abdomen: 0.0013 - wingL: 0.0012 - wingR: 0.0012 - forelegL4: 0.0016 - forelegR4: 0.0016 - midlegL4: 0.0015 - midlegR4: 0.0015 - hindlegL4: 0.0019 - hindlegR4: 0.0019 - eyeL: 5.1624e-04 - eyeR: 5.2247e-04 - val_loss: 0.0011 - val_head: 3.8202e-04 - val_thorax: 2.5201e-04 - val_abdomen: 0.0011 - val_wingL: 9.6652e-04 - val_wingR: 0.0011 - val_forelegL4: 0.0016 - val_forelegR4: 0.0016 - val_midlegL4: 0.0013 - val_midlegR4: 0.0013 - val_hindlegL4: 0.0017 - val_hindlegR4: 0.0018 - val_eyeL: 6.0835e-04 - val_eyeR: 6.0827e-04 - lr: 1.0000e-04 - 75s/epoch - 208ms/step\n",
            "Epoch 7/10\n",
            "360/360 - 75s - loss: 0.0011 - head: 3.9925e-04 - thorax: 2.4979e-04 - abdomen: 0.0012 - wingL: 0.0011 - wingR: 0.0011 - forelegL4: 0.0015 - forelegR4: 0.0015 - midlegL4: 0.0013 - midlegR4: 0.0014 - hindlegL4: 0.0017 - hindlegR4: 0.0018 - eyeL: 4.7851e-04 - eyeR: 4.9001e-04 - val_loss: 0.0010 - val_head: 3.3008e-04 - val_thorax: 2.2473e-04 - val_abdomen: 0.0011 - val_wingL: 8.5971e-04 - val_wingR: 9.9025e-04 - val_forelegL4: 0.0015 - val_forelegR4: 0.0016 - val_midlegL4: 0.0011 - val_midlegR4: 0.0013 - val_hindlegL4: 0.0016 - val_hindlegR4: 0.0017 - val_eyeL: 5.7396e-04 - val_eyeR: 5.4976e-04 - lr: 1.0000e-04 - 75s/epoch - 209ms/step\n",
            "Epoch 8/10\n",
            "360/360 - 76s - loss: 0.0010 - head: 3.7494e-04 - thorax: 2.2905e-04 - abdomen: 0.0012 - wingL: 9.8244e-04 - wingR: 0.0010 - forelegL4: 0.0014 - forelegR4: 0.0015 - midlegL4: 0.0012 - midlegR4: 0.0013 - hindlegL4: 0.0016 - hindlegR4: 0.0017 - eyeL: 4.6068e-04 - eyeR: 4.5106e-04 - val_loss: 9.6110e-04 - val_head: 3.1246e-04 - val_thorax: 2.1136e-04 - val_abdomen: 9.5489e-04 - val_wingL: 8.1083e-04 - val_wingR: 8.7346e-04 - val_forelegL4: 0.0014 - val_forelegR4: 0.0014 - val_midlegL4: 0.0010 - val_midlegR4: 0.0012 - val_hindlegL4: 0.0015 - val_hindlegR4: 0.0016 - val_eyeL: 5.2659e-04 - val_eyeR: 5.0455e-04 - lr: 1.0000e-04 - 76s/epoch - 212ms/step\n",
            "Epoch 9/10\n",
            "360/360 - 78s - loss: 9.6852e-04 - head: 3.5298e-04 - thorax: 2.0645e-04 - abdomen: 0.0011 - wingL: 9.1980e-04 - wingR: 9.2149e-04 - forelegL4: 0.0014 - forelegR4: 0.0014 - midlegL4: 0.0012 - midlegR4: 0.0012 - hindlegL4: 0.0015 - hindlegR4: 0.0016 - eyeL: 4.2826e-04 - eyeR: 4.3564e-04 - val_loss: 9.8588e-04 - val_head: 3.2736e-04 - val_thorax: 1.8981e-04 - val_abdomen: 9.8248e-04 - val_wingL: 8.5647e-04 - val_wingR: 9.9686e-04 - val_forelegL4: 0.0015 - val_forelegR4: 0.0014 - val_midlegL4: 0.0011 - val_midlegR4: 0.0013 - val_hindlegL4: 0.0015 - val_hindlegR4: 0.0016 - val_eyeL: 5.2579e-04 - val_eyeR: 5.6920e-04 - lr: 1.0000e-04 - 78s/epoch - 218ms/step\n",
            "Epoch 10/10\n",
            "360/360 - 78s - loss: 9.2009e-04 - head: 3.4366e-04 - thorax: 2.0011e-04 - abdomen: 0.0010 - wingL: 8.6979e-04 - wingR: 8.7051e-04 - forelegL4: 0.0013 - forelegR4: 0.0013 - midlegL4: 0.0011 - midlegR4: 0.0011 - hindlegL4: 0.0015 - hindlegR4: 0.0015 - eyeL: 4.1628e-04 - eyeR: 4.2324e-04 - val_loss: 9.0479e-04 - val_head: 2.8915e-04 - val_thorax: 1.6872e-04 - val_abdomen: 9.1954e-04 - val_wingL: 7.9061e-04 - val_wingR: 8.1502e-04 - val_forelegL4: 0.0015 - val_forelegR4: 0.0013 - val_midlegL4: 9.3871e-04 - val_midlegR4: 0.0011 - val_hindlegL4: 0.0014 - val_hindlegR4: 0.0016 - val_eyeL: 4.8256e-04 - val_eyeR: 5.3115e-04 - lr: 1.0000e-04 - 78s/epoch - 216ms/step\n",
            "INFO:sleap.nn.training:Finished training loop. [12.8 min]\n",
            "INFO:sleap.nn.training:Deleting visualization directory: models\\baseline_model.topdown\\viz\n",
            "INFO:sleap.nn.training:Saving evaluation metrics to model folder...\n"
          ]
        },
        {
          "data": {
            "text/html": [
              "<pre style=\"white-space:pre;overflow-x:auto;line-height:normal;font-family:Menlo,'DejaVu Sans Mono',consolas,'Courier New',monospace\">c:\\Users\\TalmoLab\\mambaforge\\envs\\sleap_jupyter\\lib\\site-packages\\rich\\live.py:221: \n",
              "UserWarning: install \"ipywidgets\" for Jupyter support\n",
              "  warnings.warn('install \"ipywidgets\" for Jupyter support')\n",
              "</pre>\n"
            ],
            "text/plain": [
              "c:\\Users\\TalmoLab\\mambaforge\\envs\\sleap_jupyter\\lib\\site-packages\\rich\\live.py:221: \n",
              "UserWarning: install \"ipywidgets\" for Jupyter support\n",
              "  warnings.warn('install \"ipywidgets\" for Jupyter support')\n"
            ]
          },
          "metadata": {},
          "output_type": "display_data"
        },
        {
          "data": {
            "text/html": [
              "<pre style=\"white-space:pre;overflow-x:auto;line-height:normal;font-family:Menlo,'DejaVu Sans Mono',consolas,'Courier New',monospace\">c:\\Users\\TalmoLab\\mambaforge\\envs\\sleap_jupyter\\lib\\site-packages\\rich\\live.py:221: \n",
              "UserWarning: install \"ipywidgets\" for Jupyter support\n",
              "  warnings.warn('install \"ipywidgets\" for Jupyter support')\n",
              "</pre>\n"
            ],
            "text/plain": [
              "c:\\Users\\TalmoLab\\mambaforge\\envs\\sleap_jupyter\\lib\\site-packages\\rich\\live.py:221: \n",
              "UserWarning: install \"ipywidgets\" for Jupyter support\n",
              "  warnings.warn('install \"ipywidgets\" for Jupyter support')\n"
            ]
          },
          "metadata": {},
          "output_type": "display_data"
        },
        {
          "data": {
            "text/html": [
              "<pre style=\"white-space:pre;overflow-x:auto;line-height:normal;font-family:Menlo,'DejaVu Sans Mono',consolas,'Courier New',monospace\">c:\\Users\\TalmoLab\\mambaforge\\envs\\sleap_jupyter\\lib\\site-packages\\rich\\live.py:221: \n",
              "UserWarning: install \"ipywidgets\" for Jupyter support\n",
              "  warnings.warn('install \"ipywidgets\" for Jupyter support')\n",
              "</pre>\n"
            ],
            "text/plain": [
              "c:\\Users\\TalmoLab\\mambaforge\\envs\\sleap_jupyter\\lib\\site-packages\\rich\\live.py:221: \n",
              "UserWarning: install \"ipywidgets\" for Jupyter support\n",
              "  warnings.warn('install \"ipywidgets\" for Jupyter support')\n"
            ]
          },
          "metadata": {},
          "output_type": "display_data"
        },
        {
          "data": {
            "text/html": [
              "<pre style=\"white-space:pre;overflow-x:auto;line-height:normal;font-family:Menlo,'DejaVu Sans Mono',consolas,'Courier New',monospace\">c:\\Users\\TalmoLab\\mambaforge\\envs\\sleap_jupyter\\lib\\site-packages\\rich\\live.py:221: \n",
              "UserWarning: install \"ipywidgets\" for Jupyter support\n",
              "  warnings.warn('install \"ipywidgets\" for Jupyter support')\n",
              "</pre>\n"
            ],
            "text/plain": [
              "c:\\Users\\TalmoLab\\mambaforge\\envs\\sleap_jupyter\\lib\\site-packages\\rich\\live.py:221: \n",
              "UserWarning: install \"ipywidgets\" for Jupyter support\n",
              "  warnings.warn('install \"ipywidgets\" for Jupyter support')\n"
            ]
          },
          "metadata": {},
          "output_type": "display_data"
        },
        {
          "data": {
            "text/html": [
              "<pre style=\"white-space:pre;overflow-x:auto;line-height:normal;font-family:Menlo,'DejaVu Sans Mono',consolas,'Courier New',monospace\">c:\\Users\\TalmoLab\\mambaforge\\envs\\sleap_jupyter\\lib\\site-packages\\rich\\live.py:221: \n",
              "UserWarning: install \"ipywidgets\" for Jupyter support\n",
              "  warnings.warn('install \"ipywidgets\" for Jupyter support')\n",
              "</pre>\n"
            ],
            "text/plain": [
              "c:\\Users\\TalmoLab\\mambaforge\\envs\\sleap_jupyter\\lib\\site-packages\\rich\\live.py:221: \n",
              "UserWarning: install \"ipywidgets\" for Jupyter support\n",
              "  warnings.warn('install \"ipywidgets\" for Jupyter support')\n"
            ]
          },
          "metadata": {},
          "output_type": "display_data"
        },
        {
          "data": {
            "text/html": [
              "<pre style=\"white-space:pre;overflow-x:auto;line-height:normal;font-family:Menlo,'DejaVu Sans Mono',consolas,'Courier New',monospace\">c:\\Users\\TalmoLab\\mambaforge\\envs\\sleap_jupyter\\lib\\site-packages\\rich\\live.py:221: \n",
              "UserWarning: install \"ipywidgets\" for Jupyter support\n",
              "  warnings.warn('install \"ipywidgets\" for Jupyter support')\n",
              "</pre>\n"
            ],
            "text/plain": [
              "c:\\Users\\TalmoLab\\mambaforge\\envs\\sleap_jupyter\\lib\\site-packages\\rich\\live.py:221: \n",
              "UserWarning: install \"ipywidgets\" for Jupyter support\n",
              "  warnings.warn('install \"ipywidgets\" for Jupyter support')\n"
            ]
          },
          "metadata": {},
          "output_type": "display_data"
        },
        {
          "data": {
            "text/html": [
              "<pre style=\"white-space:pre;overflow-x:auto;line-height:normal;font-family:Menlo,'DejaVu Sans Mono',consolas,'Courier New',monospace\">c:\\Users\\TalmoLab\\mambaforge\\envs\\sleap_jupyter\\lib\\site-packages\\rich\\live.py:221: \n",
              "UserWarning: install \"ipywidgets\" for Jupyter support\n",
              "  warnings.warn('install \"ipywidgets\" for Jupyter support')\n",
              "</pre>\n"
            ],
            "text/plain": [
              "c:\\Users\\TalmoLab\\mambaforge\\envs\\sleap_jupyter\\lib\\site-packages\\rich\\live.py:221: \n",
              "UserWarning: install \"ipywidgets\" for Jupyter support\n",
              "  warnings.warn('install \"ipywidgets\" for Jupyter support')\n"
            ]
          },
          "metadata": {},
          "output_type": "display_data"
        },
        {
          "data": {
            "text/html": [
              "<pre style=\"white-space:pre;overflow-x:auto;line-height:normal;font-family:Menlo,'DejaVu Sans Mono',consolas,'Courier New',monospace\">c:\\Users\\TalmoLab\\mambaforge\\envs\\sleap_jupyter\\lib\\site-packages\\rich\\live.py:221: \n",
              "UserWarning: install \"ipywidgets\" for Jupyter support\n",
              "  warnings.warn('install \"ipywidgets\" for Jupyter support')\n",
              "</pre>\n"
            ],
            "text/plain": [
              "c:\\Users\\TalmoLab\\mambaforge\\envs\\sleap_jupyter\\lib\\site-packages\\rich\\live.py:221: \n",
              "UserWarning: install \"ipywidgets\" for Jupyter support\n",
              "  warnings.warn('install \"ipywidgets\" for Jupyter support')\n"
            ]
          },
          "metadata": {},
          "output_type": "display_data"
        },
        {
          "data": {
            "text/html": [
              "<pre style=\"white-space:pre;overflow-x:auto;line-height:normal;font-family:Menlo,'DejaVu Sans Mono',consolas,'Courier New',monospace\">c:\\Users\\TalmoLab\\mambaforge\\envs\\sleap_jupyter\\lib\\site-packages\\rich\\live.py:221: \n",
              "UserWarning: install \"ipywidgets\" for Jupyter support\n",
              "  warnings.warn('install \"ipywidgets\" for Jupyter support')\n",
              "</pre>\n"
            ],
            "text/plain": [
              "c:\\Users\\TalmoLab\\mambaforge\\envs\\sleap_jupyter\\lib\\site-packages\\rich\\live.py:221: \n",
              "UserWarning: install \"ipywidgets\" for Jupyter support\n",
              "  warnings.warn('install \"ipywidgets\" for Jupyter support')\n"
            ]
          },
          "metadata": {},
          "output_type": "display_data"
        },
        {
          "data": {
            "text/html": [
              "<pre style=\"white-space:pre;overflow-x:auto;line-height:normal;font-family:Menlo,'DejaVu Sans Mono',consolas,'Courier New',monospace\">c:\\Users\\TalmoLab\\mambaforge\\envs\\sleap_jupyter\\lib\\site-packages\\rich\\live.py:221: \n",
              "UserWarning: install \"ipywidgets\" for Jupyter support\n",
              "  warnings.warn('install \"ipywidgets\" for Jupyter support')\n",
              "</pre>\n"
            ],
            "text/plain": [
              "c:\\Users\\TalmoLab\\mambaforge\\envs\\sleap_jupyter\\lib\\site-packages\\rich\\live.py:221: \n",
              "UserWarning: install \"ipywidgets\" for Jupyter support\n",
              "  warnings.warn('install \"ipywidgets\" for Jupyter support')\n"
            ]
          },
          "metadata": {},
          "output_type": "display_data"
        },
        {
          "data": {
            "text/html": [
              "<pre style=\"white-space:pre;overflow-x:auto;line-height:normal;font-family:Menlo,'DejaVu Sans Mono',consolas,'Courier New',monospace\">c:\\Users\\TalmoLab\\mambaforge\\envs\\sleap_jupyter\\lib\\site-packages\\rich\\live.py:221: \n",
              "UserWarning: install \"ipywidgets\" for Jupyter support\n",
              "  warnings.warn('install \"ipywidgets\" for Jupyter support')\n",
              "</pre>\n"
            ],
            "text/plain": [
              "c:\\Users\\TalmoLab\\mambaforge\\envs\\sleap_jupyter\\lib\\site-packages\\rich\\live.py:221: \n",
              "UserWarning: install \"ipywidgets\" for Jupyter support\n",
              "  warnings.warn('install \"ipywidgets\" for Jupyter support')\n"
            ]
          },
          "metadata": {},
          "output_type": "display_data"
        },
        {
          "data": {
            "text/html": [
              "<pre style=\"white-space:pre;overflow-x:auto;line-height:normal;font-family:Menlo,'DejaVu Sans Mono',consolas,'Courier New',monospace\">c:\\Users\\TalmoLab\\mambaforge\\envs\\sleap_jupyter\\lib\\site-packages\\rich\\live.py:221: \n",
              "UserWarning: install \"ipywidgets\" for Jupyter support\n",
              "  warnings.warn('install \"ipywidgets\" for Jupyter support')\n",
              "</pre>\n"
            ],
            "text/plain": [
              "c:\\Users\\TalmoLab\\mambaforge\\envs\\sleap_jupyter\\lib\\site-packages\\rich\\live.py:221: \n",
              "UserWarning: install \"ipywidgets\" for Jupyter support\n",
              "  warnings.warn('install \"ipywidgets\" for Jupyter support')\n"
            ]
          },
          "metadata": {},
          "output_type": "display_data"
        },
        {
          "data": {
            "text/html": [
              "<pre style=\"white-space:pre;overflow-x:auto;line-height:normal;font-family:Menlo,'DejaVu Sans Mono',consolas,'Courier New',monospace\">c:\\Users\\TalmoLab\\mambaforge\\envs\\sleap_jupyter\\lib\\site-packages\\rich\\live.py:221: \n",
              "UserWarning: install \"ipywidgets\" for Jupyter support\n",
              "  warnings.warn('install \"ipywidgets\" for Jupyter support')\n",
              "</pre>\n"
            ],
            "text/plain": [
              "c:\\Users\\TalmoLab\\mambaforge\\envs\\sleap_jupyter\\lib\\site-packages\\rich\\live.py:221: \n",
              "UserWarning: install \"ipywidgets\" for Jupyter support\n",
              "  warnings.warn('install \"ipywidgets\" for Jupyter support')\n"
            ]
          },
          "metadata": {},
          "output_type": "display_data"
        },
        {
          "data": {
            "text/html": [
              "<pre style=\"white-space:pre;overflow-x:auto;line-height:normal;font-family:Menlo,'DejaVu Sans Mono',consolas,'Courier New',monospace\">c:\\Users\\TalmoLab\\mambaforge\\envs\\sleap_jupyter\\lib\\site-packages\\rich\\live.py:221: \n",
              "UserWarning: install \"ipywidgets\" for Jupyter support\n",
              "  warnings.warn('install \"ipywidgets\" for Jupyter support')\n",
              "</pre>\n"
            ],
            "text/plain": [
              "c:\\Users\\TalmoLab\\mambaforge\\envs\\sleap_jupyter\\lib\\site-packages\\rich\\live.py:221: \n",
              "UserWarning: install \"ipywidgets\" for Jupyter support\n",
              "  warnings.warn('install \"ipywidgets\" for Jupyter support')\n"
            ]
          },
          "metadata": {},
          "output_type": "display_data"
        },
        {
          "data": {
            "text/html": [
              "<pre style=\"white-space:pre;overflow-x:auto;line-height:normal;font-family:Menlo,'DejaVu Sans Mono',consolas,'Courier New',monospace\">c:\\Users\\TalmoLab\\mambaforge\\envs\\sleap_jupyter\\lib\\site-packages\\rich\\live.py:221: \n",
              "UserWarning: install \"ipywidgets\" for Jupyter support\n",
              "  warnings.warn('install \"ipywidgets\" for Jupyter support')\n",
              "</pre>\n"
            ],
            "text/plain": [
              "c:\\Users\\TalmoLab\\mambaforge\\envs\\sleap_jupyter\\lib\\site-packages\\rich\\live.py:221: \n",
              "UserWarning: install \"ipywidgets\" for Jupyter support\n",
              "  warnings.warn('install \"ipywidgets\" for Jupyter support')\n"
            ]
          },
          "metadata": {},
          "output_type": "display_data"
        },
        {
          "data": {
            "text/html": [
              "<pre style=\"white-space:pre;overflow-x:auto;line-height:normal;font-family:Menlo,'DejaVu Sans Mono',consolas,'Courier New',monospace\">c:\\Users\\TalmoLab\\mambaforge\\envs\\sleap_jupyter\\lib\\site-packages\\rich\\live.py:221: \n",
              "UserWarning: install \"ipywidgets\" for Jupyter support\n",
              "  warnings.warn('install \"ipywidgets\" for Jupyter support')\n",
              "</pre>\n"
            ],
            "text/plain": [
              "c:\\Users\\TalmoLab\\mambaforge\\envs\\sleap_jupyter\\lib\\site-packages\\rich\\live.py:221: \n",
              "UserWarning: install \"ipywidgets\" for Jupyter support\n",
              "  warnings.warn('install \"ipywidgets\" for Jupyter support')\n"
            ]
          },
          "metadata": {},
          "output_type": "display_data"
        },
        {
          "data": {
            "text/html": [
              "<pre style=\"white-space:pre;overflow-x:auto;line-height:normal;font-family:Menlo,'DejaVu Sans Mono',consolas,'Courier New',monospace\">c:\\Users\\TalmoLab\\mambaforge\\envs\\sleap_jupyter\\lib\\site-packages\\rich\\live.py:221: \n",
              "UserWarning: install \"ipywidgets\" for Jupyter support\n",
              "  warnings.warn('install \"ipywidgets\" for Jupyter support')\n",
              "</pre>\n"
            ],
            "text/plain": [
              "c:\\Users\\TalmoLab\\mambaforge\\envs\\sleap_jupyter\\lib\\site-packages\\rich\\live.py:221: \n",
              "UserWarning: install \"ipywidgets\" for Jupyter support\n",
              "  warnings.warn('install \"ipywidgets\" for Jupyter support')\n"
            ]
          },
          "metadata": {},
          "output_type": "display_data"
        },
        {
          "data": {
            "text/html": [
              "<pre style=\"white-space:pre;overflow-x:auto;line-height:normal;font-family:Menlo,'DejaVu Sans Mono',consolas,'Courier New',monospace\">c:\\Users\\TalmoLab\\mambaforge\\envs\\sleap_jupyter\\lib\\site-packages\\rich\\live.py:221: \n",
              "UserWarning: install \"ipywidgets\" for Jupyter support\n",
              "  warnings.warn('install \"ipywidgets\" for Jupyter support')\n",
              "</pre>\n"
            ],
            "text/plain": [
              "c:\\Users\\TalmoLab\\mambaforge\\envs\\sleap_jupyter\\lib\\site-packages\\rich\\live.py:221: \n",
              "UserWarning: install \"ipywidgets\" for Jupyter support\n",
              "  warnings.warn('install \"ipywidgets\" for Jupyter support')\n"
            ]
          },
          "metadata": {},
          "output_type": "display_data"
        },
        {
          "data": {
            "text/html": [
              "<pre style=\"white-space:pre;overflow-x:auto;line-height:normal;font-family:Menlo,'DejaVu Sans Mono',consolas,'Courier New',monospace\">c:\\Users\\TalmoLab\\mambaforge\\envs\\sleap_jupyter\\lib\\site-packages\\rich\\live.py:221: \n",
              "UserWarning: install \"ipywidgets\" for Jupyter support\n",
              "  warnings.warn('install \"ipywidgets\" for Jupyter support')\n",
              "</pre>\n"
            ],
            "text/plain": [
              "c:\\Users\\TalmoLab\\mambaforge\\envs\\sleap_jupyter\\lib\\site-packages\\rich\\live.py:221: \n",
              "UserWarning: install \"ipywidgets\" for Jupyter support\n",
              "  warnings.warn('install \"ipywidgets\" for Jupyter support')\n"
            ]
          },
          "metadata": {},
          "output_type": "display_data"
        },
        {
          "data": {
            "text/html": [
              "<pre style=\"white-space:pre;overflow-x:auto;line-height:normal;font-family:Menlo,'DejaVu Sans Mono',consolas,'Courier New',monospace\">c:\\Users\\TalmoLab\\mambaforge\\envs\\sleap_jupyter\\lib\\site-packages\\rich\\live.py:221: \n",
              "UserWarning: install \"ipywidgets\" for Jupyter support\n",
              "  warnings.warn('install \"ipywidgets\" for Jupyter support')\n",
              "</pre>\n"
            ],
            "text/plain": [
              "c:\\Users\\TalmoLab\\mambaforge\\envs\\sleap_jupyter\\lib\\site-packages\\rich\\live.py:221: \n",
              "UserWarning: install \"ipywidgets\" for Jupyter support\n",
              "  warnings.warn('install \"ipywidgets\" for Jupyter support')\n"
            ]
          },
          "metadata": {},
          "output_type": "display_data"
        },
        {
          "data": {
            "text/html": [
              "<pre style=\"white-space:pre;overflow-x:auto;line-height:normal;font-family:Menlo,'DejaVu Sans Mono',consolas,'Courier New',monospace\">c:\\Users\\TalmoLab\\mambaforge\\envs\\sleap_jupyter\\lib\\site-packages\\rich\\live.py:221: \n",
              "UserWarning: install \"ipywidgets\" for Jupyter support\n",
              "  warnings.warn('install \"ipywidgets\" for Jupyter support')\n",
              "</pre>\n"
            ],
            "text/plain": [
              "c:\\Users\\TalmoLab\\mambaforge\\envs\\sleap_jupyter\\lib\\site-packages\\rich\\live.py:221: \n",
              "UserWarning: install \"ipywidgets\" for Jupyter support\n",
              "  warnings.warn('install \"ipywidgets\" for Jupyter support')\n"
            ]
          },
          "metadata": {},
          "output_type": "display_data"
        },
        {
          "data": {
            "text/html": [
              "<pre style=\"white-space:pre;overflow-x:auto;line-height:normal;font-family:Menlo,'DejaVu Sans Mono',consolas,'Courier New',monospace\">c:\\Users\\TalmoLab\\mambaforge\\envs\\sleap_jupyter\\lib\\site-packages\\rich\\live.py:221: \n",
              "UserWarning: install \"ipywidgets\" for Jupyter support\n",
              "  warnings.warn('install \"ipywidgets\" for Jupyter support')\n",
              "</pre>\n"
            ],
            "text/plain": [
              "c:\\Users\\TalmoLab\\mambaforge\\envs\\sleap_jupyter\\lib\\site-packages\\rich\\live.py:221: \n",
              "UserWarning: install \"ipywidgets\" for Jupyter support\n",
              "  warnings.warn('install \"ipywidgets\" for Jupyter support')\n"
            ]
          },
          "metadata": {},
          "output_type": "display_data"
        },
        {
          "data": {
            "text/html": [
              "<pre style=\"white-space:pre;overflow-x:auto;line-height:normal;font-family:Menlo,'DejaVu Sans Mono',consolas,'Courier New',monospace\">c:\\Users\\TalmoLab\\mambaforge\\envs\\sleap_jupyter\\lib\\site-packages\\rich\\live.py:221: \n",
              "UserWarning: install \"ipywidgets\" for Jupyter support\n",
              "  warnings.warn('install \"ipywidgets\" for Jupyter support')\n",
              "</pre>\n"
            ],
            "text/plain": [
              "c:\\Users\\TalmoLab\\mambaforge\\envs\\sleap_jupyter\\lib\\site-packages\\rich\\live.py:221: \n",
              "UserWarning: install \"ipywidgets\" for Jupyter support\n",
              "  warnings.warn('install \"ipywidgets\" for Jupyter support')\n"
            ]
          },
          "metadata": {},
          "output_type": "display_data"
        },
        {
          "data": {
            "text/html": [
              "<pre style=\"white-space:pre;overflow-x:auto;line-height:normal;font-family:Menlo,'DejaVu Sans Mono',consolas,'Courier New',monospace\">c:\\Users\\TalmoLab\\mambaforge\\envs\\sleap_jupyter\\lib\\site-packages\\rich\\live.py:221: \n",
              "UserWarning: install \"ipywidgets\" for Jupyter support\n",
              "  warnings.warn('install \"ipywidgets\" for Jupyter support')\n",
              "</pre>\n"
            ],
            "text/plain": [
              "c:\\Users\\TalmoLab\\mambaforge\\envs\\sleap_jupyter\\lib\\site-packages\\rich\\live.py:221: \n",
              "UserWarning: install \"ipywidgets\" for Jupyter support\n",
              "  warnings.warn('install \"ipywidgets\" for Jupyter support')\n"
            ]
          },
          "metadata": {},
          "output_type": "display_data"
        },
        {
          "data": {
            "text/html": [
              "<pre style=\"white-space:pre;overflow-x:auto;line-height:normal;font-family:Menlo,'DejaVu Sans Mono',consolas,'Courier New',monospace\">c:\\Users\\TalmoLab\\mambaforge\\envs\\sleap_jupyter\\lib\\site-packages\\rich\\live.py:221: \n",
              "UserWarning: install \"ipywidgets\" for Jupyter support\n",
              "  warnings.warn('install \"ipywidgets\" for Jupyter support')\n",
              "</pre>\n"
            ],
            "text/plain": [
              "c:\\Users\\TalmoLab\\mambaforge\\envs\\sleap_jupyter\\lib\\site-packages\\rich\\live.py:221: \n",
              "UserWarning: install \"ipywidgets\" for Jupyter support\n",
              "  warnings.warn('install \"ipywidgets\" for Jupyter support')\n"
            ]
          },
          "metadata": {},
          "output_type": "display_data"
        },
        {
          "data": {
            "text/html": [
              "<pre style=\"white-space:pre;overflow-x:auto;line-height:normal;font-family:Menlo,'DejaVu Sans Mono',consolas,'Courier New',monospace\">c:\\Users\\TalmoLab\\mambaforge\\envs\\sleap_jupyter\\lib\\site-packages\\rich\\live.py:221: \n",
              "UserWarning: install \"ipywidgets\" for Jupyter support\n",
              "  warnings.warn('install \"ipywidgets\" for Jupyter support')\n",
              "</pre>\n"
            ],
            "text/plain": [
              "c:\\Users\\TalmoLab\\mambaforge\\envs\\sleap_jupyter\\lib\\site-packages\\rich\\live.py:221: \n",
              "UserWarning: install \"ipywidgets\" for Jupyter support\n",
              "  warnings.warn('install \"ipywidgets\" for Jupyter support')\n"
            ]
          },
          "metadata": {},
          "output_type": "display_data"
        },
        {
          "data": {
            "text/html": [
              "<pre style=\"white-space:pre;overflow-x:auto;line-height:normal;font-family:Menlo,'DejaVu Sans Mono',consolas,'Courier New',monospace\">c:\\Users\\TalmoLab\\mambaforge\\envs\\sleap_jupyter\\lib\\site-packages\\rich\\live.py:221: \n",
              "UserWarning: install \"ipywidgets\" for Jupyter support\n",
              "  warnings.warn('install \"ipywidgets\" for Jupyter support')\n",
              "</pre>\n"
            ],
            "text/plain": [
              "c:\\Users\\TalmoLab\\mambaforge\\envs\\sleap_jupyter\\lib\\site-packages\\rich\\live.py:221: \n",
              "UserWarning: install \"ipywidgets\" for Jupyter support\n",
              "  warnings.warn('install \"ipywidgets\" for Jupyter support')\n"
            ]
          },
          "metadata": {},
          "output_type": "display_data"
        },
        {
          "data": {
            "text/html": [
              "<pre style=\"white-space:pre;overflow-x:auto;line-height:normal;font-family:Menlo,'DejaVu Sans Mono',consolas,'Courier New',monospace\">c:\\Users\\TalmoLab\\mambaforge\\envs\\sleap_jupyter\\lib\\site-packages\\rich\\live.py:221: \n",
              "UserWarning: install \"ipywidgets\" for Jupyter support\n",
              "  warnings.warn('install \"ipywidgets\" for Jupyter support')\n",
              "</pre>\n"
            ],
            "text/plain": [
              "c:\\Users\\TalmoLab\\mambaforge\\envs\\sleap_jupyter\\lib\\site-packages\\rich\\live.py:221: \n",
              "UserWarning: install \"ipywidgets\" for Jupyter support\n",
              "  warnings.warn('install \"ipywidgets\" for Jupyter support')\n"
            ]
          },
          "metadata": {},
          "output_type": "display_data"
        },
        {
          "data": {
            "text/html": [
              "<pre style=\"white-space:pre;overflow-x:auto;line-height:normal;font-family:Menlo,'DejaVu Sans Mono',consolas,'Courier New',monospace\">c:\\Users\\TalmoLab\\mambaforge\\envs\\sleap_jupyter\\lib\\site-packages\\rich\\live.py:221: \n",
              "UserWarning: install \"ipywidgets\" for Jupyter support\n",
              "  warnings.warn('install \"ipywidgets\" for Jupyter support')\n",
              "</pre>\n"
            ],
            "text/plain": [
              "c:\\Users\\TalmoLab\\mambaforge\\envs\\sleap_jupyter\\lib\\site-packages\\rich\\live.py:221: \n",
              "UserWarning: install \"ipywidgets\" for Jupyter support\n",
              "  warnings.warn('install \"ipywidgets\" for Jupyter support')\n"
            ]
          },
          "metadata": {},
          "output_type": "display_data"
        },
        {
          "data": {
            "text/html": [
              "<pre style=\"white-space:pre;overflow-x:auto;line-height:normal;font-family:Menlo,'DejaVu Sans Mono',consolas,'Courier New',monospace\">c:\\Users\\TalmoLab\\mambaforge\\envs\\sleap_jupyter\\lib\\site-packages\\rich\\live.py:221: \n",
              "UserWarning: install \"ipywidgets\" for Jupyter support\n",
              "  warnings.warn('install \"ipywidgets\" for Jupyter support')\n",
              "</pre>\n"
            ],
            "text/plain": [
              "c:\\Users\\TalmoLab\\mambaforge\\envs\\sleap_jupyter\\lib\\site-packages\\rich\\live.py:221: \n",
              "UserWarning: install \"ipywidgets\" for Jupyter support\n",
              "  warnings.warn('install \"ipywidgets\" for Jupyter support')\n"
            ]
          },
          "metadata": {},
          "output_type": "display_data"
        },
        {
          "data": {
            "text/html": [
              "<pre style=\"white-space:pre;overflow-x:auto;line-height:normal;font-family:Menlo,'DejaVu Sans Mono',consolas,'Courier New',monospace\">c:\\Users\\TalmoLab\\mambaforge\\envs\\sleap_jupyter\\lib\\site-packages\\rich\\live.py:221: \n",
              "UserWarning: install \"ipywidgets\" for Jupyter support\n",
              "  warnings.warn('install \"ipywidgets\" for Jupyter support')\n",
              "</pre>\n"
            ],
            "text/plain": [
              "c:\\Users\\TalmoLab\\mambaforge\\envs\\sleap_jupyter\\lib\\site-packages\\rich\\live.py:221: \n",
              "UserWarning: install \"ipywidgets\" for Jupyter support\n",
              "  warnings.warn('install \"ipywidgets\" for Jupyter support')\n"
            ]
          },
          "metadata": {},
          "output_type": "display_data"
        },
        {
          "data": {
            "text/html": [
              "<pre style=\"white-space:pre;overflow-x:auto;line-height:normal;font-family:Menlo,'DejaVu Sans Mono',consolas,'Courier New',monospace\">c:\\Users\\TalmoLab\\mambaforge\\envs\\sleap_jupyter\\lib\\site-packages\\rich\\live.py:221: \n",
              "UserWarning: install \"ipywidgets\" for Jupyter support\n",
              "  warnings.warn('install \"ipywidgets\" for Jupyter support')\n",
              "</pre>\n"
            ],
            "text/plain": [
              "c:\\Users\\TalmoLab\\mambaforge\\envs\\sleap_jupyter\\lib\\site-packages\\rich\\live.py:221: \n",
              "UserWarning: install \"ipywidgets\" for Jupyter support\n",
              "  warnings.warn('install \"ipywidgets\" for Jupyter support')\n"
            ]
          },
          "metadata": {},
          "output_type": "display_data"
        },
        {
          "data": {
            "text/html": [
              "<pre style=\"white-space:pre;overflow-x:auto;line-height:normal;font-family:Menlo,'DejaVu Sans Mono',consolas,'Courier New',monospace\">c:\\Users\\TalmoLab\\mambaforge\\envs\\sleap_jupyter\\lib\\site-packages\\rich\\live.py:221: \n",
              "UserWarning: install \"ipywidgets\" for Jupyter support\n",
              "  warnings.warn('install \"ipywidgets\" for Jupyter support')\n",
              "</pre>\n"
            ],
            "text/plain": [
              "c:\\Users\\TalmoLab\\mambaforge\\envs\\sleap_jupyter\\lib\\site-packages\\rich\\live.py:221: \n",
              "UserWarning: install \"ipywidgets\" for Jupyter support\n",
              "  warnings.warn('install \"ipywidgets\" for Jupyter support')\n"
            ]
          },
          "metadata": {},
          "output_type": "display_data"
        },
        {
          "data": {
            "text/html": [
              "<pre style=\"white-space:pre;overflow-x:auto;line-height:normal;font-family:Menlo,'DejaVu Sans Mono',consolas,'Courier New',monospace\">c:\\Users\\TalmoLab\\mambaforge\\envs\\sleap_jupyter\\lib\\site-packages\\rich\\live.py:221: \n",
              "UserWarning: install \"ipywidgets\" for Jupyter support\n",
              "  warnings.warn('install \"ipywidgets\" for Jupyter support')\n",
              "</pre>\n"
            ],
            "text/plain": [
              "c:\\Users\\TalmoLab\\mambaforge\\envs\\sleap_jupyter\\lib\\site-packages\\rich\\live.py:221: \n",
              "UserWarning: install \"ipywidgets\" for Jupyter support\n",
              "  warnings.warn('install \"ipywidgets\" for Jupyter support')\n"
            ]
          },
          "metadata": {},
          "output_type": "display_data"
        },
        {
          "data": {
            "text/html": [
              "<pre style=\"white-space:pre;overflow-x:auto;line-height:normal;font-family:Menlo,'DejaVu Sans Mono',consolas,'Courier New',monospace\">c:\\Users\\TalmoLab\\mambaforge\\envs\\sleap_jupyter\\lib\\site-packages\\rich\\live.py:221: \n",
              "UserWarning: install \"ipywidgets\" for Jupyter support\n",
              "  warnings.warn('install \"ipywidgets\" for Jupyter support')\n",
              "</pre>\n"
            ],
            "text/plain": [
              "c:\\Users\\TalmoLab\\mambaforge\\envs\\sleap_jupyter\\lib\\site-packages\\rich\\live.py:221: \n",
              "UserWarning: install \"ipywidgets\" for Jupyter support\n",
              "  warnings.warn('install \"ipywidgets\" for Jupyter support')\n"
            ]
          },
          "metadata": {},
          "output_type": "display_data"
        },
        {
          "data": {
            "text/html": [
              "<pre style=\"white-space:pre;overflow-x:auto;line-height:normal;font-family:Menlo,'DejaVu Sans Mono',consolas,'Courier New',monospace\">c:\\Users\\TalmoLab\\mambaforge\\envs\\sleap_jupyter\\lib\\site-packages\\rich\\live.py:221: \n",
              "UserWarning: install \"ipywidgets\" for Jupyter support\n",
              "  warnings.warn('install \"ipywidgets\" for Jupyter support')\n",
              "</pre>\n"
            ],
            "text/plain": [
              "c:\\Users\\TalmoLab\\mambaforge\\envs\\sleap_jupyter\\lib\\site-packages\\rich\\live.py:221: \n",
              "UserWarning: install \"ipywidgets\" for Jupyter support\n",
              "  warnings.warn('install \"ipywidgets\" for Jupyter support')\n"
            ]
          },
          "metadata": {},
          "output_type": "display_data"
        },
        {
          "data": {
            "text/html": [
              "<pre style=\"white-space:pre;overflow-x:auto;line-height:normal;font-family:Menlo,'DejaVu Sans Mono',consolas,'Courier New',monospace\">c:\\Users\\TalmoLab\\mambaforge\\envs\\sleap_jupyter\\lib\\site-packages\\rich\\live.py:221: \n",
              "UserWarning: install \"ipywidgets\" for Jupyter support\n",
              "  warnings.warn('install \"ipywidgets\" for Jupyter support')\n",
              "</pre>\n"
            ],
            "text/plain": [
              "c:\\Users\\TalmoLab\\mambaforge\\envs\\sleap_jupyter\\lib\\site-packages\\rich\\live.py:221: \n",
              "UserWarning: install \"ipywidgets\" for Jupyter support\n",
              "  warnings.warn('install \"ipywidgets\" for Jupyter support')\n"
            ]
          },
          "metadata": {},
          "output_type": "display_data"
        },
        {
          "data": {
            "text/html": [
              "<pre style=\"white-space:pre;overflow-x:auto;line-height:normal;font-family:Menlo,'DejaVu Sans Mono',consolas,'Courier New',monospace\">c:\\Users\\TalmoLab\\mambaforge\\envs\\sleap_jupyter\\lib\\site-packages\\rich\\live.py:221: \n",
              "UserWarning: install \"ipywidgets\" for Jupyter support\n",
              "  warnings.warn('install \"ipywidgets\" for Jupyter support')\n",
              "</pre>\n"
            ],
            "text/plain": [
              "c:\\Users\\TalmoLab\\mambaforge\\envs\\sleap_jupyter\\lib\\site-packages\\rich\\live.py:221: \n",
              "UserWarning: install \"ipywidgets\" for Jupyter support\n",
              "  warnings.warn('install \"ipywidgets\" for Jupyter support')\n"
            ]
          },
          "metadata": {},
          "output_type": "display_data"
        },
        {
          "data": {
            "text/html": [
              "<pre style=\"white-space:pre;overflow-x:auto;line-height:normal;font-family:Menlo,'DejaVu Sans Mono',consolas,'Courier New',monospace\">c:\\Users\\TalmoLab\\mambaforge\\envs\\sleap_jupyter\\lib\\site-packages\\rich\\live.py:221: \n",
              "UserWarning: install \"ipywidgets\" for Jupyter support\n",
              "  warnings.warn('install \"ipywidgets\" for Jupyter support')\n",
              "</pre>\n"
            ],
            "text/plain": [
              "c:\\Users\\TalmoLab\\mambaforge\\envs\\sleap_jupyter\\lib\\site-packages\\rich\\live.py:221: \n",
              "UserWarning: install \"ipywidgets\" for Jupyter support\n",
              "  warnings.warn('install \"ipywidgets\" for Jupyter support')\n"
            ]
          },
          "metadata": {},
          "output_type": "display_data"
        },
        {
          "data": {
            "text/html": [
              "<pre style=\"white-space:pre;overflow-x:auto;line-height:normal;font-family:Menlo,'DejaVu Sans Mono',consolas,'Courier New',monospace\">c:\\Users\\TalmoLab\\mambaforge\\envs\\sleap_jupyter\\lib\\site-packages\\rich\\live.py:221: \n",
              "UserWarning: install \"ipywidgets\" for Jupyter support\n",
              "  warnings.warn('install \"ipywidgets\" for Jupyter support')\n",
              "</pre>\n"
            ],
            "text/plain": [
              "c:\\Users\\TalmoLab\\mambaforge\\envs\\sleap_jupyter\\lib\\site-packages\\rich\\live.py:221: \n",
              "UserWarning: install \"ipywidgets\" for Jupyter support\n",
              "  warnings.warn('install \"ipywidgets\" for Jupyter support')\n"
            ]
          },
          "metadata": {},
          "output_type": "display_data"
        },
        {
          "data": {
            "text/html": [
              "<pre style=\"white-space:pre;overflow-x:auto;line-height:normal;font-family:Menlo,'DejaVu Sans Mono',consolas,'Courier New',monospace\">c:\\Users\\TalmoLab\\mambaforge\\envs\\sleap_jupyter\\lib\\site-packages\\rich\\live.py:221: \n",
              "UserWarning: install \"ipywidgets\" for Jupyter support\n",
              "  warnings.warn('install \"ipywidgets\" for Jupyter support')\n",
              "</pre>\n"
            ],
            "text/plain": [
              "c:\\Users\\TalmoLab\\mambaforge\\envs\\sleap_jupyter\\lib\\site-packages\\rich\\live.py:221: \n",
              "UserWarning: install \"ipywidgets\" for Jupyter support\n",
              "  warnings.warn('install \"ipywidgets\" for Jupyter support')\n"
            ]
          },
          "metadata": {},
          "output_type": "display_data"
        },
        {
          "data": {
            "text/html": [
              "<pre style=\"white-space:pre;overflow-x:auto;line-height:normal;font-family:Menlo,'DejaVu Sans Mono',consolas,'Courier New',monospace\">c:\\Users\\TalmoLab\\mambaforge\\envs\\sleap_jupyter\\lib\\site-packages\\rich\\live.py:221: \n",
              "UserWarning: install \"ipywidgets\" for Jupyter support\n",
              "  warnings.warn('install \"ipywidgets\" for Jupyter support')\n",
              "</pre>\n"
            ],
            "text/plain": [
              "c:\\Users\\TalmoLab\\mambaforge\\envs\\sleap_jupyter\\lib\\site-packages\\rich\\live.py:221: \n",
              "UserWarning: install \"ipywidgets\" for Jupyter support\n",
              "  warnings.warn('install \"ipywidgets\" for Jupyter support')\n"
            ]
          },
          "metadata": {},
          "output_type": "display_data"
        },
        {
          "data": {
            "text/html": [
              "<pre style=\"white-space:pre;overflow-x:auto;line-height:normal;font-family:Menlo,'DejaVu Sans Mono',consolas,'Courier New',monospace\">c:\\Users\\TalmoLab\\mambaforge\\envs\\sleap_jupyter\\lib\\site-packages\\rich\\live.py:221: \n",
              "UserWarning: install \"ipywidgets\" for Jupyter support\n",
              "  warnings.warn('install \"ipywidgets\" for Jupyter support')\n",
              "</pre>\n"
            ],
            "text/plain": [
              "c:\\Users\\TalmoLab\\mambaforge\\envs\\sleap_jupyter\\lib\\site-packages\\rich\\live.py:221: \n",
              "UserWarning: install \"ipywidgets\" for Jupyter support\n",
              "  warnings.warn('install \"ipywidgets\" for Jupyter support')\n"
            ]
          },
          "metadata": {},
          "output_type": "display_data"
        },
        {
          "data": {
            "text/html": [
              "<pre style=\"white-space:pre;overflow-x:auto;line-height:normal;font-family:Menlo,'DejaVu Sans Mono',consolas,'Courier New',monospace\">c:\\Users\\TalmoLab\\mambaforge\\envs\\sleap_jupyter\\lib\\site-packages\\rich\\live.py:221: \n",
              "UserWarning: install \"ipywidgets\" for Jupyter support\n",
              "  warnings.warn('install \"ipywidgets\" for Jupyter support')\n",
              "</pre>\n"
            ],
            "text/plain": [
              "c:\\Users\\TalmoLab\\mambaforge\\envs\\sleap_jupyter\\lib\\site-packages\\rich\\live.py:221: \n",
              "UserWarning: install \"ipywidgets\" for Jupyter support\n",
              "  warnings.warn('install \"ipywidgets\" for Jupyter support')\n"
            ]
          },
          "metadata": {},
          "output_type": "display_data"
        },
        {
          "data": {
            "text/html": [
              "<pre style=\"white-space:pre;overflow-x:auto;line-height:normal;font-family:Menlo,'DejaVu Sans Mono',consolas,'Courier New',monospace\">c:\\Users\\TalmoLab\\mambaforge\\envs\\sleap_jupyter\\lib\\site-packages\\rich\\live.py:221: \n",
              "UserWarning: install \"ipywidgets\" for Jupyter support\n",
              "  warnings.warn('install \"ipywidgets\" for Jupyter support')\n",
              "</pre>\n"
            ],
            "text/plain": [
              "c:\\Users\\TalmoLab\\mambaforge\\envs\\sleap_jupyter\\lib\\site-packages\\rich\\live.py:221: \n",
              "UserWarning: install \"ipywidgets\" for Jupyter support\n",
              "  warnings.warn('install \"ipywidgets\" for Jupyter support')\n"
            ]
          },
          "metadata": {},
          "output_type": "display_data"
        },
        {
          "data": {
            "text/html": [
              "<pre style=\"white-space:pre;overflow-x:auto;line-height:normal;font-family:Menlo,'DejaVu Sans Mono',consolas,'Courier New',monospace\">c:\\Users\\TalmoLab\\mambaforge\\envs\\sleap_jupyter\\lib\\site-packages\\rich\\live.py:221: \n",
              "UserWarning: install \"ipywidgets\" for Jupyter support\n",
              "  warnings.warn('install \"ipywidgets\" for Jupyter support')\n",
              "</pre>\n"
            ],
            "text/plain": [
              "c:\\Users\\TalmoLab\\mambaforge\\envs\\sleap_jupyter\\lib\\site-packages\\rich\\live.py:221: \n",
              "UserWarning: install \"ipywidgets\" for Jupyter support\n",
              "  warnings.warn('install \"ipywidgets\" for Jupyter support')\n"
            ]
          },
          "metadata": {},
          "output_type": "display_data"
        },
        {
          "data": {
            "text/html": [
              "<pre style=\"white-space:pre;overflow-x:auto;line-height:normal;font-family:Menlo,'DejaVu Sans Mono',consolas,'Courier New',monospace\">c:\\Users\\TalmoLab\\mambaforge\\envs\\sleap_jupyter\\lib\\site-packages\\rich\\live.py:221: \n",
              "UserWarning: install \"ipywidgets\" for Jupyter support\n",
              "  warnings.warn('install \"ipywidgets\" for Jupyter support')\n",
              "</pre>\n"
            ],
            "text/plain": [
              "c:\\Users\\TalmoLab\\mambaforge\\envs\\sleap_jupyter\\lib\\site-packages\\rich\\live.py:221: \n",
              "UserWarning: install \"ipywidgets\" for Jupyter support\n",
              "  warnings.warn('install \"ipywidgets\" for Jupyter support')\n"
            ]
          },
          "metadata": {},
          "output_type": "display_data"
        },
        {
          "data": {
            "text/html": [
              "<pre style=\"white-space:pre;overflow-x:auto;line-height:normal;font-family:Menlo,'DejaVu Sans Mono',consolas,'Courier New',monospace\">c:\\Users\\TalmoLab\\mambaforge\\envs\\sleap_jupyter\\lib\\site-packages\\rich\\live.py:221: \n",
              "UserWarning: install \"ipywidgets\" for Jupyter support\n",
              "  warnings.warn('install \"ipywidgets\" for Jupyter support')\n",
              "</pre>\n"
            ],
            "text/plain": [
              "c:\\Users\\TalmoLab\\mambaforge\\envs\\sleap_jupyter\\lib\\site-packages\\rich\\live.py:221: \n",
              "UserWarning: install \"ipywidgets\" for Jupyter support\n",
              "  warnings.warn('install \"ipywidgets\" for Jupyter support')\n"
            ]
          },
          "metadata": {},
          "output_type": "display_data"
        },
        {
          "data": {
            "text/html": [
              "<pre style=\"white-space:pre;overflow-x:auto;line-height:normal;font-family:Menlo,'DejaVu Sans Mono',consolas,'Courier New',monospace\">c:\\Users\\TalmoLab\\mambaforge\\envs\\sleap_jupyter\\lib\\site-packages\\rich\\live.py:221: \n",
              "UserWarning: install \"ipywidgets\" for Jupyter support\n",
              "  warnings.warn('install \"ipywidgets\" for Jupyter support')\n",
              "</pre>\n"
            ],
            "text/plain": [
              "c:\\Users\\TalmoLab\\mambaforge\\envs\\sleap_jupyter\\lib\\site-packages\\rich\\live.py:221: \n",
              "UserWarning: install \"ipywidgets\" for Jupyter support\n",
              "  warnings.warn('install \"ipywidgets\" for Jupyter support')\n"
            ]
          },
          "metadata": {},
          "output_type": "display_data"
        },
        {
          "data": {
            "text/html": [
              "<pre style=\"white-space:pre;overflow-x:auto;line-height:normal;font-family:Menlo,'DejaVu Sans Mono',consolas,'Courier New',monospace\">c:\\Users\\TalmoLab\\mambaforge\\envs\\sleap_jupyter\\lib\\site-packages\\rich\\live.py:221: \n",
              "UserWarning: install \"ipywidgets\" for Jupyter support\n",
              "  warnings.warn('install \"ipywidgets\" for Jupyter support')\n",
              "</pre>\n"
            ],
            "text/plain": [
              "c:\\Users\\TalmoLab\\mambaforge\\envs\\sleap_jupyter\\lib\\site-packages\\rich\\live.py:221: \n",
              "UserWarning: install \"ipywidgets\" for Jupyter support\n",
              "  warnings.warn('install \"ipywidgets\" for Jupyter support')\n"
            ]
          },
          "metadata": {},
          "output_type": "display_data"
        },
        {
          "data": {
            "text/html": [
              "<pre style=\"white-space:pre;overflow-x:auto;line-height:normal;font-family:Menlo,'DejaVu Sans Mono',consolas,'Courier New',monospace\">c:\\Users\\TalmoLab\\mambaforge\\envs\\sleap_jupyter\\lib\\site-packages\\rich\\live.py:221: \n",
              "UserWarning: install \"ipywidgets\" for Jupyter support\n",
              "  warnings.warn('install \"ipywidgets\" for Jupyter support')\n",
              "</pre>\n"
            ],
            "text/plain": [
              "c:\\Users\\TalmoLab\\mambaforge\\envs\\sleap_jupyter\\lib\\site-packages\\rich\\live.py:221: \n",
              "UserWarning: install \"ipywidgets\" for Jupyter support\n",
              "  warnings.warn('install \"ipywidgets\" for Jupyter support')\n"
            ]
          },
          "metadata": {},
          "output_type": "display_data"
        },
        {
          "data": {
            "text/html": [
              "<pre style=\"white-space:pre;overflow-x:auto;line-height:normal;font-family:Menlo,'DejaVu Sans Mono',consolas,'Courier New',monospace\">c:\\Users\\TalmoLab\\mambaforge\\envs\\sleap_jupyter\\lib\\site-packages\\rich\\live.py:221: \n",
              "UserWarning: install \"ipywidgets\" for Jupyter support\n",
              "  warnings.warn('install \"ipywidgets\" for Jupyter support')\n",
              "</pre>\n"
            ],
            "text/plain": [
              "c:\\Users\\TalmoLab\\mambaforge\\envs\\sleap_jupyter\\lib\\site-packages\\rich\\live.py:221: \n",
              "UserWarning: install \"ipywidgets\" for Jupyter support\n",
              "  warnings.warn('install \"ipywidgets\" for Jupyter support')\n"
            ]
          },
          "metadata": {},
          "output_type": "display_data"
        },
        {
          "data": {
            "text/html": [
              "<pre style=\"white-space:pre;overflow-x:auto;line-height:normal;font-family:Menlo,'DejaVu Sans Mono',consolas,'Courier New',monospace\">c:\\Users\\TalmoLab\\mambaforge\\envs\\sleap_jupyter\\lib\\site-packages\\rich\\live.py:221: \n",
              "UserWarning: install \"ipywidgets\" for Jupyter support\n",
              "  warnings.warn('install \"ipywidgets\" for Jupyter support')\n",
              "</pre>\n"
            ],
            "text/plain": [
              "c:\\Users\\TalmoLab\\mambaforge\\envs\\sleap_jupyter\\lib\\site-packages\\rich\\live.py:221: \n",
              "UserWarning: install \"ipywidgets\" for Jupyter support\n",
              "  warnings.warn('install \"ipywidgets\" for Jupyter support')\n"
            ]
          },
          "metadata": {},
          "output_type": "display_data"
        },
        {
          "data": {
            "text/html": [
              "<pre style=\"white-space:pre;overflow-x:auto;line-height:normal;font-family:Menlo,'DejaVu Sans Mono',consolas,'Courier New',monospace\">c:\\Users\\TalmoLab\\mambaforge\\envs\\sleap_jupyter\\lib\\site-packages\\rich\\live.py:221: \n",
              "UserWarning: install \"ipywidgets\" for Jupyter support\n",
              "  warnings.warn('install \"ipywidgets\" for Jupyter support')\n",
              "</pre>\n"
            ],
            "text/plain": [
              "c:\\Users\\TalmoLab\\mambaforge\\envs\\sleap_jupyter\\lib\\site-packages\\rich\\live.py:221: \n",
              "UserWarning: install \"ipywidgets\" for Jupyter support\n",
              "  warnings.warn('install \"ipywidgets\" for Jupyter support')\n"
            ]
          },
          "metadata": {},
          "output_type": "display_data"
        },
        {
          "data": {
            "text/html": [
              "<pre style=\"white-space:pre;overflow-x:auto;line-height:normal;font-family:Menlo,'DejaVu Sans Mono',consolas,'Courier New',monospace\">c:\\Users\\TalmoLab\\mambaforge\\envs\\sleap_jupyter\\lib\\site-packages\\rich\\live.py:221: \n",
              "UserWarning: install \"ipywidgets\" for Jupyter support\n",
              "  warnings.warn('install \"ipywidgets\" for Jupyter support')\n",
              "</pre>\n"
            ],
            "text/plain": [
              "c:\\Users\\TalmoLab\\mambaforge\\envs\\sleap_jupyter\\lib\\site-packages\\rich\\live.py:221: \n",
              "UserWarning: install \"ipywidgets\" for Jupyter support\n",
              "  warnings.warn('install \"ipywidgets\" for Jupyter support')\n"
            ]
          },
          "metadata": {},
          "output_type": "display_data"
        },
        {
          "data": {
            "text/html": [
              "<pre style=\"white-space:pre;overflow-x:auto;line-height:normal;font-family:Menlo,'DejaVu Sans Mono',consolas,'Courier New',monospace\">c:\\Users\\TalmoLab\\mambaforge\\envs\\sleap_jupyter\\lib\\site-packages\\rich\\live.py:221: \n",
              "UserWarning: install \"ipywidgets\" for Jupyter support\n",
              "  warnings.warn('install \"ipywidgets\" for Jupyter support')\n",
              "</pre>\n"
            ],
            "text/plain": [
              "c:\\Users\\TalmoLab\\mambaforge\\envs\\sleap_jupyter\\lib\\site-packages\\rich\\live.py:221: \n",
              "UserWarning: install \"ipywidgets\" for Jupyter support\n",
              "  warnings.warn('install \"ipywidgets\" for Jupyter support')\n"
            ]
          },
          "metadata": {},
          "output_type": "display_data"
        },
        {
          "data": {
            "text/html": [
              "<pre style=\"white-space:pre;overflow-x:auto;line-height:normal;font-family:Menlo,'DejaVu Sans Mono',consolas,'Courier New',monospace\">c:\\Users\\TalmoLab\\mambaforge\\envs\\sleap_jupyter\\lib\\site-packages\\rich\\live.py:221: \n",
              "UserWarning: install \"ipywidgets\" for Jupyter support\n",
              "  warnings.warn('install \"ipywidgets\" for Jupyter support')\n",
              "</pre>\n"
            ],
            "text/plain": [
              "c:\\Users\\TalmoLab\\mambaforge\\envs\\sleap_jupyter\\lib\\site-packages\\rich\\live.py:221: \n",
              "UserWarning: install \"ipywidgets\" for Jupyter support\n",
              "  warnings.warn('install \"ipywidgets\" for Jupyter support')\n"
            ]
          },
          "metadata": {},
          "output_type": "display_data"
        },
        {
          "data": {
            "text/html": [
              "<pre style=\"white-space:pre;overflow-x:auto;line-height:normal;font-family:Menlo,'DejaVu Sans Mono',consolas,'Courier New',monospace\">c:\\Users\\TalmoLab\\mambaforge\\envs\\sleap_jupyter\\lib\\site-packages\\rich\\live.py:221: \n",
              "UserWarning: install \"ipywidgets\" for Jupyter support\n",
              "  warnings.warn('install \"ipywidgets\" for Jupyter support')\n",
              "</pre>\n"
            ],
            "text/plain": [
              "c:\\Users\\TalmoLab\\mambaforge\\envs\\sleap_jupyter\\lib\\site-packages\\rich\\live.py:221: \n",
              "UserWarning: install \"ipywidgets\" for Jupyter support\n",
              "  warnings.warn('install \"ipywidgets\" for Jupyter support')\n"
            ]
          },
          "metadata": {},
          "output_type": "display_data"
        },
        {
          "data": {
            "text/html": [
              "<pre style=\"white-space:pre;overflow-x:auto;line-height:normal;font-family:Menlo,'DejaVu Sans Mono',consolas,'Courier New',monospace\">c:\\Users\\TalmoLab\\mambaforge\\envs\\sleap_jupyter\\lib\\site-packages\\rich\\live.py:221: \n",
              "UserWarning: install \"ipywidgets\" for Jupyter support\n",
              "  warnings.warn('install \"ipywidgets\" for Jupyter support')\n",
              "</pre>\n"
            ],
            "text/plain": [
              "c:\\Users\\TalmoLab\\mambaforge\\envs\\sleap_jupyter\\lib\\site-packages\\rich\\live.py:221: \n",
              "UserWarning: install \"ipywidgets\" for Jupyter support\n",
              "  warnings.warn('install \"ipywidgets\" for Jupyter support')\n"
            ]
          },
          "metadata": {},
          "output_type": "display_data"
        },
        {
          "data": {
            "text/html": [
              "<pre style=\"white-space:pre;overflow-x:auto;line-height:normal;font-family:Menlo,'DejaVu Sans Mono',consolas,'Courier New',monospace\">c:\\Users\\TalmoLab\\mambaforge\\envs\\sleap_jupyter\\lib\\site-packages\\rich\\live.py:221: \n",
              "UserWarning: install \"ipywidgets\" for Jupyter support\n",
              "  warnings.warn('install \"ipywidgets\" for Jupyter support')\n",
              "</pre>\n"
            ],
            "text/plain": [
              "c:\\Users\\TalmoLab\\mambaforge\\envs\\sleap_jupyter\\lib\\site-packages\\rich\\live.py:221: \n",
              "UserWarning: install \"ipywidgets\" for Jupyter support\n",
              "  warnings.warn('install \"ipywidgets\" for Jupyter support')\n"
            ]
          },
          "metadata": {},
          "output_type": "display_data"
        },
        {
          "data": {
            "text/html": [
              "<pre style=\"white-space:pre;overflow-x:auto;line-height:normal;font-family:Menlo,'DejaVu Sans Mono',consolas,'Courier New',monospace\">c:\\Users\\TalmoLab\\mambaforge\\envs\\sleap_jupyter\\lib\\site-packages\\rich\\live.py:221: \n",
              "UserWarning: install \"ipywidgets\" for Jupyter support\n",
              "  warnings.warn('install \"ipywidgets\" for Jupyter support')\n",
              "</pre>\n"
            ],
            "text/plain": [
              "c:\\Users\\TalmoLab\\mambaforge\\envs\\sleap_jupyter\\lib\\site-packages\\rich\\live.py:221: \n",
              "UserWarning: install \"ipywidgets\" for Jupyter support\n",
              "  warnings.warn('install \"ipywidgets\" for Jupyter support')\n"
            ]
          },
          "metadata": {},
          "output_type": "display_data"
        },
        {
          "data": {
            "text/html": [
              "<pre style=\"white-space:pre;overflow-x:auto;line-height:normal;font-family:Menlo,'DejaVu Sans Mono',consolas,'Courier New',monospace\">c:\\Users\\TalmoLab\\mambaforge\\envs\\sleap_jupyter\\lib\\site-packages\\rich\\live.py:221: \n",
              "UserWarning: install \"ipywidgets\" for Jupyter support\n",
              "  warnings.warn('install \"ipywidgets\" for Jupyter support')\n",
              "</pre>\n"
            ],
            "text/plain": [
              "c:\\Users\\TalmoLab\\mambaforge\\envs\\sleap_jupyter\\lib\\site-packages\\rich\\live.py:221: \n",
              "UserWarning: install \"ipywidgets\" for Jupyter support\n",
              "  warnings.warn('install \"ipywidgets\" for Jupyter support')\n"
            ]
          },
          "metadata": {},
          "output_type": "display_data"
        },
        {
          "data": {
            "text/html": [
              "<pre style=\"white-space:pre;overflow-x:auto;line-height:normal;font-family:Menlo,'DejaVu Sans Mono',consolas,'Courier New',monospace\">c:\\Users\\TalmoLab\\mambaforge\\envs\\sleap_jupyter\\lib\\site-packages\\rich\\live.py:221: \n",
              "UserWarning: install \"ipywidgets\" for Jupyter support\n",
              "  warnings.warn('install \"ipywidgets\" for Jupyter support')\n",
              "</pre>\n"
            ],
            "text/plain": [
              "c:\\Users\\TalmoLab\\mambaforge\\envs\\sleap_jupyter\\lib\\site-packages\\rich\\live.py:221: \n",
              "UserWarning: install \"ipywidgets\" for Jupyter support\n",
              "  warnings.warn('install \"ipywidgets\" for Jupyter support')\n"
            ]
          },
          "metadata": {},
          "output_type": "display_data"
        },
        {
          "data": {
            "text/html": [
              "<pre style=\"white-space:pre;overflow-x:auto;line-height:normal;font-family:Menlo,'DejaVu Sans Mono',consolas,'Courier New',monospace\">c:\\Users\\TalmoLab\\mambaforge\\envs\\sleap_jupyter\\lib\\site-packages\\rich\\live.py:221: \n",
              "UserWarning: install \"ipywidgets\" for Jupyter support\n",
              "  warnings.warn('install \"ipywidgets\" for Jupyter support')\n",
              "</pre>\n"
            ],
            "text/plain": [
              "c:\\Users\\TalmoLab\\mambaforge\\envs\\sleap_jupyter\\lib\\site-packages\\rich\\live.py:221: \n",
              "UserWarning: install \"ipywidgets\" for Jupyter support\n",
              "  warnings.warn('install \"ipywidgets\" for Jupyter support')\n"
            ]
          },
          "metadata": {},
          "output_type": "display_data"
        },
        {
          "data": {
            "text/html": [
              "<pre style=\"white-space:pre;overflow-x:auto;line-height:normal;font-family:Menlo,'DejaVu Sans Mono',consolas,'Courier New',monospace\">c:\\Users\\TalmoLab\\mambaforge\\envs\\sleap_jupyter\\lib\\site-packages\\rich\\live.py:221: \n",
              "UserWarning: install \"ipywidgets\" for Jupyter support\n",
              "  warnings.warn('install \"ipywidgets\" for Jupyter support')\n",
              "</pre>\n"
            ],
            "text/plain": [
              "c:\\Users\\TalmoLab\\mambaforge\\envs\\sleap_jupyter\\lib\\site-packages\\rich\\live.py:221: \n",
              "UserWarning: install \"ipywidgets\" for Jupyter support\n",
              "  warnings.warn('install \"ipywidgets\" for Jupyter support')\n"
            ]
          },
          "metadata": {},
          "output_type": "display_data"
        },
        {
          "data": {
            "text/html": [
              "<pre style=\"white-space:pre;overflow-x:auto;line-height:normal;font-family:Menlo,'DejaVu Sans Mono',consolas,'Courier New',monospace\">c:\\Users\\TalmoLab\\mambaforge\\envs\\sleap_jupyter\\lib\\site-packages\\rich\\live.py:221: \n",
              "UserWarning: install \"ipywidgets\" for Jupyter support\n",
              "  warnings.warn('install \"ipywidgets\" for Jupyter support')\n",
              "</pre>\n"
            ],
            "text/plain": [
              "c:\\Users\\TalmoLab\\mambaforge\\envs\\sleap_jupyter\\lib\\site-packages\\rich\\live.py:221: \n",
              "UserWarning: install \"ipywidgets\" for Jupyter support\n",
              "  warnings.warn('install \"ipywidgets\" for Jupyter support')\n"
            ]
          },
          "metadata": {},
          "output_type": "display_data"
        },
        {
          "data": {
            "text/html": [
              "<pre style=\"white-space:pre;overflow-x:auto;line-height:normal;font-family:Menlo,'DejaVu Sans Mono',consolas,'Courier New',monospace\">c:\\Users\\TalmoLab\\mambaforge\\envs\\sleap_jupyter\\lib\\site-packages\\rich\\live.py:221: \n",
              "UserWarning: install \"ipywidgets\" for Jupyter support\n",
              "  warnings.warn('install \"ipywidgets\" for Jupyter support')\n",
              "</pre>\n"
            ],
            "text/plain": [
              "c:\\Users\\TalmoLab\\mambaforge\\envs\\sleap_jupyter\\lib\\site-packages\\rich\\live.py:221: \n",
              "UserWarning: install \"ipywidgets\" for Jupyter support\n",
              "  warnings.warn('install \"ipywidgets\" for Jupyter support')\n"
            ]
          },
          "metadata": {},
          "output_type": "display_data"
        },
        {
          "data": {
            "text/html": [
              "<pre style=\"white-space:pre;overflow-x:auto;line-height:normal;font-family:Menlo,'DejaVu Sans Mono',consolas,'Courier New',monospace\">c:\\Users\\TalmoLab\\mambaforge\\envs\\sleap_jupyter\\lib\\site-packages\\rich\\live.py:221: \n",
              "UserWarning: install \"ipywidgets\" for Jupyter support\n",
              "  warnings.warn('install \"ipywidgets\" for Jupyter support')\n",
              "</pre>\n"
            ],
            "text/plain": [
              "c:\\Users\\TalmoLab\\mambaforge\\envs\\sleap_jupyter\\lib\\site-packages\\rich\\live.py:221: \n",
              "UserWarning: install \"ipywidgets\" for Jupyter support\n",
              "  warnings.warn('install \"ipywidgets\" for Jupyter support')\n"
            ]
          },
          "metadata": {},
          "output_type": "display_data"
        },
        {
          "data": {
            "text/html": [
              "<pre style=\"white-space:pre;overflow-x:auto;line-height:normal;font-family:Menlo,'DejaVu Sans Mono',consolas,'Courier New',monospace\">c:\\Users\\TalmoLab\\mambaforge\\envs\\sleap_jupyter\\lib\\site-packages\\rich\\live.py:221: \n",
              "UserWarning: install \"ipywidgets\" for Jupyter support\n",
              "  warnings.warn('install \"ipywidgets\" for Jupyter support')\n",
              "</pre>\n"
            ],
            "text/plain": [
              "c:\\Users\\TalmoLab\\mambaforge\\envs\\sleap_jupyter\\lib\\site-packages\\rich\\live.py:221: \n",
              "UserWarning: install \"ipywidgets\" for Jupyter support\n",
              "  warnings.warn('install \"ipywidgets\" for Jupyter support')\n"
            ]
          },
          "metadata": {},
          "output_type": "display_data"
        },
        {
          "data": {
            "text/html": [
              "<pre style=\"white-space:pre;overflow-x:auto;line-height:normal;font-family:Menlo,'DejaVu Sans Mono',consolas,'Courier New',monospace\">c:\\Users\\TalmoLab\\mambaforge\\envs\\sleap_jupyter\\lib\\site-packages\\rich\\live.py:221: \n",
              "UserWarning: install \"ipywidgets\" for Jupyter support\n",
              "  warnings.warn('install \"ipywidgets\" for Jupyter support')\n",
              "</pre>\n"
            ],
            "text/plain": [
              "c:\\Users\\TalmoLab\\mambaforge\\envs\\sleap_jupyter\\lib\\site-packages\\rich\\live.py:221: \n",
              "UserWarning: install \"ipywidgets\" for Jupyter support\n",
              "  warnings.warn('install \"ipywidgets\" for Jupyter support')\n"
            ]
          },
          "metadata": {},
          "output_type": "display_data"
        },
        {
          "data": {
            "text/html": [
              "<pre style=\"white-space:pre;overflow-x:auto;line-height:normal;font-family:Menlo,'DejaVu Sans Mono',consolas,'Courier New',monospace\">c:\\Users\\TalmoLab\\mambaforge\\envs\\sleap_jupyter\\lib\\site-packages\\rich\\live.py:221: \n",
              "UserWarning: install \"ipywidgets\" for Jupyter support\n",
              "  warnings.warn('install \"ipywidgets\" for Jupyter support')\n",
              "</pre>\n"
            ],
            "text/plain": [
              "c:\\Users\\TalmoLab\\mambaforge\\envs\\sleap_jupyter\\lib\\site-packages\\rich\\live.py:221: \n",
              "UserWarning: install \"ipywidgets\" for Jupyter support\n",
              "  warnings.warn('install \"ipywidgets\" for Jupyter support')\n"
            ]
          },
          "metadata": {},
          "output_type": "display_data"
        },
        {
          "data": {
            "text/html": [
              "<pre style=\"white-space:pre;overflow-x:auto;line-height:normal;font-family:Menlo,'DejaVu Sans Mono',consolas,'Courier New',monospace\">c:\\Users\\TalmoLab\\mambaforge\\envs\\sleap_jupyter\\lib\\site-packages\\rich\\live.py:221: \n",
              "UserWarning: install \"ipywidgets\" for Jupyter support\n",
              "  warnings.warn('install \"ipywidgets\" for Jupyter support')\n",
              "</pre>\n"
            ],
            "text/plain": [
              "c:\\Users\\TalmoLab\\mambaforge\\envs\\sleap_jupyter\\lib\\site-packages\\rich\\live.py:221: \n",
              "UserWarning: install \"ipywidgets\" for Jupyter support\n",
              "  warnings.warn('install \"ipywidgets\" for Jupyter support')\n"
            ]
          },
          "metadata": {},
          "output_type": "display_data"
        },
        {
          "data": {
            "text/html": [
              "<pre style=\"white-space:pre;overflow-x:auto;line-height:normal;font-family:Menlo,'DejaVu Sans Mono',consolas,'Courier New',monospace\">c:\\Users\\TalmoLab\\mambaforge\\envs\\sleap_jupyter\\lib\\site-packages\\rich\\live.py:221: \n",
              "UserWarning: install \"ipywidgets\" for Jupyter support\n",
              "  warnings.warn('install \"ipywidgets\" for Jupyter support')\n",
              "</pre>\n"
            ],
            "text/plain": [
              "c:\\Users\\TalmoLab\\mambaforge\\envs\\sleap_jupyter\\lib\\site-packages\\rich\\live.py:221: \n",
              "UserWarning: install \"ipywidgets\" for Jupyter support\n",
              "  warnings.warn('install \"ipywidgets\" for Jupyter support')\n"
            ]
          },
          "metadata": {},
          "output_type": "display_data"
        },
        {
          "data": {
            "text/html": [
              "<pre style=\"white-space:pre;overflow-x:auto;line-height:normal;font-family:Menlo,'DejaVu Sans Mono',consolas,'Courier New',monospace\">c:\\Users\\TalmoLab\\mambaforge\\envs\\sleap_jupyter\\lib\\site-packages\\rich\\live.py:221: \n",
              "UserWarning: install \"ipywidgets\" for Jupyter support\n",
              "  warnings.warn('install \"ipywidgets\" for Jupyter support')\n",
              "</pre>\n"
            ],
            "text/plain": [
              "c:\\Users\\TalmoLab\\mambaforge\\envs\\sleap_jupyter\\lib\\site-packages\\rich\\live.py:221: \n",
              "UserWarning: install \"ipywidgets\" for Jupyter support\n",
              "  warnings.warn('install \"ipywidgets\" for Jupyter support')\n"
            ]
          },
          "metadata": {},
          "output_type": "display_data"
        },
        {
          "data": {
            "text/html": [
              "<pre style=\"white-space:pre;overflow-x:auto;line-height:normal;font-family:Menlo,'DejaVu Sans Mono',consolas,'Courier New',monospace\">c:\\Users\\TalmoLab\\mambaforge\\envs\\sleap_jupyter\\lib\\site-packages\\rich\\live.py:221: \n",
              "UserWarning: install \"ipywidgets\" for Jupyter support\n",
              "  warnings.warn('install \"ipywidgets\" for Jupyter support')\n",
              "</pre>\n"
            ],
            "text/plain": [
              "c:\\Users\\TalmoLab\\mambaforge\\envs\\sleap_jupyter\\lib\\site-packages\\rich\\live.py:221: \n",
              "UserWarning: install \"ipywidgets\" for Jupyter support\n",
              "  warnings.warn('install \"ipywidgets\" for Jupyter support')\n"
            ]
          },
          "metadata": {},
          "output_type": "display_data"
        },
        {
          "data": {
            "text/html": [
              "<pre style=\"white-space:pre;overflow-x:auto;line-height:normal;font-family:Menlo,'DejaVu Sans Mono',consolas,'Courier New',monospace\">c:\\Users\\TalmoLab\\mambaforge\\envs\\sleap_jupyter\\lib\\site-packages\\rich\\live.py:221: \n",
              "UserWarning: install \"ipywidgets\" for Jupyter support\n",
              "  warnings.warn('install \"ipywidgets\" for Jupyter support')\n",
              "</pre>\n"
            ],
            "text/plain": [
              "c:\\Users\\TalmoLab\\mambaforge\\envs\\sleap_jupyter\\lib\\site-packages\\rich\\live.py:221: \n",
              "UserWarning: install \"ipywidgets\" for Jupyter support\n",
              "  warnings.warn('install \"ipywidgets\" for Jupyter support')\n"
            ]
          },
          "metadata": {},
          "output_type": "display_data"
        },
        {
          "data": {
            "text/html": [
              "<pre style=\"white-space:pre;overflow-x:auto;line-height:normal;font-family:Menlo,'DejaVu Sans Mono',consolas,'Courier New',monospace\">c:\\Users\\TalmoLab\\mambaforge\\envs\\sleap_jupyter\\lib\\site-packages\\rich\\live.py:221: \n",
              "UserWarning: install \"ipywidgets\" for Jupyter support\n",
              "  warnings.warn('install \"ipywidgets\" for Jupyter support')\n",
              "</pre>\n"
            ],
            "text/plain": [
              "c:\\Users\\TalmoLab\\mambaforge\\envs\\sleap_jupyter\\lib\\site-packages\\rich\\live.py:221: \n",
              "UserWarning: install \"ipywidgets\" for Jupyter support\n",
              "  warnings.warn('install \"ipywidgets\" for Jupyter support')\n"
            ]
          },
          "metadata": {},
          "output_type": "display_data"
        },
        {
          "data": {
            "text/html": [
              "<pre style=\"white-space:pre;overflow-x:auto;line-height:normal;font-family:Menlo,'DejaVu Sans Mono',consolas,'Courier New',monospace\">c:\\Users\\TalmoLab\\mambaforge\\envs\\sleap_jupyter\\lib\\site-packages\\rich\\live.py:221: \n",
              "UserWarning: install \"ipywidgets\" for Jupyter support\n",
              "  warnings.warn('install \"ipywidgets\" for Jupyter support')\n",
              "</pre>\n"
            ],
            "text/plain": [
              "c:\\Users\\TalmoLab\\mambaforge\\envs\\sleap_jupyter\\lib\\site-packages\\rich\\live.py:221: \n",
              "UserWarning: install \"ipywidgets\" for Jupyter support\n",
              "  warnings.warn('install \"ipywidgets\" for Jupyter support')\n"
            ]
          },
          "metadata": {},
          "output_type": "display_data"
        },
        {
          "data": {
            "text/html": [
              "<pre style=\"white-space:pre;overflow-x:auto;line-height:normal;font-family:Menlo,'DejaVu Sans Mono',consolas,'Courier New',monospace\">c:\\Users\\TalmoLab\\mambaforge\\envs\\sleap_jupyter\\lib\\site-packages\\rich\\live.py:221: \n",
              "UserWarning: install \"ipywidgets\" for Jupyter support\n",
              "  warnings.warn('install \"ipywidgets\" for Jupyter support')\n",
              "</pre>\n"
            ],
            "text/plain": [
              "c:\\Users\\TalmoLab\\mambaforge\\envs\\sleap_jupyter\\lib\\site-packages\\rich\\live.py:221: \n",
              "UserWarning: install \"ipywidgets\" for Jupyter support\n",
              "  warnings.warn('install \"ipywidgets\" for Jupyter support')\n"
            ]
          },
          "metadata": {},
          "output_type": "display_data"
        },
        {
          "data": {
            "text/html": [
              "<pre style=\"white-space:pre;overflow-x:auto;line-height:normal;font-family:Menlo,'DejaVu Sans Mono',consolas,'Courier New',monospace\">c:\\Users\\TalmoLab\\mambaforge\\envs\\sleap_jupyter\\lib\\site-packages\\rich\\live.py:221: \n",
              "UserWarning: install \"ipywidgets\" for Jupyter support\n",
              "  warnings.warn('install \"ipywidgets\" for Jupyter support')\n",
              "</pre>\n"
            ],
            "text/plain": [
              "c:\\Users\\TalmoLab\\mambaforge\\envs\\sleap_jupyter\\lib\\site-packages\\rich\\live.py:221: \n",
              "UserWarning: install \"ipywidgets\" for Jupyter support\n",
              "  warnings.warn('install \"ipywidgets\" for Jupyter support')\n"
            ]
          },
          "metadata": {},
          "output_type": "display_data"
        },
        {
          "data": {
            "text/html": [
              "<pre style=\"white-space:pre;overflow-x:auto;line-height:normal;font-family:Menlo,'DejaVu Sans Mono',consolas,'Courier New',monospace\">c:\\Users\\TalmoLab\\mambaforge\\envs\\sleap_jupyter\\lib\\site-packages\\rich\\live.py:221: \n",
              "UserWarning: install \"ipywidgets\" for Jupyter support\n",
              "  warnings.warn('install \"ipywidgets\" for Jupyter support')\n",
              "</pre>\n"
            ],
            "text/plain": [
              "c:\\Users\\TalmoLab\\mambaforge\\envs\\sleap_jupyter\\lib\\site-packages\\rich\\live.py:221: \n",
              "UserWarning: install \"ipywidgets\" for Jupyter support\n",
              "  warnings.warn('install \"ipywidgets\" for Jupyter support')\n"
            ]
          },
          "metadata": {},
          "output_type": "display_data"
        },
        {
          "data": {
            "text/html": [
              "<pre style=\"white-space:pre;overflow-x:auto;line-height:normal;font-family:Menlo,'DejaVu Sans Mono',consolas,'Courier New',monospace\">c:\\Users\\TalmoLab\\mambaforge\\envs\\sleap_jupyter\\lib\\site-packages\\rich\\live.py:221: \n",
              "UserWarning: install \"ipywidgets\" for Jupyter support\n",
              "  warnings.warn('install \"ipywidgets\" for Jupyter support')\n",
              "</pre>\n"
            ],
            "text/plain": [
              "c:\\Users\\TalmoLab\\mambaforge\\envs\\sleap_jupyter\\lib\\site-packages\\rich\\live.py:221: \n",
              "UserWarning: install \"ipywidgets\" for Jupyter support\n",
              "  warnings.warn('install \"ipywidgets\" for Jupyter support')\n"
            ]
          },
          "metadata": {},
          "output_type": "display_data"
        },
        {
          "data": {
            "text/html": [
              "<pre style=\"white-space:pre;overflow-x:auto;line-height:normal;font-family:Menlo,'DejaVu Sans Mono',consolas,'Courier New',monospace\">c:\\Users\\TalmoLab\\mambaforge\\envs\\sleap_jupyter\\lib\\site-packages\\rich\\live.py:221: \n",
              "UserWarning: install \"ipywidgets\" for Jupyter support\n",
              "  warnings.warn('install \"ipywidgets\" for Jupyter support')\n",
              "</pre>\n"
            ],
            "text/plain": [
              "c:\\Users\\TalmoLab\\mambaforge\\envs\\sleap_jupyter\\lib\\site-packages\\rich\\live.py:221: \n",
              "UserWarning: install \"ipywidgets\" for Jupyter support\n",
              "  warnings.warn('install \"ipywidgets\" for Jupyter support')\n"
            ]
          },
          "metadata": {},
          "output_type": "display_data"
        },
        {
          "data": {
            "text/html": [
              "<pre style=\"white-space:pre;overflow-x:auto;line-height:normal;font-family:Menlo,'DejaVu Sans Mono',consolas,'Courier New',monospace\">c:\\Users\\TalmoLab\\mambaforge\\envs\\sleap_jupyter\\lib\\site-packages\\rich\\live.py:221: \n",
              "UserWarning: install \"ipywidgets\" for Jupyter support\n",
              "  warnings.warn('install \"ipywidgets\" for Jupyter support')\n",
              "</pre>\n"
            ],
            "text/plain": [
              "c:\\Users\\TalmoLab\\mambaforge\\envs\\sleap_jupyter\\lib\\site-packages\\rich\\live.py:221: \n",
              "UserWarning: install \"ipywidgets\" for Jupyter support\n",
              "  warnings.warn('install \"ipywidgets\" for Jupyter support')\n"
            ]
          },
          "metadata": {},
          "output_type": "display_data"
        },
        {
          "data": {
            "text/html": [
              "<pre style=\"white-space:pre;overflow-x:auto;line-height:normal;font-family:Menlo,'DejaVu Sans Mono',consolas,'Courier New',monospace\">c:\\Users\\TalmoLab\\mambaforge\\envs\\sleap_jupyter\\lib\\site-packages\\rich\\live.py:221: \n",
              "UserWarning: install \"ipywidgets\" for Jupyter support\n",
              "  warnings.warn('install \"ipywidgets\" for Jupyter support')\n",
              "</pre>\n"
            ],
            "text/plain": [
              "c:\\Users\\TalmoLab\\mambaforge\\envs\\sleap_jupyter\\lib\\site-packages\\rich\\live.py:221: \n",
              "UserWarning: install \"ipywidgets\" for Jupyter support\n",
              "  warnings.warn('install \"ipywidgets\" for Jupyter support')\n"
            ]
          },
          "metadata": {},
          "output_type": "display_data"
        },
        {
          "data": {
            "text/html": [
              "<pre style=\"white-space:pre;overflow-x:auto;line-height:normal;font-family:Menlo,'DejaVu Sans Mono',consolas,'Courier New',monospace\">c:\\Users\\TalmoLab\\mambaforge\\envs\\sleap_jupyter\\lib\\site-packages\\rich\\live.py:221: \n",
              "UserWarning: install \"ipywidgets\" for Jupyter support\n",
              "  warnings.warn('install \"ipywidgets\" for Jupyter support')\n",
              "</pre>\n"
            ],
            "text/plain": [
              "c:\\Users\\TalmoLab\\mambaforge\\envs\\sleap_jupyter\\lib\\site-packages\\rich\\live.py:221: \n",
              "UserWarning: install \"ipywidgets\" for Jupyter support\n",
              "  warnings.warn('install \"ipywidgets\" for Jupyter support')\n"
            ]
          },
          "metadata": {},
          "output_type": "display_data"
        },
        {
          "data": {
            "text/html": [
              "<pre style=\"white-space:pre;overflow-x:auto;line-height:normal;font-family:Menlo,'DejaVu Sans Mono',consolas,'Courier New',monospace\">c:\\Users\\TalmoLab\\mambaforge\\envs\\sleap_jupyter\\lib\\site-packages\\rich\\live.py:221: \n",
              "UserWarning: install \"ipywidgets\" for Jupyter support\n",
              "  warnings.warn('install \"ipywidgets\" for Jupyter support')\n",
              "</pre>\n"
            ],
            "text/plain": [
              "c:\\Users\\TalmoLab\\mambaforge\\envs\\sleap_jupyter\\lib\\site-packages\\rich\\live.py:221: \n",
              "UserWarning: install \"ipywidgets\" for Jupyter support\n",
              "  warnings.warn('install \"ipywidgets\" for Jupyter support')\n"
            ]
          },
          "metadata": {},
          "output_type": "display_data"
        },
        {
          "data": {
            "text/html": [
              "<pre style=\"white-space:pre;overflow-x:auto;line-height:normal;font-family:Menlo,'DejaVu Sans Mono',consolas,'Courier New',monospace\">c:\\Users\\TalmoLab\\mambaforge\\envs\\sleap_jupyter\\lib\\site-packages\\rich\\live.py:221: \n",
              "UserWarning: install \"ipywidgets\" for Jupyter support\n",
              "  warnings.warn('install \"ipywidgets\" for Jupyter support')\n",
              "</pre>\n"
            ],
            "text/plain": [
              "c:\\Users\\TalmoLab\\mambaforge\\envs\\sleap_jupyter\\lib\\site-packages\\rich\\live.py:221: \n",
              "UserWarning: install \"ipywidgets\" for Jupyter support\n",
              "  warnings.warn('install \"ipywidgets\" for Jupyter support')\n"
            ]
          },
          "metadata": {},
          "output_type": "display_data"
        },
        {
          "data": {
            "text/html": [
              "<pre style=\"white-space:pre;overflow-x:auto;line-height:normal;font-family:Menlo,'DejaVu Sans Mono',consolas,'Courier New',monospace\">c:\\Users\\TalmoLab\\mambaforge\\envs\\sleap_jupyter\\lib\\site-packages\\rich\\live.py:221: \n",
              "UserWarning: install \"ipywidgets\" for Jupyter support\n",
              "  warnings.warn('install \"ipywidgets\" for Jupyter support')\n",
              "</pre>\n"
            ],
            "text/plain": [
              "c:\\Users\\TalmoLab\\mambaforge\\envs\\sleap_jupyter\\lib\\site-packages\\rich\\live.py:221: \n",
              "UserWarning: install \"ipywidgets\" for Jupyter support\n",
              "  warnings.warn('install \"ipywidgets\" for Jupyter support')\n"
            ]
          },
          "metadata": {},
          "output_type": "display_data"
        },
        {
          "data": {
            "text/html": [
              "<pre style=\"white-space:pre;overflow-x:auto;line-height:normal;font-family:Menlo,'DejaVu Sans Mono',consolas,'Courier New',monospace\">c:\\Users\\TalmoLab\\mambaforge\\envs\\sleap_jupyter\\lib\\site-packages\\rich\\live.py:221: \n",
              "UserWarning: install \"ipywidgets\" for Jupyter support\n",
              "  warnings.warn('install \"ipywidgets\" for Jupyter support')\n",
              "</pre>\n"
            ],
            "text/plain": [
              "c:\\Users\\TalmoLab\\mambaforge\\envs\\sleap_jupyter\\lib\\site-packages\\rich\\live.py:221: \n",
              "UserWarning: install \"ipywidgets\" for Jupyter support\n",
              "  warnings.warn('install \"ipywidgets\" for Jupyter support')\n"
            ]
          },
          "metadata": {},
          "output_type": "display_data"
        },
        {
          "data": {
            "text/html": [
              "<pre style=\"white-space:pre;overflow-x:auto;line-height:normal;font-family:Menlo,'DejaVu Sans Mono',consolas,'Courier New',monospace\">c:\\Users\\TalmoLab\\mambaforge\\envs\\sleap_jupyter\\lib\\site-packages\\rich\\live.py:221: \n",
              "UserWarning: install \"ipywidgets\" for Jupyter support\n",
              "  warnings.warn('install \"ipywidgets\" for Jupyter support')\n",
              "</pre>\n"
            ],
            "text/plain": [
              "c:\\Users\\TalmoLab\\mambaforge\\envs\\sleap_jupyter\\lib\\site-packages\\rich\\live.py:221: \n",
              "UserWarning: install \"ipywidgets\" for Jupyter support\n",
              "  warnings.warn('install \"ipywidgets\" for Jupyter support')\n"
            ]
          },
          "metadata": {},
          "output_type": "display_data"
        },
        {
          "data": {
            "text/html": [
              "<pre style=\"white-space:pre;overflow-x:auto;line-height:normal;font-family:Menlo,'DejaVu Sans Mono',consolas,'Courier New',monospace\">c:\\Users\\TalmoLab\\mambaforge\\envs\\sleap_jupyter\\lib\\site-packages\\rich\\live.py:221: \n",
              "UserWarning: install \"ipywidgets\" for Jupyter support\n",
              "  warnings.warn('install \"ipywidgets\" for Jupyter support')\n",
              "</pre>\n"
            ],
            "text/plain": [
              "c:\\Users\\TalmoLab\\mambaforge\\envs\\sleap_jupyter\\lib\\site-packages\\rich\\live.py:221: \n",
              "UserWarning: install \"ipywidgets\" for Jupyter support\n",
              "  warnings.warn('install \"ipywidgets\" for Jupyter support')\n"
            ]
          },
          "metadata": {},
          "output_type": "display_data"
        },
        {
          "data": {
            "text/html": [
              "<pre style=\"white-space:pre;overflow-x:auto;line-height:normal;font-family:Menlo,'DejaVu Sans Mono',consolas,'Courier New',monospace\">c:\\Users\\TalmoLab\\mambaforge\\envs\\sleap_jupyter\\lib\\site-packages\\rich\\live.py:221: \n",
              "UserWarning: install \"ipywidgets\" for Jupyter support\n",
              "  warnings.warn('install \"ipywidgets\" for Jupyter support')\n",
              "</pre>\n"
            ],
            "text/plain": [
              "c:\\Users\\TalmoLab\\mambaforge\\envs\\sleap_jupyter\\lib\\site-packages\\rich\\live.py:221: \n",
              "UserWarning: install \"ipywidgets\" for Jupyter support\n",
              "  warnings.warn('install \"ipywidgets\" for Jupyter support')\n"
            ]
          },
          "metadata": {},
          "output_type": "display_data"
        },
        {
          "data": {
            "text/html": [
              "<pre style=\"white-space:pre;overflow-x:auto;line-height:normal;font-family:Menlo,'DejaVu Sans Mono',consolas,'Courier New',monospace\">c:\\Users\\TalmoLab\\mambaforge\\envs\\sleap_jupyter\\lib\\site-packages\\rich\\live.py:221: \n",
              "UserWarning: install \"ipywidgets\" for Jupyter support\n",
              "  warnings.warn('install \"ipywidgets\" for Jupyter support')\n",
              "</pre>\n"
            ],
            "text/plain": [
              "c:\\Users\\TalmoLab\\mambaforge\\envs\\sleap_jupyter\\lib\\site-packages\\rich\\live.py:221: \n",
              "UserWarning: install \"ipywidgets\" for Jupyter support\n",
              "  warnings.warn('install \"ipywidgets\" for Jupyter support')\n"
            ]
          },
          "metadata": {},
          "output_type": "display_data"
        },
        {
          "data": {
            "text/html": [
              "<pre style=\"white-space:pre;overflow-x:auto;line-height:normal;font-family:Menlo,'DejaVu Sans Mono',consolas,'Courier New',monospace\">c:\\Users\\TalmoLab\\mambaforge\\envs\\sleap_jupyter\\lib\\site-packages\\rich\\live.py:221: \n",
              "UserWarning: install \"ipywidgets\" for Jupyter support\n",
              "  warnings.warn('install \"ipywidgets\" for Jupyter support')\n",
              "</pre>\n"
            ],
            "text/plain": [
              "c:\\Users\\TalmoLab\\mambaforge\\envs\\sleap_jupyter\\lib\\site-packages\\rich\\live.py:221: \n",
              "UserWarning: install \"ipywidgets\" for Jupyter support\n",
              "  warnings.warn('install \"ipywidgets\" for Jupyter support')\n"
            ]
          },
          "metadata": {},
          "output_type": "display_data"
        },
        {
          "data": {
            "text/html": [
              "<pre style=\"white-space:pre;overflow-x:auto;line-height:normal;font-family:Menlo,'DejaVu Sans Mono',consolas,'Courier New',monospace\">c:\\Users\\TalmoLab\\mambaforge\\envs\\sleap_jupyter\\lib\\site-packages\\rich\\live.py:221: \n",
              "UserWarning: install \"ipywidgets\" for Jupyter support\n",
              "  warnings.warn('install \"ipywidgets\" for Jupyter support')\n",
              "</pre>\n"
            ],
            "text/plain": [
              "c:\\Users\\TalmoLab\\mambaforge\\envs\\sleap_jupyter\\lib\\site-packages\\rich\\live.py:221: \n",
              "UserWarning: install \"ipywidgets\" for Jupyter support\n",
              "  warnings.warn('install \"ipywidgets\" for Jupyter support')\n"
            ]
          },
          "metadata": {},
          "output_type": "display_data"
        },
        {
          "data": {
            "text/html": [
              "<pre style=\"white-space:pre;overflow-x:auto;line-height:normal;font-family:Menlo,'DejaVu Sans Mono',consolas,'Courier New',monospace\">c:\\Users\\TalmoLab\\mambaforge\\envs\\sleap_jupyter\\lib\\site-packages\\rich\\live.py:221: \n",
              "UserWarning: install \"ipywidgets\" for Jupyter support\n",
              "  warnings.warn('install \"ipywidgets\" for Jupyter support')\n",
              "</pre>\n"
            ],
            "text/plain": [
              "c:\\Users\\TalmoLab\\mambaforge\\envs\\sleap_jupyter\\lib\\site-packages\\rich\\live.py:221: \n",
              "UserWarning: install \"ipywidgets\" for Jupyter support\n",
              "  warnings.warn('install \"ipywidgets\" for Jupyter support')\n"
            ]
          },
          "metadata": {},
          "output_type": "display_data"
        },
        {
          "data": {
            "text/html": [
              "<pre style=\"white-space:pre;overflow-x:auto;line-height:normal;font-family:Menlo,'DejaVu Sans Mono',consolas,'Courier New',monospace\">c:\\Users\\TalmoLab\\mambaforge\\envs\\sleap_jupyter\\lib\\site-packages\\rich\\live.py:221: \n",
              "UserWarning: install \"ipywidgets\" for Jupyter support\n",
              "  warnings.warn('install \"ipywidgets\" for Jupyter support')\n",
              "</pre>\n"
            ],
            "text/plain": [
              "c:\\Users\\TalmoLab\\mambaforge\\envs\\sleap_jupyter\\lib\\site-packages\\rich\\live.py:221: \n",
              "UserWarning: install \"ipywidgets\" for Jupyter support\n",
              "  warnings.warn('install \"ipywidgets\" for Jupyter support')\n"
            ]
          },
          "metadata": {},
          "output_type": "display_data"
        },
        {
          "data": {
            "text/html": [
              "<pre style=\"white-space:pre;overflow-x:auto;line-height:normal;font-family:Menlo,'DejaVu Sans Mono',consolas,'Courier New',monospace\">c:\\Users\\TalmoLab\\mambaforge\\envs\\sleap_jupyter\\lib\\site-packages\\rich\\live.py:221: \n",
              "UserWarning: install \"ipywidgets\" for Jupyter support\n",
              "  warnings.warn('install \"ipywidgets\" for Jupyter support')\n",
              "</pre>\n"
            ],
            "text/plain": [
              "c:\\Users\\TalmoLab\\mambaforge\\envs\\sleap_jupyter\\lib\\site-packages\\rich\\live.py:221: \n",
              "UserWarning: install \"ipywidgets\" for Jupyter support\n",
              "  warnings.warn('install \"ipywidgets\" for Jupyter support')\n"
            ]
          },
          "metadata": {},
          "output_type": "display_data"
        },
        {
          "data": {
            "text/html": [
              "<pre style=\"white-space:pre;overflow-x:auto;line-height:normal;font-family:Menlo,'DejaVu Sans Mono',consolas,'Courier New',monospace\">c:\\Users\\TalmoLab\\mambaforge\\envs\\sleap_jupyter\\lib\\site-packages\\rich\\live.py:221: \n",
              "UserWarning: install \"ipywidgets\" for Jupyter support\n",
              "  warnings.warn('install \"ipywidgets\" for Jupyter support')\n",
              "</pre>\n"
            ],
            "text/plain": [
              "c:\\Users\\TalmoLab\\mambaforge\\envs\\sleap_jupyter\\lib\\site-packages\\rich\\live.py:221: \n",
              "UserWarning: install \"ipywidgets\" for Jupyter support\n",
              "  warnings.warn('install \"ipywidgets\" for Jupyter support')\n"
            ]
          },
          "metadata": {},
          "output_type": "display_data"
        },
        {
          "data": {
            "text/html": [
              "<pre style=\"white-space:pre;overflow-x:auto;line-height:normal;font-family:Menlo,'DejaVu Sans Mono',consolas,'Courier New',monospace\">c:\\Users\\TalmoLab\\mambaforge\\envs\\sleap_jupyter\\lib\\site-packages\\rich\\live.py:221: \n",
              "UserWarning: install \"ipywidgets\" for Jupyter support\n",
              "  warnings.warn('install \"ipywidgets\" for Jupyter support')\n",
              "</pre>\n"
            ],
            "text/plain": [
              "c:\\Users\\TalmoLab\\mambaforge\\envs\\sleap_jupyter\\lib\\site-packages\\rich\\live.py:221: \n",
              "UserWarning: install \"ipywidgets\" for Jupyter support\n",
              "  warnings.warn('install \"ipywidgets\" for Jupyter support')\n"
            ]
          },
          "metadata": {},
          "output_type": "display_data"
        },
        {
          "data": {
            "text/html": [
              "<pre style=\"white-space:pre;overflow-x:auto;line-height:normal;font-family:Menlo,'DejaVu Sans Mono',consolas,'Courier New',monospace\">c:\\Users\\TalmoLab\\mambaforge\\envs\\sleap_jupyter\\lib\\site-packages\\rich\\live.py:221: \n",
              "UserWarning: install \"ipywidgets\" for Jupyter support\n",
              "  warnings.warn('install \"ipywidgets\" for Jupyter support')\n",
              "</pre>\n"
            ],
            "text/plain": [
              "c:\\Users\\TalmoLab\\mambaforge\\envs\\sleap_jupyter\\lib\\site-packages\\rich\\live.py:221: \n",
              "UserWarning: install \"ipywidgets\" for Jupyter support\n",
              "  warnings.warn('install \"ipywidgets\" for Jupyter support')\n"
            ]
          },
          "metadata": {},
          "output_type": "display_data"
        },
        {
          "data": {
            "text/html": [
              "<pre style=\"white-space:pre;overflow-x:auto;line-height:normal;font-family:Menlo,'DejaVu Sans Mono',consolas,'Courier New',monospace\">c:\\Users\\TalmoLab\\mambaforge\\envs\\sleap_jupyter\\lib\\site-packages\\rich\\live.py:221: \n",
              "UserWarning: install \"ipywidgets\" for Jupyter support\n",
              "  warnings.warn('install \"ipywidgets\" for Jupyter support')\n",
              "</pre>\n"
            ],
            "text/plain": [
              "c:\\Users\\TalmoLab\\mambaforge\\envs\\sleap_jupyter\\lib\\site-packages\\rich\\live.py:221: \n",
              "UserWarning: install \"ipywidgets\" for Jupyter support\n",
              "  warnings.warn('install \"ipywidgets\" for Jupyter support')\n"
            ]
          },
          "metadata": {},
          "output_type": "display_data"
        },
        {
          "data": {
            "text/html": [
              "<pre style=\"white-space:pre;overflow-x:auto;line-height:normal;font-family:Menlo,'DejaVu Sans Mono',consolas,'Courier New',monospace\">c:\\Users\\TalmoLab\\mambaforge\\envs\\sleap_jupyter\\lib\\site-packages\\rich\\live.py:221: \n",
              "UserWarning: install \"ipywidgets\" for Jupyter support\n",
              "  warnings.warn('install \"ipywidgets\" for Jupyter support')\n",
              "</pre>\n"
            ],
            "text/plain": [
              "c:\\Users\\TalmoLab\\mambaforge\\envs\\sleap_jupyter\\lib\\site-packages\\rich\\live.py:221: \n",
              "UserWarning: install \"ipywidgets\" for Jupyter support\n",
              "  warnings.warn('install \"ipywidgets\" for Jupyter support')\n"
            ]
          },
          "metadata": {},
          "output_type": "display_data"
        },
        {
          "data": {
            "text/html": [
              "<pre style=\"white-space:pre;overflow-x:auto;line-height:normal;font-family:Menlo,'DejaVu Sans Mono',consolas,'Courier New',monospace\">c:\\Users\\TalmoLab\\mambaforge\\envs\\sleap_jupyter\\lib\\site-packages\\rich\\live.py:221: \n",
              "UserWarning: install \"ipywidgets\" for Jupyter support\n",
              "  warnings.warn('install \"ipywidgets\" for Jupyter support')\n",
              "</pre>\n"
            ],
            "text/plain": [
              "c:\\Users\\TalmoLab\\mambaforge\\envs\\sleap_jupyter\\lib\\site-packages\\rich\\live.py:221: \n",
              "UserWarning: install \"ipywidgets\" for Jupyter support\n",
              "  warnings.warn('install \"ipywidgets\" for Jupyter support')\n"
            ]
          },
          "metadata": {},
          "output_type": "display_data"
        },
        {
          "data": {
            "text/html": [
              "<pre style=\"white-space:pre;overflow-x:auto;line-height:normal;font-family:Menlo,'DejaVu Sans Mono',consolas,'Courier New',monospace\">c:\\Users\\TalmoLab\\mambaforge\\envs\\sleap_jupyter\\lib\\site-packages\\rich\\live.py:221: \n",
              "UserWarning: install \"ipywidgets\" for Jupyter support\n",
              "  warnings.warn('install \"ipywidgets\" for Jupyter support')\n",
              "</pre>\n"
            ],
            "text/plain": [
              "c:\\Users\\TalmoLab\\mambaforge\\envs\\sleap_jupyter\\lib\\site-packages\\rich\\live.py:221: \n",
              "UserWarning: install \"ipywidgets\" for Jupyter support\n",
              "  warnings.warn('install \"ipywidgets\" for Jupyter support')\n"
            ]
          },
          "metadata": {},
          "output_type": "display_data"
        },
        {
          "data": {
            "text/html": [
              "<pre style=\"white-space:pre;overflow-x:auto;line-height:normal;font-family:Menlo,'DejaVu Sans Mono',consolas,'Courier New',monospace\">c:\\Users\\TalmoLab\\mambaforge\\envs\\sleap_jupyter\\lib\\site-packages\\rich\\live.py:221: \n",
              "UserWarning: install \"ipywidgets\" for Jupyter support\n",
              "  warnings.warn('install \"ipywidgets\" for Jupyter support')\n",
              "</pre>\n"
            ],
            "text/plain": [
              "c:\\Users\\TalmoLab\\mambaforge\\envs\\sleap_jupyter\\lib\\site-packages\\rich\\live.py:221: \n",
              "UserWarning: install \"ipywidgets\" for Jupyter support\n",
              "  warnings.warn('install \"ipywidgets\" for Jupyter support')\n"
            ]
          },
          "metadata": {},
          "output_type": "display_data"
        },
        {
          "data": {
            "text/html": [
              "<pre style=\"white-space:pre;overflow-x:auto;line-height:normal;font-family:Menlo,'DejaVu Sans Mono',consolas,'Courier New',monospace\">c:\\Users\\TalmoLab\\mambaforge\\envs\\sleap_jupyter\\lib\\site-packages\\rich\\live.py:221: \n",
              "UserWarning: install \"ipywidgets\" for Jupyter support\n",
              "  warnings.warn('install \"ipywidgets\" for Jupyter support')\n",
              "</pre>\n"
            ],
            "text/plain": [
              "c:\\Users\\TalmoLab\\mambaforge\\envs\\sleap_jupyter\\lib\\site-packages\\rich\\live.py:221: \n",
              "UserWarning: install \"ipywidgets\" for Jupyter support\n",
              "  warnings.warn('install \"ipywidgets\" for Jupyter support')\n"
            ]
          },
          "metadata": {},
          "output_type": "display_data"
        },
        {
          "data": {
            "text/html": [
              "<pre style=\"white-space:pre;overflow-x:auto;line-height:normal;font-family:Menlo,'DejaVu Sans Mono',consolas,'Courier New',monospace\">c:\\Users\\TalmoLab\\mambaforge\\envs\\sleap_jupyter\\lib\\site-packages\\rich\\live.py:221: \n",
              "UserWarning: install \"ipywidgets\" for Jupyter support\n",
              "  warnings.warn('install \"ipywidgets\" for Jupyter support')\n",
              "</pre>\n"
            ],
            "text/plain": [
              "c:\\Users\\TalmoLab\\mambaforge\\envs\\sleap_jupyter\\lib\\site-packages\\rich\\live.py:221: \n",
              "UserWarning: install \"ipywidgets\" for Jupyter support\n",
              "  warnings.warn('install \"ipywidgets\" for Jupyter support')\n"
            ]
          },
          "metadata": {},
          "output_type": "display_data"
        },
        {
          "data": {
            "text/html": [
              "<pre style=\"white-space:pre;overflow-x:auto;line-height:normal;font-family:Menlo,'DejaVu Sans Mono',consolas,'Courier New',monospace\">c:\\Users\\TalmoLab\\mambaforge\\envs\\sleap_jupyter\\lib\\site-packages\\rich\\live.py:221: \n",
              "UserWarning: install \"ipywidgets\" for Jupyter support\n",
              "  warnings.warn('install \"ipywidgets\" for Jupyter support')\n",
              "</pre>\n"
            ],
            "text/plain": [
              "c:\\Users\\TalmoLab\\mambaforge\\envs\\sleap_jupyter\\lib\\site-packages\\rich\\live.py:221: \n",
              "UserWarning: install \"ipywidgets\" for Jupyter support\n",
              "  warnings.warn('install \"ipywidgets\" for Jupyter support')\n"
            ]
          },
          "metadata": {},
          "output_type": "display_data"
        },
        {
          "data": {
            "text/html": [
              "<pre style=\"white-space:pre;overflow-x:auto;line-height:normal;font-family:Menlo,'DejaVu Sans Mono',consolas,'Courier New',monospace\">c:\\Users\\TalmoLab\\mambaforge\\envs\\sleap_jupyter\\lib\\site-packages\\rich\\live.py:221: \n",
              "UserWarning: install \"ipywidgets\" for Jupyter support\n",
              "  warnings.warn('install \"ipywidgets\" for Jupyter support')\n",
              "</pre>\n"
            ],
            "text/plain": [
              "c:\\Users\\TalmoLab\\mambaforge\\envs\\sleap_jupyter\\lib\\site-packages\\rich\\live.py:221: \n",
              "UserWarning: install \"ipywidgets\" for Jupyter support\n",
              "  warnings.warn('install \"ipywidgets\" for Jupyter support')\n"
            ]
          },
          "metadata": {},
          "output_type": "display_data"
        },
        {
          "data": {
            "text/html": [
              "<pre style=\"white-space:pre;overflow-x:auto;line-height:normal;font-family:Menlo,'DejaVu Sans Mono',consolas,'Courier New',monospace\">c:\\Users\\TalmoLab\\mambaforge\\envs\\sleap_jupyter\\lib\\site-packages\\rich\\live.py:221: \n",
              "UserWarning: install \"ipywidgets\" for Jupyter support\n",
              "  warnings.warn('install \"ipywidgets\" for Jupyter support')\n",
              "</pre>\n"
            ],
            "text/plain": [
              "c:\\Users\\TalmoLab\\mambaforge\\envs\\sleap_jupyter\\lib\\site-packages\\rich\\live.py:221: \n",
              "UserWarning: install \"ipywidgets\" for Jupyter support\n",
              "  warnings.warn('install \"ipywidgets\" for Jupyter support')\n"
            ]
          },
          "metadata": {},
          "output_type": "display_data"
        },
        {
          "data": {
            "text/html": [
              "<pre style=\"white-space:pre;overflow-x:auto;line-height:normal;font-family:Menlo,'DejaVu Sans Mono',consolas,'Courier New',monospace\">c:\\Users\\TalmoLab\\mambaforge\\envs\\sleap_jupyter\\lib\\site-packages\\rich\\live.py:221: \n",
              "UserWarning: install \"ipywidgets\" for Jupyter support\n",
              "  warnings.warn('install \"ipywidgets\" for Jupyter support')\n",
              "</pre>\n"
            ],
            "text/plain": [
              "c:\\Users\\TalmoLab\\mambaforge\\envs\\sleap_jupyter\\lib\\site-packages\\rich\\live.py:221: \n",
              "UserWarning: install \"ipywidgets\" for Jupyter support\n",
              "  warnings.warn('install \"ipywidgets\" for Jupyter support')\n"
            ]
          },
          "metadata": {},
          "output_type": "display_data"
        },
        {
          "data": {
            "text/html": [
              "<pre style=\"white-space:pre;overflow-x:auto;line-height:normal;font-family:Menlo,'DejaVu Sans Mono',consolas,'Courier New',monospace\">c:\\Users\\TalmoLab\\mambaforge\\envs\\sleap_jupyter\\lib\\site-packages\\rich\\live.py:221: \n",
              "UserWarning: install \"ipywidgets\" for Jupyter support\n",
              "  warnings.warn('install \"ipywidgets\" for Jupyter support')\n",
              "</pre>\n"
            ],
            "text/plain": [
              "c:\\Users\\TalmoLab\\mambaforge\\envs\\sleap_jupyter\\lib\\site-packages\\rich\\live.py:221: \n",
              "UserWarning: install \"ipywidgets\" for Jupyter support\n",
              "  warnings.warn('install \"ipywidgets\" for Jupyter support')\n"
            ]
          },
          "metadata": {},
          "output_type": "display_data"
        },
        {
          "data": {
            "text/html": [
              "<pre style=\"white-space:pre;overflow-x:auto;line-height:normal;font-family:Menlo,'DejaVu Sans Mono',consolas,'Courier New',monospace\">c:\\Users\\TalmoLab\\mambaforge\\envs\\sleap_jupyter\\lib\\site-packages\\rich\\live.py:221: \n",
              "UserWarning: install \"ipywidgets\" for Jupyter support\n",
              "  warnings.warn('install \"ipywidgets\" for Jupyter support')\n",
              "</pre>\n"
            ],
            "text/plain": [
              "c:\\Users\\TalmoLab\\mambaforge\\envs\\sleap_jupyter\\lib\\site-packages\\rich\\live.py:221: \n",
              "UserWarning: install \"ipywidgets\" for Jupyter support\n",
              "  warnings.warn('install \"ipywidgets\" for Jupyter support')\n"
            ]
          },
          "metadata": {},
          "output_type": "display_data"
        },
        {
          "data": {
            "text/html": [
              "<pre style=\"white-space:pre;overflow-x:auto;line-height:normal;font-family:Menlo,'DejaVu Sans Mono',consolas,'Courier New',monospace\">c:\\Users\\TalmoLab\\mambaforge\\envs\\sleap_jupyter\\lib\\site-packages\\rich\\live.py:221: \n",
              "UserWarning: install \"ipywidgets\" for Jupyter support\n",
              "  warnings.warn('install \"ipywidgets\" for Jupyter support')\n",
              "</pre>\n"
            ],
            "text/plain": [
              "c:\\Users\\TalmoLab\\mambaforge\\envs\\sleap_jupyter\\lib\\site-packages\\rich\\live.py:221: \n",
              "UserWarning: install \"ipywidgets\" for Jupyter support\n",
              "  warnings.warn('install \"ipywidgets\" for Jupyter support')\n"
            ]
          },
          "metadata": {},
          "output_type": "display_data"
        },
        {
          "data": {
            "text/html": [
              "<pre style=\"white-space:pre;overflow-x:auto;line-height:normal;font-family:Menlo,'DejaVu Sans Mono',consolas,'Courier New',monospace\">c:\\Users\\TalmoLab\\mambaforge\\envs\\sleap_jupyter\\lib\\site-packages\\rich\\live.py:221: \n",
              "UserWarning: install \"ipywidgets\" for Jupyter support\n",
              "  warnings.warn('install \"ipywidgets\" for Jupyter support')\n",
              "</pre>\n"
            ],
            "text/plain": [
              "c:\\Users\\TalmoLab\\mambaforge\\envs\\sleap_jupyter\\lib\\site-packages\\rich\\live.py:221: \n",
              "UserWarning: install \"ipywidgets\" for Jupyter support\n",
              "  warnings.warn('install \"ipywidgets\" for Jupyter support')\n"
            ]
          },
          "metadata": {},
          "output_type": "display_data"
        },
        {
          "data": {
            "text/html": [
              "<pre style=\"white-space:pre;overflow-x:auto;line-height:normal;font-family:Menlo,'DejaVu Sans Mono',consolas,'Courier New',monospace\">c:\\Users\\TalmoLab\\mambaforge\\envs\\sleap_jupyter\\lib\\site-packages\\rich\\live.py:221: \n",
              "UserWarning: install \"ipywidgets\" for Jupyter support\n",
              "  warnings.warn('install \"ipywidgets\" for Jupyter support')\n",
              "</pre>\n"
            ],
            "text/plain": [
              "c:\\Users\\TalmoLab\\mambaforge\\envs\\sleap_jupyter\\lib\\site-packages\\rich\\live.py:221: \n",
              "UserWarning: install \"ipywidgets\" for Jupyter support\n",
              "  warnings.warn('install \"ipywidgets\" for Jupyter support')\n"
            ]
          },
          "metadata": {},
          "output_type": "display_data"
        },
        {
          "data": {
            "text/html": [
              "<pre style=\"white-space:pre;overflow-x:auto;line-height:normal;font-family:Menlo,'DejaVu Sans Mono',consolas,'Courier New',monospace\">c:\\Users\\TalmoLab\\mambaforge\\envs\\sleap_jupyter\\lib\\site-packages\\rich\\live.py:221: \n",
              "UserWarning: install \"ipywidgets\" for Jupyter support\n",
              "  warnings.warn('install \"ipywidgets\" for Jupyter support')\n",
              "</pre>\n"
            ],
            "text/plain": [
              "c:\\Users\\TalmoLab\\mambaforge\\envs\\sleap_jupyter\\lib\\site-packages\\rich\\live.py:221: \n",
              "UserWarning: install \"ipywidgets\" for Jupyter support\n",
              "  warnings.warn('install \"ipywidgets\" for Jupyter support')\n"
            ]
          },
          "metadata": {},
          "output_type": "display_data"
        },
        {
          "data": {
            "text/html": [
              "<pre style=\"white-space:pre;overflow-x:auto;line-height:normal;font-family:Menlo,'DejaVu Sans Mono',consolas,'Courier New',monospace\">c:\\Users\\TalmoLab\\mambaforge\\envs\\sleap_jupyter\\lib\\site-packages\\rich\\live.py:221: \n",
              "UserWarning: install \"ipywidgets\" for Jupyter support\n",
              "  warnings.warn('install \"ipywidgets\" for Jupyter support')\n",
              "</pre>\n"
            ],
            "text/plain": [
              "c:\\Users\\TalmoLab\\mambaforge\\envs\\sleap_jupyter\\lib\\site-packages\\rich\\live.py:221: \n",
              "UserWarning: install \"ipywidgets\" for Jupyter support\n",
              "  warnings.warn('install \"ipywidgets\" for Jupyter support')\n"
            ]
          },
          "metadata": {},
          "output_type": "display_data"
        },
        {
          "data": {
            "text/html": [
              "<pre style=\"white-space:pre;overflow-x:auto;line-height:normal;font-family:Menlo,'DejaVu Sans Mono',consolas,'Courier New',monospace\">c:\\Users\\TalmoLab\\mambaforge\\envs\\sleap_jupyter\\lib\\site-packages\\rich\\live.py:221: \n",
              "UserWarning: install \"ipywidgets\" for Jupyter support\n",
              "  warnings.warn('install \"ipywidgets\" for Jupyter support')\n",
              "</pre>\n"
            ],
            "text/plain": [
              "c:\\Users\\TalmoLab\\mambaforge\\envs\\sleap_jupyter\\lib\\site-packages\\rich\\live.py:221: \n",
              "UserWarning: install \"ipywidgets\" for Jupyter support\n",
              "  warnings.warn('install \"ipywidgets\" for Jupyter support')\n"
            ]
          },
          "metadata": {},
          "output_type": "display_data"
        },
        {
          "data": {
            "text/html": [
              "<pre style=\"white-space:pre;overflow-x:auto;line-height:normal;font-family:Menlo,'DejaVu Sans Mono',consolas,'Courier New',monospace\">c:\\Users\\TalmoLab\\mambaforge\\envs\\sleap_jupyter\\lib\\site-packages\\rich\\live.py:221: \n",
              "UserWarning: install \"ipywidgets\" for Jupyter support\n",
              "  warnings.warn('install \"ipywidgets\" for Jupyter support')\n",
              "</pre>\n"
            ],
            "text/plain": [
              "c:\\Users\\TalmoLab\\mambaforge\\envs\\sleap_jupyter\\lib\\site-packages\\rich\\live.py:221: \n",
              "UserWarning: install \"ipywidgets\" for Jupyter support\n",
              "  warnings.warn('install \"ipywidgets\" for Jupyter support')\n"
            ]
          },
          "metadata": {},
          "output_type": "display_data"
        },
        {
          "data": {
            "text/html": [
              "<pre style=\"white-space:pre;overflow-x:auto;line-height:normal;font-family:Menlo,'DejaVu Sans Mono',consolas,'Courier New',monospace\">c:\\Users\\TalmoLab\\mambaforge\\envs\\sleap_jupyter\\lib\\site-packages\\rich\\live.py:221: \n",
              "UserWarning: install \"ipywidgets\" for Jupyter support\n",
              "  warnings.warn('install \"ipywidgets\" for Jupyter support')\n",
              "</pre>\n"
            ],
            "text/plain": [
              "c:\\Users\\TalmoLab\\mambaforge\\envs\\sleap_jupyter\\lib\\site-packages\\rich\\live.py:221: \n",
              "UserWarning: install \"ipywidgets\" for Jupyter support\n",
              "  warnings.warn('install \"ipywidgets\" for Jupyter support')\n"
            ]
          },
          "metadata": {},
          "output_type": "display_data"
        },
        {
          "data": {
            "text/html": [
              "<pre style=\"white-space:pre;overflow-x:auto;line-height:normal;font-family:Menlo,'DejaVu Sans Mono',consolas,'Courier New',monospace\">c:\\Users\\TalmoLab\\mambaforge\\envs\\sleap_jupyter\\lib\\site-packages\\rich\\live.py:221: \n",
              "UserWarning: install \"ipywidgets\" for Jupyter support\n",
              "  warnings.warn('install \"ipywidgets\" for Jupyter support')\n",
              "</pre>\n"
            ],
            "text/plain": [
              "c:\\Users\\TalmoLab\\mambaforge\\envs\\sleap_jupyter\\lib\\site-packages\\rich\\live.py:221: \n",
              "UserWarning: install \"ipywidgets\" for Jupyter support\n",
              "  warnings.warn('install \"ipywidgets\" for Jupyter support')\n"
            ]
          },
          "metadata": {},
          "output_type": "display_data"
        },
        {
          "data": {
            "text/html": [
              "<pre style=\"white-space:pre;overflow-x:auto;line-height:normal;font-family:Menlo,'DejaVu Sans Mono',consolas,'Courier New',monospace\">c:\\Users\\TalmoLab\\mambaforge\\envs\\sleap_jupyter\\lib\\site-packages\\rich\\live.py:221: \n",
              "UserWarning: install \"ipywidgets\" for Jupyter support\n",
              "  warnings.warn('install \"ipywidgets\" for Jupyter support')\n",
              "</pre>\n"
            ],
            "text/plain": [
              "c:\\Users\\TalmoLab\\mambaforge\\envs\\sleap_jupyter\\lib\\site-packages\\rich\\live.py:221: \n",
              "UserWarning: install \"ipywidgets\" for Jupyter support\n",
              "  warnings.warn('install \"ipywidgets\" for Jupyter support')\n"
            ]
          },
          "metadata": {},
          "output_type": "display_data"
        },
        {
          "data": {
            "text/html": [
              "<pre style=\"white-space:pre;overflow-x:auto;line-height:normal;font-family:Menlo,'DejaVu Sans Mono',consolas,'Courier New',monospace\">c:\\Users\\TalmoLab\\mambaforge\\envs\\sleap_jupyter\\lib\\site-packages\\rich\\live.py:221: \n",
              "UserWarning: install \"ipywidgets\" for Jupyter support\n",
              "  warnings.warn('install \"ipywidgets\" for Jupyter support')\n",
              "</pre>\n"
            ],
            "text/plain": [
              "c:\\Users\\TalmoLab\\mambaforge\\envs\\sleap_jupyter\\lib\\site-packages\\rich\\live.py:221: \n",
              "UserWarning: install \"ipywidgets\" for Jupyter support\n",
              "  warnings.warn('install \"ipywidgets\" for Jupyter support')\n"
            ]
          },
          "metadata": {},
          "output_type": "display_data"
        },
        {
          "data": {
            "text/html": [
              "<pre style=\"white-space:pre;overflow-x:auto;line-height:normal;font-family:Menlo,'DejaVu Sans Mono',consolas,'Courier New',monospace\">c:\\Users\\TalmoLab\\mambaforge\\envs\\sleap_jupyter\\lib\\site-packages\\rich\\live.py:221: \n",
              "UserWarning: install \"ipywidgets\" for Jupyter support\n",
              "  warnings.warn('install \"ipywidgets\" for Jupyter support')\n",
              "</pre>\n"
            ],
            "text/plain": [
              "c:\\Users\\TalmoLab\\mambaforge\\envs\\sleap_jupyter\\lib\\site-packages\\rich\\live.py:221: \n",
              "UserWarning: install \"ipywidgets\" for Jupyter support\n",
              "  warnings.warn('install \"ipywidgets\" for Jupyter support')\n"
            ]
          },
          "metadata": {},
          "output_type": "display_data"
        },
        {
          "data": {
            "text/html": [
              "<pre style=\"white-space:pre;overflow-x:auto;line-height:normal;font-family:Menlo,'DejaVu Sans Mono',consolas,'Courier New',monospace\">c:\\Users\\TalmoLab\\mambaforge\\envs\\sleap_jupyter\\lib\\site-packages\\rich\\live.py:221: \n",
              "UserWarning: install \"ipywidgets\" for Jupyter support\n",
              "  warnings.warn('install \"ipywidgets\" for Jupyter support')\n",
              "</pre>\n"
            ],
            "text/plain": [
              "c:\\Users\\TalmoLab\\mambaforge\\envs\\sleap_jupyter\\lib\\site-packages\\rich\\live.py:221: \n",
              "UserWarning: install \"ipywidgets\" for Jupyter support\n",
              "  warnings.warn('install \"ipywidgets\" for Jupyter support')\n"
            ]
          },
          "metadata": {},
          "output_type": "display_data"
        },
        {
          "data": {
            "text/html": [
              "<pre style=\"white-space:pre;overflow-x:auto;line-height:normal;font-family:Menlo,'DejaVu Sans Mono',consolas,'Courier New',monospace\">c:\\Users\\TalmoLab\\mambaforge\\envs\\sleap_jupyter\\lib\\site-packages\\rich\\live.py:221: \n",
              "UserWarning: install \"ipywidgets\" for Jupyter support\n",
              "  warnings.warn('install \"ipywidgets\" for Jupyter support')\n",
              "</pre>\n"
            ],
            "text/plain": [
              "c:\\Users\\TalmoLab\\mambaforge\\envs\\sleap_jupyter\\lib\\site-packages\\rich\\live.py:221: \n",
              "UserWarning: install \"ipywidgets\" for Jupyter support\n",
              "  warnings.warn('install \"ipywidgets\" for Jupyter support')\n"
            ]
          },
          "metadata": {},
          "output_type": "display_data"
        },
        {
          "data": {
            "text/html": [
              "<pre style=\"white-space:pre;overflow-x:auto;line-height:normal;font-family:Menlo,'DejaVu Sans Mono',consolas,'Courier New',monospace\">c:\\Users\\TalmoLab\\mambaforge\\envs\\sleap_jupyter\\lib\\site-packages\\rich\\live.py:221: \n",
              "UserWarning: install \"ipywidgets\" for Jupyter support\n",
              "  warnings.warn('install \"ipywidgets\" for Jupyter support')\n",
              "</pre>\n"
            ],
            "text/plain": [
              "c:\\Users\\TalmoLab\\mambaforge\\envs\\sleap_jupyter\\lib\\site-packages\\rich\\live.py:221: \n",
              "UserWarning: install \"ipywidgets\" for Jupyter support\n",
              "  warnings.warn('install \"ipywidgets\" for Jupyter support')\n"
            ]
          },
          "metadata": {},
          "output_type": "display_data"
        },
        {
          "data": {
            "text/html": [
              "<pre style=\"white-space:pre;overflow-x:auto;line-height:normal;font-family:Menlo,'DejaVu Sans Mono',consolas,'Courier New',monospace\">c:\\Users\\TalmoLab\\mambaforge\\envs\\sleap_jupyter\\lib\\site-packages\\rich\\live.py:221: \n",
              "UserWarning: install \"ipywidgets\" for Jupyter support\n",
              "  warnings.warn('install \"ipywidgets\" for Jupyter support')\n",
              "</pre>\n"
            ],
            "text/plain": [
              "c:\\Users\\TalmoLab\\mambaforge\\envs\\sleap_jupyter\\lib\\site-packages\\rich\\live.py:221: \n",
              "UserWarning: install \"ipywidgets\" for Jupyter support\n",
              "  warnings.warn('install \"ipywidgets\" for Jupyter support')\n"
            ]
          },
          "metadata": {},
          "output_type": "display_data"
        },
        {
          "data": {
            "text/html": [
              "<pre style=\"white-space:pre;overflow-x:auto;line-height:normal;font-family:Menlo,'DejaVu Sans Mono',consolas,'Courier New',monospace\">c:\\Users\\TalmoLab\\mambaforge\\envs\\sleap_jupyter\\lib\\site-packages\\rich\\live.py:221: \n",
              "UserWarning: install \"ipywidgets\" for Jupyter support\n",
              "  warnings.warn('install \"ipywidgets\" for Jupyter support')\n",
              "</pre>\n"
            ],
            "text/plain": [
              "c:\\Users\\TalmoLab\\mambaforge\\envs\\sleap_jupyter\\lib\\site-packages\\rich\\live.py:221: \n",
              "UserWarning: install \"ipywidgets\" for Jupyter support\n",
              "  warnings.warn('install \"ipywidgets\" for Jupyter support')\n"
            ]
          },
          "metadata": {},
          "output_type": "display_data"
        },
        {
          "data": {
            "text/html": [
              "<pre style=\"white-space:pre;overflow-x:auto;line-height:normal;font-family:Menlo,'DejaVu Sans Mono',consolas,'Courier New',monospace\">c:\\Users\\TalmoLab\\mambaforge\\envs\\sleap_jupyter\\lib\\site-packages\\rich\\live.py:221: \n",
              "UserWarning: install \"ipywidgets\" for Jupyter support\n",
              "  warnings.warn('install \"ipywidgets\" for Jupyter support')\n",
              "</pre>\n"
            ],
            "text/plain": [
              "c:\\Users\\TalmoLab\\mambaforge\\envs\\sleap_jupyter\\lib\\site-packages\\rich\\live.py:221: \n",
              "UserWarning: install \"ipywidgets\" for Jupyter support\n",
              "  warnings.warn('install \"ipywidgets\" for Jupyter support')\n"
            ]
          },
          "metadata": {},
          "output_type": "display_data"
        },
        {
          "data": {
            "text/html": [
              "<pre style=\"white-space:pre;overflow-x:auto;line-height:normal;font-family:Menlo,'DejaVu Sans Mono',consolas,'Courier New',monospace\">c:\\Users\\TalmoLab\\mambaforge\\envs\\sleap_jupyter\\lib\\site-packages\\rich\\live.py:221: \n",
              "UserWarning: install \"ipywidgets\" for Jupyter support\n",
              "  warnings.warn('install \"ipywidgets\" for Jupyter support')\n",
              "</pre>\n"
            ],
            "text/plain": [
              "c:\\Users\\TalmoLab\\mambaforge\\envs\\sleap_jupyter\\lib\\site-packages\\rich\\live.py:221: \n",
              "UserWarning: install \"ipywidgets\" for Jupyter support\n",
              "  warnings.warn('install \"ipywidgets\" for Jupyter support')\n"
            ]
          },
          "metadata": {},
          "output_type": "display_data"
        },
        {
          "data": {
            "text/html": [
              "<pre style=\"white-space:pre;overflow-x:auto;line-height:normal;font-family:Menlo,'DejaVu Sans Mono',consolas,'Courier New',monospace\">c:\\Users\\TalmoLab\\mambaforge\\envs\\sleap_jupyter\\lib\\site-packages\\rich\\live.py:221: \n",
              "UserWarning: install \"ipywidgets\" for Jupyter support\n",
              "  warnings.warn('install \"ipywidgets\" for Jupyter support')\n",
              "</pre>\n"
            ],
            "text/plain": [
              "c:\\Users\\TalmoLab\\mambaforge\\envs\\sleap_jupyter\\lib\\site-packages\\rich\\live.py:221: \n",
              "UserWarning: install \"ipywidgets\" for Jupyter support\n",
              "  warnings.warn('install \"ipywidgets\" for Jupyter support')\n"
            ]
          },
          "metadata": {},
          "output_type": "display_data"
        },
        {
          "data": {
            "text/html": [
              "<pre style=\"white-space:pre;overflow-x:auto;line-height:normal;font-family:Menlo,'DejaVu Sans Mono',consolas,'Courier New',monospace\">c:\\Users\\TalmoLab\\mambaforge\\envs\\sleap_jupyter\\lib\\site-packages\\rich\\live.py:221: \n",
              "UserWarning: install \"ipywidgets\" for Jupyter support\n",
              "  warnings.warn('install \"ipywidgets\" for Jupyter support')\n",
              "</pre>\n"
            ],
            "text/plain": [
              "c:\\Users\\TalmoLab\\mambaforge\\envs\\sleap_jupyter\\lib\\site-packages\\rich\\live.py:221: \n",
              "UserWarning: install \"ipywidgets\" for Jupyter support\n",
              "  warnings.warn('install \"ipywidgets\" for Jupyter support')\n"
            ]
          },
          "metadata": {},
          "output_type": "display_data"
        },
        {
          "data": {
            "text/html": [
              "<pre style=\"white-space:pre;overflow-x:auto;line-height:normal;font-family:Menlo,'DejaVu Sans Mono',consolas,'Courier New',monospace\">c:\\Users\\TalmoLab\\mambaforge\\envs\\sleap_jupyter\\lib\\site-packages\\rich\\live.py:221: \n",
              "UserWarning: install \"ipywidgets\" for Jupyter support\n",
              "  warnings.warn('install \"ipywidgets\" for Jupyter support')\n",
              "</pre>\n"
            ],
            "text/plain": [
              "c:\\Users\\TalmoLab\\mambaforge\\envs\\sleap_jupyter\\lib\\site-packages\\rich\\live.py:221: \n",
              "UserWarning: install \"ipywidgets\" for Jupyter support\n",
              "  warnings.warn('install \"ipywidgets\" for Jupyter support')\n"
            ]
          },
          "metadata": {},
          "output_type": "display_data"
        },
        {
          "data": {
            "text/html": [
              "<pre style=\"white-space:pre;overflow-x:auto;line-height:normal;font-family:Menlo,'DejaVu Sans Mono',consolas,'Courier New',monospace\">c:\\Users\\TalmoLab\\mambaforge\\envs\\sleap_jupyter\\lib\\site-packages\\rich\\live.py:221: \n",
              "UserWarning: install \"ipywidgets\" for Jupyter support\n",
              "  warnings.warn('install \"ipywidgets\" for Jupyter support')\n",
              "</pre>\n"
            ],
            "text/plain": [
              "c:\\Users\\TalmoLab\\mambaforge\\envs\\sleap_jupyter\\lib\\site-packages\\rich\\live.py:221: \n",
              "UserWarning: install \"ipywidgets\" for Jupyter support\n",
              "  warnings.warn('install \"ipywidgets\" for Jupyter support')\n"
            ]
          },
          "metadata": {},
          "output_type": "display_data"
        },
        {
          "data": {
            "text/html": [
              "<pre style=\"white-space:pre;overflow-x:auto;line-height:normal;font-family:Menlo,'DejaVu Sans Mono',consolas,'Courier New',monospace\">c:\\Users\\TalmoLab\\mambaforge\\envs\\sleap_jupyter\\lib\\site-packages\\rich\\live.py:221: \n",
              "UserWarning: install \"ipywidgets\" for Jupyter support\n",
              "  warnings.warn('install \"ipywidgets\" for Jupyter support')\n",
              "</pre>\n"
            ],
            "text/plain": [
              "c:\\Users\\TalmoLab\\mambaforge\\envs\\sleap_jupyter\\lib\\site-packages\\rich\\live.py:221: \n",
              "UserWarning: install \"ipywidgets\" for Jupyter support\n",
              "  warnings.warn('install \"ipywidgets\" for Jupyter support')\n"
            ]
          },
          "metadata": {},
          "output_type": "display_data"
        },
        {
          "data": {
            "text/html": [
              "<pre style=\"white-space:pre;overflow-x:auto;line-height:normal;font-family:Menlo,'DejaVu Sans Mono',consolas,'Courier New',monospace\">c:\\Users\\TalmoLab\\mambaforge\\envs\\sleap_jupyter\\lib\\site-packages\\rich\\live.py:221: \n",
              "UserWarning: install \"ipywidgets\" for Jupyter support\n",
              "  warnings.warn('install \"ipywidgets\" for Jupyter support')\n",
              "</pre>\n"
            ],
            "text/plain": [
              "c:\\Users\\TalmoLab\\mambaforge\\envs\\sleap_jupyter\\lib\\site-packages\\rich\\live.py:221: \n",
              "UserWarning: install \"ipywidgets\" for Jupyter support\n",
              "  warnings.warn('install \"ipywidgets\" for Jupyter support')\n"
            ]
          },
          "metadata": {},
          "output_type": "display_data"
        },
        {
          "data": {
            "text/html": [
              "<pre style=\"white-space:pre;overflow-x:auto;line-height:normal;font-family:Menlo,'DejaVu Sans Mono',consolas,'Courier New',monospace\">c:\\Users\\TalmoLab\\mambaforge\\envs\\sleap_jupyter\\lib\\site-packages\\rich\\live.py:221: \n",
              "UserWarning: install \"ipywidgets\" for Jupyter support\n",
              "  warnings.warn('install \"ipywidgets\" for Jupyter support')\n",
              "</pre>\n"
            ],
            "text/plain": [
              "c:\\Users\\TalmoLab\\mambaforge\\envs\\sleap_jupyter\\lib\\site-packages\\rich\\live.py:221: \n",
              "UserWarning: install \"ipywidgets\" for Jupyter support\n",
              "  warnings.warn('install \"ipywidgets\" for Jupyter support')\n"
            ]
          },
          "metadata": {},
          "output_type": "display_data"
        },
        {
          "data": {
            "text/html": [
              "<pre style=\"white-space:pre;overflow-x:auto;line-height:normal;font-family:Menlo,'DejaVu Sans Mono',consolas,'Courier New',monospace\">c:\\Users\\TalmoLab\\mambaforge\\envs\\sleap_jupyter\\lib\\site-packages\\rich\\live.py:221: \n",
              "UserWarning: install \"ipywidgets\" for Jupyter support\n",
              "  warnings.warn('install \"ipywidgets\" for Jupyter support')\n",
              "</pre>\n"
            ],
            "text/plain": [
              "c:\\Users\\TalmoLab\\mambaforge\\envs\\sleap_jupyter\\lib\\site-packages\\rich\\live.py:221: \n",
              "UserWarning: install \"ipywidgets\" for Jupyter support\n",
              "  warnings.warn('install \"ipywidgets\" for Jupyter support')\n"
            ]
          },
          "metadata": {},
          "output_type": "display_data"
        },
        {
          "data": {
            "text/html": [
              "<pre style=\"white-space:pre;overflow-x:auto;line-height:normal;font-family:Menlo,'DejaVu Sans Mono',consolas,'Courier New',monospace\">c:\\Users\\TalmoLab\\mambaforge\\envs\\sleap_jupyter\\lib\\site-packages\\rich\\live.py:221: \n",
              "UserWarning: install \"ipywidgets\" for Jupyter support\n",
              "  warnings.warn('install \"ipywidgets\" for Jupyter support')\n",
              "</pre>\n"
            ],
            "text/plain": [
              "c:\\Users\\TalmoLab\\mambaforge\\envs\\sleap_jupyter\\lib\\site-packages\\rich\\live.py:221: \n",
              "UserWarning: install \"ipywidgets\" for Jupyter support\n",
              "  warnings.warn('install \"ipywidgets\" for Jupyter support')\n"
            ]
          },
          "metadata": {},
          "output_type": "display_data"
        },
        {
          "data": {
            "text/html": [
              "<pre style=\"white-space:pre;overflow-x:auto;line-height:normal;font-family:Menlo,'DejaVu Sans Mono',consolas,'Courier New',monospace\">c:\\Users\\TalmoLab\\mambaforge\\envs\\sleap_jupyter\\lib\\site-packages\\rich\\live.py:221: \n",
              "UserWarning: install \"ipywidgets\" for Jupyter support\n",
              "  warnings.warn('install \"ipywidgets\" for Jupyter support')\n",
              "</pre>\n"
            ],
            "text/plain": [
              "c:\\Users\\TalmoLab\\mambaforge\\envs\\sleap_jupyter\\lib\\site-packages\\rich\\live.py:221: \n",
              "UserWarning: install \"ipywidgets\" for Jupyter support\n",
              "  warnings.warn('install \"ipywidgets\" for Jupyter support')\n"
            ]
          },
          "metadata": {},
          "output_type": "display_data"
        },
        {
          "data": {
            "text/html": [
              "<pre style=\"white-space:pre;overflow-x:auto;line-height:normal;font-family:Menlo,'DejaVu Sans Mono',consolas,'Courier New',monospace\">c:\\Users\\TalmoLab\\mambaforge\\envs\\sleap_jupyter\\lib\\site-packages\\rich\\live.py:221: \n",
              "UserWarning: install \"ipywidgets\" for Jupyter support\n",
              "  warnings.warn('install \"ipywidgets\" for Jupyter support')\n",
              "</pre>\n"
            ],
            "text/plain": [
              "c:\\Users\\TalmoLab\\mambaforge\\envs\\sleap_jupyter\\lib\\site-packages\\rich\\live.py:221: \n",
              "UserWarning: install \"ipywidgets\" for Jupyter support\n",
              "  warnings.warn('install \"ipywidgets\" for Jupyter support')\n"
            ]
          },
          "metadata": {},
          "output_type": "display_data"
        },
        {
          "data": {
            "text/html": [
              "<pre style=\"white-space:pre;overflow-x:auto;line-height:normal;font-family:Menlo,'DejaVu Sans Mono',consolas,'Courier New',monospace\">c:\\Users\\TalmoLab\\mambaforge\\envs\\sleap_jupyter\\lib\\site-packages\\rich\\live.py:221: \n",
              "UserWarning: install \"ipywidgets\" for Jupyter support\n",
              "  warnings.warn('install \"ipywidgets\" for Jupyter support')\n",
              "</pre>\n"
            ],
            "text/plain": [
              "c:\\Users\\TalmoLab\\mambaforge\\envs\\sleap_jupyter\\lib\\site-packages\\rich\\live.py:221: \n",
              "UserWarning: install \"ipywidgets\" for Jupyter support\n",
              "  warnings.warn('install \"ipywidgets\" for Jupyter support')\n"
            ]
          },
          "metadata": {},
          "output_type": "display_data"
        },
        {
          "data": {
            "text/html": [
              "<pre style=\"white-space:pre;overflow-x:auto;line-height:normal;font-family:Menlo,'DejaVu Sans Mono',consolas,'Courier New',monospace\">c:\\Users\\TalmoLab\\mambaforge\\envs\\sleap_jupyter\\lib\\site-packages\\rich\\live.py:221: \n",
              "UserWarning: install \"ipywidgets\" for Jupyter support\n",
              "  warnings.warn('install \"ipywidgets\" for Jupyter support')\n",
              "</pre>\n"
            ],
            "text/plain": [
              "c:\\Users\\TalmoLab\\mambaforge\\envs\\sleap_jupyter\\lib\\site-packages\\rich\\live.py:221: \n",
              "UserWarning: install \"ipywidgets\" for Jupyter support\n",
              "  warnings.warn('install \"ipywidgets\" for Jupyter support')\n"
            ]
          },
          "metadata": {},
          "output_type": "display_data"
        },
        {
          "data": {
            "text/html": [
              "<pre style=\"white-space:pre;overflow-x:auto;line-height:normal;font-family:Menlo,'DejaVu Sans Mono',consolas,'Courier New',monospace\">c:\\Users\\TalmoLab\\mambaforge\\envs\\sleap_jupyter\\lib\\site-packages\\rich\\live.py:221: \n",
              "UserWarning: install \"ipywidgets\" for Jupyter support\n",
              "  warnings.warn('install \"ipywidgets\" for Jupyter support')\n",
              "</pre>\n"
            ],
            "text/plain": [
              "c:\\Users\\TalmoLab\\mambaforge\\envs\\sleap_jupyter\\lib\\site-packages\\rich\\live.py:221: \n",
              "UserWarning: install \"ipywidgets\" for Jupyter support\n",
              "  warnings.warn('install \"ipywidgets\" for Jupyter support')\n"
            ]
          },
          "metadata": {},
          "output_type": "display_data"
        },
        {
          "data": {
            "text/html": [
              "<pre style=\"white-space:pre;overflow-x:auto;line-height:normal;font-family:Menlo,'DejaVu Sans Mono',consolas,'Courier New',monospace\">c:\\Users\\TalmoLab\\mambaforge\\envs\\sleap_jupyter\\lib\\site-packages\\rich\\live.py:221: \n",
              "UserWarning: install \"ipywidgets\" for Jupyter support\n",
              "  warnings.warn('install \"ipywidgets\" for Jupyter support')\n",
              "</pre>\n"
            ],
            "text/plain": [
              "c:\\Users\\TalmoLab\\mambaforge\\envs\\sleap_jupyter\\lib\\site-packages\\rich\\live.py:221: \n",
              "UserWarning: install \"ipywidgets\" for Jupyter support\n",
              "  warnings.warn('install \"ipywidgets\" for Jupyter support')\n"
            ]
          },
          "metadata": {},
          "output_type": "display_data"
        },
        {
          "data": {
            "text/html": [
              "<pre style=\"white-space:pre;overflow-x:auto;line-height:normal;font-family:Menlo,'DejaVu Sans Mono',consolas,'Courier New',monospace\">c:\\Users\\TalmoLab\\mambaforge\\envs\\sleap_jupyter\\lib\\site-packages\\rich\\live.py:221: \n",
              "UserWarning: install \"ipywidgets\" for Jupyter support\n",
              "  warnings.warn('install \"ipywidgets\" for Jupyter support')\n",
              "</pre>\n"
            ],
            "text/plain": [
              "c:\\Users\\TalmoLab\\mambaforge\\envs\\sleap_jupyter\\lib\\site-packages\\rich\\live.py:221: \n",
              "UserWarning: install \"ipywidgets\" for Jupyter support\n",
              "  warnings.warn('install \"ipywidgets\" for Jupyter support')\n"
            ]
          },
          "metadata": {},
          "output_type": "display_data"
        },
        {
          "data": {
            "text/html": [
              "<pre style=\"white-space:pre;overflow-x:auto;line-height:normal;font-family:Menlo,'DejaVu Sans Mono',consolas,'Courier New',monospace\">c:\\Users\\TalmoLab\\mambaforge\\envs\\sleap_jupyter\\lib\\site-packages\\rich\\live.py:221: \n",
              "UserWarning: install \"ipywidgets\" for Jupyter support\n",
              "  warnings.warn('install \"ipywidgets\" for Jupyter support')\n",
              "</pre>\n"
            ],
            "text/plain": [
              "c:\\Users\\TalmoLab\\mambaforge\\envs\\sleap_jupyter\\lib\\site-packages\\rich\\live.py:221: \n",
              "UserWarning: install \"ipywidgets\" for Jupyter support\n",
              "  warnings.warn('install \"ipywidgets\" for Jupyter support')\n"
            ]
          },
          "metadata": {},
          "output_type": "display_data"
        },
        {
          "data": {
            "text/html": [
              "<pre style=\"white-space:pre;overflow-x:auto;line-height:normal;font-family:Menlo,'DejaVu Sans Mono',consolas,'Courier New',monospace\">c:\\Users\\TalmoLab\\mambaforge\\envs\\sleap_jupyter\\lib\\site-packages\\rich\\live.py:221: \n",
              "UserWarning: install \"ipywidgets\" for Jupyter support\n",
              "  warnings.warn('install \"ipywidgets\" for Jupyter support')\n",
              "</pre>\n"
            ],
            "text/plain": [
              "c:\\Users\\TalmoLab\\mambaforge\\envs\\sleap_jupyter\\lib\\site-packages\\rich\\live.py:221: \n",
              "UserWarning: install \"ipywidgets\" for Jupyter support\n",
              "  warnings.warn('install \"ipywidgets\" for Jupyter support')\n"
            ]
          },
          "metadata": {},
          "output_type": "display_data"
        },
        {
          "data": {
            "text/html": [
              "<pre style=\"white-space:pre;overflow-x:auto;line-height:normal;font-family:Menlo,'DejaVu Sans Mono',consolas,'Courier New',monospace\">c:\\Users\\TalmoLab\\mambaforge\\envs\\sleap_jupyter\\lib\\site-packages\\rich\\live.py:221: \n",
              "UserWarning: install \"ipywidgets\" for Jupyter support\n",
              "  warnings.warn('install \"ipywidgets\" for Jupyter support')\n",
              "</pre>\n"
            ],
            "text/plain": [
              "c:\\Users\\TalmoLab\\mambaforge\\envs\\sleap_jupyter\\lib\\site-packages\\rich\\live.py:221: \n",
              "UserWarning: install \"ipywidgets\" for Jupyter support\n",
              "  warnings.warn('install \"ipywidgets\" for Jupyter support')\n"
            ]
          },
          "metadata": {},
          "output_type": "display_data"
        },
        {
          "data": {
            "text/html": [
              "<pre style=\"white-space:pre;overflow-x:auto;line-height:normal;font-family:Menlo,'DejaVu Sans Mono',consolas,'Courier New',monospace\">c:\\Users\\TalmoLab\\mambaforge\\envs\\sleap_jupyter\\lib\\site-packages\\rich\\live.py:221: \n",
              "UserWarning: install \"ipywidgets\" for Jupyter support\n",
              "  warnings.warn('install \"ipywidgets\" for Jupyter support')\n",
              "</pre>\n"
            ],
            "text/plain": [
              "c:\\Users\\TalmoLab\\mambaforge\\envs\\sleap_jupyter\\lib\\site-packages\\rich\\live.py:221: \n",
              "UserWarning: install \"ipywidgets\" for Jupyter support\n",
              "  warnings.warn('install \"ipywidgets\" for Jupyter support')\n"
            ]
          },
          "metadata": {},
          "output_type": "display_data"
        },
        {
          "data": {
            "text/html": [
              "<pre style=\"white-space:pre;overflow-x:auto;line-height:normal;font-family:Menlo,'DejaVu Sans Mono',consolas,'Courier New',monospace\">c:\\Users\\TalmoLab\\mambaforge\\envs\\sleap_jupyter\\lib\\site-packages\\rich\\live.py:221: \n",
              "UserWarning: install \"ipywidgets\" for Jupyter support\n",
              "  warnings.warn('install \"ipywidgets\" for Jupyter support')\n",
              "</pre>\n"
            ],
            "text/plain": [
              "c:\\Users\\TalmoLab\\mambaforge\\envs\\sleap_jupyter\\lib\\site-packages\\rich\\live.py:221: \n",
              "UserWarning: install \"ipywidgets\" for Jupyter support\n",
              "  warnings.warn('install \"ipywidgets\" for Jupyter support')\n"
            ]
          },
          "metadata": {},
          "output_type": "display_data"
        },
        {
          "data": {
            "text/html": [
              "<pre style=\"white-space:pre;overflow-x:auto;line-height:normal;font-family:Menlo,'DejaVu Sans Mono',consolas,'Courier New',monospace\">c:\\Users\\TalmoLab\\mambaforge\\envs\\sleap_jupyter\\lib\\site-packages\\rich\\live.py:221: \n",
              "UserWarning: install \"ipywidgets\" for Jupyter support\n",
              "  warnings.warn('install \"ipywidgets\" for Jupyter support')\n",
              "</pre>\n"
            ],
            "text/plain": [
              "c:\\Users\\TalmoLab\\mambaforge\\envs\\sleap_jupyter\\lib\\site-packages\\rich\\live.py:221: \n",
              "UserWarning: install \"ipywidgets\" for Jupyter support\n",
              "  warnings.warn('install \"ipywidgets\" for Jupyter support')\n"
            ]
          },
          "metadata": {},
          "output_type": "display_data"
        },
        {
          "data": {
            "text/html": [
              "<pre style=\"white-space:pre;overflow-x:auto;line-height:normal;font-family:Menlo,'DejaVu Sans Mono',consolas,'Courier New',monospace\">c:\\Users\\TalmoLab\\mambaforge\\envs\\sleap_jupyter\\lib\\site-packages\\rich\\live.py:221: \n",
              "UserWarning: install \"ipywidgets\" for Jupyter support\n",
              "  warnings.warn('install \"ipywidgets\" for Jupyter support')\n",
              "</pre>\n"
            ],
            "text/plain": [
              "c:\\Users\\TalmoLab\\mambaforge\\envs\\sleap_jupyter\\lib\\site-packages\\rich\\live.py:221: \n",
              "UserWarning: install \"ipywidgets\" for Jupyter support\n",
              "  warnings.warn('install \"ipywidgets\" for Jupyter support')\n"
            ]
          },
          "metadata": {},
          "output_type": "display_data"
        },
        {
          "data": {
            "text/html": [
              "<pre style=\"white-space:pre;overflow-x:auto;line-height:normal;font-family:Menlo,'DejaVu Sans Mono',consolas,'Courier New',monospace\">c:\\Users\\TalmoLab\\mambaforge\\envs\\sleap_jupyter\\lib\\site-packages\\rich\\live.py:221: \n",
              "UserWarning: install \"ipywidgets\" for Jupyter support\n",
              "  warnings.warn('install \"ipywidgets\" for Jupyter support')\n",
              "</pre>\n"
            ],
            "text/plain": [
              "c:\\Users\\TalmoLab\\mambaforge\\envs\\sleap_jupyter\\lib\\site-packages\\rich\\live.py:221: \n",
              "UserWarning: install \"ipywidgets\" for Jupyter support\n",
              "  warnings.warn('install \"ipywidgets\" for Jupyter support')\n"
            ]
          },
          "metadata": {},
          "output_type": "display_data"
        },
        {
          "data": {
            "text/html": [
              "<pre style=\"white-space:pre;overflow-x:auto;line-height:normal;font-family:Menlo,'DejaVu Sans Mono',consolas,'Courier New',monospace\">c:\\Users\\TalmoLab\\mambaforge\\envs\\sleap_jupyter\\lib\\site-packages\\rich\\live.py:221: \n",
              "UserWarning: install \"ipywidgets\" for Jupyter support\n",
              "  warnings.warn('install \"ipywidgets\" for Jupyter support')\n",
              "</pre>\n"
            ],
            "text/plain": [
              "c:\\Users\\TalmoLab\\mambaforge\\envs\\sleap_jupyter\\lib\\site-packages\\rich\\live.py:221: \n",
              "UserWarning: install \"ipywidgets\" for Jupyter support\n",
              "  warnings.warn('install \"ipywidgets\" for Jupyter support')\n"
            ]
          },
          "metadata": {},
          "output_type": "display_data"
        },
        {
          "data": {
            "text/html": [
              "<pre style=\"white-space:pre;overflow-x:auto;line-height:normal;font-family:Menlo,'DejaVu Sans Mono',consolas,'Courier New',monospace\">c:\\Users\\TalmoLab\\mambaforge\\envs\\sleap_jupyter\\lib\\site-packages\\rich\\live.py:221: \n",
              "UserWarning: install \"ipywidgets\" for Jupyter support\n",
              "  warnings.warn('install \"ipywidgets\" for Jupyter support')\n",
              "</pre>\n"
            ],
            "text/plain": [
              "c:\\Users\\TalmoLab\\mambaforge\\envs\\sleap_jupyter\\lib\\site-packages\\rich\\live.py:221: \n",
              "UserWarning: install \"ipywidgets\" for Jupyter support\n",
              "  warnings.warn('install \"ipywidgets\" for Jupyter support')\n"
            ]
          },
          "metadata": {},
          "output_type": "display_data"
        },
        {
          "data": {
            "text/html": [
              "<pre style=\"white-space:pre;overflow-x:auto;line-height:normal;font-family:Menlo,'DejaVu Sans Mono',consolas,'Courier New',monospace\">c:\\Users\\TalmoLab\\mambaforge\\envs\\sleap_jupyter\\lib\\site-packages\\rich\\live.py:221: \n",
              "UserWarning: install \"ipywidgets\" for Jupyter support\n",
              "  warnings.warn('install \"ipywidgets\" for Jupyter support')\n",
              "</pre>\n"
            ],
            "text/plain": [
              "c:\\Users\\TalmoLab\\mambaforge\\envs\\sleap_jupyter\\lib\\site-packages\\rich\\live.py:221: \n",
              "UserWarning: install \"ipywidgets\" for Jupyter support\n",
              "  warnings.warn('install \"ipywidgets\" for Jupyter support')\n"
            ]
          },
          "metadata": {},
          "output_type": "display_data"
        },
        {
          "data": {
            "text/html": [
              "<pre style=\"white-space:pre;overflow-x:auto;line-height:normal;font-family:Menlo,'DejaVu Sans Mono',consolas,'Courier New',monospace\">c:\\Users\\TalmoLab\\mambaforge\\envs\\sleap_jupyter\\lib\\site-packages\\rich\\live.py:221: \n",
              "UserWarning: install \"ipywidgets\" for Jupyter support\n",
              "  warnings.warn('install \"ipywidgets\" for Jupyter support')\n",
              "</pre>\n"
            ],
            "text/plain": [
              "c:\\Users\\TalmoLab\\mambaforge\\envs\\sleap_jupyter\\lib\\site-packages\\rich\\live.py:221: \n",
              "UserWarning: install \"ipywidgets\" for Jupyter support\n",
              "  warnings.warn('install \"ipywidgets\" for Jupyter support')\n"
            ]
          },
          "metadata": {},
          "output_type": "display_data"
        },
        {
          "data": {
            "text/html": [
              "<pre style=\"white-space:pre;overflow-x:auto;line-height:normal;font-family:Menlo,'DejaVu Sans Mono',consolas,'Courier New',monospace\">c:\\Users\\TalmoLab\\mambaforge\\envs\\sleap_jupyter\\lib\\site-packages\\rich\\live.py:221: \n",
              "UserWarning: install \"ipywidgets\" for Jupyter support\n",
              "  warnings.warn('install \"ipywidgets\" for Jupyter support')\n",
              "</pre>\n"
            ],
            "text/plain": [
              "c:\\Users\\TalmoLab\\mambaforge\\envs\\sleap_jupyter\\lib\\site-packages\\rich\\live.py:221: \n",
              "UserWarning: install \"ipywidgets\" for Jupyter support\n",
              "  warnings.warn('install \"ipywidgets\" for Jupyter support')\n"
            ]
          },
          "metadata": {},
          "output_type": "display_data"
        },
        {
          "data": {
            "text/html": [
              "<pre style=\"white-space:pre;overflow-x:auto;line-height:normal;font-family:Menlo,'DejaVu Sans Mono',consolas,'Courier New',monospace\">c:\\Users\\TalmoLab\\mambaforge\\envs\\sleap_jupyter\\lib\\site-packages\\rich\\live.py:221: \n",
              "UserWarning: install \"ipywidgets\" for Jupyter support\n",
              "  warnings.warn('install \"ipywidgets\" for Jupyter support')\n",
              "</pre>\n"
            ],
            "text/plain": [
              "c:\\Users\\TalmoLab\\mambaforge\\envs\\sleap_jupyter\\lib\\site-packages\\rich\\live.py:221: \n",
              "UserWarning: install \"ipywidgets\" for Jupyter support\n",
              "  warnings.warn('install \"ipywidgets\" for Jupyter support')\n"
            ]
          },
          "metadata": {},
          "output_type": "display_data"
        },
        {
          "data": {
            "text/html": [
              "<pre style=\"white-space:pre;overflow-x:auto;line-height:normal;font-family:Menlo,'DejaVu Sans Mono',consolas,'Courier New',monospace\">c:\\Users\\TalmoLab\\mambaforge\\envs\\sleap_jupyter\\lib\\site-packages\\rich\\live.py:221: \n",
              "UserWarning: install \"ipywidgets\" for Jupyter support\n",
              "  warnings.warn('install \"ipywidgets\" for Jupyter support')\n",
              "</pre>\n"
            ],
            "text/plain": [
              "c:\\Users\\TalmoLab\\mambaforge\\envs\\sleap_jupyter\\lib\\site-packages\\rich\\live.py:221: \n",
              "UserWarning: install \"ipywidgets\" for Jupyter support\n",
              "  warnings.warn('install \"ipywidgets\" for Jupyter support')\n"
            ]
          },
          "metadata": {},
          "output_type": "display_data"
        },
        {
          "data": {
            "text/html": [
              "<pre style=\"white-space:pre;overflow-x:auto;line-height:normal;font-family:Menlo,'DejaVu Sans Mono',consolas,'Courier New',monospace\">c:\\Users\\TalmoLab\\mambaforge\\envs\\sleap_jupyter\\lib\\site-packages\\rich\\live.py:221: \n",
              "UserWarning: install \"ipywidgets\" for Jupyter support\n",
              "  warnings.warn('install \"ipywidgets\" for Jupyter support')\n",
              "</pre>\n"
            ],
            "text/plain": [
              "c:\\Users\\TalmoLab\\mambaforge\\envs\\sleap_jupyter\\lib\\site-packages\\rich\\live.py:221: \n",
              "UserWarning: install \"ipywidgets\" for Jupyter support\n",
              "  warnings.warn('install \"ipywidgets\" for Jupyter support')\n"
            ]
          },
          "metadata": {},
          "output_type": "display_data"
        },
        {
          "data": {
            "text/html": [
              "<pre style=\"white-space:pre;overflow-x:auto;line-height:normal;font-family:Menlo,'DejaVu Sans Mono',consolas,'Courier New',monospace\">c:\\Users\\TalmoLab\\mambaforge\\envs\\sleap_jupyter\\lib\\site-packages\\rich\\live.py:221: \n",
              "UserWarning: install \"ipywidgets\" for Jupyter support\n",
              "  warnings.warn('install \"ipywidgets\" for Jupyter support')\n",
              "</pre>\n"
            ],
            "text/plain": [
              "c:\\Users\\TalmoLab\\mambaforge\\envs\\sleap_jupyter\\lib\\site-packages\\rich\\live.py:221: \n",
              "UserWarning: install \"ipywidgets\" for Jupyter support\n",
              "  warnings.warn('install \"ipywidgets\" for Jupyter support')\n"
            ]
          },
          "metadata": {},
          "output_type": "display_data"
        },
        {
          "data": {
            "text/html": [
              "<pre style=\"white-space:pre;overflow-x:auto;line-height:normal;font-family:Menlo,'DejaVu Sans Mono',consolas,'Courier New',monospace\">c:\\Users\\TalmoLab\\mambaforge\\envs\\sleap_jupyter\\lib\\site-packages\\rich\\live.py:221: \n",
              "UserWarning: install \"ipywidgets\" for Jupyter support\n",
              "  warnings.warn('install \"ipywidgets\" for Jupyter support')\n",
              "</pre>\n"
            ],
            "text/plain": [
              "c:\\Users\\TalmoLab\\mambaforge\\envs\\sleap_jupyter\\lib\\site-packages\\rich\\live.py:221: \n",
              "UserWarning: install \"ipywidgets\" for Jupyter support\n",
              "  warnings.warn('install \"ipywidgets\" for Jupyter support')\n"
            ]
          },
          "metadata": {},
          "output_type": "display_data"
        },
        {
          "data": {
            "text/html": [
              "<pre style=\"white-space:pre;overflow-x:auto;line-height:normal;font-family:Menlo,'DejaVu Sans Mono',consolas,'Courier New',monospace\">c:\\Users\\TalmoLab\\mambaforge\\envs\\sleap_jupyter\\lib\\site-packages\\rich\\live.py:221: \n",
              "UserWarning: install \"ipywidgets\" for Jupyter support\n",
              "  warnings.warn('install \"ipywidgets\" for Jupyter support')\n",
              "</pre>\n"
            ],
            "text/plain": [
              "c:\\Users\\TalmoLab\\mambaforge\\envs\\sleap_jupyter\\lib\\site-packages\\rich\\live.py:221: \n",
              "UserWarning: install \"ipywidgets\" for Jupyter support\n",
              "  warnings.warn('install \"ipywidgets\" for Jupyter support')\n"
            ]
          },
          "metadata": {},
          "output_type": "display_data"
        },
        {
          "data": {
            "text/html": [
              "<pre style=\"white-space:pre;overflow-x:auto;line-height:normal;font-family:Menlo,'DejaVu Sans Mono',consolas,'Courier New',monospace\">c:\\Users\\TalmoLab\\mambaforge\\envs\\sleap_jupyter\\lib\\site-packages\\rich\\live.py:221: \n",
              "UserWarning: install \"ipywidgets\" for Jupyter support\n",
              "  warnings.warn('install \"ipywidgets\" for Jupyter support')\n",
              "</pre>\n"
            ],
            "text/plain": [
              "c:\\Users\\TalmoLab\\mambaforge\\envs\\sleap_jupyter\\lib\\site-packages\\rich\\live.py:221: \n",
              "UserWarning: install \"ipywidgets\" for Jupyter support\n",
              "  warnings.warn('install \"ipywidgets\" for Jupyter support')\n"
            ]
          },
          "metadata": {},
          "output_type": "display_data"
        },
        {
          "data": {
            "text/html": [
              "<pre style=\"white-space:pre;overflow-x:auto;line-height:normal;font-family:Menlo,'DejaVu Sans Mono',consolas,'Courier New',monospace\">c:\\Users\\TalmoLab\\mambaforge\\envs\\sleap_jupyter\\lib\\site-packages\\rich\\live.py:221: \n",
              "UserWarning: install \"ipywidgets\" for Jupyter support\n",
              "  warnings.warn('install \"ipywidgets\" for Jupyter support')\n",
              "</pre>\n"
            ],
            "text/plain": [
              "c:\\Users\\TalmoLab\\mambaforge\\envs\\sleap_jupyter\\lib\\site-packages\\rich\\live.py:221: \n",
              "UserWarning: install \"ipywidgets\" for Jupyter support\n",
              "  warnings.warn('install \"ipywidgets\" for Jupyter support')\n"
            ]
          },
          "metadata": {},
          "output_type": "display_data"
        },
        {
          "data": {
            "text/html": [
              "<pre style=\"white-space:pre;overflow-x:auto;line-height:normal;font-family:Menlo,'DejaVu Sans Mono',consolas,'Courier New',monospace\">c:\\Users\\TalmoLab\\mambaforge\\envs\\sleap_jupyter\\lib\\site-packages\\rich\\live.py:221: \n",
              "UserWarning: install \"ipywidgets\" for Jupyter support\n",
              "  warnings.warn('install \"ipywidgets\" for Jupyter support')\n",
              "</pre>\n"
            ],
            "text/plain": [
              "c:\\Users\\TalmoLab\\mambaforge\\envs\\sleap_jupyter\\lib\\site-packages\\rich\\live.py:221: \n",
              "UserWarning: install \"ipywidgets\" for Jupyter support\n",
              "  warnings.warn('install \"ipywidgets\" for Jupyter support')\n"
            ]
          },
          "metadata": {},
          "output_type": "display_data"
        },
        {
          "data": {
            "text/html": [
              "<pre style=\"white-space:pre;overflow-x:auto;line-height:normal;font-family:Menlo,'DejaVu Sans Mono',consolas,'Courier New',monospace\">c:\\Users\\TalmoLab\\mambaforge\\envs\\sleap_jupyter\\lib\\site-packages\\rich\\live.py:221: \n",
              "UserWarning: install \"ipywidgets\" for Jupyter support\n",
              "  warnings.warn('install \"ipywidgets\" for Jupyter support')\n",
              "</pre>\n"
            ],
            "text/plain": [
              "c:\\Users\\TalmoLab\\mambaforge\\envs\\sleap_jupyter\\lib\\site-packages\\rich\\live.py:221: \n",
              "UserWarning: install \"ipywidgets\" for Jupyter support\n",
              "  warnings.warn('install \"ipywidgets\" for Jupyter support')\n"
            ]
          },
          "metadata": {},
          "output_type": "display_data"
        },
        {
          "data": {
            "text/html": [
              "<pre style=\"white-space:pre;overflow-x:auto;line-height:normal;font-family:Menlo,'DejaVu Sans Mono',consolas,'Courier New',monospace\">c:\\Users\\TalmoLab\\mambaforge\\envs\\sleap_jupyter\\lib\\site-packages\\rich\\live.py:221: \n",
              "UserWarning: install \"ipywidgets\" for Jupyter support\n",
              "  warnings.warn('install \"ipywidgets\" for Jupyter support')\n",
              "</pre>\n"
            ],
            "text/plain": [
              "c:\\Users\\TalmoLab\\mambaforge\\envs\\sleap_jupyter\\lib\\site-packages\\rich\\live.py:221: \n",
              "UserWarning: install \"ipywidgets\" for Jupyter support\n",
              "  warnings.warn('install \"ipywidgets\" for Jupyter support')\n"
            ]
          },
          "metadata": {},
          "output_type": "display_data"
        },
        {
          "data": {
            "text/html": [
              "<pre style=\"white-space:pre;overflow-x:auto;line-height:normal;font-family:Menlo,'DejaVu Sans Mono',consolas,'Courier New',monospace\">c:\\Users\\TalmoLab\\mambaforge\\envs\\sleap_jupyter\\lib\\site-packages\\rich\\live.py:221: \n",
              "UserWarning: install \"ipywidgets\" for Jupyter support\n",
              "  warnings.warn('install \"ipywidgets\" for Jupyter support')\n",
              "</pre>\n"
            ],
            "text/plain": [
              "c:\\Users\\TalmoLab\\mambaforge\\envs\\sleap_jupyter\\lib\\site-packages\\rich\\live.py:221: \n",
              "UserWarning: install \"ipywidgets\" for Jupyter support\n",
              "  warnings.warn('install \"ipywidgets\" for Jupyter support')\n"
            ]
          },
          "metadata": {},
          "output_type": "display_data"
        },
        {
          "data": {
            "text/html": [
              "<pre style=\"white-space:pre;overflow-x:auto;line-height:normal;font-family:Menlo,'DejaVu Sans Mono',consolas,'Courier New',monospace\">c:\\Users\\TalmoLab\\mambaforge\\envs\\sleap_jupyter\\lib\\site-packages\\rich\\live.py:221: \n",
              "UserWarning: install \"ipywidgets\" for Jupyter support\n",
              "  warnings.warn('install \"ipywidgets\" for Jupyter support')\n",
              "</pre>\n"
            ],
            "text/plain": [
              "c:\\Users\\TalmoLab\\mambaforge\\envs\\sleap_jupyter\\lib\\site-packages\\rich\\live.py:221: \n",
              "UserWarning: install \"ipywidgets\" for Jupyter support\n",
              "  warnings.warn('install \"ipywidgets\" for Jupyter support')\n"
            ]
          },
          "metadata": {},
          "output_type": "display_data"
        },
        {
          "data": {
            "text/html": [
              "<pre style=\"white-space:pre;overflow-x:auto;line-height:normal;font-family:Menlo,'DejaVu Sans Mono',consolas,'Courier New',monospace\">c:\\Users\\TalmoLab\\mambaforge\\envs\\sleap_jupyter\\lib\\site-packages\\rich\\live.py:221: \n",
              "UserWarning: install \"ipywidgets\" for Jupyter support\n",
              "  warnings.warn('install \"ipywidgets\" for Jupyter support')\n",
              "</pre>\n"
            ],
            "text/plain": [
              "c:\\Users\\TalmoLab\\mambaforge\\envs\\sleap_jupyter\\lib\\site-packages\\rich\\live.py:221: \n",
              "UserWarning: install \"ipywidgets\" for Jupyter support\n",
              "  warnings.warn('install \"ipywidgets\" for Jupyter support')\n"
            ]
          },
          "metadata": {},
          "output_type": "display_data"
        },
        {
          "data": {
            "text/html": [
              "<pre style=\"white-space:pre;overflow-x:auto;line-height:normal;font-family:Menlo,'DejaVu Sans Mono',consolas,'Courier New',monospace\">c:\\Users\\TalmoLab\\mambaforge\\envs\\sleap_jupyter\\lib\\site-packages\\rich\\live.py:221: \n",
              "UserWarning: install \"ipywidgets\" for Jupyter support\n",
              "  warnings.warn('install \"ipywidgets\" for Jupyter support')\n",
              "</pre>\n"
            ],
            "text/plain": [
              "c:\\Users\\TalmoLab\\mambaforge\\envs\\sleap_jupyter\\lib\\site-packages\\rich\\live.py:221: \n",
              "UserWarning: install \"ipywidgets\" for Jupyter support\n",
              "  warnings.warn('install \"ipywidgets\" for Jupyter support')\n"
            ]
          },
          "metadata": {},
          "output_type": "display_data"
        },
        {
          "data": {
            "text/html": [
              "<pre style=\"white-space:pre;overflow-x:auto;line-height:normal;font-family:Menlo,'DejaVu Sans Mono',consolas,'Courier New',monospace\">c:\\Users\\TalmoLab\\mambaforge\\envs\\sleap_jupyter\\lib\\site-packages\\rich\\live.py:221: \n",
              "UserWarning: install \"ipywidgets\" for Jupyter support\n",
              "  warnings.warn('install \"ipywidgets\" for Jupyter support')\n",
              "</pre>\n"
            ],
            "text/plain": [
              "c:\\Users\\TalmoLab\\mambaforge\\envs\\sleap_jupyter\\lib\\site-packages\\rich\\live.py:221: \n",
              "UserWarning: install \"ipywidgets\" for Jupyter support\n",
              "  warnings.warn('install \"ipywidgets\" for Jupyter support')\n"
            ]
          },
          "metadata": {},
          "output_type": "display_data"
        },
        {
          "data": {
            "text/html": [
              "<pre style=\"white-space:pre;overflow-x:auto;line-height:normal;font-family:Menlo,'DejaVu Sans Mono',consolas,'Courier New',monospace\">c:\\Users\\TalmoLab\\mambaforge\\envs\\sleap_jupyter\\lib\\site-packages\\rich\\live.py:221: \n",
              "UserWarning: install \"ipywidgets\" for Jupyter support\n",
              "  warnings.warn('install \"ipywidgets\" for Jupyter support')\n",
              "</pre>\n"
            ],
            "text/plain": [
              "c:\\Users\\TalmoLab\\mambaforge\\envs\\sleap_jupyter\\lib\\site-packages\\rich\\live.py:221: \n",
              "UserWarning: install \"ipywidgets\" for Jupyter support\n",
              "  warnings.warn('install \"ipywidgets\" for Jupyter support')\n"
            ]
          },
          "metadata": {},
          "output_type": "display_data"
        },
        {
          "data": {
            "text/html": [
              "<pre style=\"white-space:pre;overflow-x:auto;line-height:normal;font-family:Menlo,'DejaVu Sans Mono',consolas,'Courier New',monospace\">c:\\Users\\TalmoLab\\mambaforge\\envs\\sleap_jupyter\\lib\\site-packages\\rich\\live.py:221: \n",
              "UserWarning: install \"ipywidgets\" for Jupyter support\n",
              "  warnings.warn('install \"ipywidgets\" for Jupyter support')\n",
              "</pre>\n"
            ],
            "text/plain": [
              "c:\\Users\\TalmoLab\\mambaforge\\envs\\sleap_jupyter\\lib\\site-packages\\rich\\live.py:221: \n",
              "UserWarning: install \"ipywidgets\" for Jupyter support\n",
              "  warnings.warn('install \"ipywidgets\" for Jupyter support')\n"
            ]
          },
          "metadata": {},
          "output_type": "display_data"
        },
        {
          "data": {
            "text/html": [
              "<pre style=\"white-space:pre;overflow-x:auto;line-height:normal;font-family:Menlo,'DejaVu Sans Mono',consolas,'Courier New',monospace\">c:\\Users\\TalmoLab\\mambaforge\\envs\\sleap_jupyter\\lib\\site-packages\\rich\\live.py:221: \n",
              "UserWarning: install \"ipywidgets\" for Jupyter support\n",
              "  warnings.warn('install \"ipywidgets\" for Jupyter support')\n",
              "</pre>\n"
            ],
            "text/plain": [
              "c:\\Users\\TalmoLab\\mambaforge\\envs\\sleap_jupyter\\lib\\site-packages\\rich\\live.py:221: \n",
              "UserWarning: install \"ipywidgets\" for Jupyter support\n",
              "  warnings.warn('install \"ipywidgets\" for Jupyter support')\n"
            ]
          },
          "metadata": {},
          "output_type": "display_data"
        },
        {
          "data": {
            "text/html": [
              "<pre style=\"white-space:pre;overflow-x:auto;line-height:normal;font-family:Menlo,'DejaVu Sans Mono',consolas,'Courier New',monospace\">c:\\Users\\TalmoLab\\mambaforge\\envs\\sleap_jupyter\\lib\\site-packages\\rich\\live.py:221: \n",
              "UserWarning: install \"ipywidgets\" for Jupyter support\n",
              "  warnings.warn('install \"ipywidgets\" for Jupyter support')\n",
              "</pre>\n"
            ],
            "text/plain": [
              "c:\\Users\\TalmoLab\\mambaforge\\envs\\sleap_jupyter\\lib\\site-packages\\rich\\live.py:221: \n",
              "UserWarning: install \"ipywidgets\" for Jupyter support\n",
              "  warnings.warn('install \"ipywidgets\" for Jupyter support')\n"
            ]
          },
          "metadata": {},
          "output_type": "display_data"
        },
        {
          "data": {
            "text/html": [
              "<pre style=\"white-space:pre;overflow-x:auto;line-height:normal;font-family:Menlo,'DejaVu Sans Mono',consolas,'Courier New',monospace\">c:\\Users\\TalmoLab\\mambaforge\\envs\\sleap_jupyter\\lib\\site-packages\\rich\\live.py:221: \n",
              "UserWarning: install \"ipywidgets\" for Jupyter support\n",
              "  warnings.warn('install \"ipywidgets\" for Jupyter support')\n",
              "</pre>\n"
            ],
            "text/plain": [
              "c:\\Users\\TalmoLab\\mambaforge\\envs\\sleap_jupyter\\lib\\site-packages\\rich\\live.py:221: \n",
              "UserWarning: install \"ipywidgets\" for Jupyter support\n",
              "  warnings.warn('install \"ipywidgets\" for Jupyter support')\n"
            ]
          },
          "metadata": {},
          "output_type": "display_data"
        },
        {
          "data": {
            "text/html": [
              "<pre style=\"white-space:pre;overflow-x:auto;line-height:normal;font-family:Menlo,'DejaVu Sans Mono',consolas,'Courier New',monospace\">c:\\Users\\TalmoLab\\mambaforge\\envs\\sleap_jupyter\\lib\\site-packages\\rich\\live.py:221: \n",
              "UserWarning: install \"ipywidgets\" for Jupyter support\n",
              "  warnings.warn('install \"ipywidgets\" for Jupyter support')\n",
              "</pre>\n"
            ],
            "text/plain": [
              "c:\\Users\\TalmoLab\\mambaforge\\envs\\sleap_jupyter\\lib\\site-packages\\rich\\live.py:221: \n",
              "UserWarning: install \"ipywidgets\" for Jupyter support\n",
              "  warnings.warn('install \"ipywidgets\" for Jupyter support')\n"
            ]
          },
          "metadata": {},
          "output_type": "display_data"
        },
        {
          "data": {
            "text/html": [
              "<pre style=\"white-space:pre;overflow-x:auto;line-height:normal;font-family:Menlo,'DejaVu Sans Mono',consolas,'Courier New',monospace\">c:\\Users\\TalmoLab\\mambaforge\\envs\\sleap_jupyter\\lib\\site-packages\\rich\\live.py:221: \n",
              "UserWarning: install \"ipywidgets\" for Jupyter support\n",
              "  warnings.warn('install \"ipywidgets\" for Jupyter support')\n",
              "</pre>\n"
            ],
            "text/plain": [
              "c:\\Users\\TalmoLab\\mambaforge\\envs\\sleap_jupyter\\lib\\site-packages\\rich\\live.py:221: \n",
              "UserWarning: install \"ipywidgets\" for Jupyter support\n",
              "  warnings.warn('install \"ipywidgets\" for Jupyter support')\n"
            ]
          },
          "metadata": {},
          "output_type": "display_data"
        },
        {
          "data": {
            "text/html": [
              "<pre style=\"white-space:pre;overflow-x:auto;line-height:normal;font-family:Menlo,'DejaVu Sans Mono',consolas,'Courier New',monospace\">c:\\Users\\TalmoLab\\mambaforge\\envs\\sleap_jupyter\\lib\\site-packages\\rich\\live.py:221: \n",
              "UserWarning: install \"ipywidgets\" for Jupyter support\n",
              "  warnings.warn('install \"ipywidgets\" for Jupyter support')\n",
              "</pre>\n"
            ],
            "text/plain": [
              "c:\\Users\\TalmoLab\\mambaforge\\envs\\sleap_jupyter\\lib\\site-packages\\rich\\live.py:221: \n",
              "UserWarning: install \"ipywidgets\" for Jupyter support\n",
              "  warnings.warn('install \"ipywidgets\" for Jupyter support')\n"
            ]
          },
          "metadata": {},
          "output_type": "display_data"
        },
        {
          "data": {
            "text/html": [
              "<pre style=\"white-space:pre;overflow-x:auto;line-height:normal;font-family:Menlo,'DejaVu Sans Mono',consolas,'Courier New',monospace\">c:\\Users\\TalmoLab\\mambaforge\\envs\\sleap_jupyter\\lib\\site-packages\\rich\\live.py:221: \n",
              "UserWarning: install \"ipywidgets\" for Jupyter support\n",
              "  warnings.warn('install \"ipywidgets\" for Jupyter support')\n",
              "</pre>\n"
            ],
            "text/plain": [
              "c:\\Users\\TalmoLab\\mambaforge\\envs\\sleap_jupyter\\lib\\site-packages\\rich\\live.py:221: \n",
              "UserWarning: install \"ipywidgets\" for Jupyter support\n",
              "  warnings.warn('install \"ipywidgets\" for Jupyter support')\n"
            ]
          },
          "metadata": {},
          "output_type": "display_data"
        },
        {
          "data": {
            "text/html": [
              "<pre style=\"white-space:pre;overflow-x:auto;line-height:normal;font-family:Menlo,'DejaVu Sans Mono',consolas,'Courier New',monospace\">c:\\Users\\TalmoLab\\mambaforge\\envs\\sleap_jupyter\\lib\\site-packages\\rich\\live.py:221: \n",
              "UserWarning: install \"ipywidgets\" for Jupyter support\n",
              "  warnings.warn('install \"ipywidgets\" for Jupyter support')\n",
              "</pre>\n"
            ],
            "text/plain": [
              "c:\\Users\\TalmoLab\\mambaforge\\envs\\sleap_jupyter\\lib\\site-packages\\rich\\live.py:221: \n",
              "UserWarning: install \"ipywidgets\" for Jupyter support\n",
              "  warnings.warn('install \"ipywidgets\" for Jupyter support')\n"
            ]
          },
          "metadata": {},
          "output_type": "display_data"
        },
        {
          "data": {
            "text/html": [
              "<pre style=\"white-space:pre;overflow-x:auto;line-height:normal;font-family:Menlo,'DejaVu Sans Mono',consolas,'Courier New',monospace\">c:\\Users\\TalmoLab\\mambaforge\\envs\\sleap_jupyter\\lib\\site-packages\\rich\\live.py:221: \n",
              "UserWarning: install \"ipywidgets\" for Jupyter support\n",
              "  warnings.warn('install \"ipywidgets\" for Jupyter support')\n",
              "</pre>\n"
            ],
            "text/plain": [
              "c:\\Users\\TalmoLab\\mambaforge\\envs\\sleap_jupyter\\lib\\site-packages\\rich\\live.py:221: \n",
              "UserWarning: install \"ipywidgets\" for Jupyter support\n",
              "  warnings.warn('install \"ipywidgets\" for Jupyter support')\n"
            ]
          },
          "metadata": {},
          "output_type": "display_data"
        },
        {
          "data": {
            "text/html": [
              "<pre style=\"white-space:pre;overflow-x:auto;line-height:normal;font-family:Menlo,'DejaVu Sans Mono',consolas,'Courier New',monospace\">c:\\Users\\TalmoLab\\mambaforge\\envs\\sleap_jupyter\\lib\\site-packages\\rich\\live.py:221: \n",
              "UserWarning: install \"ipywidgets\" for Jupyter support\n",
              "  warnings.warn('install \"ipywidgets\" for Jupyter support')\n",
              "</pre>\n"
            ],
            "text/plain": [
              "c:\\Users\\TalmoLab\\mambaforge\\envs\\sleap_jupyter\\lib\\site-packages\\rich\\live.py:221: \n",
              "UserWarning: install \"ipywidgets\" for Jupyter support\n",
              "  warnings.warn('install \"ipywidgets\" for Jupyter support')\n"
            ]
          },
          "metadata": {},
          "output_type": "display_data"
        },
        {
          "data": {
            "text/html": [
              "<pre style=\"white-space:pre;overflow-x:auto;line-height:normal;font-family:Menlo,'DejaVu Sans Mono',consolas,'Courier New',monospace\">c:\\Users\\TalmoLab\\mambaforge\\envs\\sleap_jupyter\\lib\\site-packages\\rich\\live.py:221: \n",
              "UserWarning: install \"ipywidgets\" for Jupyter support\n",
              "  warnings.warn('install \"ipywidgets\" for Jupyter support')\n",
              "</pre>\n"
            ],
            "text/plain": [
              "c:\\Users\\TalmoLab\\mambaforge\\envs\\sleap_jupyter\\lib\\site-packages\\rich\\live.py:221: \n",
              "UserWarning: install \"ipywidgets\" for Jupyter support\n",
              "  warnings.warn('install \"ipywidgets\" for Jupyter support')\n"
            ]
          },
          "metadata": {},
          "output_type": "display_data"
        },
        {
          "data": {
            "text/html": [
              "<pre style=\"white-space:pre;overflow-x:auto;line-height:normal;font-family:Menlo,'DejaVu Sans Mono',consolas,'Courier New',monospace\">c:\\Users\\TalmoLab\\mambaforge\\envs\\sleap_jupyter\\lib\\site-packages\\rich\\live.py:221: \n",
              "UserWarning: install \"ipywidgets\" for Jupyter support\n",
              "  warnings.warn('install \"ipywidgets\" for Jupyter support')\n",
              "</pre>\n"
            ],
            "text/plain": [
              "c:\\Users\\TalmoLab\\mambaforge\\envs\\sleap_jupyter\\lib\\site-packages\\rich\\live.py:221: \n",
              "UserWarning: install \"ipywidgets\" for Jupyter support\n",
              "  warnings.warn('install \"ipywidgets\" for Jupyter support')\n"
            ]
          },
          "metadata": {},
          "output_type": "display_data"
        },
        {
          "data": {
            "text/html": [
              "<pre style=\"white-space:pre;overflow-x:auto;line-height:normal;font-family:Menlo,'DejaVu Sans Mono',consolas,'Courier New',monospace\">c:\\Users\\TalmoLab\\mambaforge\\envs\\sleap_jupyter\\lib\\site-packages\\rich\\live.py:221: \n",
              "UserWarning: install \"ipywidgets\" for Jupyter support\n",
              "  warnings.warn('install \"ipywidgets\" for Jupyter support')\n",
              "</pre>\n"
            ],
            "text/plain": [
              "c:\\Users\\TalmoLab\\mambaforge\\envs\\sleap_jupyter\\lib\\site-packages\\rich\\live.py:221: \n",
              "UserWarning: install \"ipywidgets\" for Jupyter support\n",
              "  warnings.warn('install \"ipywidgets\" for Jupyter support')\n"
            ]
          },
          "metadata": {},
          "output_type": "display_data"
        },
        {
          "data": {
            "text/html": [
              "<pre style=\"white-space:pre;overflow-x:auto;line-height:normal;font-family:Menlo,'DejaVu Sans Mono',consolas,'Courier New',monospace\">c:\\Users\\TalmoLab\\mambaforge\\envs\\sleap_jupyter\\lib\\site-packages\\rich\\live.py:221: \n",
              "UserWarning: install \"ipywidgets\" for Jupyter support\n",
              "  warnings.warn('install \"ipywidgets\" for Jupyter support')\n",
              "</pre>\n"
            ],
            "text/plain": [
              "c:\\Users\\TalmoLab\\mambaforge\\envs\\sleap_jupyter\\lib\\site-packages\\rich\\live.py:221: \n",
              "UserWarning: install \"ipywidgets\" for Jupyter support\n",
              "  warnings.warn('install \"ipywidgets\" for Jupyter support')\n"
            ]
          },
          "metadata": {},
          "output_type": "display_data"
        },
        {
          "data": {
            "text/html": [
              "<pre style=\"white-space:pre;overflow-x:auto;line-height:normal;font-family:Menlo,'DejaVu Sans Mono',consolas,'Courier New',monospace\">c:\\Users\\TalmoLab\\mambaforge\\envs\\sleap_jupyter\\lib\\site-packages\\rich\\live.py:221: \n",
              "UserWarning: install \"ipywidgets\" for Jupyter support\n",
              "  warnings.warn('install \"ipywidgets\" for Jupyter support')\n",
              "</pre>\n"
            ],
            "text/plain": [
              "c:\\Users\\TalmoLab\\mambaforge\\envs\\sleap_jupyter\\lib\\site-packages\\rich\\live.py:221: \n",
              "UserWarning: install \"ipywidgets\" for Jupyter support\n",
              "  warnings.warn('install \"ipywidgets\" for Jupyter support')\n"
            ]
          },
          "metadata": {},
          "output_type": "display_data"
        },
        {
          "data": {
            "text/html": [
              "<pre style=\"white-space:pre;overflow-x:auto;line-height:normal;font-family:Menlo,'DejaVu Sans Mono',consolas,'Courier New',monospace\">c:\\Users\\TalmoLab\\mambaforge\\envs\\sleap_jupyter\\lib\\site-packages\\rich\\live.py:221: \n",
              "UserWarning: install \"ipywidgets\" for Jupyter support\n",
              "  warnings.warn('install \"ipywidgets\" for Jupyter support')\n",
              "</pre>\n"
            ],
            "text/plain": [
              "c:\\Users\\TalmoLab\\mambaforge\\envs\\sleap_jupyter\\lib\\site-packages\\rich\\live.py:221: \n",
              "UserWarning: install \"ipywidgets\" for Jupyter support\n",
              "  warnings.warn('install \"ipywidgets\" for Jupyter support')\n"
            ]
          },
          "metadata": {},
          "output_type": "display_data"
        },
        {
          "data": {
            "text/html": [
              "<pre style=\"white-space:pre;overflow-x:auto;line-height:normal;font-family:Menlo,'DejaVu Sans Mono',consolas,'Courier New',monospace\">c:\\Users\\TalmoLab\\mambaforge\\envs\\sleap_jupyter\\lib\\site-packages\\rich\\live.py:221: \n",
              "UserWarning: install \"ipywidgets\" for Jupyter support\n",
              "  warnings.warn('install \"ipywidgets\" for Jupyter support')\n",
              "</pre>\n"
            ],
            "text/plain": [
              "c:\\Users\\TalmoLab\\mambaforge\\envs\\sleap_jupyter\\lib\\site-packages\\rich\\live.py:221: \n",
              "UserWarning: install \"ipywidgets\" for Jupyter support\n",
              "  warnings.warn('install \"ipywidgets\" for Jupyter support')\n"
            ]
          },
          "metadata": {},
          "output_type": "display_data"
        },
        {
          "data": {
            "text/html": [
              "<pre style=\"white-space:pre;overflow-x:auto;line-height:normal;font-family:Menlo,'DejaVu Sans Mono',consolas,'Courier New',monospace\">c:\\Users\\TalmoLab\\mambaforge\\envs\\sleap_jupyter\\lib\\site-packages\\rich\\live.py:221: \n",
              "UserWarning: install \"ipywidgets\" for Jupyter support\n",
              "  warnings.warn('install \"ipywidgets\" for Jupyter support')\n",
              "</pre>\n"
            ],
            "text/plain": [
              "c:\\Users\\TalmoLab\\mambaforge\\envs\\sleap_jupyter\\lib\\site-packages\\rich\\live.py:221: \n",
              "UserWarning: install \"ipywidgets\" for Jupyter support\n",
              "  warnings.warn('install \"ipywidgets\" for Jupyter support')\n"
            ]
          },
          "metadata": {},
          "output_type": "display_data"
        },
        {
          "data": {
            "text/html": [
              "<pre style=\"white-space:pre;overflow-x:auto;line-height:normal;font-family:Menlo,'DejaVu Sans Mono',consolas,'Courier New',monospace\">c:\\Users\\TalmoLab\\mambaforge\\envs\\sleap_jupyter\\lib\\site-packages\\rich\\live.py:221: \n",
              "UserWarning: install \"ipywidgets\" for Jupyter support\n",
              "  warnings.warn('install \"ipywidgets\" for Jupyter support')\n",
              "</pre>\n"
            ],
            "text/plain": [
              "c:\\Users\\TalmoLab\\mambaforge\\envs\\sleap_jupyter\\lib\\site-packages\\rich\\live.py:221: \n",
              "UserWarning: install \"ipywidgets\" for Jupyter support\n",
              "  warnings.warn('install \"ipywidgets\" for Jupyter support')\n"
            ]
          },
          "metadata": {},
          "output_type": "display_data"
        },
        {
          "data": {
            "text/html": [
              "<pre style=\"white-space:pre;overflow-x:auto;line-height:normal;font-family:Menlo,'DejaVu Sans Mono',consolas,'Courier New',monospace\">c:\\Users\\TalmoLab\\mambaforge\\envs\\sleap_jupyter\\lib\\site-packages\\rich\\live.py:221: \n",
              "UserWarning: install \"ipywidgets\" for Jupyter support\n",
              "  warnings.warn('install \"ipywidgets\" for Jupyter support')\n",
              "</pre>\n"
            ],
            "text/plain": [
              "c:\\Users\\TalmoLab\\mambaforge\\envs\\sleap_jupyter\\lib\\site-packages\\rich\\live.py:221: \n",
              "UserWarning: install \"ipywidgets\" for Jupyter support\n",
              "  warnings.warn('install \"ipywidgets\" for Jupyter support')\n"
            ]
          },
          "metadata": {},
          "output_type": "display_data"
        },
        {
          "data": {
            "text/html": [
              "<pre style=\"white-space:pre;overflow-x:auto;line-height:normal;font-family:Menlo,'DejaVu Sans Mono',consolas,'Courier New',monospace\">c:\\Users\\TalmoLab\\mambaforge\\envs\\sleap_jupyter\\lib\\site-packages\\rich\\live.py:221: \n",
              "UserWarning: install \"ipywidgets\" for Jupyter support\n",
              "  warnings.warn('install \"ipywidgets\" for Jupyter support')\n",
              "</pre>\n"
            ],
            "text/plain": [
              "c:\\Users\\TalmoLab\\mambaforge\\envs\\sleap_jupyter\\lib\\site-packages\\rich\\live.py:221: \n",
              "UserWarning: install \"ipywidgets\" for Jupyter support\n",
              "  warnings.warn('install \"ipywidgets\" for Jupyter support')\n"
            ]
          },
          "metadata": {},
          "output_type": "display_data"
        },
        {
          "data": {
            "text/html": [
              "<pre style=\"white-space:pre;overflow-x:auto;line-height:normal;font-family:Menlo,'DejaVu Sans Mono',consolas,'Courier New',monospace\">c:\\Users\\TalmoLab\\mambaforge\\envs\\sleap_jupyter\\lib\\site-packages\\rich\\live.py:221: \n",
              "UserWarning: install \"ipywidgets\" for Jupyter support\n",
              "  warnings.warn('install \"ipywidgets\" for Jupyter support')\n",
              "</pre>\n"
            ],
            "text/plain": [
              "c:\\Users\\TalmoLab\\mambaforge\\envs\\sleap_jupyter\\lib\\site-packages\\rich\\live.py:221: \n",
              "UserWarning: install \"ipywidgets\" for Jupyter support\n",
              "  warnings.warn('install \"ipywidgets\" for Jupyter support')\n"
            ]
          },
          "metadata": {},
          "output_type": "display_data"
        },
        {
          "data": {
            "text/html": [
              "<pre style=\"white-space:pre;overflow-x:auto;line-height:normal;font-family:Menlo,'DejaVu Sans Mono',consolas,'Courier New',monospace\">c:\\Users\\TalmoLab\\mambaforge\\envs\\sleap_jupyter\\lib\\site-packages\\rich\\live.py:221: \n",
              "UserWarning: install \"ipywidgets\" for Jupyter support\n",
              "  warnings.warn('install \"ipywidgets\" for Jupyter support')\n",
              "</pre>\n"
            ],
            "text/plain": [
              "c:\\Users\\TalmoLab\\mambaforge\\envs\\sleap_jupyter\\lib\\site-packages\\rich\\live.py:221: \n",
              "UserWarning: install \"ipywidgets\" for Jupyter support\n",
              "  warnings.warn('install \"ipywidgets\" for Jupyter support')\n"
            ]
          },
          "metadata": {},
          "output_type": "display_data"
        },
        {
          "data": {
            "text/html": [
              "<pre style=\"white-space:pre;overflow-x:auto;line-height:normal;font-family:Menlo,'DejaVu Sans Mono',consolas,'Courier New',monospace\">c:\\Users\\TalmoLab\\mambaforge\\envs\\sleap_jupyter\\lib\\site-packages\\rich\\live.py:221: \n",
              "UserWarning: install \"ipywidgets\" for Jupyter support\n",
              "  warnings.warn('install \"ipywidgets\" for Jupyter support')\n",
              "</pre>\n"
            ],
            "text/plain": [
              "c:\\Users\\TalmoLab\\mambaforge\\envs\\sleap_jupyter\\lib\\site-packages\\rich\\live.py:221: \n",
              "UserWarning: install \"ipywidgets\" for Jupyter support\n",
              "  warnings.warn('install \"ipywidgets\" for Jupyter support')\n"
            ]
          },
          "metadata": {},
          "output_type": "display_data"
        },
        {
          "data": {
            "text/html": [
              "<pre style=\"white-space:pre;overflow-x:auto;line-height:normal;font-family:Menlo,'DejaVu Sans Mono',consolas,'Courier New',monospace\">c:\\Users\\TalmoLab\\mambaforge\\envs\\sleap_jupyter\\lib\\site-packages\\rich\\live.py:221: \n",
              "UserWarning: install \"ipywidgets\" for Jupyter support\n",
              "  warnings.warn('install \"ipywidgets\" for Jupyter support')\n",
              "</pre>\n"
            ],
            "text/plain": [
              "c:\\Users\\TalmoLab\\mambaforge\\envs\\sleap_jupyter\\lib\\site-packages\\rich\\live.py:221: \n",
              "UserWarning: install \"ipywidgets\" for Jupyter support\n",
              "  warnings.warn('install \"ipywidgets\" for Jupyter support')\n"
            ]
          },
          "metadata": {},
          "output_type": "display_data"
        },
        {
          "data": {
            "text/html": [
              "<pre style=\"white-space:pre;overflow-x:auto;line-height:normal;font-family:Menlo,'DejaVu Sans Mono',consolas,'Courier New',monospace\">c:\\Users\\TalmoLab\\mambaforge\\envs\\sleap_jupyter\\lib\\site-packages\\rich\\live.py:221: \n",
              "UserWarning: install \"ipywidgets\" for Jupyter support\n",
              "  warnings.warn('install \"ipywidgets\" for Jupyter support')\n",
              "</pre>\n"
            ],
            "text/plain": [
              "c:\\Users\\TalmoLab\\mambaforge\\envs\\sleap_jupyter\\lib\\site-packages\\rich\\live.py:221: \n",
              "UserWarning: install \"ipywidgets\" for Jupyter support\n",
              "  warnings.warn('install \"ipywidgets\" for Jupyter support')\n"
            ]
          },
          "metadata": {},
          "output_type": "display_data"
        },
        {
          "data": {
            "text/html": [
              "<pre style=\"white-space:pre;overflow-x:auto;line-height:normal;font-family:Menlo,'DejaVu Sans Mono',consolas,'Courier New',monospace\">c:\\Users\\TalmoLab\\mambaforge\\envs\\sleap_jupyter\\lib\\site-packages\\rich\\live.py:221: \n",
              "UserWarning: install \"ipywidgets\" for Jupyter support\n",
              "  warnings.warn('install \"ipywidgets\" for Jupyter support')\n",
              "</pre>\n"
            ],
            "text/plain": [
              "c:\\Users\\TalmoLab\\mambaforge\\envs\\sleap_jupyter\\lib\\site-packages\\rich\\live.py:221: \n",
              "UserWarning: install \"ipywidgets\" for Jupyter support\n",
              "  warnings.warn('install \"ipywidgets\" for Jupyter support')\n"
            ]
          },
          "metadata": {},
          "output_type": "display_data"
        },
        {
          "data": {
            "text/html": [
              "<pre style=\"white-space:pre;overflow-x:auto;line-height:normal;font-family:Menlo,'DejaVu Sans Mono',consolas,'Courier New',monospace\">c:\\Users\\TalmoLab\\mambaforge\\envs\\sleap_jupyter\\lib\\site-packages\\rich\\live.py:221: \n",
              "UserWarning: install \"ipywidgets\" for Jupyter support\n",
              "  warnings.warn('install \"ipywidgets\" for Jupyter support')\n",
              "</pre>\n"
            ],
            "text/plain": [
              "c:\\Users\\TalmoLab\\mambaforge\\envs\\sleap_jupyter\\lib\\site-packages\\rich\\live.py:221: \n",
              "UserWarning: install \"ipywidgets\" for Jupyter support\n",
              "  warnings.warn('install \"ipywidgets\" for Jupyter support')\n"
            ]
          },
          "metadata": {},
          "output_type": "display_data"
        },
        {
          "data": {
            "text/html": [
              "<pre style=\"white-space:pre;overflow-x:auto;line-height:normal;font-family:Menlo,'DejaVu Sans Mono',consolas,'Courier New',monospace\">c:\\Users\\TalmoLab\\mambaforge\\envs\\sleap_jupyter\\lib\\site-packages\\rich\\live.py:221: \n",
              "UserWarning: install \"ipywidgets\" for Jupyter support\n",
              "  warnings.warn('install \"ipywidgets\" for Jupyter support')\n",
              "</pre>\n"
            ],
            "text/plain": [
              "c:\\Users\\TalmoLab\\mambaforge\\envs\\sleap_jupyter\\lib\\site-packages\\rich\\live.py:221: \n",
              "UserWarning: install \"ipywidgets\" for Jupyter support\n",
              "  warnings.warn('install \"ipywidgets\" for Jupyter support')\n"
            ]
          },
          "metadata": {},
          "output_type": "display_data"
        },
        {
          "data": {
            "text/html": [
              "<pre style=\"white-space:pre;overflow-x:auto;line-height:normal;font-family:Menlo,'DejaVu Sans Mono',consolas,'Courier New',monospace\">c:\\Users\\TalmoLab\\mambaforge\\envs\\sleap_jupyter\\lib\\site-packages\\rich\\live.py:221: \n",
              "UserWarning: install \"ipywidgets\" for Jupyter support\n",
              "  warnings.warn('install \"ipywidgets\" for Jupyter support')\n",
              "</pre>\n"
            ],
            "text/plain": [
              "c:\\Users\\TalmoLab\\mambaforge\\envs\\sleap_jupyter\\lib\\site-packages\\rich\\live.py:221: \n",
              "UserWarning: install \"ipywidgets\" for Jupyter support\n",
              "  warnings.warn('install \"ipywidgets\" for Jupyter support')\n"
            ]
          },
          "metadata": {},
          "output_type": "display_data"
        },
        {
          "data": {
            "text/html": [
              "<pre style=\"white-space:pre;overflow-x:auto;line-height:normal;font-family:Menlo,'DejaVu Sans Mono',consolas,'Courier New',monospace\">c:\\Users\\TalmoLab\\mambaforge\\envs\\sleap_jupyter\\lib\\site-packages\\rich\\live.py:221: \n",
              "UserWarning: install \"ipywidgets\" for Jupyter support\n",
              "  warnings.warn('install \"ipywidgets\" for Jupyter support')\n",
              "</pre>\n"
            ],
            "text/plain": [
              "c:\\Users\\TalmoLab\\mambaforge\\envs\\sleap_jupyter\\lib\\site-packages\\rich\\live.py:221: \n",
              "UserWarning: install \"ipywidgets\" for Jupyter support\n",
              "  warnings.warn('install \"ipywidgets\" for Jupyter support')\n"
            ]
          },
          "metadata": {},
          "output_type": "display_data"
        },
        {
          "data": {
            "text/html": [
              "<pre style=\"white-space:pre;overflow-x:auto;line-height:normal;font-family:Menlo,'DejaVu Sans Mono',consolas,'Courier New',monospace\">c:\\Users\\TalmoLab\\mambaforge\\envs\\sleap_jupyter\\lib\\site-packages\\rich\\live.py:221: \n",
              "UserWarning: install \"ipywidgets\" for Jupyter support\n",
              "  warnings.warn('install \"ipywidgets\" for Jupyter support')\n",
              "</pre>\n"
            ],
            "text/plain": [
              "c:\\Users\\TalmoLab\\mambaforge\\envs\\sleap_jupyter\\lib\\site-packages\\rich\\live.py:221: \n",
              "UserWarning: install \"ipywidgets\" for Jupyter support\n",
              "  warnings.warn('install \"ipywidgets\" for Jupyter support')\n"
            ]
          },
          "metadata": {},
          "output_type": "display_data"
        },
        {
          "data": {
            "text/html": [
              "<pre style=\"white-space:pre;overflow-x:auto;line-height:normal;font-family:Menlo,'DejaVu Sans Mono',consolas,'Courier New',monospace\">c:\\Users\\TalmoLab\\mambaforge\\envs\\sleap_jupyter\\lib\\site-packages\\rich\\live.py:221: \n",
              "UserWarning: install \"ipywidgets\" for Jupyter support\n",
              "  warnings.warn('install \"ipywidgets\" for Jupyter support')\n",
              "</pre>\n"
            ],
            "text/plain": [
              "c:\\Users\\TalmoLab\\mambaforge\\envs\\sleap_jupyter\\lib\\site-packages\\rich\\live.py:221: \n",
              "UserWarning: install \"ipywidgets\" for Jupyter support\n",
              "  warnings.warn('install \"ipywidgets\" for Jupyter support')\n"
            ]
          },
          "metadata": {},
          "output_type": "display_data"
        },
        {
          "data": {
            "text/html": [
              "<pre style=\"white-space:pre;overflow-x:auto;line-height:normal;font-family:Menlo,'DejaVu Sans Mono',consolas,'Courier New',monospace\">c:\\Users\\TalmoLab\\mambaforge\\envs\\sleap_jupyter\\lib\\site-packages\\rich\\live.py:221: \n",
              "UserWarning: install \"ipywidgets\" for Jupyter support\n",
              "  warnings.warn('install \"ipywidgets\" for Jupyter support')\n",
              "</pre>\n"
            ],
            "text/plain": [
              "c:\\Users\\TalmoLab\\mambaforge\\envs\\sleap_jupyter\\lib\\site-packages\\rich\\live.py:221: \n",
              "UserWarning: install \"ipywidgets\" for Jupyter support\n",
              "  warnings.warn('install \"ipywidgets\" for Jupyter support')\n"
            ]
          },
          "metadata": {},
          "output_type": "display_data"
        },
        {
          "data": {
            "text/html": [
              "<pre style=\"white-space:pre;overflow-x:auto;line-height:normal;font-family:Menlo,'DejaVu Sans Mono',consolas,'Courier New',monospace\">c:\\Users\\TalmoLab\\mambaforge\\envs\\sleap_jupyter\\lib\\site-packages\\rich\\live.py:221: \n",
              "UserWarning: install \"ipywidgets\" for Jupyter support\n",
              "  warnings.warn('install \"ipywidgets\" for Jupyter support')\n",
              "</pre>\n"
            ],
            "text/plain": [
              "c:\\Users\\TalmoLab\\mambaforge\\envs\\sleap_jupyter\\lib\\site-packages\\rich\\live.py:221: \n",
              "UserWarning: install \"ipywidgets\" for Jupyter support\n",
              "  warnings.warn('install \"ipywidgets\" for Jupyter support')\n"
            ]
          },
          "metadata": {},
          "output_type": "display_data"
        },
        {
          "data": {
            "text/html": [
              "<pre style=\"white-space:pre;overflow-x:auto;line-height:normal;font-family:Menlo,'DejaVu Sans Mono',consolas,'Courier New',monospace\">c:\\Users\\TalmoLab\\mambaforge\\envs\\sleap_jupyter\\lib\\site-packages\\rich\\live.py:221: \n",
              "UserWarning: install \"ipywidgets\" for Jupyter support\n",
              "  warnings.warn('install \"ipywidgets\" for Jupyter support')\n",
              "</pre>\n"
            ],
            "text/plain": [
              "c:\\Users\\TalmoLab\\mambaforge\\envs\\sleap_jupyter\\lib\\site-packages\\rich\\live.py:221: \n",
              "UserWarning: install \"ipywidgets\" for Jupyter support\n",
              "  warnings.warn('install \"ipywidgets\" for Jupyter support')\n"
            ]
          },
          "metadata": {},
          "output_type": "display_data"
        },
        {
          "data": {
            "text/html": [
              "<pre style=\"white-space:pre;overflow-x:auto;line-height:normal;font-family:Menlo,'DejaVu Sans Mono',consolas,'Courier New',monospace\">c:\\Users\\TalmoLab\\mambaforge\\envs\\sleap_jupyter\\lib\\site-packages\\rich\\live.py:221: \n",
              "UserWarning: install \"ipywidgets\" for Jupyter support\n",
              "  warnings.warn('install \"ipywidgets\" for Jupyter support')\n",
              "</pre>\n"
            ],
            "text/plain": [
              "c:\\Users\\TalmoLab\\mambaforge\\envs\\sleap_jupyter\\lib\\site-packages\\rich\\live.py:221: \n",
              "UserWarning: install \"ipywidgets\" for Jupyter support\n",
              "  warnings.warn('install \"ipywidgets\" for Jupyter support')\n"
            ]
          },
          "metadata": {},
          "output_type": "display_data"
        },
        {
          "data": {
            "text/html": [
              "<pre style=\"white-space:pre;overflow-x:auto;line-height:normal;font-family:Menlo,'DejaVu Sans Mono',consolas,'Courier New',monospace\">c:\\Users\\TalmoLab\\mambaforge\\envs\\sleap_jupyter\\lib\\site-packages\\rich\\live.py:221: \n",
              "UserWarning: install \"ipywidgets\" for Jupyter support\n",
              "  warnings.warn('install \"ipywidgets\" for Jupyter support')\n",
              "</pre>\n"
            ],
            "text/plain": [
              "c:\\Users\\TalmoLab\\mambaforge\\envs\\sleap_jupyter\\lib\\site-packages\\rich\\live.py:221: \n",
              "UserWarning: install \"ipywidgets\" for Jupyter support\n",
              "  warnings.warn('install \"ipywidgets\" for Jupyter support')\n"
            ]
          },
          "metadata": {},
          "output_type": "display_data"
        },
        {
          "data": {
            "text/html": [
              "<pre style=\"white-space:pre;overflow-x:auto;line-height:normal;font-family:Menlo,'DejaVu Sans Mono',consolas,'Courier New',monospace\">c:\\Users\\TalmoLab\\mambaforge\\envs\\sleap_jupyter\\lib\\site-packages\\rich\\live.py:221: \n",
              "UserWarning: install \"ipywidgets\" for Jupyter support\n",
              "  warnings.warn('install \"ipywidgets\" for Jupyter support')\n",
              "</pre>\n"
            ],
            "text/plain": [
              "c:\\Users\\TalmoLab\\mambaforge\\envs\\sleap_jupyter\\lib\\site-packages\\rich\\live.py:221: \n",
              "UserWarning: install \"ipywidgets\" for Jupyter support\n",
              "  warnings.warn('install \"ipywidgets\" for Jupyter support')\n"
            ]
          },
          "metadata": {},
          "output_type": "display_data"
        },
        {
          "data": {
            "text/html": [
              "<pre style=\"white-space:pre;overflow-x:auto;line-height:normal;font-family:Menlo,'DejaVu Sans Mono',consolas,'Courier New',monospace\">c:\\Users\\TalmoLab\\mambaforge\\envs\\sleap_jupyter\\lib\\site-packages\\rich\\live.py:221: \n",
              "UserWarning: install \"ipywidgets\" for Jupyter support\n",
              "  warnings.warn('install \"ipywidgets\" for Jupyter support')\n",
              "</pre>\n"
            ],
            "text/plain": [
              "c:\\Users\\TalmoLab\\mambaforge\\envs\\sleap_jupyter\\lib\\site-packages\\rich\\live.py:221: \n",
              "UserWarning: install \"ipywidgets\" for Jupyter support\n",
              "  warnings.warn('install \"ipywidgets\" for Jupyter support')\n"
            ]
          },
          "metadata": {},
          "output_type": "display_data"
        },
        {
          "data": {
            "text/html": [
              "<pre style=\"white-space:pre;overflow-x:auto;line-height:normal;font-family:Menlo,'DejaVu Sans Mono',consolas,'Courier New',monospace\">c:\\Users\\TalmoLab\\mambaforge\\envs\\sleap_jupyter\\lib\\site-packages\\rich\\live.py:221: \n",
              "UserWarning: install \"ipywidgets\" for Jupyter support\n",
              "  warnings.warn('install \"ipywidgets\" for Jupyter support')\n",
              "</pre>\n"
            ],
            "text/plain": [
              "c:\\Users\\TalmoLab\\mambaforge\\envs\\sleap_jupyter\\lib\\site-packages\\rich\\live.py:221: \n",
              "UserWarning: install \"ipywidgets\" for Jupyter support\n",
              "  warnings.warn('install \"ipywidgets\" for Jupyter support')\n"
            ]
          },
          "metadata": {},
          "output_type": "display_data"
        },
        {
          "data": {
            "text/html": [
              "<pre style=\"white-space:pre;overflow-x:auto;line-height:normal;font-family:Menlo,'DejaVu Sans Mono',consolas,'Courier New',monospace\">c:\\Users\\TalmoLab\\mambaforge\\envs\\sleap_jupyter\\lib\\site-packages\\rich\\live.py:221: \n",
              "UserWarning: install \"ipywidgets\" for Jupyter support\n",
              "  warnings.warn('install \"ipywidgets\" for Jupyter support')\n",
              "</pre>\n"
            ],
            "text/plain": [
              "c:\\Users\\TalmoLab\\mambaforge\\envs\\sleap_jupyter\\lib\\site-packages\\rich\\live.py:221: \n",
              "UserWarning: install \"ipywidgets\" for Jupyter support\n",
              "  warnings.warn('install \"ipywidgets\" for Jupyter support')\n"
            ]
          },
          "metadata": {},
          "output_type": "display_data"
        },
        {
          "data": {
            "text/html": [
              "<pre style=\"white-space:pre;overflow-x:auto;line-height:normal;font-family:Menlo,'DejaVu Sans Mono',consolas,'Courier New',monospace\">c:\\Users\\TalmoLab\\mambaforge\\envs\\sleap_jupyter\\lib\\site-packages\\rich\\live.py:221: \n",
              "UserWarning: install \"ipywidgets\" for Jupyter support\n",
              "  warnings.warn('install \"ipywidgets\" for Jupyter support')\n",
              "</pre>\n"
            ],
            "text/plain": [
              "c:\\Users\\TalmoLab\\mambaforge\\envs\\sleap_jupyter\\lib\\site-packages\\rich\\live.py:221: \n",
              "UserWarning: install \"ipywidgets\" for Jupyter support\n",
              "  warnings.warn('install \"ipywidgets\" for Jupyter support')\n"
            ]
          },
          "metadata": {},
          "output_type": "display_data"
        },
        {
          "data": {
            "text/html": [
              "<pre style=\"white-space:pre;overflow-x:auto;line-height:normal;font-family:Menlo,'DejaVu Sans Mono',consolas,'Courier New',monospace\">c:\\Users\\TalmoLab\\mambaforge\\envs\\sleap_jupyter\\lib\\site-packages\\rich\\live.py:221: \n",
              "UserWarning: install \"ipywidgets\" for Jupyter support\n",
              "  warnings.warn('install \"ipywidgets\" for Jupyter support')\n",
              "</pre>\n"
            ],
            "text/plain": [
              "c:\\Users\\TalmoLab\\mambaforge\\envs\\sleap_jupyter\\lib\\site-packages\\rich\\live.py:221: \n",
              "UserWarning: install \"ipywidgets\" for Jupyter support\n",
              "  warnings.warn('install \"ipywidgets\" for Jupyter support')\n"
            ]
          },
          "metadata": {},
          "output_type": "display_data"
        },
        {
          "data": {
            "text/html": [
              "<pre style=\"white-space:pre;overflow-x:auto;line-height:normal;font-family:Menlo,'DejaVu Sans Mono',consolas,'Courier New',monospace\">c:\\Users\\TalmoLab\\mambaforge\\envs\\sleap_jupyter\\lib\\site-packages\\rich\\live.py:221: \n",
              "UserWarning: install \"ipywidgets\" for Jupyter support\n",
              "  warnings.warn('install \"ipywidgets\" for Jupyter support')\n",
              "</pre>\n"
            ],
            "text/plain": [
              "c:\\Users\\TalmoLab\\mambaforge\\envs\\sleap_jupyter\\lib\\site-packages\\rich\\live.py:221: \n",
              "UserWarning: install \"ipywidgets\" for Jupyter support\n",
              "  warnings.warn('install \"ipywidgets\" for Jupyter support')\n"
            ]
          },
          "metadata": {},
          "output_type": "display_data"
        },
        {
          "data": {
            "text/html": [
              "<pre style=\"white-space:pre;overflow-x:auto;line-height:normal;font-family:Menlo,'DejaVu Sans Mono',consolas,'Courier New',monospace\">c:\\Users\\TalmoLab\\mambaforge\\envs\\sleap_jupyter\\lib\\site-packages\\rich\\live.py:221: \n",
              "UserWarning: install \"ipywidgets\" for Jupyter support\n",
              "  warnings.warn('install \"ipywidgets\" for Jupyter support')\n",
              "</pre>\n"
            ],
            "text/plain": [
              "c:\\Users\\TalmoLab\\mambaforge\\envs\\sleap_jupyter\\lib\\site-packages\\rich\\live.py:221: \n",
              "UserWarning: install \"ipywidgets\" for Jupyter support\n",
              "  warnings.warn('install \"ipywidgets\" for Jupyter support')\n"
            ]
          },
          "metadata": {},
          "output_type": "display_data"
        },
        {
          "data": {
            "text/html": [
              "<pre style=\"white-space:pre;overflow-x:auto;line-height:normal;font-family:Menlo,'DejaVu Sans Mono',consolas,'Courier New',monospace\">c:\\Users\\TalmoLab\\mambaforge\\envs\\sleap_jupyter\\lib\\site-packages\\rich\\live.py:221: \n",
              "UserWarning: install \"ipywidgets\" for Jupyter support\n",
              "  warnings.warn('install \"ipywidgets\" for Jupyter support')\n",
              "</pre>\n"
            ],
            "text/plain": [
              "c:\\Users\\TalmoLab\\mambaforge\\envs\\sleap_jupyter\\lib\\site-packages\\rich\\live.py:221: \n",
              "UserWarning: install \"ipywidgets\" for Jupyter support\n",
              "  warnings.warn('install \"ipywidgets\" for Jupyter support')\n"
            ]
          },
          "metadata": {},
          "output_type": "display_data"
        },
        {
          "data": {
            "text/html": [
              "<pre style=\"white-space:pre;overflow-x:auto;line-height:normal;font-family:Menlo,'DejaVu Sans Mono',consolas,'Courier New',monospace\">c:\\Users\\TalmoLab\\mambaforge\\envs\\sleap_jupyter\\lib\\site-packages\\rich\\live.py:221: \n",
              "UserWarning: install \"ipywidgets\" for Jupyter support\n",
              "  warnings.warn('install \"ipywidgets\" for Jupyter support')\n",
              "</pre>\n"
            ],
            "text/plain": [
              "c:\\Users\\TalmoLab\\mambaforge\\envs\\sleap_jupyter\\lib\\site-packages\\rich\\live.py:221: \n",
              "UserWarning: install \"ipywidgets\" for Jupyter support\n",
              "  warnings.warn('install \"ipywidgets\" for Jupyter support')\n"
            ]
          },
          "metadata": {},
          "output_type": "display_data"
        },
        {
          "data": {
            "text/html": [
              "<pre style=\"white-space:pre;overflow-x:auto;line-height:normal;font-family:Menlo,'DejaVu Sans Mono',consolas,'Courier New',monospace\">c:\\Users\\TalmoLab\\mambaforge\\envs\\sleap_jupyter\\lib\\site-packages\\rich\\live.py:221: \n",
              "UserWarning: install \"ipywidgets\" for Jupyter support\n",
              "  warnings.warn('install \"ipywidgets\" for Jupyter support')\n",
              "</pre>\n"
            ],
            "text/plain": [
              "c:\\Users\\TalmoLab\\mambaforge\\envs\\sleap_jupyter\\lib\\site-packages\\rich\\live.py:221: \n",
              "UserWarning: install \"ipywidgets\" for Jupyter support\n",
              "  warnings.warn('install \"ipywidgets\" for Jupyter support')\n"
            ]
          },
          "metadata": {},
          "output_type": "display_data"
        },
        {
          "data": {
            "text/html": [
              "<pre style=\"white-space:pre;overflow-x:auto;line-height:normal;font-family:Menlo,'DejaVu Sans Mono',consolas,'Courier New',monospace\">c:\\Users\\TalmoLab\\mambaforge\\envs\\sleap_jupyter\\lib\\site-packages\\rich\\live.py:221: \n",
              "UserWarning: install \"ipywidgets\" for Jupyter support\n",
              "  warnings.warn('install \"ipywidgets\" for Jupyter support')\n",
              "</pre>\n"
            ],
            "text/plain": [
              "c:\\Users\\TalmoLab\\mambaforge\\envs\\sleap_jupyter\\lib\\site-packages\\rich\\live.py:221: \n",
              "UserWarning: install \"ipywidgets\" for Jupyter support\n",
              "  warnings.warn('install \"ipywidgets\" for Jupyter support')\n"
            ]
          },
          "metadata": {},
          "output_type": "display_data"
        },
        {
          "data": {
            "text/html": [
              "<pre style=\"white-space:pre;overflow-x:auto;line-height:normal;font-family:Menlo,'DejaVu Sans Mono',consolas,'Courier New',monospace\">c:\\Users\\TalmoLab\\mambaforge\\envs\\sleap_jupyter\\lib\\site-packages\\rich\\live.py:221: \n",
              "UserWarning: install \"ipywidgets\" for Jupyter support\n",
              "  warnings.warn('install \"ipywidgets\" for Jupyter support')\n",
              "</pre>\n"
            ],
            "text/plain": [
              "c:\\Users\\TalmoLab\\mambaforge\\envs\\sleap_jupyter\\lib\\site-packages\\rich\\live.py:221: \n",
              "UserWarning: install \"ipywidgets\" for Jupyter support\n",
              "  warnings.warn('install \"ipywidgets\" for Jupyter support')\n"
            ]
          },
          "metadata": {},
          "output_type": "display_data"
        },
        {
          "data": {
            "text/html": [
              "<pre style=\"white-space:pre;overflow-x:auto;line-height:normal;font-family:Menlo,'DejaVu Sans Mono',consolas,'Courier New',monospace\">c:\\Users\\TalmoLab\\mambaforge\\envs\\sleap_jupyter\\lib\\site-packages\\rich\\live.py:221: \n",
              "UserWarning: install \"ipywidgets\" for Jupyter support\n",
              "  warnings.warn('install \"ipywidgets\" for Jupyter support')\n",
              "</pre>\n"
            ],
            "text/plain": [
              "c:\\Users\\TalmoLab\\mambaforge\\envs\\sleap_jupyter\\lib\\site-packages\\rich\\live.py:221: \n",
              "UserWarning: install \"ipywidgets\" for Jupyter support\n",
              "  warnings.warn('install \"ipywidgets\" for Jupyter support')\n"
            ]
          },
          "metadata": {},
          "output_type": "display_data"
        },
        {
          "data": {
            "text/html": [
              "<pre style=\"white-space:pre;overflow-x:auto;line-height:normal;font-family:Menlo,'DejaVu Sans Mono',consolas,'Courier New',monospace\">c:\\Users\\TalmoLab\\mambaforge\\envs\\sleap_jupyter\\lib\\site-packages\\rich\\live.py:221: \n",
              "UserWarning: install \"ipywidgets\" for Jupyter support\n",
              "  warnings.warn('install \"ipywidgets\" for Jupyter support')\n",
              "</pre>\n"
            ],
            "text/plain": [
              "c:\\Users\\TalmoLab\\mambaforge\\envs\\sleap_jupyter\\lib\\site-packages\\rich\\live.py:221: \n",
              "UserWarning: install \"ipywidgets\" for Jupyter support\n",
              "  warnings.warn('install \"ipywidgets\" for Jupyter support')\n"
            ]
          },
          "metadata": {},
          "output_type": "display_data"
        },
        {
          "data": {
            "text/html": [
              "<pre style=\"white-space:pre;overflow-x:auto;line-height:normal;font-family:Menlo,'DejaVu Sans Mono',consolas,'Courier New',monospace\">c:\\Users\\TalmoLab\\mambaforge\\envs\\sleap_jupyter\\lib\\site-packages\\rich\\live.py:221: \n",
              "UserWarning: install \"ipywidgets\" for Jupyter support\n",
              "  warnings.warn('install \"ipywidgets\" for Jupyter support')\n",
              "</pre>\n"
            ],
            "text/plain": [
              "c:\\Users\\TalmoLab\\mambaforge\\envs\\sleap_jupyter\\lib\\site-packages\\rich\\live.py:221: \n",
              "UserWarning: install \"ipywidgets\" for Jupyter support\n",
              "  warnings.warn('install \"ipywidgets\" for Jupyter support')\n"
            ]
          },
          "metadata": {},
          "output_type": "display_data"
        },
        {
          "data": {
            "text/html": [
              "<pre style=\"white-space:pre;overflow-x:auto;line-height:normal;font-family:Menlo,'DejaVu Sans Mono',consolas,'Courier New',monospace\">c:\\Users\\TalmoLab\\mambaforge\\envs\\sleap_jupyter\\lib\\site-packages\\rich\\live.py:221: \n",
              "UserWarning: install \"ipywidgets\" for Jupyter support\n",
              "  warnings.warn('install \"ipywidgets\" for Jupyter support')\n",
              "</pre>\n"
            ],
            "text/plain": [
              "c:\\Users\\TalmoLab\\mambaforge\\envs\\sleap_jupyter\\lib\\site-packages\\rich\\live.py:221: \n",
              "UserWarning: install \"ipywidgets\" for Jupyter support\n",
              "  warnings.warn('install \"ipywidgets\" for Jupyter support')\n"
            ]
          },
          "metadata": {},
          "output_type": "display_data"
        },
        {
          "data": {
            "text/html": [
              "<pre style=\"white-space:pre;overflow-x:auto;line-height:normal;font-family:Menlo,'DejaVu Sans Mono',consolas,'Courier New',monospace\">c:\\Users\\TalmoLab\\mambaforge\\envs\\sleap_jupyter\\lib\\site-packages\\rich\\live.py:221: \n",
              "UserWarning: install \"ipywidgets\" for Jupyter support\n",
              "  warnings.warn('install \"ipywidgets\" for Jupyter support')\n",
              "</pre>\n"
            ],
            "text/plain": [
              "c:\\Users\\TalmoLab\\mambaforge\\envs\\sleap_jupyter\\lib\\site-packages\\rich\\live.py:221: \n",
              "UserWarning: install \"ipywidgets\" for Jupyter support\n",
              "  warnings.warn('install \"ipywidgets\" for Jupyter support')\n"
            ]
          },
          "metadata": {},
          "output_type": "display_data"
        },
        {
          "data": {
            "text/html": [
              "<pre style=\"white-space:pre;overflow-x:auto;line-height:normal;font-family:Menlo,'DejaVu Sans Mono',consolas,'Courier New',monospace\">c:\\Users\\TalmoLab\\mambaforge\\envs\\sleap_jupyter\\lib\\site-packages\\rich\\live.py:221: \n",
              "UserWarning: install \"ipywidgets\" for Jupyter support\n",
              "  warnings.warn('install \"ipywidgets\" for Jupyter support')\n",
              "</pre>\n"
            ],
            "text/plain": [
              "c:\\Users\\TalmoLab\\mambaforge\\envs\\sleap_jupyter\\lib\\site-packages\\rich\\live.py:221: \n",
              "UserWarning: install \"ipywidgets\" for Jupyter support\n",
              "  warnings.warn('install \"ipywidgets\" for Jupyter support')\n"
            ]
          },
          "metadata": {},
          "output_type": "display_data"
        },
        {
          "data": {
            "text/html": [
              "<pre style=\"white-space:pre;overflow-x:auto;line-height:normal;font-family:Menlo,'DejaVu Sans Mono',consolas,'Courier New',monospace\">c:\\Users\\TalmoLab\\mambaforge\\envs\\sleap_jupyter\\lib\\site-packages\\rich\\live.py:221: \n",
              "UserWarning: install \"ipywidgets\" for Jupyter support\n",
              "  warnings.warn('install \"ipywidgets\" for Jupyter support')\n",
              "</pre>\n"
            ],
            "text/plain": [
              "c:\\Users\\TalmoLab\\mambaforge\\envs\\sleap_jupyter\\lib\\site-packages\\rich\\live.py:221: \n",
              "UserWarning: install \"ipywidgets\" for Jupyter support\n",
              "  warnings.warn('install \"ipywidgets\" for Jupyter support')\n"
            ]
          },
          "metadata": {},
          "output_type": "display_data"
        },
        {
          "data": {
            "text/html": [
              "<pre style=\"white-space:pre;overflow-x:auto;line-height:normal;font-family:Menlo,'DejaVu Sans Mono',consolas,'Courier New',monospace\">c:\\Users\\TalmoLab\\mambaforge\\envs\\sleap_jupyter\\lib\\site-packages\\rich\\live.py:221: \n",
              "UserWarning: install \"ipywidgets\" for Jupyter support\n",
              "  warnings.warn('install \"ipywidgets\" for Jupyter support')\n",
              "</pre>\n"
            ],
            "text/plain": [
              "c:\\Users\\TalmoLab\\mambaforge\\envs\\sleap_jupyter\\lib\\site-packages\\rich\\live.py:221: \n",
              "UserWarning: install \"ipywidgets\" for Jupyter support\n",
              "  warnings.warn('install \"ipywidgets\" for Jupyter support')\n"
            ]
          },
          "metadata": {},
          "output_type": "display_data"
        },
        {
          "data": {
            "text/html": [
              "<pre style=\"white-space:pre;overflow-x:auto;line-height:normal;font-family:Menlo,'DejaVu Sans Mono',consolas,'Courier New',monospace\">c:\\Users\\TalmoLab\\mambaforge\\envs\\sleap_jupyter\\lib\\site-packages\\rich\\live.py:221: \n",
              "UserWarning: install \"ipywidgets\" for Jupyter support\n",
              "  warnings.warn('install \"ipywidgets\" for Jupyter support')\n",
              "</pre>\n"
            ],
            "text/plain": [
              "c:\\Users\\TalmoLab\\mambaforge\\envs\\sleap_jupyter\\lib\\site-packages\\rich\\live.py:221: \n",
              "UserWarning: install \"ipywidgets\" for Jupyter support\n",
              "  warnings.warn('install \"ipywidgets\" for Jupyter support')\n"
            ]
          },
          "metadata": {},
          "output_type": "display_data"
        },
        {
          "data": {
            "text/html": [
              "<pre style=\"white-space:pre;overflow-x:auto;line-height:normal;font-family:Menlo,'DejaVu Sans Mono',consolas,'Courier New',monospace\">c:\\Users\\TalmoLab\\mambaforge\\envs\\sleap_jupyter\\lib\\site-packages\\rich\\live.py:221: \n",
              "UserWarning: install \"ipywidgets\" for Jupyter support\n",
              "  warnings.warn('install \"ipywidgets\" for Jupyter support')\n",
              "</pre>\n"
            ],
            "text/plain": [
              "c:\\Users\\TalmoLab\\mambaforge\\envs\\sleap_jupyter\\lib\\site-packages\\rich\\live.py:221: \n",
              "UserWarning: install \"ipywidgets\" for Jupyter support\n",
              "  warnings.warn('install \"ipywidgets\" for Jupyter support')\n"
            ]
          },
          "metadata": {},
          "output_type": "display_data"
        },
        {
          "data": {
            "text/html": [
              "<pre style=\"white-space:pre;overflow-x:auto;line-height:normal;font-family:Menlo,'DejaVu Sans Mono',consolas,'Courier New',monospace\">c:\\Users\\TalmoLab\\mambaforge\\envs\\sleap_jupyter\\lib\\site-packages\\rich\\live.py:221: \n",
              "UserWarning: install \"ipywidgets\" for Jupyter support\n",
              "  warnings.warn('install \"ipywidgets\" for Jupyter support')\n",
              "</pre>\n"
            ],
            "text/plain": [
              "c:\\Users\\TalmoLab\\mambaforge\\envs\\sleap_jupyter\\lib\\site-packages\\rich\\live.py:221: \n",
              "UserWarning: install \"ipywidgets\" for Jupyter support\n",
              "  warnings.warn('install \"ipywidgets\" for Jupyter support')\n"
            ]
          },
          "metadata": {},
          "output_type": "display_data"
        },
        {
          "data": {
            "text/html": [
              "<pre style=\"white-space:pre;overflow-x:auto;line-height:normal;font-family:Menlo,'DejaVu Sans Mono',consolas,'Courier New',monospace\">c:\\Users\\TalmoLab\\mambaforge\\envs\\sleap_jupyter\\lib\\site-packages\\rich\\live.py:221: \n",
              "UserWarning: install \"ipywidgets\" for Jupyter support\n",
              "  warnings.warn('install \"ipywidgets\" for Jupyter support')\n",
              "</pre>\n"
            ],
            "text/plain": [
              "c:\\Users\\TalmoLab\\mambaforge\\envs\\sleap_jupyter\\lib\\site-packages\\rich\\live.py:221: \n",
              "UserWarning: install \"ipywidgets\" for Jupyter support\n",
              "  warnings.warn('install \"ipywidgets\" for Jupyter support')\n"
            ]
          },
          "metadata": {},
          "output_type": "display_data"
        },
        {
          "data": {
            "text/html": [
              "<pre style=\"white-space:pre;overflow-x:auto;line-height:normal;font-family:Menlo,'DejaVu Sans Mono',consolas,'Courier New',monospace\">c:\\Users\\TalmoLab\\mambaforge\\envs\\sleap_jupyter\\lib\\site-packages\\rich\\live.py:221: \n",
              "UserWarning: install \"ipywidgets\" for Jupyter support\n",
              "  warnings.warn('install \"ipywidgets\" for Jupyter support')\n",
              "</pre>\n"
            ],
            "text/plain": [
              "c:\\Users\\TalmoLab\\mambaforge\\envs\\sleap_jupyter\\lib\\site-packages\\rich\\live.py:221: \n",
              "UserWarning: install \"ipywidgets\" for Jupyter support\n",
              "  warnings.warn('install \"ipywidgets\" for Jupyter support')\n"
            ]
          },
          "metadata": {},
          "output_type": "display_data"
        },
        {
          "data": {
            "text/html": [
              "<pre style=\"white-space:pre;overflow-x:auto;line-height:normal;font-family:Menlo,'DejaVu Sans Mono',consolas,'Courier New',monospace\">c:\\Users\\TalmoLab\\mambaforge\\envs\\sleap_jupyter\\lib\\site-packages\\rich\\live.py:221: \n",
              "UserWarning: install \"ipywidgets\" for Jupyter support\n",
              "  warnings.warn('install \"ipywidgets\" for Jupyter support')\n",
              "</pre>\n"
            ],
            "text/plain": [
              "c:\\Users\\TalmoLab\\mambaforge\\envs\\sleap_jupyter\\lib\\site-packages\\rich\\live.py:221: \n",
              "UserWarning: install \"ipywidgets\" for Jupyter support\n",
              "  warnings.warn('install \"ipywidgets\" for Jupyter support')\n"
            ]
          },
          "metadata": {},
          "output_type": "display_data"
        },
        {
          "data": {
            "text/html": [
              "<pre style=\"white-space:pre;overflow-x:auto;line-height:normal;font-family:Menlo,'DejaVu Sans Mono',consolas,'Courier New',monospace\">c:\\Users\\TalmoLab\\mambaforge\\envs\\sleap_jupyter\\lib\\site-packages\\rich\\live.py:221: \n",
              "UserWarning: install \"ipywidgets\" for Jupyter support\n",
              "  warnings.warn('install \"ipywidgets\" for Jupyter support')\n",
              "</pre>\n"
            ],
            "text/plain": [
              "c:\\Users\\TalmoLab\\mambaforge\\envs\\sleap_jupyter\\lib\\site-packages\\rich\\live.py:221: \n",
              "UserWarning: install \"ipywidgets\" for Jupyter support\n",
              "  warnings.warn('install \"ipywidgets\" for Jupyter support')\n"
            ]
          },
          "metadata": {},
          "output_type": "display_data"
        },
        {
          "data": {
            "text/html": [
              "<pre style=\"white-space:pre;overflow-x:auto;line-height:normal;font-family:Menlo,'DejaVu Sans Mono',consolas,'Courier New',monospace\">c:\\Users\\TalmoLab\\mambaforge\\envs\\sleap_jupyter\\lib\\site-packages\\rich\\live.py:221: \n",
              "UserWarning: install \"ipywidgets\" for Jupyter support\n",
              "  warnings.warn('install \"ipywidgets\" for Jupyter support')\n",
              "</pre>\n"
            ],
            "text/plain": [
              "c:\\Users\\TalmoLab\\mambaforge\\envs\\sleap_jupyter\\lib\\site-packages\\rich\\live.py:221: \n",
              "UserWarning: install \"ipywidgets\" for Jupyter support\n",
              "  warnings.warn('install \"ipywidgets\" for Jupyter support')\n"
            ]
          },
          "metadata": {},
          "output_type": "display_data"
        },
        {
          "data": {
            "text/html": [
              "<pre style=\"white-space:pre;overflow-x:auto;line-height:normal;font-family:Menlo,'DejaVu Sans Mono',consolas,'Courier New',monospace\">c:\\Users\\TalmoLab\\mambaforge\\envs\\sleap_jupyter\\lib\\site-packages\\rich\\live.py:221: \n",
              "UserWarning: install \"ipywidgets\" for Jupyter support\n",
              "  warnings.warn('install \"ipywidgets\" for Jupyter support')\n",
              "</pre>\n"
            ],
            "text/plain": [
              "c:\\Users\\TalmoLab\\mambaforge\\envs\\sleap_jupyter\\lib\\site-packages\\rich\\live.py:221: \n",
              "UserWarning: install \"ipywidgets\" for Jupyter support\n",
              "  warnings.warn('install \"ipywidgets\" for Jupyter support')\n"
            ]
          },
          "metadata": {},
          "output_type": "display_data"
        },
        {
          "data": {
            "text/html": [
              "<pre style=\"white-space:pre;overflow-x:auto;line-height:normal;font-family:Menlo,'DejaVu Sans Mono',consolas,'Courier New',monospace\">c:\\Users\\TalmoLab\\mambaforge\\envs\\sleap_jupyter\\lib\\site-packages\\rich\\live.py:221: \n",
              "UserWarning: install \"ipywidgets\" for Jupyter support\n",
              "  warnings.warn('install \"ipywidgets\" for Jupyter support')\n",
              "</pre>\n"
            ],
            "text/plain": [
              "c:\\Users\\TalmoLab\\mambaforge\\envs\\sleap_jupyter\\lib\\site-packages\\rich\\live.py:221: \n",
              "UserWarning: install \"ipywidgets\" for Jupyter support\n",
              "  warnings.warn('install \"ipywidgets\" for Jupyter support')\n"
            ]
          },
          "metadata": {},
          "output_type": "display_data"
        },
        {
          "data": {
            "text/html": [
              "<pre style=\"white-space:pre;overflow-x:auto;line-height:normal;font-family:Menlo,'DejaVu Sans Mono',consolas,'Courier New',monospace\">c:\\Users\\TalmoLab\\mambaforge\\envs\\sleap_jupyter\\lib\\site-packages\\rich\\live.py:221: \n",
              "UserWarning: install \"ipywidgets\" for Jupyter support\n",
              "  warnings.warn('install \"ipywidgets\" for Jupyter support')\n",
              "</pre>\n"
            ],
            "text/plain": [
              "c:\\Users\\TalmoLab\\mambaforge\\envs\\sleap_jupyter\\lib\\site-packages\\rich\\live.py:221: \n",
              "UserWarning: install \"ipywidgets\" for Jupyter support\n",
              "  warnings.warn('install \"ipywidgets\" for Jupyter support')\n"
            ]
          },
          "metadata": {},
          "output_type": "display_data"
        },
        {
          "data": {
            "text/html": [
              "<pre style=\"white-space:pre;overflow-x:auto;line-height:normal;font-family:Menlo,'DejaVu Sans Mono',consolas,'Courier New',monospace\">c:\\Users\\TalmoLab\\mambaforge\\envs\\sleap_jupyter\\lib\\site-packages\\rich\\live.py:221: \n",
              "UserWarning: install \"ipywidgets\" for Jupyter support\n",
              "  warnings.warn('install \"ipywidgets\" for Jupyter support')\n",
              "</pre>\n"
            ],
            "text/plain": [
              "c:\\Users\\TalmoLab\\mambaforge\\envs\\sleap_jupyter\\lib\\site-packages\\rich\\live.py:221: \n",
              "UserWarning: install \"ipywidgets\" for Jupyter support\n",
              "  warnings.warn('install \"ipywidgets\" for Jupyter support')\n"
            ]
          },
          "metadata": {},
          "output_type": "display_data"
        },
        {
          "data": {
            "text/html": [
              "<pre style=\"white-space:pre;overflow-x:auto;line-height:normal;font-family:Menlo,'DejaVu Sans Mono',consolas,'Courier New',monospace\">c:\\Users\\TalmoLab\\mambaforge\\envs\\sleap_jupyter\\lib\\site-packages\\rich\\live.py:221: \n",
              "UserWarning: install \"ipywidgets\" for Jupyter support\n",
              "  warnings.warn('install \"ipywidgets\" for Jupyter support')\n",
              "</pre>\n"
            ],
            "text/plain": [
              "c:\\Users\\TalmoLab\\mambaforge\\envs\\sleap_jupyter\\lib\\site-packages\\rich\\live.py:221: \n",
              "UserWarning: install \"ipywidgets\" for Jupyter support\n",
              "  warnings.warn('install \"ipywidgets\" for Jupyter support')\n"
            ]
          },
          "metadata": {},
          "output_type": "display_data"
        },
        {
          "data": {
            "text/html": [
              "<pre style=\"white-space:pre;overflow-x:auto;line-height:normal;font-family:Menlo,'DejaVu Sans Mono',consolas,'Courier New',monospace\">c:\\Users\\TalmoLab\\mambaforge\\envs\\sleap_jupyter\\lib\\site-packages\\rich\\live.py:221: \n",
              "UserWarning: install \"ipywidgets\" for Jupyter support\n",
              "  warnings.warn('install \"ipywidgets\" for Jupyter support')\n",
              "</pre>\n"
            ],
            "text/plain": [
              "c:\\Users\\TalmoLab\\mambaforge\\envs\\sleap_jupyter\\lib\\site-packages\\rich\\live.py:221: \n",
              "UserWarning: install \"ipywidgets\" for Jupyter support\n",
              "  warnings.warn('install \"ipywidgets\" for Jupyter support')\n"
            ]
          },
          "metadata": {},
          "output_type": "display_data"
        },
        {
          "data": {
            "text/html": [
              "<pre style=\"white-space:pre;overflow-x:auto;line-height:normal;font-family:Menlo,'DejaVu Sans Mono',consolas,'Courier New',monospace\">c:\\Users\\TalmoLab\\mambaforge\\envs\\sleap_jupyter\\lib\\site-packages\\rich\\live.py:221: \n",
              "UserWarning: install \"ipywidgets\" for Jupyter support\n",
              "  warnings.warn('install \"ipywidgets\" for Jupyter support')\n",
              "</pre>\n"
            ],
            "text/plain": [
              "c:\\Users\\TalmoLab\\mambaforge\\envs\\sleap_jupyter\\lib\\site-packages\\rich\\live.py:221: \n",
              "UserWarning: install \"ipywidgets\" for Jupyter support\n",
              "  warnings.warn('install \"ipywidgets\" for Jupyter support')\n"
            ]
          },
          "metadata": {},
          "output_type": "display_data"
        },
        {
          "data": {
            "text/html": [
              "<pre style=\"white-space:pre;overflow-x:auto;line-height:normal;font-family:Menlo,'DejaVu Sans Mono',consolas,'Courier New',monospace\">c:\\Users\\TalmoLab\\mambaforge\\envs\\sleap_jupyter\\lib\\site-packages\\rich\\live.py:221: \n",
              "UserWarning: install \"ipywidgets\" for Jupyter support\n",
              "  warnings.warn('install \"ipywidgets\" for Jupyter support')\n",
              "</pre>\n"
            ],
            "text/plain": [
              "c:\\Users\\TalmoLab\\mambaforge\\envs\\sleap_jupyter\\lib\\site-packages\\rich\\live.py:221: \n",
              "UserWarning: install \"ipywidgets\" for Jupyter support\n",
              "  warnings.warn('install \"ipywidgets\" for Jupyter support')\n"
            ]
          },
          "metadata": {},
          "output_type": "display_data"
        },
        {
          "data": {
            "text/html": [
              "<pre style=\"white-space:pre;overflow-x:auto;line-height:normal;font-family:Menlo,'DejaVu Sans Mono',consolas,'Courier New',monospace\">c:\\Users\\TalmoLab\\mambaforge\\envs\\sleap_jupyter\\lib\\site-packages\\rich\\live.py:221: \n",
              "UserWarning: install \"ipywidgets\" for Jupyter support\n",
              "  warnings.warn('install \"ipywidgets\" for Jupyter support')\n",
              "</pre>\n"
            ],
            "text/plain": [
              "c:\\Users\\TalmoLab\\mambaforge\\envs\\sleap_jupyter\\lib\\site-packages\\rich\\live.py:221: \n",
              "UserWarning: install \"ipywidgets\" for Jupyter support\n",
              "  warnings.warn('install \"ipywidgets\" for Jupyter support')\n"
            ]
          },
          "metadata": {},
          "output_type": "display_data"
        },
        {
          "data": {
            "text/html": [
              "<pre style=\"white-space:pre;overflow-x:auto;line-height:normal;font-family:Menlo,'DejaVu Sans Mono',consolas,'Courier New',monospace\">c:\\Users\\TalmoLab\\mambaforge\\envs\\sleap_jupyter\\lib\\site-packages\\rich\\live.py:221: \n",
              "UserWarning: install \"ipywidgets\" for Jupyter support\n",
              "  warnings.warn('install \"ipywidgets\" for Jupyter support')\n",
              "</pre>\n"
            ],
            "text/plain": [
              "c:\\Users\\TalmoLab\\mambaforge\\envs\\sleap_jupyter\\lib\\site-packages\\rich\\live.py:221: \n",
              "UserWarning: install \"ipywidgets\" for Jupyter support\n",
              "  warnings.warn('install \"ipywidgets\" for Jupyter support')\n"
            ]
          },
          "metadata": {},
          "output_type": "display_data"
        },
        {
          "data": {
            "text/html": [
              "<pre style=\"white-space:pre;overflow-x:auto;line-height:normal;font-family:Menlo,'DejaVu Sans Mono',consolas,'Courier New',monospace\">c:\\Users\\TalmoLab\\mambaforge\\envs\\sleap_jupyter\\lib\\site-packages\\rich\\live.py:221: \n",
              "UserWarning: install \"ipywidgets\" for Jupyter support\n",
              "  warnings.warn('install \"ipywidgets\" for Jupyter support')\n",
              "</pre>\n"
            ],
            "text/plain": [
              "c:\\Users\\TalmoLab\\mambaforge\\envs\\sleap_jupyter\\lib\\site-packages\\rich\\live.py:221: \n",
              "UserWarning: install \"ipywidgets\" for Jupyter support\n",
              "  warnings.warn('install \"ipywidgets\" for Jupyter support')\n"
            ]
          },
          "metadata": {},
          "output_type": "display_data"
        },
        {
          "data": {
            "text/html": [
              "<pre style=\"white-space:pre;overflow-x:auto;line-height:normal;font-family:Menlo,'DejaVu Sans Mono',consolas,'Courier New',monospace\">c:\\Users\\TalmoLab\\mambaforge\\envs\\sleap_jupyter\\lib\\site-packages\\rich\\live.py:221: \n",
              "UserWarning: install \"ipywidgets\" for Jupyter support\n",
              "  warnings.warn('install \"ipywidgets\" for Jupyter support')\n",
              "</pre>\n"
            ],
            "text/plain": [
              "c:\\Users\\TalmoLab\\mambaforge\\envs\\sleap_jupyter\\lib\\site-packages\\rich\\live.py:221: \n",
              "UserWarning: install \"ipywidgets\" for Jupyter support\n",
              "  warnings.warn('install \"ipywidgets\" for Jupyter support')\n"
            ]
          },
          "metadata": {},
          "output_type": "display_data"
        },
        {
          "data": {
            "text/html": [
              "<pre style=\"white-space:pre;overflow-x:auto;line-height:normal;font-family:Menlo,'DejaVu Sans Mono',consolas,'Courier New',monospace\">c:\\Users\\TalmoLab\\mambaforge\\envs\\sleap_jupyter\\lib\\site-packages\\rich\\live.py:221: \n",
              "UserWarning: install \"ipywidgets\" for Jupyter support\n",
              "  warnings.warn('install \"ipywidgets\" for Jupyter support')\n",
              "</pre>\n"
            ],
            "text/plain": [
              "c:\\Users\\TalmoLab\\mambaforge\\envs\\sleap_jupyter\\lib\\site-packages\\rich\\live.py:221: \n",
              "UserWarning: install \"ipywidgets\" for Jupyter support\n",
              "  warnings.warn('install \"ipywidgets\" for Jupyter support')\n"
            ]
          },
          "metadata": {},
          "output_type": "display_data"
        },
        {
          "data": {
            "text/html": [
              "<pre style=\"white-space:pre;overflow-x:auto;line-height:normal;font-family:Menlo,'DejaVu Sans Mono',consolas,'Courier New',monospace\">c:\\Users\\TalmoLab\\mambaforge\\envs\\sleap_jupyter\\lib\\site-packages\\rich\\live.py:221: \n",
              "UserWarning: install \"ipywidgets\" for Jupyter support\n",
              "  warnings.warn('install \"ipywidgets\" for Jupyter support')\n",
              "</pre>\n"
            ],
            "text/plain": [
              "c:\\Users\\TalmoLab\\mambaforge\\envs\\sleap_jupyter\\lib\\site-packages\\rich\\live.py:221: \n",
              "UserWarning: install \"ipywidgets\" for Jupyter support\n",
              "  warnings.warn('install \"ipywidgets\" for Jupyter support')\n"
            ]
          },
          "metadata": {},
          "output_type": "display_data"
        },
        {
          "data": {
            "text/html": [
              "<pre style=\"white-space:pre;overflow-x:auto;line-height:normal;font-family:Menlo,'DejaVu Sans Mono',consolas,'Courier New',monospace\">c:\\Users\\TalmoLab\\mambaforge\\envs\\sleap_jupyter\\lib\\site-packages\\rich\\live.py:221: \n",
              "UserWarning: install \"ipywidgets\" for Jupyter support\n",
              "  warnings.warn('install \"ipywidgets\" for Jupyter support')\n",
              "</pre>\n"
            ],
            "text/plain": [
              "c:\\Users\\TalmoLab\\mambaforge\\envs\\sleap_jupyter\\lib\\site-packages\\rich\\live.py:221: \n",
              "UserWarning: install \"ipywidgets\" for Jupyter support\n",
              "  warnings.warn('install \"ipywidgets\" for Jupyter support')\n"
            ]
          },
          "metadata": {},
          "output_type": "display_data"
        },
        {
          "data": {
            "text/html": [
              "<pre style=\"white-space:pre;overflow-x:auto;line-height:normal;font-family:Menlo,'DejaVu Sans Mono',consolas,'Courier New',monospace\">c:\\Users\\TalmoLab\\mambaforge\\envs\\sleap_jupyter\\lib\\site-packages\\rich\\live.py:221: \n",
              "UserWarning: install \"ipywidgets\" for Jupyter support\n",
              "  warnings.warn('install \"ipywidgets\" for Jupyter support')\n",
              "</pre>\n"
            ],
            "text/plain": [
              "c:\\Users\\TalmoLab\\mambaforge\\envs\\sleap_jupyter\\lib\\site-packages\\rich\\live.py:221: \n",
              "UserWarning: install \"ipywidgets\" for Jupyter support\n",
              "  warnings.warn('install \"ipywidgets\" for Jupyter support')\n"
            ]
          },
          "metadata": {},
          "output_type": "display_data"
        },
        {
          "data": {
            "text/html": [
              "<pre style=\"white-space:pre;overflow-x:auto;line-height:normal;font-family:Menlo,'DejaVu Sans Mono',consolas,'Courier New',monospace\">c:\\Users\\TalmoLab\\mambaforge\\envs\\sleap_jupyter\\lib\\site-packages\\rich\\live.py:221: \n",
              "UserWarning: install \"ipywidgets\" for Jupyter support\n",
              "  warnings.warn('install \"ipywidgets\" for Jupyter support')\n",
              "</pre>\n"
            ],
            "text/plain": [
              "c:\\Users\\TalmoLab\\mambaforge\\envs\\sleap_jupyter\\lib\\site-packages\\rich\\live.py:221: \n",
              "UserWarning: install \"ipywidgets\" for Jupyter support\n",
              "  warnings.warn('install \"ipywidgets\" for Jupyter support')\n"
            ]
          },
          "metadata": {},
          "output_type": "display_data"
        },
        {
          "data": {
            "text/html": [
              "<pre style=\"white-space:pre;overflow-x:auto;line-height:normal;font-family:Menlo,'DejaVu Sans Mono',consolas,'Courier New',monospace\">c:\\Users\\TalmoLab\\mambaforge\\envs\\sleap_jupyter\\lib\\site-packages\\rich\\live.py:221: \n",
              "UserWarning: install \"ipywidgets\" for Jupyter support\n",
              "  warnings.warn('install \"ipywidgets\" for Jupyter support')\n",
              "</pre>\n"
            ],
            "text/plain": [
              "c:\\Users\\TalmoLab\\mambaforge\\envs\\sleap_jupyter\\lib\\site-packages\\rich\\live.py:221: \n",
              "UserWarning: install \"ipywidgets\" for Jupyter support\n",
              "  warnings.warn('install \"ipywidgets\" for Jupyter support')\n"
            ]
          },
          "metadata": {},
          "output_type": "display_data"
        },
        {
          "data": {
            "text/html": [
              "<pre style=\"white-space:pre;overflow-x:auto;line-height:normal;font-family:Menlo,'DejaVu Sans Mono',consolas,'Courier New',monospace\">c:\\Users\\TalmoLab\\mambaforge\\envs\\sleap_jupyter\\lib\\site-packages\\rich\\live.py:221: \n",
              "UserWarning: install \"ipywidgets\" for Jupyter support\n",
              "  warnings.warn('install \"ipywidgets\" for Jupyter support')\n",
              "</pre>\n"
            ],
            "text/plain": [
              "c:\\Users\\TalmoLab\\mambaforge\\envs\\sleap_jupyter\\lib\\site-packages\\rich\\live.py:221: \n",
              "UserWarning: install \"ipywidgets\" for Jupyter support\n",
              "  warnings.warn('install \"ipywidgets\" for Jupyter support')\n"
            ]
          },
          "metadata": {},
          "output_type": "display_data"
        },
        {
          "data": {
            "text/html": [
              "<pre style=\"white-space:pre;overflow-x:auto;line-height:normal;font-family:Menlo,'DejaVu Sans Mono',consolas,'Courier New',monospace\">c:\\Users\\TalmoLab\\mambaforge\\envs\\sleap_jupyter\\lib\\site-packages\\rich\\live.py:221: \n",
              "UserWarning: install \"ipywidgets\" for Jupyter support\n",
              "  warnings.warn('install \"ipywidgets\" for Jupyter support')\n",
              "</pre>\n"
            ],
            "text/plain": [
              "c:\\Users\\TalmoLab\\mambaforge\\envs\\sleap_jupyter\\lib\\site-packages\\rich\\live.py:221: \n",
              "UserWarning: install \"ipywidgets\" for Jupyter support\n",
              "  warnings.warn('install \"ipywidgets\" for Jupyter support')\n"
            ]
          },
          "metadata": {},
          "output_type": "display_data"
        },
        {
          "data": {
            "text/html": [
              "<pre style=\"white-space:pre;overflow-x:auto;line-height:normal;font-family:Menlo,'DejaVu Sans Mono',consolas,'Courier New',monospace\">c:\\Users\\TalmoLab\\mambaforge\\envs\\sleap_jupyter\\lib\\site-packages\\rich\\live.py:221: \n",
              "UserWarning: install \"ipywidgets\" for Jupyter support\n",
              "  warnings.warn('install \"ipywidgets\" for Jupyter support')\n",
              "</pre>\n"
            ],
            "text/plain": [
              "c:\\Users\\TalmoLab\\mambaforge\\envs\\sleap_jupyter\\lib\\site-packages\\rich\\live.py:221: \n",
              "UserWarning: install \"ipywidgets\" for Jupyter support\n",
              "  warnings.warn('install \"ipywidgets\" for Jupyter support')\n"
            ]
          },
          "metadata": {},
          "output_type": "display_data"
        },
        {
          "data": {
            "text/html": [
              "<pre style=\"white-space:pre;overflow-x:auto;line-height:normal;font-family:Menlo,'DejaVu Sans Mono',consolas,'Courier New',monospace\">c:\\Users\\TalmoLab\\mambaforge\\envs\\sleap_jupyter\\lib\\site-packages\\rich\\live.py:221: \n",
              "UserWarning: install \"ipywidgets\" for Jupyter support\n",
              "  warnings.warn('install \"ipywidgets\" for Jupyter support')\n",
              "</pre>\n"
            ],
            "text/plain": [
              "c:\\Users\\TalmoLab\\mambaforge\\envs\\sleap_jupyter\\lib\\site-packages\\rich\\live.py:221: \n",
              "UserWarning: install \"ipywidgets\" for Jupyter support\n",
              "  warnings.warn('install \"ipywidgets\" for Jupyter support')\n"
            ]
          },
          "metadata": {},
          "output_type": "display_data"
        },
        {
          "data": {
            "text/html": [
              "<pre style=\"white-space:pre;overflow-x:auto;line-height:normal;font-family:Menlo,'DejaVu Sans Mono',consolas,'Courier New',monospace\">c:\\Users\\TalmoLab\\mambaforge\\envs\\sleap_jupyter\\lib\\site-packages\\rich\\live.py:221: \n",
              "UserWarning: install \"ipywidgets\" for Jupyter support\n",
              "  warnings.warn('install \"ipywidgets\" for Jupyter support')\n",
              "</pre>\n"
            ],
            "text/plain": [
              "c:\\Users\\TalmoLab\\mambaforge\\envs\\sleap_jupyter\\lib\\site-packages\\rich\\live.py:221: \n",
              "UserWarning: install \"ipywidgets\" for Jupyter support\n",
              "  warnings.warn('install \"ipywidgets\" for Jupyter support')\n"
            ]
          },
          "metadata": {},
          "output_type": "display_data"
        },
        {
          "data": {
            "text/html": [
              "<pre style=\"white-space:pre;overflow-x:auto;line-height:normal;font-family:Menlo,'DejaVu Sans Mono',consolas,'Courier New',monospace\">c:\\Users\\TalmoLab\\mambaforge\\envs\\sleap_jupyter\\lib\\site-packages\\rich\\live.py:221: \n",
              "UserWarning: install \"ipywidgets\" for Jupyter support\n",
              "  warnings.warn('install \"ipywidgets\" for Jupyter support')\n",
              "</pre>\n"
            ],
            "text/plain": [
              "c:\\Users\\TalmoLab\\mambaforge\\envs\\sleap_jupyter\\lib\\site-packages\\rich\\live.py:221: \n",
              "UserWarning: install \"ipywidgets\" for Jupyter support\n",
              "  warnings.warn('install \"ipywidgets\" for Jupyter support')\n"
            ]
          },
          "metadata": {},
          "output_type": "display_data"
        },
        {
          "data": {
            "text/html": [
              "<pre style=\"white-space:pre;overflow-x:auto;line-height:normal;font-family:Menlo,'DejaVu Sans Mono',consolas,'Courier New',monospace\">c:\\Users\\TalmoLab\\mambaforge\\envs\\sleap_jupyter\\lib\\site-packages\\rich\\live.py:221: \n",
              "UserWarning: install \"ipywidgets\" for Jupyter support\n",
              "  warnings.warn('install \"ipywidgets\" for Jupyter support')\n",
              "</pre>\n"
            ],
            "text/plain": [
              "c:\\Users\\TalmoLab\\mambaforge\\envs\\sleap_jupyter\\lib\\site-packages\\rich\\live.py:221: \n",
              "UserWarning: install \"ipywidgets\" for Jupyter support\n",
              "  warnings.warn('install \"ipywidgets\" for Jupyter support')\n"
            ]
          },
          "metadata": {},
          "output_type": "display_data"
        },
        {
          "data": {
            "text/html": [
              "<pre style=\"white-space:pre;overflow-x:auto;line-height:normal;font-family:Menlo,'DejaVu Sans Mono',consolas,'Courier New',monospace\">c:\\Users\\TalmoLab\\mambaforge\\envs\\sleap_jupyter\\lib\\site-packages\\rich\\live.py:221: \n",
              "UserWarning: install \"ipywidgets\" for Jupyter support\n",
              "  warnings.warn('install \"ipywidgets\" for Jupyter support')\n",
              "</pre>\n"
            ],
            "text/plain": [
              "c:\\Users\\TalmoLab\\mambaforge\\envs\\sleap_jupyter\\lib\\site-packages\\rich\\live.py:221: \n",
              "UserWarning: install \"ipywidgets\" for Jupyter support\n",
              "  warnings.warn('install \"ipywidgets\" for Jupyter support')\n"
            ]
          },
          "metadata": {},
          "output_type": "display_data"
        },
        {
          "data": {
            "text/html": [
              "<pre style=\"white-space:pre;overflow-x:auto;line-height:normal;font-family:Menlo,'DejaVu Sans Mono',consolas,'Courier New',monospace\">c:\\Users\\TalmoLab\\mambaforge\\envs\\sleap_jupyter\\lib\\site-packages\\rich\\live.py:221: \n",
              "UserWarning: install \"ipywidgets\" for Jupyter support\n",
              "  warnings.warn('install \"ipywidgets\" for Jupyter support')\n",
              "</pre>\n"
            ],
            "text/plain": [
              "c:\\Users\\TalmoLab\\mambaforge\\envs\\sleap_jupyter\\lib\\site-packages\\rich\\live.py:221: \n",
              "UserWarning: install \"ipywidgets\" for Jupyter support\n",
              "  warnings.warn('install \"ipywidgets\" for Jupyter support')\n"
            ]
          },
          "metadata": {},
          "output_type": "display_data"
        },
        {
          "data": {
            "text/html": [
              "<pre style=\"white-space:pre;overflow-x:auto;line-height:normal;font-family:Menlo,'DejaVu Sans Mono',consolas,'Courier New',monospace\">c:\\Users\\TalmoLab\\mambaforge\\envs\\sleap_jupyter\\lib\\site-packages\\rich\\live.py:221: \n",
              "UserWarning: install \"ipywidgets\" for Jupyter support\n",
              "  warnings.warn('install \"ipywidgets\" for Jupyter support')\n",
              "</pre>\n"
            ],
            "text/plain": [
              "c:\\Users\\TalmoLab\\mambaforge\\envs\\sleap_jupyter\\lib\\site-packages\\rich\\live.py:221: \n",
              "UserWarning: install \"ipywidgets\" for Jupyter support\n",
              "  warnings.warn('install \"ipywidgets\" for Jupyter support')\n"
            ]
          },
          "metadata": {},
          "output_type": "display_data"
        },
        {
          "data": {
            "text/html": [
              "<pre style=\"white-space:pre;overflow-x:auto;line-height:normal;font-family:Menlo,'DejaVu Sans Mono',consolas,'Courier New',monospace\">c:\\Users\\TalmoLab\\mambaforge\\envs\\sleap_jupyter\\lib\\site-packages\\rich\\live.py:221: \n",
              "UserWarning: install \"ipywidgets\" for Jupyter support\n",
              "  warnings.warn('install \"ipywidgets\" for Jupyter support')\n",
              "</pre>\n"
            ],
            "text/plain": [
              "c:\\Users\\TalmoLab\\mambaforge\\envs\\sleap_jupyter\\lib\\site-packages\\rich\\live.py:221: \n",
              "UserWarning: install \"ipywidgets\" for Jupyter support\n",
              "  warnings.warn('install \"ipywidgets\" for Jupyter support')\n"
            ]
          },
          "metadata": {},
          "output_type": "display_data"
        },
        {
          "data": {
            "text/html": [
              "<pre style=\"white-space:pre;overflow-x:auto;line-height:normal;font-family:Menlo,'DejaVu Sans Mono',consolas,'Courier New',monospace\">c:\\Users\\TalmoLab\\mambaforge\\envs\\sleap_jupyter\\lib\\site-packages\\rich\\live.py:221: \n",
              "UserWarning: install \"ipywidgets\" for Jupyter support\n",
              "  warnings.warn('install \"ipywidgets\" for Jupyter support')\n",
              "</pre>\n"
            ],
            "text/plain": [
              "c:\\Users\\TalmoLab\\mambaforge\\envs\\sleap_jupyter\\lib\\site-packages\\rich\\live.py:221: \n",
              "UserWarning: install \"ipywidgets\" for Jupyter support\n",
              "  warnings.warn('install \"ipywidgets\" for Jupyter support')\n"
            ]
          },
          "metadata": {},
          "output_type": "display_data"
        },
        {
          "data": {
            "text/html": [
              "<pre style=\"white-space:pre;overflow-x:auto;line-height:normal;font-family:Menlo,'DejaVu Sans Mono',consolas,'Courier New',monospace\">c:\\Users\\TalmoLab\\mambaforge\\envs\\sleap_jupyter\\lib\\site-packages\\rich\\live.py:221: \n",
              "UserWarning: install \"ipywidgets\" for Jupyter support\n",
              "  warnings.warn('install \"ipywidgets\" for Jupyter support')\n",
              "</pre>\n"
            ],
            "text/plain": [
              "c:\\Users\\TalmoLab\\mambaforge\\envs\\sleap_jupyter\\lib\\site-packages\\rich\\live.py:221: \n",
              "UserWarning: install \"ipywidgets\" for Jupyter support\n",
              "  warnings.warn('install \"ipywidgets\" for Jupyter support')\n"
            ]
          },
          "metadata": {},
          "output_type": "display_data"
        },
        {
          "data": {
            "text/html": [
              "<pre style=\"white-space:pre;overflow-x:auto;line-height:normal;font-family:Menlo,'DejaVu Sans Mono',consolas,'Courier New',monospace\">c:\\Users\\TalmoLab\\mambaforge\\envs\\sleap_jupyter\\lib\\site-packages\\rich\\live.py:221: \n",
              "UserWarning: install \"ipywidgets\" for Jupyter support\n",
              "  warnings.warn('install \"ipywidgets\" for Jupyter support')\n",
              "</pre>\n"
            ],
            "text/plain": [
              "c:\\Users\\TalmoLab\\mambaforge\\envs\\sleap_jupyter\\lib\\site-packages\\rich\\live.py:221: \n",
              "UserWarning: install \"ipywidgets\" for Jupyter support\n",
              "  warnings.warn('install \"ipywidgets\" for Jupyter support')\n"
            ]
          },
          "metadata": {},
          "output_type": "display_data"
        },
        {
          "data": {
            "text/html": [
              "<pre style=\"white-space:pre;overflow-x:auto;line-height:normal;font-family:Menlo,'DejaVu Sans Mono',consolas,'Courier New',monospace\">c:\\Users\\TalmoLab\\mambaforge\\envs\\sleap_jupyter\\lib\\site-packages\\rich\\live.py:221: \n",
              "UserWarning: install \"ipywidgets\" for Jupyter support\n",
              "  warnings.warn('install \"ipywidgets\" for Jupyter support')\n",
              "</pre>\n"
            ],
            "text/plain": [
              "c:\\Users\\TalmoLab\\mambaforge\\envs\\sleap_jupyter\\lib\\site-packages\\rich\\live.py:221: \n",
              "UserWarning: install \"ipywidgets\" for Jupyter support\n",
              "  warnings.warn('install \"ipywidgets\" for Jupyter support')\n"
            ]
          },
          "metadata": {},
          "output_type": "display_data"
        },
        {
          "data": {
            "text/html": [
              "<pre style=\"white-space:pre;overflow-x:auto;line-height:normal;font-family:Menlo,'DejaVu Sans Mono',consolas,'Courier New',monospace\">c:\\Users\\TalmoLab\\mambaforge\\envs\\sleap_jupyter\\lib\\site-packages\\rich\\live.py:221: \n",
              "UserWarning: install \"ipywidgets\" for Jupyter support\n",
              "  warnings.warn('install \"ipywidgets\" for Jupyter support')\n",
              "</pre>\n"
            ],
            "text/plain": [
              "c:\\Users\\TalmoLab\\mambaforge\\envs\\sleap_jupyter\\lib\\site-packages\\rich\\live.py:221: \n",
              "UserWarning: install \"ipywidgets\" for Jupyter support\n",
              "  warnings.warn('install \"ipywidgets\" for Jupyter support')\n"
            ]
          },
          "metadata": {},
          "output_type": "display_data"
        },
        {
          "data": {
            "text/html": [
              "<pre style=\"white-space:pre;overflow-x:auto;line-height:normal;font-family:Menlo,'DejaVu Sans Mono',consolas,'Courier New',monospace\">c:\\Users\\TalmoLab\\mambaforge\\envs\\sleap_jupyter\\lib\\site-packages\\rich\\live.py:221: \n",
              "UserWarning: install \"ipywidgets\" for Jupyter support\n",
              "  warnings.warn('install \"ipywidgets\" for Jupyter support')\n",
              "</pre>\n"
            ],
            "text/plain": [
              "c:\\Users\\TalmoLab\\mambaforge\\envs\\sleap_jupyter\\lib\\site-packages\\rich\\live.py:221: \n",
              "UserWarning: install \"ipywidgets\" for Jupyter support\n",
              "  warnings.warn('install \"ipywidgets\" for Jupyter support')\n"
            ]
          },
          "metadata": {},
          "output_type": "display_data"
        },
        {
          "data": {
            "text/html": [
              "<pre style=\"white-space:pre;overflow-x:auto;line-height:normal;font-family:Menlo,'DejaVu Sans Mono',consolas,'Courier New',monospace\">c:\\Users\\TalmoLab\\mambaforge\\envs\\sleap_jupyter\\lib\\site-packages\\rich\\live.py:221: \n",
              "UserWarning: install \"ipywidgets\" for Jupyter support\n",
              "  warnings.warn('install \"ipywidgets\" for Jupyter support')\n",
              "</pre>\n"
            ],
            "text/plain": [
              "c:\\Users\\TalmoLab\\mambaforge\\envs\\sleap_jupyter\\lib\\site-packages\\rich\\live.py:221: \n",
              "UserWarning: install \"ipywidgets\" for Jupyter support\n",
              "  warnings.warn('install \"ipywidgets\" for Jupyter support')\n"
            ]
          },
          "metadata": {},
          "output_type": "display_data"
        },
        {
          "data": {
            "text/html": [
              "<pre style=\"white-space:pre;overflow-x:auto;line-height:normal;font-family:Menlo,'DejaVu Sans Mono',consolas,'Courier New',monospace\">c:\\Users\\TalmoLab\\mambaforge\\envs\\sleap_jupyter\\lib\\site-packages\\rich\\live.py:221: \n",
              "UserWarning: install \"ipywidgets\" for Jupyter support\n",
              "  warnings.warn('install \"ipywidgets\" for Jupyter support')\n",
              "</pre>\n"
            ],
            "text/plain": [
              "c:\\Users\\TalmoLab\\mambaforge\\envs\\sleap_jupyter\\lib\\site-packages\\rich\\live.py:221: \n",
              "UserWarning: install \"ipywidgets\" for Jupyter support\n",
              "  warnings.warn('install \"ipywidgets\" for Jupyter support')\n"
            ]
          },
          "metadata": {},
          "output_type": "display_data"
        },
        {
          "data": {
            "text/html": [
              "<pre style=\"white-space:pre;overflow-x:auto;line-height:normal;font-family:Menlo,'DejaVu Sans Mono',consolas,'Courier New',monospace\">c:\\Users\\TalmoLab\\mambaforge\\envs\\sleap_jupyter\\lib\\site-packages\\rich\\live.py:221: \n",
              "UserWarning: install \"ipywidgets\" for Jupyter support\n",
              "  warnings.warn('install \"ipywidgets\" for Jupyter support')\n",
              "</pre>\n"
            ],
            "text/plain": [
              "c:\\Users\\TalmoLab\\mambaforge\\envs\\sleap_jupyter\\lib\\site-packages\\rich\\live.py:221: \n",
              "UserWarning: install \"ipywidgets\" for Jupyter support\n",
              "  warnings.warn('install \"ipywidgets\" for Jupyter support')\n"
            ]
          },
          "metadata": {},
          "output_type": "display_data"
        },
        {
          "data": {
            "text/html": [
              "<pre style=\"white-space:pre;overflow-x:auto;line-height:normal;font-family:Menlo,'DejaVu Sans Mono',consolas,'Courier New',monospace\">c:\\Users\\TalmoLab\\mambaforge\\envs\\sleap_jupyter\\lib\\site-packages\\rich\\live.py:221: \n",
              "UserWarning: install \"ipywidgets\" for Jupyter support\n",
              "  warnings.warn('install \"ipywidgets\" for Jupyter support')\n",
              "</pre>\n"
            ],
            "text/plain": [
              "c:\\Users\\TalmoLab\\mambaforge\\envs\\sleap_jupyter\\lib\\site-packages\\rich\\live.py:221: \n",
              "UserWarning: install \"ipywidgets\" for Jupyter support\n",
              "  warnings.warn('install \"ipywidgets\" for Jupyter support')\n"
            ]
          },
          "metadata": {},
          "output_type": "display_data"
        },
        {
          "data": {
            "text/html": [
              "<pre style=\"white-space:pre;overflow-x:auto;line-height:normal;font-family:Menlo,'DejaVu Sans Mono',consolas,'Courier New',monospace\">c:\\Users\\TalmoLab\\mambaforge\\envs\\sleap_jupyter\\lib\\site-packages\\rich\\live.py:221: \n",
              "UserWarning: install \"ipywidgets\" for Jupyter support\n",
              "  warnings.warn('install \"ipywidgets\" for Jupyter support')\n",
              "</pre>\n"
            ],
            "text/plain": [
              "c:\\Users\\TalmoLab\\mambaforge\\envs\\sleap_jupyter\\lib\\site-packages\\rich\\live.py:221: \n",
              "UserWarning: install \"ipywidgets\" for Jupyter support\n",
              "  warnings.warn('install \"ipywidgets\" for Jupyter support')\n"
            ]
          },
          "metadata": {},
          "output_type": "display_data"
        },
        {
          "data": {
            "text/html": [
              "<pre style=\"white-space:pre;overflow-x:auto;line-height:normal;font-family:Menlo,'DejaVu Sans Mono',consolas,'Courier New',monospace\">c:\\Users\\TalmoLab\\mambaforge\\envs\\sleap_jupyter\\lib\\site-packages\\rich\\live.py:221: \n",
              "UserWarning: install \"ipywidgets\" for Jupyter support\n",
              "  warnings.warn('install \"ipywidgets\" for Jupyter support')\n",
              "</pre>\n"
            ],
            "text/plain": [
              "c:\\Users\\TalmoLab\\mambaforge\\envs\\sleap_jupyter\\lib\\site-packages\\rich\\live.py:221: \n",
              "UserWarning: install \"ipywidgets\" for Jupyter support\n",
              "  warnings.warn('install \"ipywidgets\" for Jupyter support')\n"
            ]
          },
          "metadata": {},
          "output_type": "display_data"
        },
        {
          "data": {
            "text/html": [
              "<pre style=\"white-space:pre;overflow-x:auto;line-height:normal;font-family:Menlo,'DejaVu Sans Mono',consolas,'Courier New',monospace\">c:\\Users\\TalmoLab\\mambaforge\\envs\\sleap_jupyter\\lib\\site-packages\\rich\\live.py:221: \n",
              "UserWarning: install \"ipywidgets\" for Jupyter support\n",
              "  warnings.warn('install \"ipywidgets\" for Jupyter support')\n",
              "</pre>\n"
            ],
            "text/plain": [
              "c:\\Users\\TalmoLab\\mambaforge\\envs\\sleap_jupyter\\lib\\site-packages\\rich\\live.py:221: \n",
              "UserWarning: install \"ipywidgets\" for Jupyter support\n",
              "  warnings.warn('install \"ipywidgets\" for Jupyter support')\n"
            ]
          },
          "metadata": {},
          "output_type": "display_data"
        },
        {
          "data": {
            "text/html": [
              "<pre style=\"white-space:pre;overflow-x:auto;line-height:normal;font-family:Menlo,'DejaVu Sans Mono',consolas,'Courier New',monospace\">c:\\Users\\TalmoLab\\mambaforge\\envs\\sleap_jupyter\\lib\\site-packages\\rich\\live.py:221: \n",
              "UserWarning: install \"ipywidgets\" for Jupyter support\n",
              "  warnings.warn('install \"ipywidgets\" for Jupyter support')\n",
              "</pre>\n"
            ],
            "text/plain": [
              "c:\\Users\\TalmoLab\\mambaforge\\envs\\sleap_jupyter\\lib\\site-packages\\rich\\live.py:221: \n",
              "UserWarning: install \"ipywidgets\" for Jupyter support\n",
              "  warnings.warn('install \"ipywidgets\" for Jupyter support')\n"
            ]
          },
          "metadata": {},
          "output_type": "display_data"
        },
        {
          "data": {
            "text/html": [
              "<pre style=\"white-space:pre;overflow-x:auto;line-height:normal;font-family:Menlo,'DejaVu Sans Mono',consolas,'Courier New',monospace\">c:\\Users\\TalmoLab\\mambaforge\\envs\\sleap_jupyter\\lib\\site-packages\\rich\\live.py:221: \n",
              "UserWarning: install \"ipywidgets\" for Jupyter support\n",
              "  warnings.warn('install \"ipywidgets\" for Jupyter support')\n",
              "</pre>\n"
            ],
            "text/plain": [
              "c:\\Users\\TalmoLab\\mambaforge\\envs\\sleap_jupyter\\lib\\site-packages\\rich\\live.py:221: \n",
              "UserWarning: install \"ipywidgets\" for Jupyter support\n",
              "  warnings.warn('install \"ipywidgets\" for Jupyter support')\n"
            ]
          },
          "metadata": {},
          "output_type": "display_data"
        },
        {
          "data": {
            "text/html": [
              "<pre style=\"white-space:pre;overflow-x:auto;line-height:normal;font-family:Menlo,'DejaVu Sans Mono',consolas,'Courier New',monospace\">c:\\Users\\TalmoLab\\mambaforge\\envs\\sleap_jupyter\\lib\\site-packages\\rich\\live.py:221: \n",
              "UserWarning: install \"ipywidgets\" for Jupyter support\n",
              "  warnings.warn('install \"ipywidgets\" for Jupyter support')\n",
              "</pre>\n"
            ],
            "text/plain": [
              "c:\\Users\\TalmoLab\\mambaforge\\envs\\sleap_jupyter\\lib\\site-packages\\rich\\live.py:221: \n",
              "UserWarning: install \"ipywidgets\" for Jupyter support\n",
              "  warnings.warn('install \"ipywidgets\" for Jupyter support')\n"
            ]
          },
          "metadata": {},
          "output_type": "display_data"
        },
        {
          "data": {
            "text/html": [
              "<pre style=\"white-space:pre;overflow-x:auto;line-height:normal;font-family:Menlo,'DejaVu Sans Mono',consolas,'Courier New',monospace\">c:\\Users\\TalmoLab\\mambaforge\\envs\\sleap_jupyter\\lib\\site-packages\\rich\\live.py:221: \n",
              "UserWarning: install \"ipywidgets\" for Jupyter support\n",
              "  warnings.warn('install \"ipywidgets\" for Jupyter support')\n",
              "</pre>\n"
            ],
            "text/plain": [
              "c:\\Users\\TalmoLab\\mambaforge\\envs\\sleap_jupyter\\lib\\site-packages\\rich\\live.py:221: \n",
              "UserWarning: install \"ipywidgets\" for Jupyter support\n",
              "  warnings.warn('install \"ipywidgets\" for Jupyter support')\n"
            ]
          },
          "metadata": {},
          "output_type": "display_data"
        },
        {
          "data": {
            "text/html": [
              "<pre style=\"white-space:pre;overflow-x:auto;line-height:normal;font-family:Menlo,'DejaVu Sans Mono',consolas,'Courier New',monospace\">c:\\Users\\TalmoLab\\mambaforge\\envs\\sleap_jupyter\\lib\\site-packages\\rich\\live.py:221: \n",
              "UserWarning: install \"ipywidgets\" for Jupyter support\n",
              "  warnings.warn('install \"ipywidgets\" for Jupyter support')\n",
              "</pre>\n"
            ],
            "text/plain": [
              "c:\\Users\\TalmoLab\\mambaforge\\envs\\sleap_jupyter\\lib\\site-packages\\rich\\live.py:221: \n",
              "UserWarning: install \"ipywidgets\" for Jupyter support\n",
              "  warnings.warn('install \"ipywidgets\" for Jupyter support')\n"
            ]
          },
          "metadata": {},
          "output_type": "display_data"
        },
        {
          "data": {
            "text/html": [
              "<pre style=\"white-space:pre;overflow-x:auto;line-height:normal;font-family:Menlo,'DejaVu Sans Mono',consolas,'Courier New',monospace\">c:\\Users\\TalmoLab\\mambaforge\\envs\\sleap_jupyter\\lib\\site-packages\\rich\\live.py:221: \n",
              "UserWarning: install \"ipywidgets\" for Jupyter support\n",
              "  warnings.warn('install \"ipywidgets\" for Jupyter support')\n",
              "</pre>\n"
            ],
            "text/plain": [
              "c:\\Users\\TalmoLab\\mambaforge\\envs\\sleap_jupyter\\lib\\site-packages\\rich\\live.py:221: \n",
              "UserWarning: install \"ipywidgets\" for Jupyter support\n",
              "  warnings.warn('install \"ipywidgets\" for Jupyter support')\n"
            ]
          },
          "metadata": {},
          "output_type": "display_data"
        },
        {
          "data": {
            "text/html": [
              "<pre style=\"white-space:pre;overflow-x:auto;line-height:normal;font-family:Menlo,'DejaVu Sans Mono',consolas,'Courier New',monospace\">c:\\Users\\TalmoLab\\mambaforge\\envs\\sleap_jupyter\\lib\\site-packages\\rich\\live.py:221: \n",
              "UserWarning: install \"ipywidgets\" for Jupyter support\n",
              "  warnings.warn('install \"ipywidgets\" for Jupyter support')\n",
              "</pre>\n"
            ],
            "text/plain": [
              "c:\\Users\\TalmoLab\\mambaforge\\envs\\sleap_jupyter\\lib\\site-packages\\rich\\live.py:221: \n",
              "UserWarning: install \"ipywidgets\" for Jupyter support\n",
              "  warnings.warn('install \"ipywidgets\" for Jupyter support')\n"
            ]
          },
          "metadata": {},
          "output_type": "display_data"
        },
        {
          "data": {
            "text/html": [
              "<pre style=\"white-space:pre;overflow-x:auto;line-height:normal;font-family:Menlo,'DejaVu Sans Mono',consolas,'Courier New',monospace\">c:\\Users\\TalmoLab\\mambaforge\\envs\\sleap_jupyter\\lib\\site-packages\\rich\\live.py:221: \n",
              "UserWarning: install \"ipywidgets\" for Jupyter support\n",
              "  warnings.warn('install \"ipywidgets\" for Jupyter support')\n",
              "</pre>\n"
            ],
            "text/plain": [
              "c:\\Users\\TalmoLab\\mambaforge\\envs\\sleap_jupyter\\lib\\site-packages\\rich\\live.py:221: \n",
              "UserWarning: install \"ipywidgets\" for Jupyter support\n",
              "  warnings.warn('install \"ipywidgets\" for Jupyter support')\n"
            ]
          },
          "metadata": {},
          "output_type": "display_data"
        },
        {
          "data": {
            "text/html": [
              "<pre style=\"white-space:pre;overflow-x:auto;line-height:normal;font-family:Menlo,'DejaVu Sans Mono',consolas,'Courier New',monospace\">c:\\Users\\TalmoLab\\mambaforge\\envs\\sleap_jupyter\\lib\\site-packages\\rich\\live.py:221: \n",
              "UserWarning: install \"ipywidgets\" for Jupyter support\n",
              "  warnings.warn('install \"ipywidgets\" for Jupyter support')\n",
              "</pre>\n"
            ],
            "text/plain": [
              "c:\\Users\\TalmoLab\\mambaforge\\envs\\sleap_jupyter\\lib\\site-packages\\rich\\live.py:221: \n",
              "UserWarning: install \"ipywidgets\" for Jupyter support\n",
              "  warnings.warn('install \"ipywidgets\" for Jupyter support')\n"
            ]
          },
          "metadata": {},
          "output_type": "display_data"
        },
        {
          "data": {
            "text/html": [
              "<pre style=\"white-space:pre;overflow-x:auto;line-height:normal;font-family:Menlo,'DejaVu Sans Mono',consolas,'Courier New',monospace\">c:\\Users\\TalmoLab\\mambaforge\\envs\\sleap_jupyter\\lib\\site-packages\\rich\\live.py:221: \n",
              "UserWarning: install \"ipywidgets\" for Jupyter support\n",
              "  warnings.warn('install \"ipywidgets\" for Jupyter support')\n",
              "</pre>\n"
            ],
            "text/plain": [
              "c:\\Users\\TalmoLab\\mambaforge\\envs\\sleap_jupyter\\lib\\site-packages\\rich\\live.py:221: \n",
              "UserWarning: install \"ipywidgets\" for Jupyter support\n",
              "  warnings.warn('install \"ipywidgets\" for Jupyter support')\n"
            ]
          },
          "metadata": {},
          "output_type": "display_data"
        },
        {
          "data": {
            "text/html": [
              "<pre style=\"white-space:pre;overflow-x:auto;line-height:normal;font-family:Menlo,'DejaVu Sans Mono',consolas,'Courier New',monospace\">c:\\Users\\TalmoLab\\mambaforge\\envs\\sleap_jupyter\\lib\\site-packages\\rich\\live.py:221: \n",
              "UserWarning: install \"ipywidgets\" for Jupyter support\n",
              "  warnings.warn('install \"ipywidgets\" for Jupyter support')\n",
              "</pre>\n"
            ],
            "text/plain": [
              "c:\\Users\\TalmoLab\\mambaforge\\envs\\sleap_jupyter\\lib\\site-packages\\rich\\live.py:221: \n",
              "UserWarning: install \"ipywidgets\" for Jupyter support\n",
              "  warnings.warn('install \"ipywidgets\" for Jupyter support')\n"
            ]
          },
          "metadata": {},
          "output_type": "display_data"
        },
        {
          "data": {
            "text/html": [
              "<pre style=\"white-space:pre;overflow-x:auto;line-height:normal;font-family:Menlo,'DejaVu Sans Mono',consolas,'Courier New',monospace\">c:\\Users\\TalmoLab\\mambaforge\\envs\\sleap_jupyter\\lib\\site-packages\\rich\\live.py:221: \n",
              "UserWarning: install \"ipywidgets\" for Jupyter support\n",
              "  warnings.warn('install \"ipywidgets\" for Jupyter support')\n",
              "</pre>\n"
            ],
            "text/plain": [
              "c:\\Users\\TalmoLab\\mambaforge\\envs\\sleap_jupyter\\lib\\site-packages\\rich\\live.py:221: \n",
              "UserWarning: install \"ipywidgets\" for Jupyter support\n",
              "  warnings.warn('install \"ipywidgets\" for Jupyter support')\n"
            ]
          },
          "metadata": {},
          "output_type": "display_data"
        },
        {
          "data": {
            "text/html": [
              "<pre style=\"white-space:pre;overflow-x:auto;line-height:normal;font-family:Menlo,'DejaVu Sans Mono',consolas,'Courier New',monospace\">c:\\Users\\TalmoLab\\mambaforge\\envs\\sleap_jupyter\\lib\\site-packages\\rich\\live.py:221: \n",
              "UserWarning: install \"ipywidgets\" for Jupyter support\n",
              "  warnings.warn('install \"ipywidgets\" for Jupyter support')\n",
              "</pre>\n"
            ],
            "text/plain": [
              "c:\\Users\\TalmoLab\\mambaforge\\envs\\sleap_jupyter\\lib\\site-packages\\rich\\live.py:221: \n",
              "UserWarning: install \"ipywidgets\" for Jupyter support\n",
              "  warnings.warn('install \"ipywidgets\" for Jupyter support')\n"
            ]
          },
          "metadata": {},
          "output_type": "display_data"
        },
        {
          "data": {
            "text/html": [
              "<pre style=\"white-space:pre;overflow-x:auto;line-height:normal;font-family:Menlo,'DejaVu Sans Mono',consolas,'Courier New',monospace\">c:\\Users\\TalmoLab\\mambaforge\\envs\\sleap_jupyter\\lib\\site-packages\\rich\\live.py:221: \n",
              "UserWarning: install \"ipywidgets\" for Jupyter support\n",
              "  warnings.warn('install \"ipywidgets\" for Jupyter support')\n",
              "</pre>\n"
            ],
            "text/plain": [
              "c:\\Users\\TalmoLab\\mambaforge\\envs\\sleap_jupyter\\lib\\site-packages\\rich\\live.py:221: \n",
              "UserWarning: install \"ipywidgets\" for Jupyter support\n",
              "  warnings.warn('install \"ipywidgets\" for Jupyter support')\n"
            ]
          },
          "metadata": {},
          "output_type": "display_data"
        },
        {
          "data": {
            "text/html": [
              "<pre style=\"white-space:pre;overflow-x:auto;line-height:normal;font-family:Menlo,'DejaVu Sans Mono',consolas,'Courier New',monospace\">c:\\Users\\TalmoLab\\mambaforge\\envs\\sleap_jupyter\\lib\\site-packages\\rich\\live.py:221: \n",
              "UserWarning: install \"ipywidgets\" for Jupyter support\n",
              "  warnings.warn('install \"ipywidgets\" for Jupyter support')\n",
              "</pre>\n"
            ],
            "text/plain": [
              "c:\\Users\\TalmoLab\\mambaforge\\envs\\sleap_jupyter\\lib\\site-packages\\rich\\live.py:221: \n",
              "UserWarning: install \"ipywidgets\" for Jupyter support\n",
              "  warnings.warn('install \"ipywidgets\" for Jupyter support')\n"
            ]
          },
          "metadata": {},
          "output_type": "display_data"
        },
        {
          "data": {
            "text/html": [
              "<pre style=\"white-space:pre;overflow-x:auto;line-height:normal;font-family:Menlo,'DejaVu Sans Mono',consolas,'Courier New',monospace\">c:\\Users\\TalmoLab\\mambaforge\\envs\\sleap_jupyter\\lib\\site-packages\\rich\\live.py:221: \n",
              "UserWarning: install \"ipywidgets\" for Jupyter support\n",
              "  warnings.warn('install \"ipywidgets\" for Jupyter support')\n",
              "</pre>\n"
            ],
            "text/plain": [
              "c:\\Users\\TalmoLab\\mambaforge\\envs\\sleap_jupyter\\lib\\site-packages\\rich\\live.py:221: \n",
              "UserWarning: install \"ipywidgets\" for Jupyter support\n",
              "  warnings.warn('install \"ipywidgets\" for Jupyter support')\n"
            ]
          },
          "metadata": {},
          "output_type": "display_data"
        },
        {
          "data": {
            "text/html": [
              "<pre style=\"white-space:pre;overflow-x:auto;line-height:normal;font-family:Menlo,'DejaVu Sans Mono',consolas,'Courier New',monospace\">c:\\Users\\TalmoLab\\mambaforge\\envs\\sleap_jupyter\\lib\\site-packages\\rich\\live.py:221: \n",
              "UserWarning: install \"ipywidgets\" for Jupyter support\n",
              "  warnings.warn('install \"ipywidgets\" for Jupyter support')\n",
              "</pre>\n"
            ],
            "text/plain": [
              "c:\\Users\\TalmoLab\\mambaforge\\envs\\sleap_jupyter\\lib\\site-packages\\rich\\live.py:221: \n",
              "UserWarning: install \"ipywidgets\" for Jupyter support\n",
              "  warnings.warn('install \"ipywidgets\" for Jupyter support')\n"
            ]
          },
          "metadata": {},
          "output_type": "display_data"
        },
        {
          "data": {
            "text/html": [
              "<pre style=\"white-space:pre;overflow-x:auto;line-height:normal;font-family:Menlo,'DejaVu Sans Mono',consolas,'Courier New',monospace\">c:\\Users\\TalmoLab\\mambaforge\\envs\\sleap_jupyter\\lib\\site-packages\\rich\\live.py:221: \n",
              "UserWarning: install \"ipywidgets\" for Jupyter support\n",
              "  warnings.warn('install \"ipywidgets\" for Jupyter support')\n",
              "</pre>\n"
            ],
            "text/plain": [
              "c:\\Users\\TalmoLab\\mambaforge\\envs\\sleap_jupyter\\lib\\site-packages\\rich\\live.py:221: \n",
              "UserWarning: install \"ipywidgets\" for Jupyter support\n",
              "  warnings.warn('install \"ipywidgets\" for Jupyter support')\n"
            ]
          },
          "metadata": {},
          "output_type": "display_data"
        },
        {
          "data": {
            "text/html": [
              "<pre style=\"white-space:pre;overflow-x:auto;line-height:normal;font-family:Menlo,'DejaVu Sans Mono',consolas,'Courier New',monospace\">c:\\Users\\TalmoLab\\mambaforge\\envs\\sleap_jupyter\\lib\\site-packages\\rich\\live.py:221: \n",
              "UserWarning: install \"ipywidgets\" for Jupyter support\n",
              "  warnings.warn('install \"ipywidgets\" for Jupyter support')\n",
              "</pre>\n"
            ],
            "text/plain": [
              "c:\\Users\\TalmoLab\\mambaforge\\envs\\sleap_jupyter\\lib\\site-packages\\rich\\live.py:221: \n",
              "UserWarning: install \"ipywidgets\" for Jupyter support\n",
              "  warnings.warn('install \"ipywidgets\" for Jupyter support')\n"
            ]
          },
          "metadata": {},
          "output_type": "display_data"
        },
        {
          "data": {
            "text/html": [
              "<pre style=\"white-space:pre;overflow-x:auto;line-height:normal;font-family:Menlo,'DejaVu Sans Mono',consolas,'Courier New',monospace\">c:\\Users\\TalmoLab\\mambaforge\\envs\\sleap_jupyter\\lib\\site-packages\\rich\\live.py:221: \n",
              "UserWarning: install \"ipywidgets\" for Jupyter support\n",
              "  warnings.warn('install \"ipywidgets\" for Jupyter support')\n",
              "</pre>\n"
            ],
            "text/plain": [
              "c:\\Users\\TalmoLab\\mambaforge\\envs\\sleap_jupyter\\lib\\site-packages\\rich\\live.py:221: \n",
              "UserWarning: install \"ipywidgets\" for Jupyter support\n",
              "  warnings.warn('install \"ipywidgets\" for Jupyter support')\n"
            ]
          },
          "metadata": {},
          "output_type": "display_data"
        },
        {
          "data": {
            "text/html": [
              "<pre style=\"white-space:pre;overflow-x:auto;line-height:normal;font-family:Menlo,'DejaVu Sans Mono',consolas,'Courier New',monospace\">c:\\Users\\TalmoLab\\mambaforge\\envs\\sleap_jupyter\\lib\\site-packages\\rich\\live.py:221: \n",
              "UserWarning: install \"ipywidgets\" for Jupyter support\n",
              "  warnings.warn('install \"ipywidgets\" for Jupyter support')\n",
              "</pre>\n"
            ],
            "text/plain": [
              "c:\\Users\\TalmoLab\\mambaforge\\envs\\sleap_jupyter\\lib\\site-packages\\rich\\live.py:221: \n",
              "UserWarning: install \"ipywidgets\" for Jupyter support\n",
              "  warnings.warn('install \"ipywidgets\" for Jupyter support')\n"
            ]
          },
          "metadata": {},
          "output_type": "display_data"
        },
        {
          "data": {
            "text/html": [
              "<pre style=\"white-space:pre;overflow-x:auto;line-height:normal;font-family:Menlo,'DejaVu Sans Mono',consolas,'Courier New',monospace\">c:\\Users\\TalmoLab\\mambaforge\\envs\\sleap_jupyter\\lib\\site-packages\\rich\\live.py:221: \n",
              "UserWarning: install \"ipywidgets\" for Jupyter support\n",
              "  warnings.warn('install \"ipywidgets\" for Jupyter support')\n",
              "</pre>\n"
            ],
            "text/plain": [
              "c:\\Users\\TalmoLab\\mambaforge\\envs\\sleap_jupyter\\lib\\site-packages\\rich\\live.py:221: \n",
              "UserWarning: install \"ipywidgets\" for Jupyter support\n",
              "  warnings.warn('install \"ipywidgets\" for Jupyter support')\n"
            ]
          },
          "metadata": {},
          "output_type": "display_data"
        },
        {
          "data": {
            "text/html": [
              "<pre style=\"white-space:pre;overflow-x:auto;line-height:normal;font-family:Menlo,'DejaVu Sans Mono',consolas,'Courier New',monospace\">c:\\Users\\TalmoLab\\mambaforge\\envs\\sleap_jupyter\\lib\\site-packages\\rich\\live.py:221: \n",
              "UserWarning: install \"ipywidgets\" for Jupyter support\n",
              "  warnings.warn('install \"ipywidgets\" for Jupyter support')\n",
              "</pre>\n"
            ],
            "text/plain": [
              "c:\\Users\\TalmoLab\\mambaforge\\envs\\sleap_jupyter\\lib\\site-packages\\rich\\live.py:221: \n",
              "UserWarning: install \"ipywidgets\" for Jupyter support\n",
              "  warnings.warn('install \"ipywidgets\" for Jupyter support')\n"
            ]
          },
          "metadata": {},
          "output_type": "display_data"
        },
        {
          "data": {
            "text/html": [
              "<pre style=\"white-space:pre;overflow-x:auto;line-height:normal;font-family:Menlo,'DejaVu Sans Mono',consolas,'Courier New',monospace\">c:\\Users\\TalmoLab\\mambaforge\\envs\\sleap_jupyter\\lib\\site-packages\\rich\\live.py:221: \n",
              "UserWarning: install \"ipywidgets\" for Jupyter support\n",
              "  warnings.warn('install \"ipywidgets\" for Jupyter support')\n",
              "</pre>\n"
            ],
            "text/plain": [
              "c:\\Users\\TalmoLab\\mambaforge\\envs\\sleap_jupyter\\lib\\site-packages\\rich\\live.py:221: \n",
              "UserWarning: install \"ipywidgets\" for Jupyter support\n",
              "  warnings.warn('install \"ipywidgets\" for Jupyter support')\n"
            ]
          },
          "metadata": {},
          "output_type": "display_data"
        },
        {
          "data": {
            "text/html": [
              "<pre style=\"white-space:pre;overflow-x:auto;line-height:normal;font-family:Menlo,'DejaVu Sans Mono',consolas,'Courier New',monospace\">c:\\Users\\TalmoLab\\mambaforge\\envs\\sleap_jupyter\\lib\\site-packages\\rich\\live.py:221: \n",
              "UserWarning: install \"ipywidgets\" for Jupyter support\n",
              "  warnings.warn('install \"ipywidgets\" for Jupyter support')\n",
              "</pre>\n"
            ],
            "text/plain": [
              "c:\\Users\\TalmoLab\\mambaforge\\envs\\sleap_jupyter\\lib\\site-packages\\rich\\live.py:221: \n",
              "UserWarning: install \"ipywidgets\" for Jupyter support\n",
              "  warnings.warn('install \"ipywidgets\" for Jupyter support')\n"
            ]
          },
          "metadata": {},
          "output_type": "display_data"
        },
        {
          "data": {
            "text/html": [
              "<pre style=\"white-space:pre;overflow-x:auto;line-height:normal;font-family:Menlo,'DejaVu Sans Mono',consolas,'Courier New',monospace\">c:\\Users\\TalmoLab\\mambaforge\\envs\\sleap_jupyter\\lib\\site-packages\\rich\\live.py:221: \n",
              "UserWarning: install \"ipywidgets\" for Jupyter support\n",
              "  warnings.warn('install \"ipywidgets\" for Jupyter support')\n",
              "</pre>\n"
            ],
            "text/plain": [
              "c:\\Users\\TalmoLab\\mambaforge\\envs\\sleap_jupyter\\lib\\site-packages\\rich\\live.py:221: \n",
              "UserWarning: install \"ipywidgets\" for Jupyter support\n",
              "  warnings.warn('install \"ipywidgets\" for Jupyter support')\n"
            ]
          },
          "metadata": {},
          "output_type": "display_data"
        },
        {
          "data": {
            "text/html": [
              "<pre style=\"white-space:pre;overflow-x:auto;line-height:normal;font-family:Menlo,'DejaVu Sans Mono',consolas,'Courier New',monospace\">c:\\Users\\TalmoLab\\mambaforge\\envs\\sleap_jupyter\\lib\\site-packages\\rich\\live.py:221: \n",
              "UserWarning: install \"ipywidgets\" for Jupyter support\n",
              "  warnings.warn('install \"ipywidgets\" for Jupyter support')\n",
              "</pre>\n"
            ],
            "text/plain": [
              "c:\\Users\\TalmoLab\\mambaforge\\envs\\sleap_jupyter\\lib\\site-packages\\rich\\live.py:221: \n",
              "UserWarning: install \"ipywidgets\" for Jupyter support\n",
              "  warnings.warn('install \"ipywidgets\" for Jupyter support')\n"
            ]
          },
          "metadata": {},
          "output_type": "display_data"
        },
        {
          "data": {
            "text/html": [
              "<pre style=\"white-space:pre;overflow-x:auto;line-height:normal;font-family:Menlo,'DejaVu Sans Mono',consolas,'Courier New',monospace\">c:\\Users\\TalmoLab\\mambaforge\\envs\\sleap_jupyter\\lib\\site-packages\\rich\\live.py:221: \n",
              "UserWarning: install \"ipywidgets\" for Jupyter support\n",
              "  warnings.warn('install \"ipywidgets\" for Jupyter support')\n",
              "</pre>\n"
            ],
            "text/plain": [
              "c:\\Users\\TalmoLab\\mambaforge\\envs\\sleap_jupyter\\lib\\site-packages\\rich\\live.py:221: \n",
              "UserWarning: install \"ipywidgets\" for Jupyter support\n",
              "  warnings.warn('install \"ipywidgets\" for Jupyter support')\n"
            ]
          },
          "metadata": {},
          "output_type": "display_data"
        },
        {
          "data": {
            "text/html": [
              "<pre style=\"white-space:pre;overflow-x:auto;line-height:normal;font-family:Menlo,'DejaVu Sans Mono',consolas,'Courier New',monospace\">c:\\Users\\TalmoLab\\mambaforge\\envs\\sleap_jupyter\\lib\\site-packages\\rich\\live.py:221: \n",
              "UserWarning: install \"ipywidgets\" for Jupyter support\n",
              "  warnings.warn('install \"ipywidgets\" for Jupyter support')\n",
              "</pre>\n"
            ],
            "text/plain": [
              "c:\\Users\\TalmoLab\\mambaforge\\envs\\sleap_jupyter\\lib\\site-packages\\rich\\live.py:221: \n",
              "UserWarning: install \"ipywidgets\" for Jupyter support\n",
              "  warnings.warn('install \"ipywidgets\" for Jupyter support')\n"
            ]
          },
          "metadata": {},
          "output_type": "display_data"
        },
        {
          "data": {
            "text/html": [
              "<pre style=\"white-space:pre;overflow-x:auto;line-height:normal;font-family:Menlo,'DejaVu Sans Mono',consolas,'Courier New',monospace\">c:\\Users\\TalmoLab\\mambaforge\\envs\\sleap_jupyter\\lib\\site-packages\\rich\\live.py:221: \n",
              "UserWarning: install \"ipywidgets\" for Jupyter support\n",
              "  warnings.warn('install \"ipywidgets\" for Jupyter support')\n",
              "</pre>\n"
            ],
            "text/plain": [
              "c:\\Users\\TalmoLab\\mambaforge\\envs\\sleap_jupyter\\lib\\site-packages\\rich\\live.py:221: \n",
              "UserWarning: install \"ipywidgets\" for Jupyter support\n",
              "  warnings.warn('install \"ipywidgets\" for Jupyter support')\n"
            ]
          },
          "metadata": {},
          "output_type": "display_data"
        },
        {
          "data": {
            "text/html": [
              "<pre style=\"white-space:pre;overflow-x:auto;line-height:normal;font-family:Menlo,'DejaVu Sans Mono',consolas,'Courier New',monospace\">c:\\Users\\TalmoLab\\mambaforge\\envs\\sleap_jupyter\\lib\\site-packages\\rich\\live.py:221: \n",
              "UserWarning: install \"ipywidgets\" for Jupyter support\n",
              "  warnings.warn('install \"ipywidgets\" for Jupyter support')\n",
              "</pre>\n"
            ],
            "text/plain": [
              "c:\\Users\\TalmoLab\\mambaforge\\envs\\sleap_jupyter\\lib\\site-packages\\rich\\live.py:221: \n",
              "UserWarning: install \"ipywidgets\" for Jupyter support\n",
              "  warnings.warn('install \"ipywidgets\" for Jupyter support')\n"
            ]
          },
          "metadata": {},
          "output_type": "display_data"
        },
        {
          "data": {
            "text/html": [
              "<pre style=\"white-space:pre;overflow-x:auto;line-height:normal;font-family:Menlo,'DejaVu Sans Mono',consolas,'Courier New',monospace\">c:\\Users\\TalmoLab\\mambaforge\\envs\\sleap_jupyter\\lib\\site-packages\\rich\\live.py:221: \n",
              "UserWarning: install \"ipywidgets\" for Jupyter support\n",
              "  warnings.warn('install \"ipywidgets\" for Jupyter support')\n",
              "</pre>\n"
            ],
            "text/plain": [
              "c:\\Users\\TalmoLab\\mambaforge\\envs\\sleap_jupyter\\lib\\site-packages\\rich\\live.py:221: \n",
              "UserWarning: install \"ipywidgets\" for Jupyter support\n",
              "  warnings.warn('install \"ipywidgets\" for Jupyter support')\n"
            ]
          },
          "metadata": {},
          "output_type": "display_data"
        },
        {
          "data": {
            "text/html": [
              "<pre style=\"white-space:pre;overflow-x:auto;line-height:normal;font-family:Menlo,'DejaVu Sans Mono',consolas,'Courier New',monospace\">c:\\Users\\TalmoLab\\mambaforge\\envs\\sleap_jupyter\\lib\\site-packages\\rich\\live.py:221: \n",
              "UserWarning: install \"ipywidgets\" for Jupyter support\n",
              "  warnings.warn('install \"ipywidgets\" for Jupyter support')\n",
              "</pre>\n"
            ],
            "text/plain": [
              "c:\\Users\\TalmoLab\\mambaforge\\envs\\sleap_jupyter\\lib\\site-packages\\rich\\live.py:221: \n",
              "UserWarning: install \"ipywidgets\" for Jupyter support\n",
              "  warnings.warn('install \"ipywidgets\" for Jupyter support')\n"
            ]
          },
          "metadata": {},
          "output_type": "display_data"
        },
        {
          "data": {
            "text/html": [
              "<pre style=\"white-space:pre;overflow-x:auto;line-height:normal;font-family:Menlo,'DejaVu Sans Mono',consolas,'Courier New',monospace\">c:\\Users\\TalmoLab\\mambaforge\\envs\\sleap_jupyter\\lib\\site-packages\\rich\\live.py:221: \n",
              "UserWarning: install \"ipywidgets\" for Jupyter support\n",
              "  warnings.warn('install \"ipywidgets\" for Jupyter support')\n",
              "</pre>\n"
            ],
            "text/plain": [
              "c:\\Users\\TalmoLab\\mambaforge\\envs\\sleap_jupyter\\lib\\site-packages\\rich\\live.py:221: \n",
              "UserWarning: install \"ipywidgets\" for Jupyter support\n",
              "  warnings.warn('install \"ipywidgets\" for Jupyter support')\n"
            ]
          },
          "metadata": {},
          "output_type": "display_data"
        },
        {
          "data": {
            "text/html": [
              "<pre style=\"white-space:pre;overflow-x:auto;line-height:normal;font-family:Menlo,'DejaVu Sans Mono',consolas,'Courier New',monospace\">c:\\Users\\TalmoLab\\mambaforge\\envs\\sleap_jupyter\\lib\\site-packages\\rich\\live.py:221: \n",
              "UserWarning: install \"ipywidgets\" for Jupyter support\n",
              "  warnings.warn('install \"ipywidgets\" for Jupyter support')\n",
              "</pre>\n"
            ],
            "text/plain": [
              "c:\\Users\\TalmoLab\\mambaforge\\envs\\sleap_jupyter\\lib\\site-packages\\rich\\live.py:221: \n",
              "UserWarning: install \"ipywidgets\" for Jupyter support\n",
              "  warnings.warn('install \"ipywidgets\" for Jupyter support')\n"
            ]
          },
          "metadata": {},
          "output_type": "display_data"
        },
        {
          "data": {
            "text/html": [
              "<pre style=\"white-space:pre;overflow-x:auto;line-height:normal;font-family:Menlo,'DejaVu Sans Mono',consolas,'Courier New',monospace\">c:\\Users\\TalmoLab\\mambaforge\\envs\\sleap_jupyter\\lib\\site-packages\\rich\\live.py:221: \n",
              "UserWarning: install \"ipywidgets\" for Jupyter support\n",
              "  warnings.warn('install \"ipywidgets\" for Jupyter support')\n",
              "</pre>\n"
            ],
            "text/plain": [
              "c:\\Users\\TalmoLab\\mambaforge\\envs\\sleap_jupyter\\lib\\site-packages\\rich\\live.py:221: \n",
              "UserWarning: install \"ipywidgets\" for Jupyter support\n",
              "  warnings.warn('install \"ipywidgets\" for Jupyter support')\n"
            ]
          },
          "metadata": {},
          "output_type": "display_data"
        },
        {
          "data": {
            "text/html": [
              "<pre style=\"white-space:pre;overflow-x:auto;line-height:normal;font-family:Menlo,'DejaVu Sans Mono',consolas,'Courier New',monospace\">c:\\Users\\TalmoLab\\mambaforge\\envs\\sleap_jupyter\\lib\\site-packages\\rich\\live.py:221: \n",
              "UserWarning: install \"ipywidgets\" for Jupyter support\n",
              "  warnings.warn('install \"ipywidgets\" for Jupyter support')\n",
              "</pre>\n"
            ],
            "text/plain": [
              "c:\\Users\\TalmoLab\\mambaforge\\envs\\sleap_jupyter\\lib\\site-packages\\rich\\live.py:221: \n",
              "UserWarning: install \"ipywidgets\" for Jupyter support\n",
              "  warnings.warn('install \"ipywidgets\" for Jupyter support')\n"
            ]
          },
          "metadata": {},
          "output_type": "display_data"
        },
        {
          "data": {
            "text/html": [
              "<pre style=\"white-space:pre;overflow-x:auto;line-height:normal;font-family:Menlo,'DejaVu Sans Mono',consolas,'Courier New',monospace\">c:\\Users\\TalmoLab\\mambaforge\\envs\\sleap_jupyter\\lib\\site-packages\\rich\\live.py:221: \n",
              "UserWarning: install \"ipywidgets\" for Jupyter support\n",
              "  warnings.warn('install \"ipywidgets\" for Jupyter support')\n",
              "</pre>\n"
            ],
            "text/plain": [
              "c:\\Users\\TalmoLab\\mambaforge\\envs\\sleap_jupyter\\lib\\site-packages\\rich\\live.py:221: \n",
              "UserWarning: install \"ipywidgets\" for Jupyter support\n",
              "  warnings.warn('install \"ipywidgets\" for Jupyter support')\n"
            ]
          },
          "metadata": {},
          "output_type": "display_data"
        },
        {
          "data": {
            "text/html": [
              "<pre style=\"white-space:pre;overflow-x:auto;line-height:normal;font-family:Menlo,'DejaVu Sans Mono',consolas,'Courier New',monospace\">c:\\Users\\TalmoLab\\mambaforge\\envs\\sleap_jupyter\\lib\\site-packages\\rich\\live.py:221: \n",
              "UserWarning: install \"ipywidgets\" for Jupyter support\n",
              "  warnings.warn('install \"ipywidgets\" for Jupyter support')\n",
              "</pre>\n"
            ],
            "text/plain": [
              "c:\\Users\\TalmoLab\\mambaforge\\envs\\sleap_jupyter\\lib\\site-packages\\rich\\live.py:221: \n",
              "UserWarning: install \"ipywidgets\" for Jupyter support\n",
              "  warnings.warn('install \"ipywidgets\" for Jupyter support')\n"
            ]
          },
          "metadata": {},
          "output_type": "display_data"
        },
        {
          "data": {
            "text/html": [
              "<pre style=\"white-space:pre;overflow-x:auto;line-height:normal;font-family:Menlo,'DejaVu Sans Mono',consolas,'Courier New',monospace\">c:\\Users\\TalmoLab\\mambaforge\\envs\\sleap_jupyter\\lib\\site-packages\\rich\\live.py:221: \n",
              "UserWarning: install \"ipywidgets\" for Jupyter support\n",
              "  warnings.warn('install \"ipywidgets\" for Jupyter support')\n",
              "</pre>\n"
            ],
            "text/plain": [
              "c:\\Users\\TalmoLab\\mambaforge\\envs\\sleap_jupyter\\lib\\site-packages\\rich\\live.py:221: \n",
              "UserWarning: install \"ipywidgets\" for Jupyter support\n",
              "  warnings.warn('install \"ipywidgets\" for Jupyter support')\n"
            ]
          },
          "metadata": {},
          "output_type": "display_data"
        },
        {
          "data": {
            "text/html": [
              "<pre style=\"white-space:pre;overflow-x:auto;line-height:normal;font-family:Menlo,'DejaVu Sans Mono',consolas,'Courier New',monospace\">c:\\Users\\TalmoLab\\mambaforge\\envs\\sleap_jupyter\\lib\\site-packages\\rich\\live.py:221: \n",
              "UserWarning: install \"ipywidgets\" for Jupyter support\n",
              "  warnings.warn('install \"ipywidgets\" for Jupyter support')\n",
              "</pre>\n"
            ],
            "text/plain": [
              "c:\\Users\\TalmoLab\\mambaforge\\envs\\sleap_jupyter\\lib\\site-packages\\rich\\live.py:221: \n",
              "UserWarning: install \"ipywidgets\" for Jupyter support\n",
              "  warnings.warn('install \"ipywidgets\" for Jupyter support')\n"
            ]
          },
          "metadata": {},
          "output_type": "display_data"
        },
        {
          "data": {
            "text/html": [
              "<pre style=\"white-space:pre;overflow-x:auto;line-height:normal;font-family:Menlo,'DejaVu Sans Mono',consolas,'Courier New',monospace\">c:\\Users\\TalmoLab\\mambaforge\\envs\\sleap_jupyter\\lib\\site-packages\\rich\\live.py:221: \n",
              "UserWarning: install \"ipywidgets\" for Jupyter support\n",
              "  warnings.warn('install \"ipywidgets\" for Jupyter support')\n",
              "</pre>\n"
            ],
            "text/plain": [
              "c:\\Users\\TalmoLab\\mambaforge\\envs\\sleap_jupyter\\lib\\site-packages\\rich\\live.py:221: \n",
              "UserWarning: install \"ipywidgets\" for Jupyter support\n",
              "  warnings.warn('install \"ipywidgets\" for Jupyter support')\n"
            ]
          },
          "metadata": {},
          "output_type": "display_data"
        },
        {
          "data": {
            "text/html": [
              "<pre style=\"white-space:pre;overflow-x:auto;line-height:normal;font-family:Menlo,'DejaVu Sans Mono',consolas,'Courier New',monospace\">c:\\Users\\TalmoLab\\mambaforge\\envs\\sleap_jupyter\\lib\\site-packages\\rich\\live.py:221: \n",
              "UserWarning: install \"ipywidgets\" for Jupyter support\n",
              "  warnings.warn('install \"ipywidgets\" for Jupyter support')\n",
              "</pre>\n"
            ],
            "text/plain": [
              "c:\\Users\\TalmoLab\\mambaforge\\envs\\sleap_jupyter\\lib\\site-packages\\rich\\live.py:221: \n",
              "UserWarning: install \"ipywidgets\" for Jupyter support\n",
              "  warnings.warn('install \"ipywidgets\" for Jupyter support')\n"
            ]
          },
          "metadata": {},
          "output_type": "display_data"
        },
        {
          "data": {
            "text/html": [
              "<pre style=\"white-space:pre;overflow-x:auto;line-height:normal;font-family:Menlo,'DejaVu Sans Mono',consolas,'Courier New',monospace\">c:\\Users\\TalmoLab\\mambaforge\\envs\\sleap_jupyter\\lib\\site-packages\\rich\\live.py:221: \n",
              "UserWarning: install \"ipywidgets\" for Jupyter support\n",
              "  warnings.warn('install \"ipywidgets\" for Jupyter support')\n",
              "</pre>\n"
            ],
            "text/plain": [
              "c:\\Users\\TalmoLab\\mambaforge\\envs\\sleap_jupyter\\lib\\site-packages\\rich\\live.py:221: \n",
              "UserWarning: install \"ipywidgets\" for Jupyter support\n",
              "  warnings.warn('install \"ipywidgets\" for Jupyter support')\n"
            ]
          },
          "metadata": {},
          "output_type": "display_data"
        },
        {
          "data": {
            "text/html": [
              "<pre style=\"white-space:pre;overflow-x:auto;line-height:normal;font-family:Menlo,'DejaVu Sans Mono',consolas,'Courier New',monospace\">c:\\Users\\TalmoLab\\mambaforge\\envs\\sleap_jupyter\\lib\\site-packages\\rich\\live.py:221: \n",
              "UserWarning: install \"ipywidgets\" for Jupyter support\n",
              "  warnings.warn('install \"ipywidgets\" for Jupyter support')\n",
              "</pre>\n"
            ],
            "text/plain": [
              "c:\\Users\\TalmoLab\\mambaforge\\envs\\sleap_jupyter\\lib\\site-packages\\rich\\live.py:221: \n",
              "UserWarning: install \"ipywidgets\" for Jupyter support\n",
              "  warnings.warn('install \"ipywidgets\" for Jupyter support')\n"
            ]
          },
          "metadata": {},
          "output_type": "display_data"
        },
        {
          "data": {
            "text/html": [
              "<pre style=\"white-space:pre;overflow-x:auto;line-height:normal;font-family:Menlo,'DejaVu Sans Mono',consolas,'Courier New',monospace\">c:\\Users\\TalmoLab\\mambaforge\\envs\\sleap_jupyter\\lib\\site-packages\\rich\\live.py:221: \n",
              "UserWarning: install \"ipywidgets\" for Jupyter support\n",
              "  warnings.warn('install \"ipywidgets\" for Jupyter support')\n",
              "</pre>\n"
            ],
            "text/plain": [
              "c:\\Users\\TalmoLab\\mambaforge\\envs\\sleap_jupyter\\lib\\site-packages\\rich\\live.py:221: \n",
              "UserWarning: install \"ipywidgets\" for Jupyter support\n",
              "  warnings.warn('install \"ipywidgets\" for Jupyter support')\n"
            ]
          },
          "metadata": {},
          "output_type": "display_data"
        },
        {
          "data": {
            "text/html": [
              "<pre style=\"white-space:pre;overflow-x:auto;line-height:normal;font-family:Menlo,'DejaVu Sans Mono',consolas,'Courier New',monospace\">c:\\Users\\TalmoLab\\mambaforge\\envs\\sleap_jupyter\\lib\\site-packages\\rich\\live.py:221: \n",
              "UserWarning: install \"ipywidgets\" for Jupyter support\n",
              "  warnings.warn('install \"ipywidgets\" for Jupyter support')\n",
              "</pre>\n"
            ],
            "text/plain": [
              "c:\\Users\\TalmoLab\\mambaforge\\envs\\sleap_jupyter\\lib\\site-packages\\rich\\live.py:221: \n",
              "UserWarning: install \"ipywidgets\" for Jupyter support\n",
              "  warnings.warn('install \"ipywidgets\" for Jupyter support')\n"
            ]
          },
          "metadata": {},
          "output_type": "display_data"
        },
        {
          "data": {
            "text/html": [
              "<pre style=\"white-space:pre;overflow-x:auto;line-height:normal;font-family:Menlo,'DejaVu Sans Mono',consolas,'Courier New',monospace\">c:\\Users\\TalmoLab\\mambaforge\\envs\\sleap_jupyter\\lib\\site-packages\\rich\\live.py:221: \n",
              "UserWarning: install \"ipywidgets\" for Jupyter support\n",
              "  warnings.warn('install \"ipywidgets\" for Jupyter support')\n",
              "</pre>\n"
            ],
            "text/plain": [
              "c:\\Users\\TalmoLab\\mambaforge\\envs\\sleap_jupyter\\lib\\site-packages\\rich\\live.py:221: \n",
              "UserWarning: install \"ipywidgets\" for Jupyter support\n",
              "  warnings.warn('install \"ipywidgets\" for Jupyter support')\n"
            ]
          },
          "metadata": {},
          "output_type": "display_data"
        },
        {
          "data": {
            "text/html": [
              "<pre style=\"white-space:pre;overflow-x:auto;line-height:normal;font-family:Menlo,'DejaVu Sans Mono',consolas,'Courier New',monospace\">c:\\Users\\TalmoLab\\mambaforge\\envs\\sleap_jupyter\\lib\\site-packages\\rich\\live.py:221: \n",
              "UserWarning: install \"ipywidgets\" for Jupyter support\n",
              "  warnings.warn('install \"ipywidgets\" for Jupyter support')\n",
              "</pre>\n"
            ],
            "text/plain": [
              "c:\\Users\\TalmoLab\\mambaforge\\envs\\sleap_jupyter\\lib\\site-packages\\rich\\live.py:221: \n",
              "UserWarning: install \"ipywidgets\" for Jupyter support\n",
              "  warnings.warn('install \"ipywidgets\" for Jupyter support')\n"
            ]
          },
          "metadata": {},
          "output_type": "display_data"
        },
        {
          "data": {
            "text/html": [
              "<pre style=\"white-space:pre;overflow-x:auto;line-height:normal;font-family:Menlo,'DejaVu Sans Mono',consolas,'Courier New',monospace\">c:\\Users\\TalmoLab\\mambaforge\\envs\\sleap_jupyter\\lib\\site-packages\\rich\\live.py:221: \n",
              "UserWarning: install \"ipywidgets\" for Jupyter support\n",
              "  warnings.warn('install \"ipywidgets\" for Jupyter support')\n",
              "</pre>\n"
            ],
            "text/plain": [
              "c:\\Users\\TalmoLab\\mambaforge\\envs\\sleap_jupyter\\lib\\site-packages\\rich\\live.py:221: \n",
              "UserWarning: install \"ipywidgets\" for Jupyter support\n",
              "  warnings.warn('install \"ipywidgets\" for Jupyter support')\n"
            ]
          },
          "metadata": {},
          "output_type": "display_data"
        },
        {
          "data": {
            "text/html": [
              "<pre style=\"white-space:pre;overflow-x:auto;line-height:normal;font-family:Menlo,'DejaVu Sans Mono',consolas,'Courier New',monospace\">c:\\Users\\TalmoLab\\mambaforge\\envs\\sleap_jupyter\\lib\\site-packages\\rich\\live.py:221: \n",
              "UserWarning: install \"ipywidgets\" for Jupyter support\n",
              "  warnings.warn('install \"ipywidgets\" for Jupyter support')\n",
              "</pre>\n"
            ],
            "text/plain": [
              "c:\\Users\\TalmoLab\\mambaforge\\envs\\sleap_jupyter\\lib\\site-packages\\rich\\live.py:221: \n",
              "UserWarning: install \"ipywidgets\" for Jupyter support\n",
              "  warnings.warn('install \"ipywidgets\" for Jupyter support')\n"
            ]
          },
          "metadata": {},
          "output_type": "display_data"
        },
        {
          "data": {
            "text/html": [
              "<pre style=\"white-space:pre;overflow-x:auto;line-height:normal;font-family:Menlo,'DejaVu Sans Mono',consolas,'Courier New',monospace\">c:\\Users\\TalmoLab\\mambaforge\\envs\\sleap_jupyter\\lib\\site-packages\\rich\\live.py:221: \n",
              "UserWarning: install \"ipywidgets\" for Jupyter support\n",
              "  warnings.warn('install \"ipywidgets\" for Jupyter support')\n",
              "</pre>\n"
            ],
            "text/plain": [
              "c:\\Users\\TalmoLab\\mambaforge\\envs\\sleap_jupyter\\lib\\site-packages\\rich\\live.py:221: \n",
              "UserWarning: install \"ipywidgets\" for Jupyter support\n",
              "  warnings.warn('install \"ipywidgets\" for Jupyter support')\n"
            ]
          },
          "metadata": {},
          "output_type": "display_data"
        },
        {
          "data": {
            "text/html": [
              "<pre style=\"white-space:pre;overflow-x:auto;line-height:normal;font-family:Menlo,'DejaVu Sans Mono',consolas,'Courier New',monospace\">c:\\Users\\TalmoLab\\mambaforge\\envs\\sleap_jupyter\\lib\\site-packages\\rich\\live.py:221: \n",
              "UserWarning: install \"ipywidgets\" for Jupyter support\n",
              "  warnings.warn('install \"ipywidgets\" for Jupyter support')\n",
              "</pre>\n"
            ],
            "text/plain": [
              "c:\\Users\\TalmoLab\\mambaforge\\envs\\sleap_jupyter\\lib\\site-packages\\rich\\live.py:221: \n",
              "UserWarning: install \"ipywidgets\" for Jupyter support\n",
              "  warnings.warn('install \"ipywidgets\" for Jupyter support')\n"
            ]
          },
          "metadata": {},
          "output_type": "display_data"
        },
        {
          "data": {
            "text/html": [
              "<pre style=\"white-space:pre;overflow-x:auto;line-height:normal;font-family:Menlo,'DejaVu Sans Mono',consolas,'Courier New',monospace\">c:\\Users\\TalmoLab\\mambaforge\\envs\\sleap_jupyter\\lib\\site-packages\\rich\\live.py:221: \n",
              "UserWarning: install \"ipywidgets\" for Jupyter support\n",
              "  warnings.warn('install \"ipywidgets\" for Jupyter support')\n",
              "</pre>\n"
            ],
            "text/plain": [
              "c:\\Users\\TalmoLab\\mambaforge\\envs\\sleap_jupyter\\lib\\site-packages\\rich\\live.py:221: \n",
              "UserWarning: install \"ipywidgets\" for Jupyter support\n",
              "  warnings.warn('install \"ipywidgets\" for Jupyter support')\n"
            ]
          },
          "metadata": {},
          "output_type": "display_data"
        },
        {
          "data": {
            "text/html": [
              "<pre style=\"white-space:pre;overflow-x:auto;line-height:normal;font-family:Menlo,'DejaVu Sans Mono',consolas,'Courier New',monospace\">c:\\Users\\TalmoLab\\mambaforge\\envs\\sleap_jupyter\\lib\\site-packages\\rich\\live.py:221: \n",
              "UserWarning: install \"ipywidgets\" for Jupyter support\n",
              "  warnings.warn('install \"ipywidgets\" for Jupyter support')\n",
              "</pre>\n"
            ],
            "text/plain": [
              "c:\\Users\\TalmoLab\\mambaforge\\envs\\sleap_jupyter\\lib\\site-packages\\rich\\live.py:221: \n",
              "UserWarning: install \"ipywidgets\" for Jupyter support\n",
              "  warnings.warn('install \"ipywidgets\" for Jupyter support')\n"
            ]
          },
          "metadata": {},
          "output_type": "display_data"
        },
        {
          "data": {
            "text/html": [
              "<pre style=\"white-space:pre;overflow-x:auto;line-height:normal;font-family:Menlo,'DejaVu Sans Mono',consolas,'Courier New',monospace\">c:\\Users\\TalmoLab\\mambaforge\\envs\\sleap_jupyter\\lib\\site-packages\\rich\\live.py:221: \n",
              "UserWarning: install \"ipywidgets\" for Jupyter support\n",
              "  warnings.warn('install \"ipywidgets\" for Jupyter support')\n",
              "</pre>\n"
            ],
            "text/plain": [
              "c:\\Users\\TalmoLab\\mambaforge\\envs\\sleap_jupyter\\lib\\site-packages\\rich\\live.py:221: \n",
              "UserWarning: install \"ipywidgets\" for Jupyter support\n",
              "  warnings.warn('install \"ipywidgets\" for Jupyter support')\n"
            ]
          },
          "metadata": {},
          "output_type": "display_data"
        },
        {
          "data": {
            "text/html": [
              "<pre style=\"white-space:pre;overflow-x:auto;line-height:normal;font-family:Menlo,'DejaVu Sans Mono',consolas,'Courier New',monospace\">c:\\Users\\TalmoLab\\mambaforge\\envs\\sleap_jupyter\\lib\\site-packages\\rich\\live.py:221: \n",
              "UserWarning: install \"ipywidgets\" for Jupyter support\n",
              "  warnings.warn('install \"ipywidgets\" for Jupyter support')\n",
              "</pre>\n"
            ],
            "text/plain": [
              "c:\\Users\\TalmoLab\\mambaforge\\envs\\sleap_jupyter\\lib\\site-packages\\rich\\live.py:221: \n",
              "UserWarning: install \"ipywidgets\" for Jupyter support\n",
              "  warnings.warn('install \"ipywidgets\" for Jupyter support')\n"
            ]
          },
          "metadata": {},
          "output_type": "display_data"
        },
        {
          "data": {
            "text/html": [
              "<pre style=\"white-space:pre;overflow-x:auto;line-height:normal;font-family:Menlo,'DejaVu Sans Mono',consolas,'Courier New',monospace\">c:\\Users\\TalmoLab\\mambaforge\\envs\\sleap_jupyter\\lib\\site-packages\\rich\\live.py:221: \n",
              "UserWarning: install \"ipywidgets\" for Jupyter support\n",
              "  warnings.warn('install \"ipywidgets\" for Jupyter support')\n",
              "</pre>\n"
            ],
            "text/plain": [
              "c:\\Users\\TalmoLab\\mambaforge\\envs\\sleap_jupyter\\lib\\site-packages\\rich\\live.py:221: \n",
              "UserWarning: install \"ipywidgets\" for Jupyter support\n",
              "  warnings.warn('install \"ipywidgets\" for Jupyter support')\n"
            ]
          },
          "metadata": {},
          "output_type": "display_data"
        },
        {
          "data": {
            "text/html": [
              "<pre style=\"white-space:pre;overflow-x:auto;line-height:normal;font-family:Menlo,'DejaVu Sans Mono',consolas,'Courier New',monospace\">c:\\Users\\TalmoLab\\mambaforge\\envs\\sleap_jupyter\\lib\\site-packages\\rich\\live.py:221: \n",
              "UserWarning: install \"ipywidgets\" for Jupyter support\n",
              "  warnings.warn('install \"ipywidgets\" for Jupyter support')\n",
              "</pre>\n"
            ],
            "text/plain": [
              "c:\\Users\\TalmoLab\\mambaforge\\envs\\sleap_jupyter\\lib\\site-packages\\rich\\live.py:221: \n",
              "UserWarning: install \"ipywidgets\" for Jupyter support\n",
              "  warnings.warn('install \"ipywidgets\" for Jupyter support')\n"
            ]
          },
          "metadata": {},
          "output_type": "display_data"
        },
        {
          "data": {
            "text/html": [
              "<pre style=\"white-space:pre;overflow-x:auto;line-height:normal;font-family:Menlo,'DejaVu Sans Mono',consolas,'Courier New',monospace\">c:\\Users\\TalmoLab\\mambaforge\\envs\\sleap_jupyter\\lib\\site-packages\\rich\\live.py:221: \n",
              "UserWarning: install \"ipywidgets\" for Jupyter support\n",
              "  warnings.warn('install \"ipywidgets\" for Jupyter support')\n",
              "</pre>\n"
            ],
            "text/plain": [
              "c:\\Users\\TalmoLab\\mambaforge\\envs\\sleap_jupyter\\lib\\site-packages\\rich\\live.py:221: \n",
              "UserWarning: install \"ipywidgets\" for Jupyter support\n",
              "  warnings.warn('install \"ipywidgets\" for Jupyter support')\n"
            ]
          },
          "metadata": {},
          "output_type": "display_data"
        },
        {
          "data": {
            "text/html": [
              "<pre style=\"white-space:pre;overflow-x:auto;line-height:normal;font-family:Menlo,'DejaVu Sans Mono',consolas,'Courier New',monospace\">c:\\Users\\TalmoLab\\mambaforge\\envs\\sleap_jupyter\\lib\\site-packages\\rich\\live.py:221: \n",
              "UserWarning: install \"ipywidgets\" for Jupyter support\n",
              "  warnings.warn('install \"ipywidgets\" for Jupyter support')\n",
              "</pre>\n"
            ],
            "text/plain": [
              "c:\\Users\\TalmoLab\\mambaforge\\envs\\sleap_jupyter\\lib\\site-packages\\rich\\live.py:221: \n",
              "UserWarning: install \"ipywidgets\" for Jupyter support\n",
              "  warnings.warn('install \"ipywidgets\" for Jupyter support')\n"
            ]
          },
          "metadata": {},
          "output_type": "display_data"
        },
        {
          "data": {
            "text/html": [
              "<pre style=\"white-space:pre;overflow-x:auto;line-height:normal;font-family:Menlo,'DejaVu Sans Mono',consolas,'Courier New',monospace\"></pre>\n"
            ],
            "text/plain": []
          },
          "metadata": {},
          "output_type": "display_data"
        },
        {
          "data": {
            "text/html": [
              "<pre style=\"white-space:pre;overflow-x:auto;line-height:normal;font-family:Menlo,'DejaVu Sans Mono',consolas,'Courier New',monospace\">\n",
              "</pre>\n"
            ],
            "text/plain": [
              "\n"
            ]
          },
          "metadata": {},
          "output_type": "display_data"
        },
        {
          "name": "stdout",
          "output_type": "stream",
          "text": [
            "INFO:sleap.nn.evals:Saved predictions: models\\baseline_model.topdown\\labels_pr.train.slp\n",
            "INFO:sleap.nn.evals:Saved metrics: models\\baseline_model.topdown\\metrics.train.npz\n",
            "INFO:sleap.nn.evals:OKS mAP: 0.528719\n"
          ]
        },
        {
          "data": {
            "text/html": [
              "<pre style=\"white-space:pre;overflow-x:auto;line-height:normal;font-family:Menlo,'DejaVu Sans Mono',consolas,'Courier New',monospace\">c:\\Users\\TalmoLab\\mambaforge\\envs\\sleap_jupyter\\lib\\site-packages\\rich\\live.py:221: \n",
              "UserWarning: install \"ipywidgets\" for Jupyter support\n",
              "  warnings.warn('install \"ipywidgets\" for Jupyter support')\n",
              "</pre>\n"
            ],
            "text/plain": [
              "c:\\Users\\TalmoLab\\mambaforge\\envs\\sleap_jupyter\\lib\\site-packages\\rich\\live.py:221: \n",
              "UserWarning: install \"ipywidgets\" for Jupyter support\n",
              "  warnings.warn('install \"ipywidgets\" for Jupyter support')\n"
            ]
          },
          "metadata": {},
          "output_type": "display_data"
        },
        {
          "data": {
            "text/html": [
              "<pre style=\"white-space:pre;overflow-x:auto;line-height:normal;font-family:Menlo,'DejaVu Sans Mono',consolas,'Courier New',monospace\">c:\\Users\\TalmoLab\\mambaforge\\envs\\sleap_jupyter\\lib\\site-packages\\rich\\live.py:221: \n",
              "UserWarning: install \"ipywidgets\" for Jupyter support\n",
              "  warnings.warn('install \"ipywidgets\" for Jupyter support')\n",
              "</pre>\n"
            ],
            "text/plain": [
              "c:\\Users\\TalmoLab\\mambaforge\\envs\\sleap_jupyter\\lib\\site-packages\\rich\\live.py:221: \n",
              "UserWarning: install \"ipywidgets\" for Jupyter support\n",
              "  warnings.warn('install \"ipywidgets\" for Jupyter support')\n"
            ]
          },
          "metadata": {},
          "output_type": "display_data"
        },
        {
          "data": {
            "text/html": [
              "<pre style=\"white-space:pre;overflow-x:auto;line-height:normal;font-family:Menlo,'DejaVu Sans Mono',consolas,'Courier New',monospace\">c:\\Users\\TalmoLab\\mambaforge\\envs\\sleap_jupyter\\lib\\site-packages\\rich\\live.py:221: \n",
              "UserWarning: install \"ipywidgets\" for Jupyter support\n",
              "  warnings.warn('install \"ipywidgets\" for Jupyter support')\n",
              "</pre>\n"
            ],
            "text/plain": [
              "c:\\Users\\TalmoLab\\mambaforge\\envs\\sleap_jupyter\\lib\\site-packages\\rich\\live.py:221: \n",
              "UserWarning: install \"ipywidgets\" for Jupyter support\n",
              "  warnings.warn('install \"ipywidgets\" for Jupyter support')\n"
            ]
          },
          "metadata": {},
          "output_type": "display_data"
        },
        {
          "data": {
            "text/html": [
              "<pre style=\"white-space:pre;overflow-x:auto;line-height:normal;font-family:Menlo,'DejaVu Sans Mono',consolas,'Courier New',monospace\">c:\\Users\\TalmoLab\\mambaforge\\envs\\sleap_jupyter\\lib\\site-packages\\rich\\live.py:221: \n",
              "UserWarning: install \"ipywidgets\" for Jupyter support\n",
              "  warnings.warn('install \"ipywidgets\" for Jupyter support')\n",
              "</pre>\n"
            ],
            "text/plain": [
              "c:\\Users\\TalmoLab\\mambaforge\\envs\\sleap_jupyter\\lib\\site-packages\\rich\\live.py:221: \n",
              "UserWarning: install \"ipywidgets\" for Jupyter support\n",
              "  warnings.warn('install \"ipywidgets\" for Jupyter support')\n"
            ]
          },
          "metadata": {},
          "output_type": "display_data"
        },
        {
          "data": {
            "text/html": [
              "<pre style=\"white-space:pre;overflow-x:auto;line-height:normal;font-family:Menlo,'DejaVu Sans Mono',consolas,'Courier New',monospace\">c:\\Users\\TalmoLab\\mambaforge\\envs\\sleap_jupyter\\lib\\site-packages\\rich\\live.py:221: \n",
              "UserWarning: install \"ipywidgets\" for Jupyter support\n",
              "  warnings.warn('install \"ipywidgets\" for Jupyter support')\n",
              "</pre>\n"
            ],
            "text/plain": [
              "c:\\Users\\TalmoLab\\mambaforge\\envs\\sleap_jupyter\\lib\\site-packages\\rich\\live.py:221: \n",
              "UserWarning: install \"ipywidgets\" for Jupyter support\n",
              "  warnings.warn('install \"ipywidgets\" for Jupyter support')\n"
            ]
          },
          "metadata": {},
          "output_type": "display_data"
        },
        {
          "data": {
            "text/html": [
              "<pre style=\"white-space:pre;overflow-x:auto;line-height:normal;font-family:Menlo,'DejaVu Sans Mono',consolas,'Courier New',monospace\">c:\\Users\\TalmoLab\\mambaforge\\envs\\sleap_jupyter\\lib\\site-packages\\rich\\live.py:221: \n",
              "UserWarning: install \"ipywidgets\" for Jupyter support\n",
              "  warnings.warn('install \"ipywidgets\" for Jupyter support')\n",
              "</pre>\n"
            ],
            "text/plain": [
              "c:\\Users\\TalmoLab\\mambaforge\\envs\\sleap_jupyter\\lib\\site-packages\\rich\\live.py:221: \n",
              "UserWarning: install \"ipywidgets\" for Jupyter support\n",
              "  warnings.warn('install \"ipywidgets\" for Jupyter support')\n"
            ]
          },
          "metadata": {},
          "output_type": "display_data"
        },
        {
          "data": {
            "text/html": [
              "<pre style=\"white-space:pre;overflow-x:auto;line-height:normal;font-family:Menlo,'DejaVu Sans Mono',consolas,'Courier New',monospace\">c:\\Users\\TalmoLab\\mambaforge\\envs\\sleap_jupyter\\lib\\site-packages\\rich\\live.py:221: \n",
              "UserWarning: install \"ipywidgets\" for Jupyter support\n",
              "  warnings.warn('install \"ipywidgets\" for Jupyter support')\n",
              "</pre>\n"
            ],
            "text/plain": [
              "c:\\Users\\TalmoLab\\mambaforge\\envs\\sleap_jupyter\\lib\\site-packages\\rich\\live.py:221: \n",
              "UserWarning: install \"ipywidgets\" for Jupyter support\n",
              "  warnings.warn('install \"ipywidgets\" for Jupyter support')\n"
            ]
          },
          "metadata": {},
          "output_type": "display_data"
        },
        {
          "data": {
            "text/html": [
              "<pre style=\"white-space:pre;overflow-x:auto;line-height:normal;font-family:Menlo,'DejaVu Sans Mono',consolas,'Courier New',monospace\">c:\\Users\\TalmoLab\\mambaforge\\envs\\sleap_jupyter\\lib\\site-packages\\rich\\live.py:221: \n",
              "UserWarning: install \"ipywidgets\" for Jupyter support\n",
              "  warnings.warn('install \"ipywidgets\" for Jupyter support')\n",
              "</pre>\n"
            ],
            "text/plain": [
              "c:\\Users\\TalmoLab\\mambaforge\\envs\\sleap_jupyter\\lib\\site-packages\\rich\\live.py:221: \n",
              "UserWarning: install \"ipywidgets\" for Jupyter support\n",
              "  warnings.warn('install \"ipywidgets\" for Jupyter support')\n"
            ]
          },
          "metadata": {},
          "output_type": "display_data"
        },
        {
          "data": {
            "text/html": [
              "<pre style=\"white-space:pre;overflow-x:auto;line-height:normal;font-family:Menlo,'DejaVu Sans Mono',consolas,'Courier New',monospace\">c:\\Users\\TalmoLab\\mambaforge\\envs\\sleap_jupyter\\lib\\site-packages\\rich\\live.py:221: \n",
              "UserWarning: install \"ipywidgets\" for Jupyter support\n",
              "  warnings.warn('install \"ipywidgets\" for Jupyter support')\n",
              "</pre>\n"
            ],
            "text/plain": [
              "c:\\Users\\TalmoLab\\mambaforge\\envs\\sleap_jupyter\\lib\\site-packages\\rich\\live.py:221: \n",
              "UserWarning: install \"ipywidgets\" for Jupyter support\n",
              "  warnings.warn('install \"ipywidgets\" for Jupyter support')\n"
            ]
          },
          "metadata": {},
          "output_type": "display_data"
        },
        {
          "data": {
            "text/html": [
              "<pre style=\"white-space:pre;overflow-x:auto;line-height:normal;font-family:Menlo,'DejaVu Sans Mono',consolas,'Courier New',monospace\">c:\\Users\\TalmoLab\\mambaforge\\envs\\sleap_jupyter\\lib\\site-packages\\rich\\live.py:221: \n",
              "UserWarning: install \"ipywidgets\" for Jupyter support\n",
              "  warnings.warn('install \"ipywidgets\" for Jupyter support')\n",
              "</pre>\n"
            ],
            "text/plain": [
              "c:\\Users\\TalmoLab\\mambaforge\\envs\\sleap_jupyter\\lib\\site-packages\\rich\\live.py:221: \n",
              "UserWarning: install \"ipywidgets\" for Jupyter support\n",
              "  warnings.warn('install \"ipywidgets\" for Jupyter support')\n"
            ]
          },
          "metadata": {},
          "output_type": "display_data"
        },
        {
          "data": {
            "text/html": [
              "<pre style=\"white-space:pre;overflow-x:auto;line-height:normal;font-family:Menlo,'DejaVu Sans Mono',consolas,'Courier New',monospace\">c:\\Users\\TalmoLab\\mambaforge\\envs\\sleap_jupyter\\lib\\site-packages\\rich\\live.py:221: \n",
              "UserWarning: install \"ipywidgets\" for Jupyter support\n",
              "  warnings.warn('install \"ipywidgets\" for Jupyter support')\n",
              "</pre>\n"
            ],
            "text/plain": [
              "c:\\Users\\TalmoLab\\mambaforge\\envs\\sleap_jupyter\\lib\\site-packages\\rich\\live.py:221: \n",
              "UserWarning: install \"ipywidgets\" for Jupyter support\n",
              "  warnings.warn('install \"ipywidgets\" for Jupyter support')\n"
            ]
          },
          "metadata": {},
          "output_type": "display_data"
        },
        {
          "data": {
            "text/html": [
              "<pre style=\"white-space:pre;overflow-x:auto;line-height:normal;font-family:Menlo,'DejaVu Sans Mono',consolas,'Courier New',monospace\">c:\\Users\\TalmoLab\\mambaforge\\envs\\sleap_jupyter\\lib\\site-packages\\rich\\live.py:221: \n",
              "UserWarning: install \"ipywidgets\" for Jupyter support\n",
              "  warnings.warn('install \"ipywidgets\" for Jupyter support')\n",
              "</pre>\n"
            ],
            "text/plain": [
              "c:\\Users\\TalmoLab\\mambaforge\\envs\\sleap_jupyter\\lib\\site-packages\\rich\\live.py:221: \n",
              "UserWarning: install \"ipywidgets\" for Jupyter support\n",
              "  warnings.warn('install \"ipywidgets\" for Jupyter support')\n"
            ]
          },
          "metadata": {},
          "output_type": "display_data"
        },
        {
          "data": {
            "text/html": [
              "<pre style=\"white-space:pre;overflow-x:auto;line-height:normal;font-family:Menlo,'DejaVu Sans Mono',consolas,'Courier New',monospace\">c:\\Users\\TalmoLab\\mambaforge\\envs\\sleap_jupyter\\lib\\site-packages\\rich\\live.py:221: \n",
              "UserWarning: install \"ipywidgets\" for Jupyter support\n",
              "  warnings.warn('install \"ipywidgets\" for Jupyter support')\n",
              "</pre>\n"
            ],
            "text/plain": [
              "c:\\Users\\TalmoLab\\mambaforge\\envs\\sleap_jupyter\\lib\\site-packages\\rich\\live.py:221: \n",
              "UserWarning: install \"ipywidgets\" for Jupyter support\n",
              "  warnings.warn('install \"ipywidgets\" for Jupyter support')\n"
            ]
          },
          "metadata": {},
          "output_type": "display_data"
        },
        {
          "data": {
            "text/html": [
              "<pre style=\"white-space:pre;overflow-x:auto;line-height:normal;font-family:Menlo,'DejaVu Sans Mono',consolas,'Courier New',monospace\">c:\\Users\\TalmoLab\\mambaforge\\envs\\sleap_jupyter\\lib\\site-packages\\rich\\live.py:221: \n",
              "UserWarning: install \"ipywidgets\" for Jupyter support\n",
              "  warnings.warn('install \"ipywidgets\" for Jupyter support')\n",
              "</pre>\n"
            ],
            "text/plain": [
              "c:\\Users\\TalmoLab\\mambaforge\\envs\\sleap_jupyter\\lib\\site-packages\\rich\\live.py:221: \n",
              "UserWarning: install \"ipywidgets\" for Jupyter support\n",
              "  warnings.warn('install \"ipywidgets\" for Jupyter support')\n"
            ]
          },
          "metadata": {},
          "output_type": "display_data"
        },
        {
          "data": {
            "text/html": [
              "<pre style=\"white-space:pre;overflow-x:auto;line-height:normal;font-family:Menlo,'DejaVu Sans Mono',consolas,'Courier New',monospace\">c:\\Users\\TalmoLab\\mambaforge\\envs\\sleap_jupyter\\lib\\site-packages\\rich\\live.py:221: \n",
              "UserWarning: install \"ipywidgets\" for Jupyter support\n",
              "  warnings.warn('install \"ipywidgets\" for Jupyter support')\n",
              "</pre>\n"
            ],
            "text/plain": [
              "c:\\Users\\TalmoLab\\mambaforge\\envs\\sleap_jupyter\\lib\\site-packages\\rich\\live.py:221: \n",
              "UserWarning: install \"ipywidgets\" for Jupyter support\n",
              "  warnings.warn('install \"ipywidgets\" for Jupyter support')\n"
            ]
          },
          "metadata": {},
          "output_type": "display_data"
        },
        {
          "data": {
            "text/html": [
              "<pre style=\"white-space:pre;overflow-x:auto;line-height:normal;font-family:Menlo,'DejaVu Sans Mono',consolas,'Courier New',monospace\">c:\\Users\\TalmoLab\\mambaforge\\envs\\sleap_jupyter\\lib\\site-packages\\rich\\live.py:221: \n",
              "UserWarning: install \"ipywidgets\" for Jupyter support\n",
              "  warnings.warn('install \"ipywidgets\" for Jupyter support')\n",
              "</pre>\n"
            ],
            "text/plain": [
              "c:\\Users\\TalmoLab\\mambaforge\\envs\\sleap_jupyter\\lib\\site-packages\\rich\\live.py:221: \n",
              "UserWarning: install \"ipywidgets\" for Jupyter support\n",
              "  warnings.warn('install \"ipywidgets\" for Jupyter support')\n"
            ]
          },
          "metadata": {},
          "output_type": "display_data"
        },
        {
          "data": {
            "text/html": [
              "<pre style=\"white-space:pre;overflow-x:auto;line-height:normal;font-family:Menlo,'DejaVu Sans Mono',consolas,'Courier New',monospace\">c:\\Users\\TalmoLab\\mambaforge\\envs\\sleap_jupyter\\lib\\site-packages\\rich\\live.py:221: \n",
              "UserWarning: install \"ipywidgets\" for Jupyter support\n",
              "  warnings.warn('install \"ipywidgets\" for Jupyter support')\n",
              "</pre>\n"
            ],
            "text/plain": [
              "c:\\Users\\TalmoLab\\mambaforge\\envs\\sleap_jupyter\\lib\\site-packages\\rich\\live.py:221: \n",
              "UserWarning: install \"ipywidgets\" for Jupyter support\n",
              "  warnings.warn('install \"ipywidgets\" for Jupyter support')\n"
            ]
          },
          "metadata": {},
          "output_type": "display_data"
        },
        {
          "data": {
            "text/html": [
              "<pre style=\"white-space:pre;overflow-x:auto;line-height:normal;font-family:Menlo,'DejaVu Sans Mono',consolas,'Courier New',monospace\">c:\\Users\\TalmoLab\\mambaforge\\envs\\sleap_jupyter\\lib\\site-packages\\rich\\live.py:221: \n",
              "UserWarning: install \"ipywidgets\" for Jupyter support\n",
              "  warnings.warn('install \"ipywidgets\" for Jupyter support')\n",
              "</pre>\n"
            ],
            "text/plain": [
              "c:\\Users\\TalmoLab\\mambaforge\\envs\\sleap_jupyter\\lib\\site-packages\\rich\\live.py:221: \n",
              "UserWarning: install \"ipywidgets\" for Jupyter support\n",
              "  warnings.warn('install \"ipywidgets\" for Jupyter support')\n"
            ]
          },
          "metadata": {},
          "output_type": "display_data"
        },
        {
          "data": {
            "text/html": [
              "<pre style=\"white-space:pre;overflow-x:auto;line-height:normal;font-family:Menlo,'DejaVu Sans Mono',consolas,'Courier New',monospace\">c:\\Users\\TalmoLab\\mambaforge\\envs\\sleap_jupyter\\lib\\site-packages\\rich\\live.py:221: \n",
              "UserWarning: install \"ipywidgets\" for Jupyter support\n",
              "  warnings.warn('install \"ipywidgets\" for Jupyter support')\n",
              "</pre>\n"
            ],
            "text/plain": [
              "c:\\Users\\TalmoLab\\mambaforge\\envs\\sleap_jupyter\\lib\\site-packages\\rich\\live.py:221: \n",
              "UserWarning: install \"ipywidgets\" for Jupyter support\n",
              "  warnings.warn('install \"ipywidgets\" for Jupyter support')\n"
            ]
          },
          "metadata": {},
          "output_type": "display_data"
        },
        {
          "data": {
            "text/html": [
              "<pre style=\"white-space:pre;overflow-x:auto;line-height:normal;font-family:Menlo,'DejaVu Sans Mono',consolas,'Courier New',monospace\">c:\\Users\\TalmoLab\\mambaforge\\envs\\sleap_jupyter\\lib\\site-packages\\rich\\live.py:221: \n",
              "UserWarning: install \"ipywidgets\" for Jupyter support\n",
              "  warnings.warn('install \"ipywidgets\" for Jupyter support')\n",
              "</pre>\n"
            ],
            "text/plain": [
              "c:\\Users\\TalmoLab\\mambaforge\\envs\\sleap_jupyter\\lib\\site-packages\\rich\\live.py:221: \n",
              "UserWarning: install \"ipywidgets\" for Jupyter support\n",
              "  warnings.warn('install \"ipywidgets\" for Jupyter support')\n"
            ]
          },
          "metadata": {},
          "output_type": "display_data"
        },
        {
          "data": {
            "text/html": [
              "<pre style=\"white-space:pre;overflow-x:auto;line-height:normal;font-family:Menlo,'DejaVu Sans Mono',consolas,'Courier New',monospace\">c:\\Users\\TalmoLab\\mambaforge\\envs\\sleap_jupyter\\lib\\site-packages\\rich\\live.py:221: \n",
              "UserWarning: install \"ipywidgets\" for Jupyter support\n",
              "  warnings.warn('install \"ipywidgets\" for Jupyter support')\n",
              "</pre>\n"
            ],
            "text/plain": [
              "c:\\Users\\TalmoLab\\mambaforge\\envs\\sleap_jupyter\\lib\\site-packages\\rich\\live.py:221: \n",
              "UserWarning: install \"ipywidgets\" for Jupyter support\n",
              "  warnings.warn('install \"ipywidgets\" for Jupyter support')\n"
            ]
          },
          "metadata": {},
          "output_type": "display_data"
        },
        {
          "data": {
            "text/html": [
              "<pre style=\"white-space:pre;overflow-x:auto;line-height:normal;font-family:Menlo,'DejaVu Sans Mono',consolas,'Courier New',monospace\">c:\\Users\\TalmoLab\\mambaforge\\envs\\sleap_jupyter\\lib\\site-packages\\rich\\live.py:221: \n",
              "UserWarning: install \"ipywidgets\" for Jupyter support\n",
              "  warnings.warn('install \"ipywidgets\" for Jupyter support')\n",
              "</pre>\n"
            ],
            "text/plain": [
              "c:\\Users\\TalmoLab\\mambaforge\\envs\\sleap_jupyter\\lib\\site-packages\\rich\\live.py:221: \n",
              "UserWarning: install \"ipywidgets\" for Jupyter support\n",
              "  warnings.warn('install \"ipywidgets\" for Jupyter support')\n"
            ]
          },
          "metadata": {},
          "output_type": "display_data"
        },
        {
          "data": {
            "text/html": [
              "<pre style=\"white-space:pre;overflow-x:auto;line-height:normal;font-family:Menlo,'DejaVu Sans Mono',consolas,'Courier New',monospace\">c:\\Users\\TalmoLab\\mambaforge\\envs\\sleap_jupyter\\lib\\site-packages\\rich\\live.py:221: \n",
              "UserWarning: install \"ipywidgets\" for Jupyter support\n",
              "  warnings.warn('install \"ipywidgets\" for Jupyter support')\n",
              "</pre>\n"
            ],
            "text/plain": [
              "c:\\Users\\TalmoLab\\mambaforge\\envs\\sleap_jupyter\\lib\\site-packages\\rich\\live.py:221: \n",
              "UserWarning: install \"ipywidgets\" for Jupyter support\n",
              "  warnings.warn('install \"ipywidgets\" for Jupyter support')\n"
            ]
          },
          "metadata": {},
          "output_type": "display_data"
        },
        {
          "data": {
            "text/html": [
              "<pre style=\"white-space:pre;overflow-x:auto;line-height:normal;font-family:Menlo,'DejaVu Sans Mono',consolas,'Courier New',monospace\">c:\\Users\\TalmoLab\\mambaforge\\envs\\sleap_jupyter\\lib\\site-packages\\rich\\live.py:221: \n",
              "UserWarning: install \"ipywidgets\" for Jupyter support\n",
              "  warnings.warn('install \"ipywidgets\" for Jupyter support')\n",
              "</pre>\n"
            ],
            "text/plain": [
              "c:\\Users\\TalmoLab\\mambaforge\\envs\\sleap_jupyter\\lib\\site-packages\\rich\\live.py:221: \n",
              "UserWarning: install \"ipywidgets\" for Jupyter support\n",
              "  warnings.warn('install \"ipywidgets\" for Jupyter support')\n"
            ]
          },
          "metadata": {},
          "output_type": "display_data"
        },
        {
          "data": {
            "text/html": [
              "<pre style=\"white-space:pre;overflow-x:auto;line-height:normal;font-family:Menlo,'DejaVu Sans Mono',consolas,'Courier New',monospace\">c:\\Users\\TalmoLab\\mambaforge\\envs\\sleap_jupyter\\lib\\site-packages\\rich\\live.py:221: \n",
              "UserWarning: install \"ipywidgets\" for Jupyter support\n",
              "  warnings.warn('install \"ipywidgets\" for Jupyter support')\n",
              "</pre>\n"
            ],
            "text/plain": [
              "c:\\Users\\TalmoLab\\mambaforge\\envs\\sleap_jupyter\\lib\\site-packages\\rich\\live.py:221: \n",
              "UserWarning: install \"ipywidgets\" for Jupyter support\n",
              "  warnings.warn('install \"ipywidgets\" for Jupyter support')\n"
            ]
          },
          "metadata": {},
          "output_type": "display_data"
        },
        {
          "data": {
            "text/html": [
              "<pre style=\"white-space:pre;overflow-x:auto;line-height:normal;font-family:Menlo,'DejaVu Sans Mono',consolas,'Courier New',monospace\">c:\\Users\\TalmoLab\\mambaforge\\envs\\sleap_jupyter\\lib\\site-packages\\rich\\live.py:221: \n",
              "UserWarning: install \"ipywidgets\" for Jupyter support\n",
              "  warnings.warn('install \"ipywidgets\" for Jupyter support')\n",
              "</pre>\n"
            ],
            "text/plain": [
              "c:\\Users\\TalmoLab\\mambaforge\\envs\\sleap_jupyter\\lib\\site-packages\\rich\\live.py:221: \n",
              "UserWarning: install \"ipywidgets\" for Jupyter support\n",
              "  warnings.warn('install \"ipywidgets\" for Jupyter support')\n"
            ]
          },
          "metadata": {},
          "output_type": "display_data"
        },
        {
          "data": {
            "text/html": [
              "<pre style=\"white-space:pre;overflow-x:auto;line-height:normal;font-family:Menlo,'DejaVu Sans Mono',consolas,'Courier New',monospace\">c:\\Users\\TalmoLab\\mambaforge\\envs\\sleap_jupyter\\lib\\site-packages\\rich\\live.py:221: \n",
              "UserWarning: install \"ipywidgets\" for Jupyter support\n",
              "  warnings.warn('install \"ipywidgets\" for Jupyter support')\n",
              "</pre>\n"
            ],
            "text/plain": [
              "c:\\Users\\TalmoLab\\mambaforge\\envs\\sleap_jupyter\\lib\\site-packages\\rich\\live.py:221: \n",
              "UserWarning: install \"ipywidgets\" for Jupyter support\n",
              "  warnings.warn('install \"ipywidgets\" for Jupyter support')\n"
            ]
          },
          "metadata": {},
          "output_type": "display_data"
        },
        {
          "data": {
            "text/html": [
              "<pre style=\"white-space:pre;overflow-x:auto;line-height:normal;font-family:Menlo,'DejaVu Sans Mono',consolas,'Courier New',monospace\">c:\\Users\\TalmoLab\\mambaforge\\envs\\sleap_jupyter\\lib\\site-packages\\rich\\live.py:221: \n",
              "UserWarning: install \"ipywidgets\" for Jupyter support\n",
              "  warnings.warn('install \"ipywidgets\" for Jupyter support')\n",
              "</pre>\n"
            ],
            "text/plain": [
              "c:\\Users\\TalmoLab\\mambaforge\\envs\\sleap_jupyter\\lib\\site-packages\\rich\\live.py:221: \n",
              "UserWarning: install \"ipywidgets\" for Jupyter support\n",
              "  warnings.warn('install \"ipywidgets\" for Jupyter support')\n"
            ]
          },
          "metadata": {},
          "output_type": "display_data"
        },
        {
          "data": {
            "text/html": [
              "<pre style=\"white-space:pre;overflow-x:auto;line-height:normal;font-family:Menlo,'DejaVu Sans Mono',consolas,'Courier New',monospace\">c:\\Users\\TalmoLab\\mambaforge\\envs\\sleap_jupyter\\lib\\site-packages\\rich\\live.py:221: \n",
              "UserWarning: install \"ipywidgets\" for Jupyter support\n",
              "  warnings.warn('install \"ipywidgets\" for Jupyter support')\n",
              "</pre>\n"
            ],
            "text/plain": [
              "c:\\Users\\TalmoLab\\mambaforge\\envs\\sleap_jupyter\\lib\\site-packages\\rich\\live.py:221: \n",
              "UserWarning: install \"ipywidgets\" for Jupyter support\n",
              "  warnings.warn('install \"ipywidgets\" for Jupyter support')\n"
            ]
          },
          "metadata": {},
          "output_type": "display_data"
        },
        {
          "data": {
            "text/html": [
              "<pre style=\"white-space:pre;overflow-x:auto;line-height:normal;font-family:Menlo,'DejaVu Sans Mono',consolas,'Courier New',monospace\">c:\\Users\\TalmoLab\\mambaforge\\envs\\sleap_jupyter\\lib\\site-packages\\rich\\live.py:221: \n",
              "UserWarning: install \"ipywidgets\" for Jupyter support\n",
              "  warnings.warn('install \"ipywidgets\" for Jupyter support')\n",
              "</pre>\n"
            ],
            "text/plain": [
              "c:\\Users\\TalmoLab\\mambaforge\\envs\\sleap_jupyter\\lib\\site-packages\\rich\\live.py:221: \n",
              "UserWarning: install \"ipywidgets\" for Jupyter support\n",
              "  warnings.warn('install \"ipywidgets\" for Jupyter support')\n"
            ]
          },
          "metadata": {},
          "output_type": "display_data"
        },
        {
          "data": {
            "text/html": [
              "<pre style=\"white-space:pre;overflow-x:auto;line-height:normal;font-family:Menlo,'DejaVu Sans Mono',consolas,'Courier New',monospace\">c:\\Users\\TalmoLab\\mambaforge\\envs\\sleap_jupyter\\lib\\site-packages\\rich\\live.py:221: \n",
              "UserWarning: install \"ipywidgets\" for Jupyter support\n",
              "  warnings.warn('install \"ipywidgets\" for Jupyter support')\n",
              "</pre>\n"
            ],
            "text/plain": [
              "c:\\Users\\TalmoLab\\mambaforge\\envs\\sleap_jupyter\\lib\\site-packages\\rich\\live.py:221: \n",
              "UserWarning: install \"ipywidgets\" for Jupyter support\n",
              "  warnings.warn('install \"ipywidgets\" for Jupyter support')\n"
            ]
          },
          "metadata": {},
          "output_type": "display_data"
        },
        {
          "data": {
            "text/html": [
              "<pre style=\"white-space:pre;overflow-x:auto;line-height:normal;font-family:Menlo,'DejaVu Sans Mono',consolas,'Courier New',monospace\"></pre>\n"
            ],
            "text/plain": []
          },
          "metadata": {},
          "output_type": "display_data"
        },
        {
          "data": {
            "text/html": [
              "<pre style=\"white-space:pre;overflow-x:auto;line-height:normal;font-family:Menlo,'DejaVu Sans Mono',consolas,'Courier New',monospace\">\n",
              "</pre>\n"
            ],
            "text/plain": [
              "\n"
            ]
          },
          "metadata": {},
          "output_type": "display_data"
        },
        {
          "name": "stdout",
          "output_type": "stream",
          "text": [
            "INFO:sleap.nn.evals:Saved predictions: models\\baseline_model.topdown\\labels_pr.val.slp\n",
            "INFO:sleap.nn.evals:Saved metrics: models\\baseline_model.topdown\\metrics.val.npz\n",
            "INFO:sleap.nn.evals:OKS mAP: 0.534329\n"
          ]
        }
      ],
      "source": [
        "trainer.train()"
      ]
    },
    {
      "cell_type": "markdown",
      "metadata": {
        "id": "0RHAJkqowaF5"
      },
      "source": [
        "## 5. Continuing training\n",
        "\n",
        "If we still have the trainer in memory, we can continue training by simply calling `trainer.train()` again with a potentially different number of epochs:"
      ]
    },
    {
      "cell_type": "code",
      "execution_count": 8,
      "metadata": {
        "colab": {
          "base_uri": "https://localhost:8080/",
          "height": 381,
          "referenced_widgets": [
            "d49529f91f6d4090a7820b081094823d",
            "f5a6112df0964befa6704030d2995ecd",
            "8291326df0b9435b8ba2298c8977778b",
            "3e68443331b44baa9cb8f8e077e2075b"
          ]
        },
        "id": "ENOiptvQwrtI",
        "outputId": "ccdec444-17ae-4040-9aa3-509086e3dc37"
      },
      "outputs": [
        {
          "name": "stdout",
          "output_type": "stream",
          "text": [
            "INFO:sleap.nn.training:Creating tf.data.Datasets for training data generation...\n",
            "INFO:sleap.nn.training:Finished creating training datasets. [29.4s]\n",
            "INFO:sleap.nn.training:Starting training loop...\n",
            "Epoch 1/3\n",
            "360/360 - 57s - loss: 9.1732e-04 - head: 3.5629e-04 - thorax: 1.9609e-04 - abdomen: 0.0010 - wingL: 9.1318e-04 - wingR: 9.1330e-04 - forelegL4: 0.0013 - forelegR4: 0.0013 - midlegL4: 0.0011 - midlegR4: 0.0011 - hindlegL4: 0.0014 - hindlegR4: 0.0015 - eyeL: 4.4475e-04 - eyeR: 4.3944e-04 - val_loss: 9.2727e-04 - val_head: 3.8719e-04 - val_thorax: 1.5200e-04 - val_abdomen: 0.0011 - val_wingL: 9.3115e-04 - val_wingR: 8.9376e-04 - val_forelegL4: 0.0012 - val_forelegR4: 0.0012 - val_midlegL4: 9.9703e-04 - val_midlegR4: 0.0012 - val_hindlegL4: 0.0015 - val_hindlegR4: 0.0016 - val_eyeL: 4.5374e-04 - val_eyeR: 5.1839e-04 - lr: 1.0000e-04 - 57s/epoch - 158ms/step\n",
            "Epoch 2/3\n",
            "360/360 - 56s - loss: 8.7900e-04 - head: 3.4532e-04 - thorax: 1.7895e-04 - abdomen: 0.0010 - wingL: 8.7539e-04 - wingR: 8.8524e-04 - forelegL4: 0.0012 - forelegR4: 0.0012 - midlegL4: 0.0010 - midlegR4: 0.0010 - hindlegL4: 0.0014 - hindlegR4: 0.0014 - eyeL: 4.3484e-04 - eyeR: 4.2888e-04 - val_loss: 8.5310e-04 - val_head: 3.0429e-04 - val_thorax: 1.4837e-04 - val_abdomen: 0.0010 - val_wingL: 8.2237e-04 - val_wingR: 8.3093e-04 - val_forelegL4: 0.0011 - val_forelegR4: 0.0012 - val_midlegL4: 8.5634e-04 - val_midlegR4: 0.0011 - val_hindlegL4: 0.0014 - val_hindlegR4: 0.0015 - val_eyeL: 4.0362e-04 - val_eyeR: 3.8104e-04 - lr: 1.0000e-04 - 56s/epoch - 156ms/step\n",
            "Epoch 3/3\n",
            "360/360 - 56s - loss: 8.4466e-04 - head: 3.4540e-04 - thorax: 1.6180e-04 - abdomen: 9.6890e-04 - wingL: 8.4974e-04 - wingR: 8.5187e-04 - forelegL4: 0.0012 - forelegR4: 0.0012 - midlegL4: 9.5015e-04 - midlegR4: 9.8870e-04 - hindlegL4: 0.0013 - hindlegR4: 0.0014 - eyeL: 4.2245e-04 - eyeR: 4.0856e-04 - val_loss: 8.2153e-04 - val_head: 3.1832e-04 - val_thorax: 1.4803e-04 - val_abdomen: 9.4013e-04 - val_wingL: 8.4738e-04 - val_wingR: 8.4686e-04 - val_forelegL4: 0.0010 - val_forelegR4: 0.0011 - val_midlegL4: 8.5740e-04 - val_midlegR4: 0.0010 - val_hindlegL4: 0.0014 - val_hindlegR4: 0.0015 - val_eyeL: 3.7928e-04 - val_eyeR: 3.8285e-04 - lr: 1.0000e-04 - 56s/epoch - 156ms/step\n",
            "INFO:sleap.nn.training:Finished training loop. [2.8 min]\n",
            "INFO:sleap.nn.training:Deleting visualization directory: models/baseline_model.topdown/viz\n",
            "INFO:sleap.nn.training:Saving evaluation metrics to model folder...\n"
          ]
        },
        {
          "data": {
            "application/vnd.jupyter.widget-view+json": {
              "model_id": "d49529f91f6d4090a7820b081094823d",
              "version_major": 2,
              "version_minor": 0
            },
            "text/plain": [
              "Output()"
            ]
          },
          "metadata": {},
          "output_type": "display_data"
        },
        {
          "data": {
            "text/html": [
              "<pre style=\"white-space:pre;overflow-x:auto;line-height:normal;font-family:Menlo,'DejaVu Sans Mono',consolas,'Courier New',monospace\"></pre>\n"
            ],
            "text/plain": []
          },
          "metadata": {},
          "output_type": "display_data"
        },
        {
          "data": {
            "text/html": [
              "<pre style=\"white-space:pre;overflow-x:auto;line-height:normal;font-family:Menlo,'DejaVu Sans Mono',consolas,'Courier New',monospace\">\n",
              "</pre>\n"
            ],
            "text/plain": [
              "\n"
            ]
          },
          "metadata": {},
          "output_type": "display_data"
        },
        {
          "name": "stdout",
          "output_type": "stream",
          "text": [
            "INFO:sleap.nn.evals:Saved predictions: models/baseline_model.topdown/labels_pr.train.slp\n",
            "INFO:sleap.nn.evals:Saved metrics: models/baseline_model.topdown/metrics.train.npz\n",
            "INFO:sleap.nn.evals:OKS mAP: 0.551905\n"
          ]
        },
        {
          "data": {
            "application/vnd.jupyter.widget-view+json": {
              "model_id": "8291326df0b9435b8ba2298c8977778b",
              "version_major": 2,
              "version_minor": 0
            },
            "text/plain": [
              "Output()"
            ]
          },
          "metadata": {},
          "output_type": "display_data"
        },
        {
          "data": {
            "text/html": [
              "<pre style=\"white-space:pre;overflow-x:auto;line-height:normal;font-family:Menlo,'DejaVu Sans Mono',consolas,'Courier New',monospace\"></pre>\n"
            ],
            "text/plain": []
          },
          "metadata": {},
          "output_type": "display_data"
        },
        {
          "data": {
            "text/html": [
              "<pre style=\"white-space:pre;overflow-x:auto;line-height:normal;font-family:Menlo,'DejaVu Sans Mono',consolas,'Courier New',monospace\">\n",
              "</pre>\n"
            ],
            "text/plain": [
              "\n"
            ]
          },
          "metadata": {},
          "output_type": "display_data"
        },
        {
          "name": "stdout",
          "output_type": "stream",
          "text": [
            "INFO:sleap.nn.evals:Saved predictions: models/baseline_model.topdown/labels_pr.val.slp\n",
            "INFO:sleap.nn.evals:Saved metrics: models/baseline_model.topdown/metrics.val.npz\n",
            "INFO:sleap.nn.evals:OKS mAP: 0.551469\n"
          ]
        }
      ],
      "source": [
        "trainer.config.optimization.epochs = 3\n",
        "trainer.train()"
      ]
    },
    {
      "cell_type": "markdown",
      "metadata": {
        "id": "bUjjGVWGyYZu"
      },
      "source": [
        "As you can see, the loss and accuracy pick up from where it left off in the previous training.\n"
      ]
    },
    {
      "cell_type": "markdown",
      "metadata": {
        "id": "GSGW14-Px09E"
      },
      "source": [
        "Usually, however, if you're continuing training it's likely because you're starting off from an already trained model.\n",
        "\n",
        "In this case, all you need to do to continue training is to create a new `Trainer` from the existing model configuration and load up the weights before continuing training:"
      ]
    },
    {
      "cell_type": "code",
      "execution_count": 9,
      "metadata": {
        "colab": {
          "base_uri": "https://localhost:8080/"
        },
        "id": "NDL6ScTDxrso",
        "outputId": "f63c3ef8-97d0-4484-e951-b120dcbbffac"
      },
      "outputs": [
        {
          "name": "stdout",
          "output_type": "stream",
          "text": [
            "INFO:sleap.nn.training:Loading training labels from: labels.pkg.slp\n",
            "INFO:sleap.nn.training:Creating training and validation splits from validation fraction: 0.1\n",
            "INFO:sleap.nn.training:  Splits: Training = 1440 / Validation = 160.\n",
            "INFO:sleap.nn.training:Setting up for training...\n",
            "INFO:sleap.nn.training:Setting up pipeline builders...\n",
            "INFO:sleap.nn.training:Setting up model...\n",
            "INFO:sleap.nn.training:Building test pipeline...\n",
            "INFO:sleap.nn.training:Loaded test example. [1.909s]\n",
            "INFO:sleap.nn.training:  Input shape: (160, 160, 1)\n",
            "INFO:sleap.nn.training:Created Keras model.\n",
            "INFO:sleap.nn.training:  Backbone: UNet(stacks=1, filters=16, filters_rate=2.0, kernel_size=3, stem_kernel_size=7, convs_per_block=2, stem_blocks=0, down_blocks=4, middle_block=True, up_blocks=2, up_interpolate=False, block_contraction=False)\n",
            "INFO:sleap.nn.training:  Max stride: 16\n",
            "INFO:sleap.nn.training:  Parameters: 2,101,501\n",
            "INFO:sleap.nn.training:  Heads: \n",
            "INFO:sleap.nn.training:    [0] = CenteredInstanceConfmapsHead(part_names=['head', 'thorax', 'abdomen', 'wingL', 'wingR', 'forelegL4', 'forelegR4', 'midlegL4', 'midlegR4', 'hindlegL4', 'hindlegR4', 'eyeL', 'eyeR'], anchor_part='thorax', sigma=1.5, output_stride=4, loss_weight=1.0)\n",
            "INFO:sleap.nn.training:  Outputs: \n",
            "INFO:sleap.nn.training:    [0] = KerasTensor(type_spec=TensorSpec(shape=(None, 40, 40, 13), dtype=tf.float32, name=None), name='CenteredInstanceConfmapsHead/BiasAdd:0', description=\"created by layer 'CenteredInstanceConfmapsHead'\")\n",
            "INFO:sleap.nn.training:Setting up data pipelines...\n",
            "INFO:sleap.nn.training:Training set: n = 1440\n",
            "INFO:sleap.nn.training:Validation set: n = 160\n",
            "INFO:sleap.nn.training:Setting up optimization...\n",
            "INFO:sleap.nn.training:  Learning rate schedule: LearningRateScheduleConfig(reduce_on_plateau=True, reduction_factor=0.5, plateau_min_delta=1e-06, plateau_patience=5, plateau_cooldown=3, min_learning_rate=1e-08)\n",
            "INFO:sleap.nn.training:  Early stopping: EarlyStoppingConfig(stop_training_on_plateau=True, plateau_min_delta=1e-06, plateau_patience=10)\n",
            "INFO:sleap.nn.training:Setting up outputs...\n",
            "INFO:sleap.nn.training:Created run path: models/baseline_model.topdown\n",
            "INFO:sleap.nn.training:Setting up visualization...\n",
            "INFO:sleap.nn.training:Finished trainer set up. [6.0s]\n"
          ]
        }
      ],
      "source": [
        "# Load config.\n",
        "cfg = sleap.load_config(\"models/baseline_model.topdown\")\n",
        "# cfg.outputs.run_name = \"new_folder\"  # Set the run_name to a new value if you want the model to be saved to a different folder.\n",
        "\n",
        "# Create and initialize the trainer.\n",
        "trainer = sleap.nn.training.Trainer.from_config(cfg)\n",
        "trainer.setup()\n",
        "\n",
        "# Replace the randomly initialized weights with the saved weights.\n",
        "trainer.keras_model.load_weights(\"models/baseline_model.topdown/best_model.h5\")"
      ]
    },
    {
      "cell_type": "code",
      "execution_count": 10,
      "metadata": {
        "colab": {
          "base_uri": "https://localhost:8080/",
          "height": 381,
          "referenced_widgets": [
            "c74d0a9e497146acaf8da36faf5f496a",
            "7558a9bb888840e19b42a0bf0faac822",
            "bf6a847899a24fcea5f14409a7ee1c33",
            "53b56611dfec45b49e92fa0716fa2f97"
          ]
        },
        "id": "HlGP3dYMy2NG",
        "outputId": "c32a4240-1abd-401b-caab-4d64bec8348d"
      },
      "outputs": [
        {
          "name": "stdout",
          "output_type": "stream",
          "text": [
            "INFO:sleap.nn.training:Creating tf.data.Datasets for training data generation...\n",
            "INFO:sleap.nn.training:Finished creating training datasets. [28.9s]\n",
            "INFO:sleap.nn.training:Starting training loop...\n",
            "Epoch 1/3\n",
            "360/360 - 63s - loss: 8.2769e-04 - head: 3.4427e-04 - thorax: 1.6900e-04 - abdomen: 9.4941e-04 - wingL: 8.1514e-04 - wingR: 8.1826e-04 - forelegL4: 0.0012 - forelegR4: 0.0012 - midlegL4: 9.2980e-04 - midlegR4: 9.6439e-04 - hindlegL4: 0.0013 - hindlegR4: 0.0013 - eyeL: 4.2129e-04 - eyeR: 4.0767e-04 - val_loss: 7.8855e-04 - val_head: 3.2701e-04 - val_thorax: 1.8405e-04 - val_abdomen: 0.0010 - val_wingL: 7.3709e-04 - val_wingR: 7.1027e-04 - val_forelegL4: 0.0010 - val_forelegR4: 0.0011 - val_midlegL4: 9.3918e-04 - val_midlegR4: 9.0288e-04 - val_hindlegL4: 0.0012 - val_hindlegR4: 0.0013 - val_eyeL: 3.8746e-04 - val_eyeR: 3.3939e-04 - lr: 1.0000e-04 - 63s/epoch - 174ms/step\n",
            "Epoch 2/3\n",
            "360/360 - 58s - loss: 7.9662e-04 - head: 3.2407e-04 - thorax: 1.5127e-04 - abdomen: 9.1911e-04 - wingL: 7.6866e-04 - wingR: 7.8884e-04 - forelegL4: 0.0011 - forelegR4: 0.0011 - midlegL4: 8.8560e-04 - midlegR4: 9.3151e-04 - hindlegL4: 0.0012 - hindlegR4: 0.0013 - eyeL: 4.1677e-04 - eyeR: 3.9983e-04 - val_loss: 7.3673e-04 - val_head: 2.8314e-04 - val_thorax: 1.1026e-04 - val_abdomen: 9.4263e-04 - val_wingL: 6.7871e-04 - val_wingR: 6.4992e-04 - val_forelegL4: 0.0011 - val_forelegR4: 0.0011 - val_midlegL4: 8.0315e-04 - val_midlegR4: 8.3331e-04 - val_hindlegL4: 0.0012 - val_hindlegR4: 0.0012 - val_eyeL: 3.4531e-04 - val_eyeR: 3.5707e-04 - lr: 1.0000e-04 - 58s/epoch - 162ms/step\n",
            "Epoch 3/3\n",
            "360/360 - 58s - loss: 7.6463e-04 - head: 3.0854e-04 - thorax: 1.3497e-04 - abdomen: 8.9188e-04 - wingL: 7.4921e-04 - wingR: 7.5430e-04 - forelegL4: 0.0011 - forelegR4: 0.0011 - midlegL4: 8.3320e-04 - midlegR4: 8.7736e-04 - hindlegL4: 0.0012 - hindlegR4: 0.0013 - eyeL: 3.9640e-04 - eyeR: 3.7940e-04 - val_loss: 7.0126e-04 - val_head: 2.8905e-04 - val_thorax: 1.1305e-04 - val_abdomen: 9.0676e-04 - val_wingL: 6.4827e-04 - val_wingR: 6.2576e-04 - val_forelegL4: 0.0010 - val_forelegR4: 9.8253e-04 - val_midlegL4: 8.0471e-04 - val_midlegR4: 7.3788e-04 - val_hindlegL4: 0.0011 - val_hindlegR4: 0.0012 - val_eyeL: 3.1543e-04 - val_eyeR: 3.4044e-04 - lr: 1.0000e-04 - 58s/epoch - 161ms/step\n",
            "INFO:sleap.nn.training:Finished training loop. [3.0 min]\n",
            "INFO:sleap.nn.training:Deleting visualization directory: models/baseline_model.topdown/viz\n",
            "INFO:sleap.nn.training:Saving evaluation metrics to model folder...\n"
          ]
        },
        {
          "data": {
            "application/vnd.jupyter.widget-view+json": {
              "model_id": "c74d0a9e497146acaf8da36faf5f496a",
              "version_major": 2,
              "version_minor": 0
            },
            "text/plain": [
              "Output()"
            ]
          },
          "metadata": {},
          "output_type": "display_data"
        },
        {
          "data": {
            "text/html": [
              "<pre style=\"white-space:pre;overflow-x:auto;line-height:normal;font-family:Menlo,'DejaVu Sans Mono',consolas,'Courier New',monospace\"></pre>\n"
            ],
            "text/plain": []
          },
          "metadata": {},
          "output_type": "display_data"
        },
        {
          "data": {
            "text/html": [
              "<pre style=\"white-space:pre;overflow-x:auto;line-height:normal;font-family:Menlo,'DejaVu Sans Mono',consolas,'Courier New',monospace\">\n",
              "</pre>\n"
            ],
            "text/plain": [
              "\n"
            ]
          },
          "metadata": {},
          "output_type": "display_data"
        },
        {
          "name": "stdout",
          "output_type": "stream",
          "text": [
            "INFO:sleap.nn.evals:Saved predictions: models/baseline_model.topdown/labels_pr.train.slp\n",
            "INFO:sleap.nn.evals:Saved metrics: models/baseline_model.topdown/metrics.train.npz\n",
            "INFO:sleap.nn.evals:OKS mAP: 0.597609\n"
          ]
        },
        {
          "data": {
            "application/vnd.jupyter.widget-view+json": {
              "model_id": "bf6a847899a24fcea5f14409a7ee1c33",
              "version_major": 2,
              "version_minor": 0
            },
            "text/plain": [
              "Output()"
            ]
          },
          "metadata": {},
          "output_type": "display_data"
        },
        {
          "data": {
            "text/html": [
              "<pre style=\"white-space:pre;overflow-x:auto;line-height:normal;font-family:Menlo,'DejaVu Sans Mono',consolas,'Courier New',monospace\"></pre>\n"
            ],
            "text/plain": []
          },
          "metadata": {},
          "output_type": "display_data"
        },
        {
          "data": {
            "text/html": [
              "<pre style=\"white-space:pre;overflow-x:auto;line-height:normal;font-family:Menlo,'DejaVu Sans Mono',consolas,'Courier New',monospace\">\n",
              "</pre>\n"
            ],
            "text/plain": [
              "\n"
            ]
          },
          "metadata": {},
          "output_type": "display_data"
        },
        {
          "name": "stdout",
          "output_type": "stream",
          "text": [
            "INFO:sleap.nn.evals:Saved predictions: models/baseline_model.topdown/labels_pr.val.slp\n",
            "INFO:sleap.nn.evals:Saved metrics: models/baseline_model.topdown/metrics.val.npz\n",
            "INFO:sleap.nn.evals:OKS mAP: 0.621393\n"
          ]
        }
      ],
      "source": [
        "trainer.config.optimization.epochs = 3\n",
        "trainer.train()"
      ]
    },
    {
      "cell_type": "markdown",
      "metadata": {
        "id": "kb4YzP7AzYZB"
      },
      "source": [
        "Again, the loss and accuracy pick up from where they left off prior to this round of training.\n",
        "\n",
        "The resulting model can be used as usual for inference on new data."
      ]
    }
  ],
  "metadata": {
    "accelerator": "GPU",
    "colab": {
      "collapsed_sections": [],
      "machine_shape": "hm",
      "name": "SLEAP - Interactive and resumable training.ipynb",
      "provenance": []
    },
    "kernelspec": {
      "display_name": "Python 3",
      "name": "python3"
    },
    "language_info": {
      "codemirror_mode": {
        "name": "ipython",
        "version": 3
      },
      "file_extension": ".py",
      "mimetype": "text/x-python",
      "name": "python",
      "nbconvert_exporter": "python",
      "pygments_lexer": "ipython3",
      "version": "3.7.12"
    }
  },
  "nbformat": 4,
  "nbformat_minor": 0
}
